{
 "cells": [
  {
   "cell_type": "markdown",
   "metadata": {},
   "source": [
    "# target densities for different BGS TS scenarios"
   ]
  },
  {
   "cell_type": "code",
   "execution_count": 1,
   "metadata": {},
   "outputs": [],
   "source": [
    "import numpy as np \n",
    "from astropy.io import fits\n",
    "import matplotlib.pyplot as plt"
   ]
  },
  {
   "cell_type": "code",
   "execution_count": 2,
   "metadata": {},
   "outputs": [],
   "source": [
    "from desitarget.sv1.sv1_targetmask import desi_mask as sv1_desi_mask"
   ]
  },
  {
   "cell_type": "code",
   "execution_count": 3,
   "metadata": {},
   "outputs": [],
   "source": [
    "targets = fits.open('/global/cfs/cdirs/desi/target/catalogs/dr9/0.49.0/targets/sv1/resolve/bright/sv1targets-bright-hp-399.fits')[1].data"
   ]
  },
  {
   "cell_type": "code",
   "execution_count": 4,
   "metadata": {},
   "outputs": [],
   "source": [
    "radec_lim = (targets['RA'] > 178) & (targets['RA'] < 182.) & (targets['DEC'] > -6) & (targets['DEC'] < -2)\n",
    "targets = targets[radec_lim]"
   ]
  },
  {
   "cell_type": "code",
   "execution_count": 5,
   "metadata": {},
   "outputs": [],
   "source": [
    "randoms = fits.open('/global/cfs/cdirs/desi/target/catalogs/dr9/0.47.0/randoms/resolve/randoms-allsky-0.fits')[1].data"
   ]
  },
  {
   "cell_type": "code",
   "execution_count": 6,
   "metadata": {},
   "outputs": [],
   "source": [
    "radec_lim = (randoms['RA'] > 178) & (randoms['RA'] < 182.) & (randoms['DEC'] > -6) & (randoms['DEC'] < -2)\n",
    "randoms = randoms[radec_lim]"
   ]
  },
  {
   "cell_type": "code",
   "execution_count": 7,
   "metadata": {},
   "outputs": [],
   "source": [
    "# get effective area from randoms\n",
    "def spatial_mask(maskbits, nobs):\n",
    "    ''' spatial masking around\n",
    "    \n",
    "    * bright stars\n",
    "    * medium bright stars\n",
    "    * clusters\n",
    "    * large galaxies\n",
    "    '''\n",
    "    nobs_g, nobs_r, nobs_z = nobs\n",
    "    BS = (np.uint64(maskbits) & np.uint64(2**1))!=0    # bright stars\n",
    "    MS = (np.uint64(maskbits) & np.uint64(2**11))!=0   # medium bright stars\n",
    "    GC = (np.uint64(maskbits) & np.uint64(2**13))!=0   # clusters\n",
    "    LG = (np.uint64(maskbits) & np.uint64(2**12))!=0   # large galaxies\n",
    "    allmask = ((maskbits & 2**6) != 0) | ((maskbits & 2**5) != 0) | ((maskbits & 2**7) != 0)\n",
    "    nobs = ((nobs_g < 1) | (nobs_r < 1) | (nobs_z < 1))\n",
    "    mask = ~(BS | MS | GC | LG | allmask | nobs)\n",
    "    return mask"
   ]
  },
  {
   "cell_type": "code",
   "execution_count": 8,
   "metadata": {},
   "outputs": [],
   "source": [
    "_spatial = spatial_mask(randoms['MASKBITS'], [randoms['NOBS_G'], randoms['NOBS_R'], randoms['NOBS_Z']])\n",
    "area = 16.\n",
    "eff_area = float(np.sum(_spatial)) / float(randoms.shape[0]) * area"
   ]
  },
  {
   "cell_type": "code",
   "execution_count": 9,
   "metadata": {},
   "outputs": [
    {
     "name": "stdout",
     "output_type": "stream",
     "text": [
      "4degx4degree patch with effective area 15.4\n"
     ]
    }
   ],
   "source": [
    "print('4degx4degree patch with effective area %.1f' % eff_area)"
   ]
  },
  {
   "cell_type": "code",
   "execution_count": 10,
   "metadata": {},
   "outputs": [],
   "source": [
    "isbgs = ((targets['SV1_DESI_TARGET'] & sv1_desi_mask['BGS_ANY']) != 0)\n",
    "bgs = targets[isbgs]"
   ]
  },
  {
   "cell_type": "markdown",
   "metadata": {},
   "source": [
    "Now we can calculate target densities"
   ]
  },
  {
   "cell_type": "code",
   "execution_count": 11,
   "metadata": {},
   "outputs": [
    {
     "name": "stderr",
     "output_type": "stream",
     "text": [
      "<ipython-input-11-d5f8fd16be7a>:2: RuntimeWarning: divide by zero encountered in log10\n",
      "  g_mag = (22.5 - 2.5*np.log10(bgs['FLUX_G']))\n",
      "<ipython-input-11-d5f8fd16be7a>:2: RuntimeWarning: invalid value encountered in log10\n",
      "  g_mag = (22.5 - 2.5*np.log10(bgs['FLUX_G']))\n",
      "<ipython-input-11-d5f8fd16be7a>:4: RuntimeWarning: divide by zero encountered in log10\n",
      "  z_mag = (22.5 - 2.5*np.log10(bgs['FLUX_Z']))\n",
      "<ipython-input-11-d5f8fd16be7a>:4: RuntimeWarning: invalid value encountered in log10\n",
      "  z_mag = (22.5 - 2.5*np.log10(bgs['FLUX_Z']))\n",
      "<ipython-input-11-d5f8fd16be7a>:5: RuntimeWarning: invalid value encountered in log10\n",
      "  w1_mag = (22.5 - 2.5*np.log10(bgs['FLUX_W1']))\n"
     ]
    }
   ],
   "source": [
    "# compile some properties\n",
    "g_mag = (22.5 - 2.5*np.log10(bgs['FLUX_G']))\n",
    "r_mag = (22.5 - 2.5*np.log10(bgs['FLUX_R']))\n",
    "z_mag = (22.5 - 2.5*np.log10(bgs['FLUX_Z']))\n",
    "w1_mag = (22.5 - 2.5*np.log10(bgs['FLUX_W1']))\n",
    "r_fibmag = (22.5 - 2.5 * np.log10(bgs['FIBERFLUX_R']))\n",
    "\n",
    "schlegel_color = (z_mag - w1_mag) - 3/2.5 * (g_mag - r_mag) + 1.2"
   ]
  },
  {
   "cell_type": "code",
   "execution_count": 12,
   "metadata": {},
   "outputs": [],
   "source": [
    "rbright_lim = (r_mag < 19.5)\n",
    "rfaint_lim = (r_mag > 19.5) & (r_mag < 20.) \n",
    "rfainter_lim = (r_mag > 20.) & (r_mag < 20.2) \n",
    "rfainterer_lim = (r_mag > 20.2) & (r_mag < 20.4) \n",
    "rfaintest_lim = (r_mag > 20.4) \n",
    "rfib_lim = (r_fibmag < 22)\n",
    "fibcol_cut = (r_fibmag < 20.5) | ((r_fibmag < 21.5) & (schlegel_color > 0.))"
   ]
  },
  {
   "cell_type": "markdown",
   "metadata": {},
   "source": [
    "# BGS nominal target densities"
   ]
  },
  {
   "cell_type": "code",
   "execution_count": 13,
   "metadata": {},
   "outputs": [
    {
     "name": "stdout",
     "output_type": "stream",
     "text": [
      "894.7476454868588\n",
      "627.1941840930908\n",
      "357.7560857354124\n",
      "414.10023220818306\n",
      "385.9606527125548\n"
     ]
    }
   ],
   "source": [
    "# r < 19.5 \n",
    "print(np.sum(rbright_lim) / eff_area)\n",
    "# 19.5 < r < 20.\n",
    "print(np.sum(rfaint_lim) / eff_area)\n",
    "# 20.0 < r < 20.2\n",
    "print(np.sum(rfainter_lim) / eff_area)\n",
    "# 20.2 < r < 20.4\n",
    "print(np.sum(rfainterer_lim) / eff_area)\n",
    "# 20.4 < r\n",
    "print(np.sum(rfaintest_lim) / eff_area)"
   ]
  },
  {
   "cell_type": "markdown",
   "metadata": {},
   "source": [
    "# BGS $r_{\\rm fib} < 22$ target densities"
   ]
  },
  {
   "cell_type": "code",
   "execution_count": 14,
   "metadata": {},
   "outputs": [
    {
     "name": "stdout",
     "output_type": "stream",
     "text": [
      "883.9597235555094\n",
      "605.8782901564487\n",
      "336.76512920634093\n",
      "381.2165665620216\n",
      "334.4255798718315\n"
     ]
    }
   ],
   "source": [
    "# r < 19.5 \n",
    "print(np.sum(rfib_lim & rbright_lim) / eff_area)\n",
    "# 19.5 < r < 20.\n",
    "print(np.sum(rfib_lim & rfaint_lim) / eff_area)\n",
    "# 20.0 < r < 20.2\n",
    "print(np.sum(rfib_lim & rfainter_lim) / eff_area)\n",
    "# 20.2 < r < 20.4\n",
    "print(np.sum(rfib_lim & rfainterer_lim) / eff_area)\n",
    "# 20.4 < r\n",
    "print(np.sum(rfib_lim & rfaintest_lim) / eff_area)"
   ]
  },
  {
   "cell_type": "markdown",
   "metadata": {},
   "source": [
    "# BGS fiber-color cut target densities"
   ]
  },
  {
   "cell_type": "code",
   "execution_count": 15,
   "metadata": {},
   "outputs": [
    {
     "name": "stdout",
     "output_type": "stream",
     "text": [
      "762.4331331240433\n",
      "337.4150040214825\n",
      "146.091858443816\n",
      "137.96842325454688\n",
      "98.13109708637106\n"
     ]
    }
   ],
   "source": [
    "# r < 19.5 \n",
    "print(np.sum(fibcol_cut & rbright_lim) / eff_area)\n",
    "# 19.5 < r < 20.\n",
    "print(np.sum(fibcol_cut & rfaint_lim) / eff_area)\n",
    "# 20.0 < r < 20.2\n",
    "print(np.sum(fibcol_cut & rfainter_lim) / eff_area)\n",
    "# 20.2 < r < 20.4\n",
    "print(np.sum(fibcol_cut & rfainterer_lim) / eff_area)\n",
    "# 20.4 < r\n",
    "print(np.sum(fibcol_cut & rfaintest_lim) / eff_area)"
   ]
  }
 ],
 "metadata": {
  "kernelspec": {
   "display_name": "DESI master",
   "language": "python",
   "name": "desi-master"
  },
  "language_info": {
   "codemirror_mode": {
    "name": "ipython",
    "version": 3
   },
   "file_extension": ".py",
   "mimetype": "text/x-python",
   "name": "python",
   "nbconvert_exporter": "python",
   "pygments_lexer": "ipython3",
   "version": "3.8.3"
  }
 },
 "nbformat": 4,
 "nbformat_minor": 4
}
