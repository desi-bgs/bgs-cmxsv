{
 "cells": [
  {
   "cell_type": "code",
   "execution_count": 1,
   "metadata": {},
   "outputs": [],
   "source": [
    "import fitsio\n",
    "import numpy as np \n",
    "from desitarget.targetmask import desi_mask, bgs_mask, mws_mask, obsconditions"
   ]
  },
  {
   "cell_type": "code",
   "execution_count": 2,
   "metadata": {},
   "outputs": [],
   "source": [
    "import matplotlib.pyplot as plt"
   ]
  },
  {
   "cell_type": "markdown",
   "metadata": {},
   "source": [
    "# read targets"
   ]
  },
  {
   "cell_type": "code",
   "execution_count": 3,
   "metadata": {},
   "outputs": [],
   "source": [
    "targets = fitsio.read('/global/project/projectdirs/desi/users/dsporta/forchang/bright_north_20_60_160_220_cut3.fits')"
   ]
  },
  {
   "cell_type": "code",
   "execution_count": 4,
   "metadata": {},
   "outputs": [],
   "source": [
    "# unextinct fluxes\n",
    "rflux = targets[\"FLUX_R\"]/targets[\"MW_TRANSMISSION_R\"]\n",
    "zflux = targets[\"FLUX_Z\"]/targets[\"MW_TRANSMISSION_Z\"]\n",
    "gflux = targets[\"FLUX_G\"]/targets[\"MW_TRANSMISSION_G\"]\n",
    "w1flux = targets[\"FLUX_W1\"]/targets[\"MW_TRANSMISSION_W1\"]\n",
    "rfibflux = targets[\"FIBERFLUX_R\"]/targets[\"MW_TRANSMISSION_R\"]"
   ]
  },
  {
   "cell_type": "code",
   "execution_count": 5,
   "metadata": {},
   "outputs": [],
   "source": [
    "rmag = 22.5 - 2.5*np.log10(rflux.clip(1e-16))\n",
    "zmag = 22.5 - 2.5*np.log10(zflux.clip(1e-16))\n",
    "gmag = 22.5 - 2.5*np.log10(gflux.clip(1e-16))\n",
    "w1mag = 22.5 - 2.5*np.log10(w1flux.clip(1e-16))\n",
    "rfibmag = 22.5 - 2.5*np.log10(rfibflux.clip(1e-16))\n",
    "color = (zmag  - w1mag) - 3/2.5 * (gmag - rmag) + 1.2"
   ]
  },
  {
   "cell_type": "code",
   "execution_count": 21,
   "metadata": {},
   "outputs": [
    {
     "data": {
      "text/plain": [
       "('BRICKNAME',\n",
       " 'RA',\n",
       " 'DEC',\n",
       " 'FLUX_G',\n",
       " 'FLUX_R',\n",
       " 'FLUX_Z',\n",
       " 'FLUX_IVAR_G',\n",
       " 'FLUX_IVAR_R',\n",
       " 'FLUX_IVAR_Z',\n",
       " 'MW_TRANSMISSION_G',\n",
       " 'MW_TRANSMISSION_R',\n",
       " 'MW_TRANSMISSION_Z',\n",
       " 'FRACFLUX_G',\n",
       " 'FRACFLUX_R',\n",
       " 'FRACFLUX_Z',\n",
       " 'FLUX_W1',\n",
       " 'FLUX_W2',\n",
       " 'FLUX_W3',\n",
       " 'FLUX_W4',\n",
       " 'FLUX_IVAR_W1',\n",
       " 'FLUX_IVAR_W2',\n",
       " 'FLUX_IVAR_W3',\n",
       " 'FLUX_IVAR_W4',\n",
       " 'MW_TRANSMISSION_W1',\n",
       " 'MW_TRANSMISSION_W2',\n",
       " 'MW_TRANSMISSION_W3',\n",
       " 'MW_TRANSMISSION_W4',\n",
       " 'FIBERFLUX_G',\n",
       " 'FIBERFLUX_R',\n",
       " 'FIBERFLUX_Z',\n",
       " 'FIBERTOTFLUX_G',\n",
       " 'FIBERTOTFLUX_R',\n",
       " 'FIBERTOTFLUX_Z',\n",
       " 'TARGETID',\n",
       " 'SV1_DESI_TARGET',\n",
       " 'SV1_BGS_TARGET',\n",
       " 'SV1_MWS_TARGET',\n",
       " 'SUBPRIORITY',\n",
       " 'PRIORITY_INIT',\n",
       " 'NUMOBS_INIT',\n",
       " 'HPXPIXEL',\n",
       " 'SV1_SCND_TARGET',\n",
       " 'NUMOBS_MORE',\n",
       " 'NUMOBS',\n",
       " 'Z',\n",
       " 'ZWARN',\n",
       " 'TARGET_STATE',\n",
       " 'TIMESTAMP',\n",
       " 'VERSION',\n",
       " 'PRIORITY',\n",
       " 'OBSCONDITIONS')"
      ]
     },
     "execution_count": 21,
     "metadata": {},
     "output_type": "execute_result"
    }
   ],
   "source": [
    "targets.dtype.names"
   ]
  },
  {
   "cell_type": "markdown",
   "metadata": {},
   "source": [
    "# remove BGS targets that are not in MAIN OR FAINT"
   ]
  },
  {
   "cell_type": "code",
   "execution_count": 6,
   "metadata": {},
   "outputs": [],
   "source": [
    "cut_main = rmag < 19.5\n",
    "cut_faint = ((rmag > 19.5) & (rmag < 20.3) & ((rfibmag < 20.75) | ((rfibmag < 21.5) & (color > 0))))"
   ]
  },
  {
   "cell_type": "code",
   "execution_count": 7,
   "metadata": {},
   "outputs": [],
   "source": [
    "old_bgs_main = (targets['SV1_BGS_TARGET'] & bgs_mask['BGS_BRIGHT']) != 0\n",
    "old_bgs_faint = (targets['SV1_BGS_TARGET'] & bgs_mask['BGS_FAINT']) != 0 \n",
    "old_bgs_faint_hip = (targets['SV1_BGS_TARGET'] & bgs_mask['BGS_FAINT_HIP']) != 0 "
   ]
  },
  {
   "cell_type": "code",
   "execution_count": 8,
   "metadata": {},
   "outputs": [],
   "source": [
    "bgs_main_targnum = targets['SV1_BGS_TARGET'][old_bgs_main][0]\n",
    "bgs_faint_targnum = targets['SV1_BGS_TARGET'][old_bgs_faint][0]\n",
    "bgs_faint_hip_targnum = targets['SV1_BGS_TARGET'][old_bgs_faint_hip][0]"
   ]
  },
  {
   "cell_type": "code",
   "execution_count": 9,
   "metadata": {},
   "outputs": [
    {
     "name": "stdout",
     "output_type": "stream",
     "text": [
      "0.38752153248135357\n",
      "0.32715567821178443\n",
      "0.025799645459364612\n"
     ]
    }
   ],
   "source": [
    "print(np.sum(old_bgs_main)/np.sum(targets['SV1_BGS_TARGET'].astype(bool)))\n",
    "print(np.sum(old_bgs_faint)/np.sum(targets['SV1_BGS_TARGET'].astype(bool)))\n",
    "print(np.sum(old_bgs_faint_hip)/np.sum(targets['SV1_BGS_TARGET'].astype(bool)))"
   ]
  },
  {
   "cell_type": "code",
   "execution_count": 10,
   "metadata": {},
   "outputs": [],
   "source": [
    "# remove all BGS targets outside of BGS main and faint\n",
    "targets_trimmed = targets[\n",
    "    (~targets['SV1_BGS_TARGET'].astype(bool)) | # not bgs targets\n",
    "    ((targets['SV1_BGS_TARGET'].astype(bool) & cut_main) | (targets['SV1_BGS_TARGET'].astype(bool) & cut_faint))]"
   ]
  },
  {
   "cell_type": "markdown",
   "metadata": {},
   "source": [
    "# assign updated `SV1_BGS_TARGET` values\n",
    "- `MAIN` = r < 19.5\n",
    "- `FAINT` = 66% of objects that pass (19.5 < r < 20.3 + RFIBER-COLOR cut)\n",
    "- `FAINT_HIP` = 33% of objects that pass (19.5 < r < 20.3 + RFIBER-COLOR cut)"
   ]
  },
  {
   "cell_type": "code",
   "execution_count": 11,
   "metadata": {},
   "outputs": [],
   "source": [
    "# unextinct fluxes\n",
    "rflux = targets_trimmed[\"FLUX_R\"]/targets_trimmed[\"MW_TRANSMISSION_R\"]\n",
    "zflux = targets_trimmed[\"FLUX_Z\"]/targets_trimmed[\"MW_TRANSMISSION_Z\"]\n",
    "gflux = targets_trimmed[\"FLUX_G\"]/targets_trimmed[\"MW_TRANSMISSION_G\"]\n",
    "w1flux = targets_trimmed[\"FLUX_W1\"]/targets_trimmed[\"MW_TRANSMISSION_W1\"]\n",
    "rfibflux = targets_trimmed[\"FIBERFLUX_R\"]/targets_trimmed[\"MW_TRANSMISSION_R\"]\n",
    "\n",
    "rmag = 22.5 - 2.5*np.log10(rflux.clip(1e-16))\n",
    "zmag = 22.5 - 2.5*np.log10(zflux.clip(1e-16))\n",
    "gmag = 22.5 - 2.5*np.log10(gflux.clip(1e-16))\n",
    "w1mag = 22.5 - 2.5*np.log10(w1flux.clip(1e-16))\n",
    "rfibmag = 22.5 - 2.5*np.log10(rfibflux.clip(1e-16))\n",
    "color = (zmag  - w1mag) - 3/2.5 * (gmag - rmag) + 1.2"
   ]
  },
  {
   "cell_type": "code",
   "execution_count": 12,
   "metadata": {},
   "outputs": [],
   "source": [
    "cut_main = rmag < 19.5\n",
    "cut_faint = ((rmag > 19.5) & (rmag < 20.3) & ((rfibmag < 20.75) | ((rfibmag < 21.5) & (color > 0))))\n",
    "rng_unif = np.random.uniform(size=len(cut_faint))"
   ]
  },
  {
   "cell_type": "markdown",
   "metadata": {},
   "source": [
    "# Now lets change the FAINT_HIP percentage"
   ]
  },
  {
   "cell_type": "code",
   "execution_count": 13,
   "metadata": {},
   "outputs": [
    {
     "name": "stdout",
     "output_type": "stream",
     "text": [
      "0.7173040371963942\n",
      "0.28269596280360576\n",
      "\n",
      "0.6837651468966289\n",
      "0.31623485310337107\n",
      "\n",
      "0.6627609379311152\n",
      "0.33723906206888477\n",
      "\n",
      "0.6415463172832522\n",
      "0.3584536827167478\n",
      "\n"
     ]
    }
   ],
   "source": [
    "for percentage in [33, 25, 20, 15]: \n",
    "    targets_trimmed['SV1_BGS_TARGET'][(targets_trimmed['SV1_BGS_TARGET'].astype(bool) & (cut_main | (cut_faint & (rng_unif < 0.01*percentage))))] = bgs_main_targnum\n",
    "    targets_trimmed['SV1_BGS_TARGET'][(targets_trimmed['SV1_BGS_TARGET'].astype(bool) & cut_faint & (rng_unif > 0.01*percentage))] = bgs_faint_targnum\n",
    "    \n",
    "    targets_trimmed['PRIORITY_INIT'][(targets_trimmed['SV1_BGS_TARGET'].astype(bool) & (cut_main | (cut_faint & (rng_unif < 0.01*percentage))))] = 2100\n",
    "    targets_trimmed['PRIORITY_INIT'][(targets_trimmed['SV1_BGS_TARGET'].astype(bool) & cut_faint & (rng_unif > 0.01*percentage))] = 2000\n",
    "    \n",
    "    targets_trimmed['PRIORITY'][(targets_trimmed['SV1_BGS_TARGET'].astype(bool) & (cut_main | (cut_faint & (rng_unif < 0.01*percentage))))] = 2100\n",
    "    targets_trimmed['PRIORITY'][(targets_trimmed['SV1_BGS_TARGET'].astype(bool) & cut_faint & (rng_unif > 0.01*percentage))] = 2000\n",
    "\n",
    "    new_bgs_main = (targets_trimmed['SV1_BGS_TARGET'] & bgs_mask['BGS_BRIGHT']) != 0\n",
    "    new_bgs_faint = (targets_trimmed['SV1_BGS_TARGET'] & bgs_mask['BGS_FAINT']) != 0 \n",
    "    \n",
    "    print(np.sum(new_bgs_main)/np.sum(targets_trimmed['SV1_BGS_TARGET'].astype(bool)))\n",
    "    print(np.sum(new_bgs_faint)/np.sum(targets_trimmed['SV1_BGS_TARGET'].astype(bool)))\n",
    "    assert np.sum(new_bgs_main) + np.sum(new_bgs_faint) == np.sum(targets_trimmed['SV1_BGS_TARGET'].astype(bool))\n",
    "    assert np.sum(new_bgs_main & new_bgs_faint) == 0\n",
    "    print()\n",
    "    fitsio.write('/global/project/projectdirs/desi/users/dsporta/forchang/bright_north_20_60_160_220_cut3.modified.hip%i.v2.fits' % percentage, targets_trimmed)"
   ]
  },
  {
   "cell_type": "code",
   "execution_count": null,
   "metadata": {},
   "outputs": [],
   "source": []
  }
 ],
 "metadata": {
  "kernelspec": {
   "display_name": "DESI master",
   "language": "python",
   "name": "desi-master"
  },
  "language_info": {
   "codemirror_mode": {
    "name": "ipython",
    "version": 3
   },
   "file_extension": ".py",
   "mimetype": "text/x-python",
   "name": "python",
   "nbconvert_exporter": "python",
   "pygments_lexer": "ipython3",
   "version": "3.8.3"
  }
 },
 "nbformat": 4,
 "nbformat_minor": 4
}
