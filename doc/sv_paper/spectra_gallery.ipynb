{
 "cells": [
  {
   "cell_type": "markdown",
   "id": "3028818b-7673-4578-881e-25f2c0a0fd70",
   "metadata": {},
   "source": [
    "# Example BGS Spectra from One-Percent Survey"
   ]
  },
  {
   "cell_type": "code",
   "execution_count": 1,
   "id": "c31cd2d2-26bf-424d-be81-ca887ac4ae69",
   "metadata": {},
   "outputs": [],
   "source": [
    "import os\n",
    "import sv as SV\n",
    "import numpy as np\n",
    "import astropy.table as atable\n",
    "\n",
    "import redrock\n",
    "import redrock.templates\n",
    "import redrock.results\n",
    "\n",
    "from desispec.io import read_spectra\n",
    "from desitarget.sv3.sv3_targetmask import bgs_mask as sv3_bgs_mask"
   ]
  },
  {
   "cell_type": "code",
   "execution_count": 2,
   "id": "587d891d-53fb-401d-a6b1-391dc0f521b8",
   "metadata": {},
   "outputs": [],
   "source": [
    "# -- plotting -- \n",
    "import matplotlib as mpl\n",
    "import matplotlib.pyplot as plt\n",
    "#mpl.use('Agg')\n",
    "mpl.rcParams['text.usetex'] = True\n",
    "mpl.rcParams['font.family'] = 'serif'\n",
    "mpl.rcParams['axes.linewidth'] = 1.5\n",
    "mpl.rcParams['axes.xmargin'] = 1\n",
    "mpl.rcParams['xtick.labelsize'] = 'x-large'\n",
    "mpl.rcParams['xtick.major.size'] = 5\n",
    "mpl.rcParams['xtick.major.width'] = 1.5\n",
    "mpl.rcParams['ytick.labelsize'] = 'x-large'\n",
    "mpl.rcParams['ytick.major.size'] = 5\n",
    "mpl.rcParams['ytick.major.width'] = 1.5\n",
    "mpl.rcParams['legend.frameon'] = False"
   ]
  },
  {
   "cell_type": "code",
   "execution_count": 3,
   "id": "51dd2a25-a1c7-4831-a351-398a0f5723c6",
   "metadata": {},
   "outputs": [
    {
     "name": "stdout",
     "output_type": "stream",
     "text": [
      "DEBUG: Read templates from /global/common/software/desi/cori/desiconda/20211217-2.0.0/code/redrock-templates/master\n",
      "DEBUG: Using default redshift range -0.0050-1.6997 for rrtemplate-galaxy.fits\n",
      "DEBUG: Using default redshift range 0.0500-5.9934 for rrtemplate-qso.fits\n",
      "DEBUG: Using default redshift range -0.0020-0.0020 for rrtemplate-star-A.fits\n",
      "DEBUG: Using default redshift range -0.0020-0.0020 for rrtemplate-star-B.fits\n",
      "DEBUG: Using default redshift range -0.0020-0.0020 for rrtemplate-star-CV.fits\n",
      "DEBUG: Using default redshift range -0.0020-0.0020 for rrtemplate-star-F.fits\n",
      "DEBUG: Using default redshift range -0.0020-0.0020 for rrtemplate-star-G.fits\n",
      "DEBUG: Using default redshift range -0.0020-0.0020 for rrtemplate-star-K.fits\n",
      "DEBUG: Using default redshift range -0.0020-0.0020 for rrtemplate-star-M.fits\n",
      "DEBUG: Using default redshift range -0.0020-0.0020 for rrtemplate-star-WD.fits\n"
     ]
    }
   ],
   "source": [
    "templates_path = redrock.templates.find_templates(None)\n",
    "rr_templates = {}\n",
    "for el in templates_path:\n",
    "    t = redrock.templates.Template(filename=el)\n",
    "    rr_templates[t.full_type] = t"
   ]
  },
  {
   "cell_type": "code",
   "execution_count": 4,
   "id": "3e57994d-04d1-413f-9e3c-8f223f2df0a0",
   "metadata": {},
   "outputs": [],
   "source": [
    "fuji_exps = SV.info_exposures(release='fuji')\n",
    "guad_exps = SV.info_exposures(release='guadalupe') "
   ]
  },
  {
   "cell_type": "code",
   "execution_count": 5,
   "id": "10a61448-f351-4d04-843a-0c9ae2a2c601",
   "metadata": {},
   "outputs": [
    {
     "name": "stdout",
     "output_type": "stream",
     "text": [
      "897 exposures in BRIGHT\n",
      "288 SV3 BRIGHT exposure\n"
     ]
    }
   ],
   "source": [
    "in_bright = (fuji_exps['FAPRGRM'] == 'bgsmws') | (fuji_exps['FAPRGRM'] == 'bright')\n",
    "print(\"%i exposures in BRIGHT\" % np.sum(in_bright))\n",
    "sv3_exps = fuji_exps[(fuji_exps['SURVEY'] == 'sv3') & in_bright]\n",
    "print('%i SV3 BRIGHT exposure' % len(sv3_exps))"
   ]
  },
  {
   "cell_type": "code",
   "execution_count": 6,
   "id": "a914fdb1-339d-4d1a-a42c-001cf4567844",
   "metadata": {},
   "outputs": [],
   "source": [
    "# load compiled zsuccess rates to file\n",
    "dat_dir = '/global/cscratch1/sd/chahah/bgs-cmxsv/sv-paper/'\n",
    "\n",
    "#sv1_gals = atable.Table.read(os.path.join(dat_dir, 'sv1.bgs_exps.efftime160_200.zsuccess.fuji.fits'))\n",
    "sv3_gals = atable.Table.read(os.path.join(dat_dir, 'sv3.bgs_exps.efftime160_200.zsuccess.fuji.fits'))\n",
    "#main_gals = atable.Table.read(os.path.join(dat_dir, 'main.bgs_exps.efftime160_200.zsuccess.v3.fits'))"
   ]
  },
  {
   "cell_type": "code",
   "execution_count": 7,
   "id": "291848ec-5810-43c5-8b6c-cf79ad810366",
   "metadata": {},
   "outputs": [
    {
     "data": {
      "text/html": [
       "<div><i>Table length=5</i>\n",
       "<table id=\"table46914632608400\" class=\"table-striped table-bordered table-condensed\">\n",
       "<thead><tr><th>Z_TRUE</th><th>TARGETID</th><th>DEEP_NUMEXP</th><th>DEEP_EXPTIME</th><th>DEEP_TSNR2_BGS</th><th>DEEP_TRUE</th><th>Z</th><th>ZERR</th><th>ZWARN</th><th>CHI2</th><th>COEFF [10]</th><th>NPIXELS</th><th>SPECTYPE</th><th>SUBTYPE</th><th>NCOEFF</th><th>DELTACHI2</th><th>PETAL_LOC</th><th>DEVICE_LOC</th><th>LOCATION</th><th>FIBER</th><th>COADD_FIBERSTATUS</th><th>TARGET_RA</th><th>TARGET_DEC</th><th>PMRA</th><th>PMDEC</th><th>REF_EPOCH</th><th>LAMBDA_REF</th><th>FA_TARGET</th><th>FA_TYPE</th><th>OBJTYPE</th><th>FIBERASSIGN_X</th><th>FIBERASSIGN_Y</th><th>PRIORITY</th><th>SUBPRIORITY</th><th>OBSCONDITIONS</th><th>RELEASE</th><th>BRICKNAME</th><th>BRICKID</th><th>BRICK_OBJID</th><th>MORPHTYPE</th><th>EBV</th><th>FLUX_G</th><th>FLUX_R</th><th>FLUX_Z</th><th>FLUX_W1</th><th>FLUX_W2</th><th>FLUX_IVAR_G</th><th>FLUX_IVAR_R</th><th>FLUX_IVAR_Z</th><th>FLUX_IVAR_W1</th><th>FLUX_IVAR_W2</th><th>FIBERFLUX_G</th><th>FIBERFLUX_R</th><th>FIBERFLUX_Z</th><th>FIBERTOTFLUX_G</th><th>FIBERTOTFLUX_R</th><th>FIBERTOTFLUX_Z</th><th>MASKBITS</th><th>SERSIC</th><th>SHAPE_R</th><th>SHAPE_E1</th><th>SHAPE_E2</th><th>REF_ID</th><th>REF_CAT</th><th>GAIA_PHOT_G_MEAN_MAG</th><th>GAIA_PHOT_BP_MEAN_MAG</th><th>GAIA_PHOT_RP_MEAN_MAG</th><th>PARALLAX</th><th>PHOTSYS</th><th>PRIORITY_INIT</th><th>NUMOBS_INIT</th><th>SV3_DESI_TARGET</th><th>SV3_BGS_TARGET</th><th>SV3_MWS_TARGET</th><th>SV3_SCND_TARGET</th><th>DESI_TARGET</th><th>BGS_TARGET</th><th>MWS_TARGET</th><th>PLATE_RA</th><th>PLATE_DEC</th><th>TILEID</th><th>COADD_NUMEXP</th><th>COADD_EXPTIME</th><th>COADD_NUMNIGHT</th><th>COADD_NUMTILE</th><th>MEAN_DELTA_X</th><th>RMS_DELTA_X</th><th>MEAN_DELTA_Y</th><th>RMS_DELTA_Y</th><th>MEAN_FIBER_RA</th><th>STD_FIBER_RA</th><th>MEAN_FIBER_DEC</th><th>STD_FIBER_DEC</th><th>MEAN_PSF_TO_FIBER_SPECFLUX</th><th>MEAN_FIBER_X</th><th>MEAN_FIBER_Y</th><th>TSNR2_GPBDARK_B</th><th>TSNR2_ELG_B</th><th>TSNR2_GPBBRIGHT_B</th><th>TSNR2_LYA_B</th><th>TSNR2_BGS_B</th><th>TSNR2_GPBBACKUP_B</th><th>TSNR2_QSO_B</th><th>TSNR2_LRG_B</th><th>TSNR2_GPBDARK_R</th><th>TSNR2_ELG_R</th><th>TSNR2_GPBBRIGHT_R</th><th>TSNR2_LYA_R</th><th>TSNR2_BGS_R</th><th>TSNR2_GPBBACKUP_R</th><th>TSNR2_QSO_R</th><th>TSNR2_LRG_R</th><th>TSNR2_GPBDARK_Z</th><th>TSNR2_ELG_Z</th><th>TSNR2_GPBBRIGHT_Z</th><th>TSNR2_LYA_Z</th><th>TSNR2_BGS_Z</th><th>TSNR2_GPBBACKUP_Z</th><th>TSNR2_QSO_Z</th><th>TSNR2_LRG_Z</th><th>TSNR2_GPBDARK</th><th>TSNR2_ELG</th><th>TSNR2_GPBBRIGHT</th><th>TSNR2_LYA</th><th>TSNR2_BGS</th><th>TSNR2_GPBBACKUP</th><th>TSNR2_QSO</th><th>TSNR2_LRG</th><th>ZSUCCESS</th><th>RR_ZWARN</th><th>RR_DELTACHI2</th><th>RR_SPECTYPE</th><th>RR_ZERR</th><th>RR_Z</th><th>RR_Z_DEEP</th><th>EXPID</th><th>GMAG_DRED</th><th>RMAG_DRED</th><th>FIBER_RMAG_DRED</th><th>ZMAG_DRED</th><th>W1MAG_DRED</th><th>W2MAG_DRED</th><th>FAINT_FIBCOL</th><th>EFFTIME_SPEC</th><th>DEEP_EFFTIME_SPEC</th><th>SURVEY_SPEED</th><th>EFFTIME_ETC</th><th>ETC_SURVEY_SPEED</th></tr></thead>\n",
       "<thead><tr><th>float64</th><th>int64</th><th>int16</th><th>float32</th><th>float32</th><th>bool</th><th>float64</th><th>float64</th><th>int64</th><th>float64</th><th>float64</th><th>int64</th><th>bytes6</th><th>bytes20</th><th>int64</th><th>float64</th><th>int16</th><th>int32</th><th>int64</th><th>int32</th><th>int32</th><th>float64</th><th>float64</th><th>float32</th><th>float32</th><th>float32</th><th>float32</th><th>int64</th><th>uint8</th><th>bytes3</th><th>float32</th><th>float32</th><th>int32</th><th>float64</th><th>int32</th><th>int16</th><th>bytes8</th><th>int32</th><th>int32</th><th>bytes4</th><th>float32</th><th>float32</th><th>float32</th><th>float32</th><th>float32</th><th>float32</th><th>float32</th><th>float32</th><th>float32</th><th>float32</th><th>float32</th><th>float32</th><th>float32</th><th>float32</th><th>float32</th><th>float32</th><th>float32</th><th>int16</th><th>float32</th><th>float32</th><th>float32</th><th>float32</th><th>int64</th><th>bytes2</th><th>float32</th><th>float32</th><th>float32</th><th>float32</th><th>bytes1</th><th>int64</th><th>int64</th><th>int64</th><th>int64</th><th>int64</th><th>int64</th><th>int64</th><th>int64</th><th>int64</th><th>float64</th><th>float64</th><th>int32</th><th>int16</th><th>float32</th><th>int16</th><th>int16</th><th>float32</th><th>float32</th><th>float32</th><th>float32</th><th>float64</th><th>float32</th><th>float64</th><th>float32</th><th>float32</th><th>float32</th><th>float32</th><th>float32</th><th>float32</th><th>float32</th><th>float32</th><th>float32</th><th>float32</th><th>float32</th><th>float32</th><th>float32</th><th>float32</th><th>float32</th><th>float32</th><th>float32</th><th>float32</th><th>float32</th><th>float32</th><th>float32</th><th>float32</th><th>float32</th><th>float32</th><th>float32</th><th>float32</th><th>float32</th><th>float32</th><th>float32</th><th>float32</th><th>float32</th><th>float32</th><th>float32</th><th>float32</th><th>float32</th><th>float32</th><th>bool</th><th>int64</th><th>float64</th><th>bytes6</th><th>float64</th><th>float64</th><th>float64</th><th>int32</th><th>float64</th><th>float64</th><th>float64</th><th>float64</th><th>float64</th><th>float64</th><th>float64</th><th>float32</th><th>float32</th><th>float32</th><th>float32</th><th>float32</th></tr></thead>\n",
       "<tr><td>0.07777937216262566</td><td>39627751551927574</td><td>2</td><td>1007.7563</td><td>2304.8057</td><td>True</td><td>0.0777835161191793</td><td>6.723634863923742e-06</td><td>0</td><td>8137.060635402799</td><td>558.4959018438403 .. 12.044595689590196</td><td>7873</td><td>GALAXY</td><td>--</td><td>10</td><td>517.5170710533857</td><td>1</td><td>417</td><td>1417</td><td>500</td><td>0</td><td>182.55632632143863</td><td>-1.3780918631807284</td><td>0.0</td><td>0.0</td><td>2015.5</td><td>5400.0</td><td>1152921504606846976</td><td>1</td><td>TGT</td><td>139.2888</td><td>-379.83682</td><td>102100</td><td>0.9067837874882217</td><td>516</td><td>9010</td><td>1826m015</td><td>322458</td><td>1302</td><td>SER</td><td>0.019259246</td><td>10.988338</td><td>16.706974</td><td>22.051287</td><td>6.2602177</td><td>-2.86036</td><td>100.7889</td><td>49.290077</td><td>12.531658</td><td>1.3781968</td><td>0.2973808</td><td>2.2115772</td><td>3.3625429</td><td>4.4381704</td><td>2.2119832</td><td>3.36349</td><td>4.4398055</td><td>0</td><td>6.0</td><td>4.018671</td><td>-0.10134651</td><td>-0.42885458</td><td>0</td><td>--</td><td>0.0</td><td>0.0</td><td>0.0</td><td>0.0</td><td>S</td><td>102100</td><td>9</td><td>1152921504606846976</td><td>131074</td><td>0</td><td>0</td><td>0</td><td>0</td><td>0</td><td>182.55632632143863</td><td>-1.3780918631807284</td><td>66</td><td>1</td><td>572.255</td><td>1</td><td>1</td><td>-0.001</td><td>0.001</td><td>0.001</td><td>0.001</td><td>182.55632251473406</td><td>0.0</td><td>-1.378095431121128</td><td>0.0</td><td>0.7240783</td><td>139.237</td><td>-379.755</td><td>20.788517</td><td>0.008394888</td><td>4.175302</td><td>4.4886675</td><td>53.545322</td><td>34.99997</td><td>0.21754342</td><td>0.10155707</td><td>1510.1138</td><td>3.6202452</td><td>291.49396</td><td>0.0042808126</td><td>314.09378</td><td>2147.0806</td><td>1.0249641</td><td>5.066993</td><td>3.1945856e-06</td><td>11.224265</td><td>6.288779e-07</td><td>0.0</td><td>618.33905</td><td>4.931991e-06</td><td>2.4547005</td><td>5.6678476</td><td>1530.9023</td><td>14.852905</td><td>295.66925</td><td>4.4929485</td><td>985.97815</td><td>2182.0806</td><td>3.697208</td><td>10.836398</td><td>True</td><td>0</td><td>517.5170710533857</td><td>GALAXY</td><td>6.723634863923742e-06</td><td>0.0777835161191793</td><td>0.07777937216262566</td><td>83527</td><td>19.83580922288672</td><td>19.4010784615294</td><td>21.141653381098216</td><td>19.118092207461878</td><td>20.5049827387398</td><td>62.5</td><td>-0.7085674449067028</td><td>138.03694</td><td>322.6728</td><td>0.26047298</td><td>219.89665</td><td>0.41494066</td></tr>\n",
       "<tr><td>0.07777937216262566</td><td>39627751551927574</td><td>2</td><td>1007.7563</td><td>2304.8057</td><td>True</td><td>0.0777835161191793</td><td>6.723634863923742e-06</td><td>0</td><td>8137.060635402799</td><td>558.4959018438403 .. 12.044595689590196</td><td>7873</td><td>GALAXY</td><td>--</td><td>10</td><td>517.5170710533857</td><td>1</td><td>417</td><td>1417</td><td>500</td><td>0</td><td>182.55632632143863</td><td>-1.3780918631807284</td><td>0.0</td><td>0.0</td><td>2015.5</td><td>5400.0</td><td>1152921504606846976</td><td>1</td><td>TGT</td><td>139.2888</td><td>-379.83682</td><td>102100</td><td>0.9067837874882217</td><td>516</td><td>9010</td><td>1826m015</td><td>322458</td><td>1302</td><td>SER</td><td>0.019259246</td><td>10.988338</td><td>16.706974</td><td>22.051287</td><td>6.2602177</td><td>-2.86036</td><td>100.7889</td><td>49.290077</td><td>12.531658</td><td>1.3781968</td><td>0.2973808</td><td>2.2115772</td><td>3.3625429</td><td>4.4381704</td><td>2.2119832</td><td>3.36349</td><td>4.4398055</td><td>0</td><td>6.0</td><td>4.018671</td><td>-0.10134651</td><td>-0.42885458</td><td>0</td><td>--</td><td>0.0</td><td>0.0</td><td>0.0</td><td>0.0</td><td>S</td><td>102100</td><td>9</td><td>1152921504606846976</td><td>131074</td><td>0</td><td>0</td><td>0</td><td>0</td><td>0</td><td>182.55632632143863</td><td>-1.3780918631807284</td><td>66</td><td>1</td><td>572.255</td><td>1</td><td>1</td><td>-0.001</td><td>0.001</td><td>0.001</td><td>0.001</td><td>182.55632251473406</td><td>0.0</td><td>-1.378095431121128</td><td>0.0</td><td>0.7240783</td><td>139.237</td><td>-379.755</td><td>20.788517</td><td>0.008394888</td><td>4.175302</td><td>4.4886675</td><td>53.545322</td><td>34.99997</td><td>0.21754342</td><td>0.10155707</td><td>1510.1138</td><td>3.6202452</td><td>291.49396</td><td>0.0042808126</td><td>314.09378</td><td>2147.0806</td><td>1.0249641</td><td>5.066993</td><td>3.1945856e-06</td><td>11.224265</td><td>6.288779e-07</td><td>0.0</td><td>618.33905</td><td>4.931991e-06</td><td>2.4547005</td><td>5.6678476</td><td>1530.9023</td><td>14.852905</td><td>295.66925</td><td>4.4929485</td><td>985.97815</td><td>2182.0806</td><td>3.697208</td><td>10.836398</td><td>True</td><td>0</td><td>517.5170710533857</td><td>GALAXY</td><td>6.723634863923742e-06</td><td>0.0777835161191793</td><td>0.07777937216262566</td><td>83527</td><td>19.83580922288672</td><td>19.4010784615294</td><td>21.141653381098216</td><td>19.118092207461878</td><td>20.5049827387398</td><td>62.5</td><td>-0.7085674449067028</td><td>138.03694</td><td>322.6728</td><td>0.26047298</td><td>219.89665</td><td>0.41494066</td></tr>\n",
       "<tr><td>0.20499232327979386</td><td>39627751556122024</td><td>2</td><td>1007.7563</td><td>2666.2534</td><td>True</td><td>0.20498237302241665</td><td>1.395338511961869e-05</td><td>0</td><td>7787.876674264669</td><td>52.73957875079625 .. -9.426634236621554</td><td>7871</td><td>GALAXY</td><td>--</td><td>10</td><td>447.65663757920265</td><td>0</td><td>512</td><td>512</td><td>379</td><td>0</td><td>182.8099461660768</td><td>-1.3981847216730894</td><td>0.0</td><td>0.0</td><td>2015.5</td><td>5400.0</td><td>1152921504606846976</td><td>1</td><td>TGT</td><td>74.80303</td><td>-383.91864</td><td>102100</td><td>0.9911653757041009</td><td>516</td><td>9010</td><td>1828m015</td><td>322459</td><td>1448</td><td>SER</td><td>0.021278203</td><td>10.350152</td><td>21.792746</td><td>37.5766</td><td>55.363934</td><td>37.983875</td><td>136.73799</td><td>67.85771</td><td>16.891445</td><td>1.7765982</td><td>0.4545828</td><td>2.171579</td><td>4.5723643</td><td>7.883995</td><td>2.1716466</td><td>4.572596</td><td>7.884705</td><td>0</td><td>0.7371865</td><td>2.2247908</td><td>-0.0025384345</td><td>0.65889674</td><td>0</td><td>--</td><td>0.0</td><td>0.0</td><td>0.0</td><td>0.0</td><td>S</td><td>102100</td><td>9</td><td>1152921504606846976</td><td>131074</td><td>0</td><td>0</td><td>0</td><td>0</td><td>0</td><td>182.8099461660768</td><td>-1.3981847216730894</td><td>66</td><td>1</td><td>572.255</td><td>1</td><td>1</td><td>-0.005</td><td>0.005</td><td>0.002</td><td>0.002</td><td>182.80992655285203</td><td>0.0</td><td>-1.3981917885873816</td><td>0.0</td><td>0.7240469</td><td>74.783</td><td>-383.804</td><td>16.98069</td><td>0.01264395</td><td>3.4051063</td><td>12.849003</td><td>69.74775</td><td>28.447424</td><td>0.33955723</td><td>0.0931441</td><td>1829.1726</td><td>4.268988</td><td>351.5505</td><td>0.005889773</td><td>396.11646</td><td>2560.3198</td><td>1.2478364</td><td>6.0743146</td><td>2.8209024e-06</td><td>14.057102</td><td>5.5484526e-07</td><td>0.0</td><td>686.8225</td><td>4.349137e-06</td><td>2.9381852</td><td>6.62692</td><td>1846.1533</td><td>18.338734</td><td>354.95563</td><td>12.854893</td><td>1152.6868</td><td>2588.7673</td><td>4.5255785</td><td>12.794378</td><td>True</td><td>0</td><td>447.65663757920265</td><td>GALAXY</td><td>1.395338511961869e-05</td><td>0.20498237302241665</td><td>0.20499232327979386</td><td>83527</td><td>19.894287591892706</td><td>19.108174120203717</td><td>20.803601922227514</td><td>18.536938404285205</td><td>18.138017468244193</td><td>18.548597396713284</td><td>0.6555847700142259</td><td>161.37614</td><td>373.27548</td><td>0.3069754</td><td>219.89665</td><td>0.41829517</td></tr>\n",
       "<tr><td>0.4221574073932342</td><td>39627751556123140</td><td>3</td><td>1345.5504</td><td>3820.2915</td><td>True</td><td>0.4224863652225025</td><td>0.00010168855297121392</td><td>0</td><td>7813.427993915975</td><td>546.9702940763037 .. -7.518739621444266</td><td>7880</td><td>GALAXY</td><td>--</td><td>10</td><td>291.7513001523912</td><td>0</td><td>511</td><td>511</td><td>363</td><td>0</td><td>182.85589290186243</td><td>-1.403844986539459</td><td>0.0</td><td>0.0</td><td>2015.5</td><td>5400.0</td><td>1152921504609009673</td><td>1</td><td>TGT</td><td>63.17774</td><td>-385.29675</td><td>102100</td><td>0.8313508313007475</td><td>517</td><td>9010</td><td>1828m015</td><td>322459</td><td>2564</td><td>SER</td><td>0.021243423</td><td>2.7966151</td><td>16.343147</td><td>41.044434</td><td>80.21538</td><td>50.792847</td><td>608.7429</td><td>142.52792</td><td>38.143814</td><td>1.6438087</td><td>0.4563545</td><td>1.232183</td><td>7.2007575</td><td>18.084093</td><td>1.232183</td><td>7.2007575</td><td>18.084093</td><td>0</td><td>5.5121336</td><td>0.73735595</td><td>-0.0398145</td><td>0.14545733</td><td>0</td><td>--</td><td>0.0</td><td>0.0</td><td>0.0</td><td>0.0</td><td>S</td><td>102100</td><td>9</td><td>1152921504609009673</td><td>131074</td><td>0</td><td>0</td><td>0</td><td>0</td><td>0</td><td>182.85589290186243</td><td>-1.403844986539459</td><td>66</td><td>1</td><td>572.255</td><td>1</td><td>1</td><td>-0.005</td><td>0.005</td><td>0.001</td><td>0.001</td><td>182.85587320727726</td><td>0.0</td><td>-1.4038484213583255</td><td>0.0</td><td>0.7562759</td><td>63.162</td><td>-385.174</td><td>16.403719</td><td>0.012159725</td><td>3.2911003</td><td>12.40269</td><td>67.12169</td><td>27.589079</td><td>0.32690394</td><td>0.0895207</td><td>1713.4647</td><td>3.9773853</td><td>329.793</td><td>0.005575083</td><td>372.95526</td><td>2415.7434</td><td>1.1734763</td><td>5.6878195</td><td>2.6780488e-06</td><td>13.336812</td><td>5.272322e-07</td><td>0.0</td><td>653.0305</td><td>4.152046e-06</td><td>2.7892535</td><td>6.294442</td><td>1729.8684</td><td>17.326357</td><td>333.0841</td><td>12.408265</td><td>1093.1074</td><td>2443.3325</td><td>4.2896338</td><td>12.071783</td><td>True</td><td>0</td><td>291.7513001523912</td><td>GALAXY</td><td>0.00010168855297121392</td><td>0.4224863652225025</td><td>0.4221574073932342</td><td>83527</td><td>21.315184371082527</td><td>19.420689969449793</td><td>20.31058374138042</td><td>18.441138562581155</td><td>17.735447096921824</td><td>18.233093082489326</td><td>-0.36770181629994947</td><td>153.03503</td><td>534.8408</td><td>0.2910683</td><td>219.89665</td><td>0.41823718</td></tr>\n",
       "<tr><td>0.4060052231840737</td><td>39627751556123602</td><td>2</td><td>1007.7563</td><td>2670.6802</td><td>True</td><td>0.4058785121204241</td><td>0.00018880032427754913</td><td>0</td><td>7662.567360062152</td><td>346.90711728031545 .. -15.631766626158416</td><td>7855</td><td>GALAXY</td><td>--</td><td>10</td><td>151.7479382492602</td><td>0</td><td>494</td><td>494</td><td>358</td><td>0</td><td>182.87474731332514</td><td>-1.3822015460205581</td><td>0.0</td><td>0.0</td><td>2015.5</td><td>5400.0</td><td>1152921504609009673</td><td>1</td><td>TGT</td><td>58.33887</td><td>-379.345</td><td>102100</td><td>0.7020158364288083</td><td>517</td><td>9010</td><td>1828m015</td><td>322459</td><td>3026</td><td>DEV</td><td>0.021543287</td><td>3.8377523</td><td>21.967049</td><td>52.872837</td><td>94.76348</td><td>60.46569</td><td>200.95255</td><td>67.44271</td><td>16.308344</td><td>1.1796935</td><td>0.3354347</td><td>0.9613301</td><td>5.502592</td><td>13.244276</td><td>0.96416247</td><td>5.516793</td><td>13.276475</td><td>0</td><td>4.0</td><td>1.8069273</td><td>-0.08807474</td><td>-0.14927483</td><td>0</td><td>--</td><td>0.0</td><td>0.0</td><td>0.0</td><td>0.0</td><td>S</td><td>102100</td><td>9</td><td>1152921504609009673</td><td>131074</td><td>0</td><td>0</td><td>0</td><td>0</td><td>0</td><td>182.87474731332514</td><td>-1.3822015460205581</td><td>66</td><td>1</td><td>572.255</td><td>1</td><td>1</td><td>-0.005</td><td>0.005</td><td>0.007</td><td>0.007</td><td>182.87472783604733</td><td>0.0</td><td>-1.3822271185563604</td><td>0.0</td><td>0.7235225</td><td>58.326</td><td>-379.229</td><td>16.819042</td><td>0.012460499</td><td>3.3783174</td><td>12.665033</td><td>68.80877</td><td>28.161547</td><td>0.33391452</td><td>0.0918736</td><td>1789.0253</td><td>4.187011</td><td>344.54828</td><td>0.0057433294</td><td>389.07053</td><td>2506.1177</td><td>1.2209479</td><td>5.962687</td><td>2.771059e-06</td><td>13.772638</td><td>5.460052e-07</td><td>0.0</td><td>676.5002</td><td>4.272027e-06</td><td>2.873685</td><td>6.513078</td><td>1805.8444</td><td>17.97211</td><td>347.9266</td><td>12.670776</td><td>1134.3795</td><td>2534.2793</td><td>4.4285474</td><td>12.567638</td><td>True</td><td>0</td><td>151.7479382492602</td><td>GALAXY</td><td>0.00018880032427754913</td><td>0.4058785121204241</td><td>0.4060052231840737</td><td>83527</td><td>20.97061062775236</td><td>19.098951059363284</td><td>20.601962040560064</td><td>18.165829557918034</td><td>17.55443352230197</td><td>18.043793065848774</td><td>-0.4345954464508288</td><td>158.81313</td><td>373.89523</td><td>0.30241948</td><td>219.89665</td><td>0.41873765</td></tr>\n",
       "</table></div>"
      ],
      "text/plain": [
       "<Table length=5>\n",
       "       Z_TRUE            TARGETID     ... EFFTIME_ETC ETC_SURVEY_SPEED\n",
       "      float64             int64       ...   float32       float32     \n",
       "------------------- ----------------- ... ----------- ----------------\n",
       "0.07777937216262566 39627751551927574 ...   219.89665       0.41494066\n",
       "0.07777937216262566 39627751551927574 ...   219.89665       0.41494066\n",
       "0.20499232327979386 39627751556122024 ...   219.89665       0.41829517\n",
       " 0.4221574073932342 39627751556123140 ...   219.89665       0.41823718\n",
       " 0.4060052231840737 39627751556123602 ...   219.89665       0.41873765"
      ]
     },
     "execution_count": 7,
     "metadata": {},
     "output_type": "execute_result"
    }
   ],
   "source": [
    "sv3_gals[:5]"
   ]
  },
  {
   "cell_type": "code",
   "execution_count": 8,
   "id": "50205f44-cfd0-4a23-8322-547e610b1d82",
   "metadata": {},
   "outputs": [],
   "source": [
    "sv3_gmag = sv3_gals['GMAG_DRED']\n",
    "sv3_rmag = sv3_gals['RMAG_DRED']\n",
    "sv3_zmag = sv3_gals['ZMAG_DRED']\n",
    "sv3_rfib = sv3_gals['FIBER_RMAG_DRED']\n",
    "sv3_colr = sv3_gals['FAINT_FIBCOL']\n",
    "\n",
    "sv3_brgt = (sv3_gals['SV3_BGS_TARGET'] & sv3_bgs_mask['BGS_BRIGHT']) != 0 \n",
    "sv3_fain = (sv3_gals['SV3_BGS_TARGET'] & sv3_bgs_mask['BGS_FAINT']) != 0"
   ]
  },
  {
   "cell_type": "code",
   "execution_count": 9,
   "id": "f827293b-6c45-4ac2-a93d-31cb38cb8705",
   "metadata": {},
   "outputs": [],
   "source": [
    "def get_spectra(tileid, expid, petal, targetid, release='fuji'):\n",
    "    fspec = os.path.join('/global/cfs/cdirs/desi/spectro/redux/%s/tiles/perexp/%i/%s/' % (release, tileid, str(expid).zfill(8)), \n",
    "                         'spectra-%i-%i-exp%s.fits' % (petal, tileid, str(expid).zfill(8)))\n",
    "    print(fspec)\n",
    "    from desispec.io import read_spectra\n",
    "    spec = read_spectra(fspec) \n",
    "    \n",
    "    ifiber = np.arange(500)[spec.target_ids() == targetid][0]\n",
    "    \n",
    "    wave = np.concatenate([spec.wave['b'], spec.wave['r'], spec.wave['z']])\n",
    "    flux = np.concatenate([spec.flux['b'][ifiber].flatten(), spec.flux['r'][ifiber].flatten(), spec.flux['z'][ifiber].flatten()])\n",
    "    ivar = np.concatenate([spec.ivar['b'][ifiber].flatten(), spec.ivar['r'][ifiber].flatten(), spec.ivar['z'][ifiber].flatten()])\n",
    "    wsort = np.argsort(wave)\n",
    "\n",
    "    frr = os.path.join('/global/cfs/cdirs/desi/spectro/redux/%s/tiles/perexp/%i/%s/' % (release, tileid, str(expid).zfill(8)), \n",
    "                         'rrdetails-%i-%i-exp%s.h5' % (petal, tileid, str(expid).zfill(8)))\n",
    "    zscan, zfit = redrock.results.read_zscan(frr) \n",
    "\n",
    "    zfit = zfit[zfit['targetid'] == targetid]\n",
    "    zz = zfit[zfit['znum'] == 0][0] # best-fit \n",
    "    coeff = zz['coeff'] \n",
    "    fulltype = zz['spectype']\n",
    "    tp = rr_templates[fulltype]\n",
    "    bfs = []\n",
    "    for arm in ['b', 'r', 'z']: \n",
    "        mx = tp.eval(coeff[0:tp.nbasis], spec.wave[arm], zz['z']) * (1+zz['z'])\n",
    "        res = spec.R[arm][ifiber]\n",
    "        bfs.append(res.dot(mx))\n",
    "    bfs = np.concatenate(bfs)\n",
    "    return  wave[wsort], flux[wsort], bfs[wsort], ivar[wsort]"
   ]
  },
  {
   "cell_type": "code",
   "execution_count": 10,
   "id": "92fbbbd0-ca33-4b50-b904-e794922e639d",
   "metadata": {},
   "outputs": [
    {
     "name": "stdout",
     "output_type": "stream",
     "text": [
      "[116742] [232891]\n"
     ]
    }
   ],
   "source": [
    "# BGS bright blue\n",
    "igal0 = [116742] #np.random.choice(np.arange(len(sv3_gals))[sv3_brgt & (sv3_rmag < 18) & ((sv3_gmag - sv3_rmag) < 0.5) & ((sv3_rmag - sv3_zmag) < 0.5) & sv3_gals['ZSUCCESS']], 1)\n",
    "# BGS bright red\n",
    "igal1 = np.random.choice(np.arange(len(sv3_gals))[sv3_brgt & (sv3_rmag < 19) & ((sv3_gmag - sv3_rmag) > 0.5) & ((sv3_rmag - sv3_zmag) > 1.) & sv3_gals['ZSUCCESS']], 1)\n",
    "print(igal0, igal1)"
   ]
  },
  {
   "cell_type": "code",
   "execution_count": 11,
   "id": "23c9e7f3-7b23-4397-bf52-476072369ac1",
   "metadata": {},
   "outputs": [
    {
     "name": "stdout",
     "output_type": "stream",
     "text": [
      "[166283] [245200]\n"
     ]
    }
   ],
   "source": [
    "# BGS faint blue\n",
    "igal2 = [166283] #np.random.choice(np.arange(len(sv3_gals))[sv3_fain & ((sv3_gmag - sv3_rmag) < 0.5) & ((sv3_rmag - sv3_zmag) < 0.5) & sv3_gals['ZSUCCESS']], 1)\n",
    "# BGS faint red\n",
    "igal3 = np.random.choice(np.arange(len(sv3_gals))[sv3_fain & ((sv3_gmag - sv3_rmag) > 0.5) & ((sv3_rmag - sv3_zmag) > 1.) & sv3_gals['ZSUCCESS']], 1)\n",
    "print(igal2, igal3)"
   ]
  },
  {
   "cell_type": "code",
   "execution_count": 12,
   "id": "9e708699-c2e9-4542-97c0-53c4f95d7a16",
   "metadata": {},
   "outputs": [],
   "source": [
    "def _trapz_rebin(x, y, edges, results):\n",
    "    '''\n",
    "    Numba-friendly version of trapezoidal rebinning\n",
    "    See redrock.rebin.trapz_rebin() for input descriptions.\n",
    "    `results` is pre-allocated array of length len(edges)-1 to keep results\n",
    "    '''\n",
    "    nbin = len(edges) - 1\n",
    "    i = 0  #- index counter for output\n",
    "    j = 0  #- index counter for inputs\n",
    "    yedge = 0.0\n",
    "    area = 0.0\n",
    "\n",
    "    while i < nbin:\n",
    "        #- Seek next sample beyond bin edge\n",
    "        while x[j] <= edges[i]:\n",
    "            j += 1\n",
    "\n",
    "        #- What is the y value where the interpolation crossed the edge?\n",
    "        yedge = y[j-1] + (edges[i]-x[j-1]) * (y[j]-y[j-1]) / (x[j]-x[j-1])\n",
    "\n",
    "        #- Is this sample inside this bin?\n",
    "        if x[j] < edges[i+1]:\n",
    "            area = 0.5 * (y[j] + yedge) * (x[j] - edges[i])\n",
    "            results[i] += area\n",
    "\n",
    "            #- Continue with interior bins\n",
    "            while x[j+1] < edges[i+1]:\n",
    "                j += 1\n",
    "                area = 0.5 * (y[j] + y[j-1]) * (x[j] - x[j-1])\n",
    "                results[i] += area\n",
    "\n",
    "            #- Next sample will be outside this bin; handle upper edge\n",
    "            yedge = y[j] + (edges[i+1]-x[j]) * (y[j+1]-y[j]) / (x[j+1]-x[j])\n",
    "            area = 0.5 * (yedge + y[j]) * (edges[i+1] - x[j])\n",
    "            results[i] += area\n",
    "\n",
    "        #- Otherwise the samples span over this bin\n",
    "        else:\n",
    "            ylo = y[j] + (edges[i]-x[j]) * (y[j] - y[j-1]) / (x[j] - x[j-1])\n",
    "            yhi = y[j] + (edges[i+1]-x[j]) * (y[j] - y[j-1]) / (x[j] - x[j-1])\n",
    "            area = 0.5 * (ylo+yhi) * (edges[i+1]-edges[i])\n",
    "            results[i] += area\n",
    "\n",
    "        i += 1\n",
    "\n",
    "    for i in range(nbin):\n",
    "        results[i] /= edges[i+1] - edges[i]\n",
    "\n",
    "    return\n",
    "\n",
    "def trapz_rebin(x, y, xnew=None, edges=None):\n",
    "    \"\"\"Rebin y(x) flux density using trapezoidal integration between bin edges\n",
    "    Notes:\n",
    "        y is interpreted as a density, as is the output, e.g.\n",
    "        >>> x = np.arange(10)\n",
    "        >>> y = np.ones(10)\n",
    "        >>> trapz_rebin(x, y, edges=[0,2,4,6,8])  #- density still 1, not 2\n",
    "        array([ 1.,  1.,  1.,  1.])\n",
    "    Args:\n",
    "        x (array): input x values.\n",
    "        y (array): input y values.\n",
    "        edges (array): (optional) new bin edges.\n",
    "    Returns:\n",
    "        array: integrated results with len(results) = len(edges)-1\n",
    "    Raises:\n",
    "        ValueError: if edges are outside the range of x or if len(x) != len(y)\n",
    "    \"\"\"\n",
    "    if edges is None:\n",
    "        edges = centers2edges(xnew)\n",
    "    else:\n",
    "        edges = np.asarray(edges)\n",
    "\n",
    "    if edges[0] < x[0] or x[-1] < edges[-1]:\n",
    "        raise ValueError('edges must be within input x range')\n",
    "\n",
    "    result = np.zeros(len(edges)-1, dtype=np.float64)\n",
    "\n",
    "    _trapz_rebin(x, y, edges, result)\n",
    "\n",
    "    return result\n",
    "\n",
    "def centers2edges(centers):\n",
    "    \"\"\"Convert bin centers to bin edges, guessing at what you probably meant\n",
    "    Args:\n",
    "        centers (array): bin centers,\n",
    "    Returns:\n",
    "        array: bin edges, lenth = len(centers) + 1\n",
    "    \"\"\"\n",
    "    centers = np.asarray(centers)\n",
    "    edges = np.zeros(len(centers)+1)\n",
    "    #- Interior edges are just points half way between bin centers\n",
    "    edges[1:-1] = (centers[0:-1] + centers[1:]) / 2.0\n",
    "    #- edge edges are extrapolation of interior bin sizes\n",
    "    edges[0] = centers[0] - (centers[1]-edges[1])\n",
    "    edges[-1] = centers[-1] + (centers[-1]-edges[-2])\n",
    "\n",
    "    return edges"
   ]
  },
  {
   "cell_type": "code",
   "execution_count": null,
   "id": "1bc5360f-d40d-4bf0-a8b6-be1d136f3bc5",
   "metadata": {},
   "outputs": [
    {
     "name": "stdout",
     "output_type": "stream",
     "text": [
      "/global/cfs/cdirs/desi/spectro/redux/fuji/tiles/perexp/369/00085637/spectra-7-369-exp00085637.fits\n",
      "INFO:spectra.py:285:read_spectra: iotime 0.674 sec to read spectra-7-369-exp00085637.fits at 2022-02-18T06:01:18.035912\n"
     ]
    },
    {
     "name": "stderr",
     "output_type": "stream",
     "text": [
      "/tmp/ipykernel_25602/2075511492.py:12: RuntimeWarning: divide by zero encountered in power\n",
      "  sub.plot(w_bgs, i_bgs**-0.5, c='C1', lw=0.5, alpha=0.2)\n"
     ]
    },
    {
     "name": "stdout",
     "output_type": "stream",
     "text": [
      "/global/cfs/cdirs/desi/spectro/redux/fuji/tiles/perexp/559/00087720/spectra-0-559-exp00087720.fits\n",
      "INFO:spectra.py:285:read_spectra: iotime 0.902 sec to read spectra-0-559-exp00087720.fits at 2022-02-18T06:01:29.246792\n"
     ]
    },
    {
     "name": "stderr",
     "output_type": "stream",
     "text": [
      "/tmp/ipykernel_25602/2075511492.py:28: RuntimeWarning: divide by zero encountered in power\n",
      "  sub.plot(w_bgs, i_bgs**-0.5, c='C1', lw=0.5, alpha=0.2)\n"
     ]
    },
    {
     "name": "stdout",
     "output_type": "stream",
     "text": [
      "/global/cfs/cdirs/desi/spectro/redux/fuji/tiles/perexp/74/00087469/spectra-7-74-exp00087469.fits\n",
      "INFO:spectra.py:285:read_spectra: iotime 0.763 sec to read spectra-7-74-exp00087469.fits at 2022-02-18T06:01:39.624098\n"
     ]
    }
   ],
   "source": [
    "w_coarse = np.linspace(3600., 9824., 800)[1:-1]\n",
    "\n",
    "fig = plt.figure(figsize=(15,15))\n",
    "\n",
    "ginfo = sv3_gals[igal0]['TILEID', 'EXPID', 'PETAL_LOC', 'TARGETID']\n",
    "w_bgs, f_bgs, f_bf, i_bgs = get_spectra(ginfo[0][0], ginfo[0][1], ginfo[0][2], ginfo[0][3])\n",
    "\n",
    "sub = fig.add_subplot(411)\n",
    "sub.plot(w_bgs, f_bgs, c='k', alpha=0.1)\n",
    "sub.plot(w_coarse, trapz_rebin(w_bgs, f_bgs, xnew=w_coarse), c='k', lw=0.8)\n",
    "sub.plot(w_bgs, f_bf, c='C0', ls='--')\n",
    "sub.plot(w_bgs, i_bgs**-0.5, c='C1', lw=0.5, alpha=0.2)\n",
    "sub.text(0.025, 0.95, 'BGS Bright', ha='left', va='top', transform=sub.transAxes, fontsize=25)\n",
    "sub.text(0.975, 0.925, r'$z=%.3f, \\sigma_z=%.1e, \\Delta \\chi^2=%.f$' % (sv3_gals[igal0]['Z'], sv3_gals[igal0]['ZERR'], sv3_gals[igal0]['RR_DELTACHI2']), ha='right', va='top', transform=sub.transAxes, fontsize=15)\n",
    "sub.text(0.975, 0.825, r'$r=%.1f, r_{\\rm fiber}=%.1f$' % (sv3_rmag[igal0], sv3_rfib[igal0]), ha='right', va='top', transform=sub.transAxes, fontsize=15)\n",
    "sub.set_xlim(3.6e3, 9.8e3)\n",
    "sub.set_xticklabels([])\n",
    "sub.set_ylim(-0.5, 20)\n",
    "sub.set_yticks([0., 5., 10., 15.])\n",
    "\n",
    "ginfo = sv3_gals[igal1]['TILEID', 'EXPID', 'PETAL_LOC', 'TARGETID']\n",
    "w_bgs, f_bgs, f_bf, i_bgs = get_spectra(ginfo[0][0], ginfo[0][1], ginfo[0][2], ginfo[0][3])\n",
    "\n",
    "sub = fig.add_subplot(412)\n",
    "sub.plot(w_bgs, f_bgs, c='k', alpha=0.1)\n",
    "sub.plot(w_coarse, trapz_rebin(w_bgs, f_bgs, xnew=w_coarse), c='k', lw=0.8)\n",
    "sub.plot(w_bgs, f_bf, c='C0', ls='--')\n",
    "sub.plot(w_bgs, i_bgs**-0.5, c='C1', lw=0.5, alpha=0.2)\n",
    "sub.text(0.975, 0.925, r'$z=%.3f, \\sigma_z=%.1e, \\Delta \\chi^2=%.f$' % (sv3_gals[igal1]['Z'], sv3_gals[igal1]['ZERR'], sv3_gals[igal1]['RR_DELTACHI2']), ha='right', va='top', transform=sub.transAxes, fontsize=15)\n",
    "sub.text(0.975, 0.825, r'$r=%.1f, r_{\\rm fiber}=%.1f$' % (sv3_rmag[igal1], sv3_rfib[igal1]), ha='right', va='top', transform=sub.transAxes, fontsize=15)\n",
    "sub.set_xlim(3.6e3, 9.8e3)\n",
    "sub.set_xticklabels([])\n",
    "sub.set_ylim(-0.5, 12.5)\n",
    "sub.set_yticks([0., 5., 10.])\n",
    "\n",
    "ginfo = sv3_gals[igal2]['TILEID', 'EXPID', 'PETAL_LOC', 'TARGETID']\n",
    "w_bgs, f_bgs, f_bf, i_bgs = get_spectra(ginfo[0][0], ginfo[0][1], ginfo[0][2], ginfo[0][3])\n",
    "\n",
    "sub = fig.add_subplot(413)\n",
    "sub.plot(w_bgs, f_bgs, c='k', alpha=0.1)\n",
    "sub.plot(w_coarse, trapz_rebin(w_bgs, f_bgs, xnew=w_coarse), c='k', lw=0.8)\n",
    "sub.plot(w_bgs, f_bf, c='C0', ls='--')\n",
    "sub.plot(w_bgs, i_bgs**-0.5, c='C1', lw=0.5, alpha=0.2)\n",
    "sub.text(0.025, 0.95, 'BGS Faint', ha='left', va='top', transform=sub.transAxes, fontsize=25)\n",
    "sub.text(0.975, 0.925, r'$z=%.3f, \\sigma_z=%.1e, \\Delta \\chi^2=%.f$' % (sv3_gals[igal2]['Z'], sv3_gals[igal2]['ZERR'], sv3_gals[igal2]['RR_DELTACHI2']), ha='right', va='top', transform=sub.transAxes, fontsize=15)\n",
    "sub.text(0.975, 0.825, r'$r=%.1f, r_{\\rm fiber}=%.1f$' % (sv3_rmag[igal2], sv3_rfib[igal2]), ha='right', va='top', transform=sub.transAxes, fontsize=15)\n",
    "sub.set_xlim(3.6e3, 9.8e3)\n",
    "sub.set_xticklabels([])\n",
    "sub.set_ylim(-0.5, 15)\n",
    "sub.set_yticks([0., 5., 10.])\n",
    "\n",
    "ginfo = sv3_gals[igal3]['TILEID', 'EXPID', 'PETAL_LOC', 'TARGETID']\n",
    "w_bgs, f_bgs, f_bf, i_bgs = get_spectra(ginfo[0][0], ginfo[0][1], ginfo[0][2], ginfo[0][3])\n",
    "\n",
    "sub = fig.add_subplot(414)\n",
    "sub.plot(w_bgs, f_bgs, c='k', alpha=0.1)\n",
    "sub.plot(w_coarse, trapz_rebin(w_bgs, f_bgs, xnew=w_coarse), c='k', lw=0.8)\n",
    "sub.plot(w_bgs, f_bf, c='C0', ls='--')\n",
    "sub.plot(w_bgs, i_bgs**-0.5, c='C1', alpha=0.2)\n",
    "\n",
    "sub.text(0.975, 0.925, r'$z=%.3f, \\sigma_z=%.1e, \\Delta \\chi^2=%.f$' % (sv3_gals[igal3]['Z'], sv3_gals[igal3]['ZERR'], sv3_gals[igal3]['RR_DELTACHI2']), ha='right', va='top', transform=sub.transAxes, fontsize=15)\n",
    "sub.text(0.975, 0.825, r'$r=%.1f, r_{\\rm fiber}=%.1f$' % (sv3_rmag[igal3], sv3_rfib[igal3]), ha='right', va='top', transform=sub.transAxes, fontsize=15)\n",
    "sub.set_xlim(3.6e3, 9.8e3)\n",
    "sub.set_ylim(-0.5, 12.5)\n",
    "sub.set_yticks([0., 5., 10.])\n",
    "\n",
    "bkgd = fig.add_subplot(111, frameon=False)\n",
    "bkgd.set_xlabel('Wavelength [$\\AA$]', labelpad=10, fontsize=25) \n",
    "bkgd.set_ylabel(r'Flux [$erg/s/cm^2/\\AA$]', labelpad=15, fontsize=25)\n",
    "bkgd.tick_params(labelcolor='none', top=False, bottom=False, left=False, right=False)\n",
    "\n",
    "fig.subplots_adjust(wspace=0.1, hspace=0.0)\n",
    "fig.savefig('figs/bgs_spectra.pdf', bbox_inches='tight')"
   ]
  },
  {
   "cell_type": "code",
   "execution_count": null,
   "id": "96ffaa6d-3982-49ea-be2c-d13f1daba0ca",
   "metadata": {},
   "outputs": [],
   "source": []
  }
 ],
 "metadata": {
  "kernelspec": {
   "display_name": "DESI master",
   "language": "python",
   "name": "desi-master"
  },
  "language_info": {
   "codemirror_mode": {
    "name": "ipython",
    "version": 3
   },
   "file_extension": ".py",
   "mimetype": "text/x-python",
   "name": "python",
   "nbconvert_exporter": "python",
   "pygments_lexer": "ipython3",
   "version": "3.9.7"
  }
 },
 "nbformat": 4,
 "nbformat_minor": 5
}
