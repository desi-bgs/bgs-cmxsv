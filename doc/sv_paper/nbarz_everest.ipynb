{
 "cells": [
  {
   "cell_type": "code",
   "execution_count": 2,
   "id": "08854552",
   "metadata": {},
   "outputs": [],
   "source": [
    "import os\n",
    "import h5py\n",
    "import sv as SV\n",
    "import numpy as np\n",
    "import astropy.table as atable\n",
    "from astropy.cosmology import FlatLambdaCDM\n",
    "\n",
    "from desitarget.sv1.sv1_targetmask import bgs_mask as sv1_bgs_mask\n",
    "from desitarget.sv3.sv3_targetmask import bgs_mask as sv3_bgs_mask"
   ]
  },
  {
   "cell_type": "code",
   "execution_count": 3,
   "id": "257434e1",
   "metadata": {},
   "outputs": [],
   "source": [
    "# -- plotting -- \n",
    "import matplotlib as mpl\n",
    "import matplotlib.pyplot as plt\n",
    "mpl.rcParams['text.usetex'] = True\n",
    "mpl.rcParams['font.family'] = 'serif'\n",
    "mpl.rcParams['axes.linewidth'] = 1.5\n",
    "mpl.rcParams['axes.xmargin'] = 1\n",
    "mpl.rcParams['xtick.labelsize'] = 'x-large'\n",
    "mpl.rcParams['xtick.major.size'] = 5\n",
    "mpl.rcParams['xtick.major.width'] = 1.5\n",
    "mpl.rcParams['ytick.labelsize'] = 'x-large'\n",
    "mpl.rcParams['ytick.major.size'] = 5\n",
    "mpl.rcParams['ytick.major.width'] = 1.5\n",
    "mpl.rcParams['legend.frameon'] = False"
   ]
  },
  {
   "cell_type": "code",
   "execution_count": 23,
   "id": "c1cd9250",
   "metadata": {},
   "outputs": [],
   "source": [
    "#dat_dir = '/Users/chahah/data/bgs_cmxsv/sv_paper/'\n",
    "#sv1 = atable.Table.read(os.path.join(dat_dir, 'ztile-sv1-bright-cumulative.fits'))\n",
    "sv3 = atable.Table.read('/global/cfs/cdirs/desi/survey/catalogs/SV3/LSS/everest/LSScats/2.1/BGS_ANY_full.dat.fits')   "
   ]
  },
  {
   "cell_type": "code",
   "execution_count": 24,
   "id": "9085999a-21c8-4388-aa34-603e06ed01c5",
   "metadata": {},
   "outputs": [
    {
     "data": {
      "text/html": [
       "<i>Table length=2</i>\n",
       "<table id=\"table46913637623216\" class=\"table-striped table-bordered table-condensed\">\n",
       "<thead><tr><th>RA</th><th>DEC</th><th>TARGETID</th><th>PRIORITY_INIT</th><th>ZWARN_MTL</th><th>TARGET_STATE</th><th>TIMESTAMP</th><th>LOCATION</th><th>TILEID</th><th>TILELOCID</th><th>CHI2</th><th>COEFF [10]</th><th>Z</th><th>ZERR</th><th>ZWARN</th><th>NPIXELS</th><th>SPECTYPE</th><th>SUBTYPE</th><th>NCOEFF</th><th>DELTACHI2</th><th>FIBER</th><th>COADD_FIBERSTATUS</th><th>FIBERASSIGN_X</th><th>FIBERASSIGN_Y</th><th>COADD_NUMEXP</th><th>COADD_EXPTIME</th><th>COADD_NUMNIGHT</th><th>MEAN_DELTA_X</th><th>RMS_DELTA_X</th><th>MEAN_DELTA_Y</th><th>RMS_DELTA_Y</th><th>MEAN_PSF_TO_FIBER_SPECFLUX</th><th>TSNR2_ELG_B</th><th>TSNR2_LYA_B</th><th>TSNR2_BGS_B</th><th>TSNR2_QSO_B</th><th>TSNR2_LRG_B</th><th>TSNR2_ELG_R</th><th>TSNR2_LYA_R</th><th>TSNR2_BGS_R</th><th>TSNR2_QSO_R</th><th>TSNR2_LRG_R</th><th>TSNR2_ELG_Z</th><th>TSNR2_LYA_Z</th><th>TSNR2_BGS_Z</th><th>TSNR2_QSO_Z</th><th>TSNR2_LRG_Z</th><th>TSNR2_ELG</th><th>TSNR2_LYA</th><th>TSNR2_BGS</th><th>TSNR2_QSO</th><th>TSNR2_LRG</th><th>SV3_DESI_TARGET</th><th>SV3_BGS_TARGET</th><th>SV3_MWS_TARGET</th><th>RELEASE</th><th>BRICKID</th><th>BRICKNAME</th><th>BRICK_OBJID</th><th>MORPHTYPE</th><th>EBV</th><th>FLUX_G</th><th>FLUX_R</th><th>FLUX_Z</th><th>FLUX_IVAR_G</th><th>FLUX_IVAR_R</th><th>FLUX_IVAR_Z</th><th>MW_TRANSMISSION_G</th><th>MW_TRANSMISSION_R</th><th>MW_TRANSMISSION_Z</th><th>FRACFLUX_G</th><th>FRACFLUX_R</th><th>FRACFLUX_Z</th><th>FRACMASKED_G</th><th>FRACMASKED_R</th><th>FRACMASKED_Z</th><th>FRACIN_G</th><th>FRACIN_R</th><th>FRACIN_Z</th><th>NOBS_G</th><th>NOBS_R</th><th>NOBS_Z</th><th>PSFDEPTH_G</th><th>PSFDEPTH_R</th><th>PSFDEPTH_Z</th><th>GALDEPTH_G</th><th>GALDEPTH_R</th><th>GALDEPTH_Z</th><th>FLUX_W1</th><th>FLUX_W2</th><th>FLUX_IVAR_W1</th><th>FLUX_IVAR_W2</th><th>MW_TRANSMISSION_W1</th><th>MW_TRANSMISSION_W2</th><th>ALLMASK_G</th><th>ALLMASK_R</th><th>ALLMASK_Z</th><th>FIBERFLUX_G</th><th>FIBERFLUX_R</th><th>FIBERFLUX_Z</th><th>FIBERTOTFLUX_G</th><th>FIBERTOTFLUX_R</th><th>FIBERTOTFLUX_Z</th><th>WISEMASK_W1</th><th>WISEMASK_W2</th><th>MASKBITS</th><th>PHOTSYS</th><th>NTILE</th><th>TILES</th><th>TILELOCIDS</th><th>LOCATION_ASSIGNED</th><th>TILELOCID_ASSIGNED</th><th>sort</th><th>COMP_TILE</th><th>rosette_number</th><th>rosette_r</th><th>FRACZ_TILELOCID</th><th>BITWEIGHTS [2]</th><th>PROB_OBS</th></tr></thead>\n",
       "<thead><tr><th>float64</th><th>float64</th><th>int64</th><th>int64</th><th>int64</th><th>bytes30</th><th>bytes25</th><th>int64</th><th>int64</th><th>int64</th><th>float64</th><th>float64</th><th>float64</th><th>float64</th><th>int64</th><th>int64</th><th>bytes6</th><th>bytes20</th><th>int64</th><th>float64</th><th>int32</th><th>int32</th><th>float32</th><th>float32</th><th>int16</th><th>float32</th><th>int16</th><th>float32</th><th>float32</th><th>float32</th><th>float32</th><th>float32</th><th>float32</th><th>float32</th><th>float32</th><th>float32</th><th>float32</th><th>float32</th><th>float32</th><th>float32</th><th>float32</th><th>float32</th><th>float32</th><th>float32</th><th>float32</th><th>float32</th><th>float32</th><th>float32</th><th>float32</th><th>float32</th><th>float32</th><th>float32</th><th>int64</th><th>int64</th><th>int64</th><th>int16</th><th>int32</th><th>bytes8</th><th>int32</th><th>bytes4</th><th>float32</th><th>float32</th><th>float32</th><th>float32</th><th>float32</th><th>float32</th><th>float32</th><th>float32</th><th>float32</th><th>float32</th><th>float32</th><th>float32</th><th>float32</th><th>float32</th><th>float32</th><th>float32</th><th>float32</th><th>float32</th><th>float32</th><th>int16</th><th>int16</th><th>int16</th><th>float32</th><th>float32</th><th>float32</th><th>float32</th><th>float32</th><th>float32</th><th>float32</th><th>float32</th><th>float32</th><th>float32</th><th>float32</th><th>float32</th><th>int16</th><th>int16</th><th>int16</th><th>float32</th><th>float32</th><th>float32</th><th>float32</th><th>float32</th><th>float32</th><th>uint8</th><th>uint8</th><th>int16</th><th>bytes1</th><th>int64</th><th>bytes43</th><th>bytes143</th><th>bool</th><th>int64</th><th>float64</th><th>float64</th><th>float64</th><th>float64</th><th>float64</th><th>int64</th><th>float64</th></tr></thead>\n",
       "<tr><td>212.0643478639728</td><td>-2.1391282868340644</td><td>39627733927462189</td><td>102000</td><td>-1</td><td>BGS|UNOBS</td><td>2021-04-04T23:14:10</td><td>1464</td><td>532</td><td>5321464</td><td>1e+20</td><td>1e+20 .. 1e+20</td><td>1e+20</td><td>1e+20</td><td>999999</td><td>999999</td><td>N/A</td><td>N/A</td><td>999999</td><td>1e+20</td><td>999999</td><td>999999</td><td>1e+20</td><td>1e+20</td><td>16959</td><td>1e+20</td><td>16959</td><td>1e+20</td><td>1e+20</td><td>1e+20</td><td>1e+20</td><td>1e+20</td><td>1e+20</td><td>1e+20</td><td>1e+20</td><td>1e+20</td><td>1e+20</td><td>1e+20</td><td>1e+20</td><td>1e+20</td><td>1e+20</td><td>1e+20</td><td>1e+20</td><td>1e+20</td><td>1e+20</td><td>1e+20</td><td>1e+20</td><td>1e+20</td><td>1e+20</td><td>1e+20</td><td>1e+20</td><td>1e+20</td><td>1152921504606846976</td><td>65537</td><td>0</td><td>9010</td><td>318256</td><td>2121m022</td><td>1325</td><td>EXP</td><td>0.0587148</td><td>6.555222</td><td>13.3910675</td><td>21.741327</td><td>295.16772</td><td>85.85878</td><td>8.545478</td><td>0.84045845</td><td>0.8895144</td><td>0.9366095</td><td>0.02381601</td><td>0.017788103</td><td>-0.0844763</td><td>0.012733676</td><td>0.3003631</td><td>0.36684817</td><td>1.0</td><td>1.0000001</td><td>0.666957</td><td>3</td><td>3</td><td>2</td><td>1462.4911</td><td>668.6921</td><td>40.75251</td><td>965.37305</td><td>431.55347</td><td>21.303154</td><td>22.15747</td><td>12.764697</td><td>2.3427615</td><td>0.5372147</td><td>0.99009895</td><td>0.9939078</td><td>0</td><td>0</td><td>0</td><td>1.4418324</td><td>2.9453886</td><td>4.782043</td><td>1.4418327</td><td>2.945389</td><td>4.782043</td><td>0</td><td>0</td><td>0</td><td>S</td><td>1</td><td>532</td><td>5321464</td><td>False</td><td>1</td><td>1.0</td><td>0.5111111111111111</td><td>17.0</td><td>1.705801337775986</td><td>0.3333333333333333</td><td>-9077849473895366652 .. -9079256848778624000</td><td>0.078125</td></tr>\n",
       "<tr><td>212.0693218972628</td><td>-2.1273874843538465</td><td>39627733927462296</td><td>102000</td><td>-1</td><td>BGS|UNOBS</td><td>2021-04-04T23:14:10</td><td>1442</td><td>526</td><td>5261442</td><td>8824.427839040756</td><td>482.5054537013926 .. 15.800043757133652</td><td>0.21160434706356537</td><td>6.260086188727184e-06</td><td>0</td><td>7906</td><td>GALAXY</td><td></td><td>10</td><td>1726.4296572208405</td><td>515</td><td>0</td><td>161.5416</td><td>-367.17703</td><td>1</td><td>313.4244</td><td>1</td><td>0.004</td><td>0.004</td><td>0.004</td><td>0.004</td><td>0.7561018</td><td>0.017502658</td><td>9.639565</td><td>107.33459</td><td>0.45401272</td><td>0.20817538</td><td>6.0370417</td><td>0.008192336</td><td>535.1761</td><td>1.756967</td><td>8.558108</td><td>18.528126</td><td>0.0</td><td>958.16797</td><td>3.995762</td><td>9.203174</td><td>24.58267</td><td>9.647758</td><td>1600.6787</td><td>6.206742</td><td>17.969458</td><td>5764607523034234880</td><td>65537</td><td>0</td><td>9010</td><td>318256</td><td>2121m022</td><td>1432</td><td>REX</td><td>0.058680348</td><td>7.6130943</td><td>13.706715</td><td>19.975285</td><td>456.75</td><td>218.06201</td><td>36.457344</td><td>0.84054416</td><td>0.8895755</td><td>0.93664545</td><td>0.009103314</td><td>0.011520403</td><td>0.0125142215</td><td>0.0022773708</td><td>0.0023142737</td><td>0.004421474</td><td>0.9996048</td><td>0.99950814</td><td>0.9990608</td><td>3</td><td>3</td><td>3</td><td>1462.4911</td><td>668.6921</td><td>105.995514</td><td>965.37305</td><td>431.55347</td><td>59.898125</td><td>15.7160845</td><td>8.897286</td><td>2.7090147</td><td>0.5995733</td><td>0.99010473</td><td>0.9939113</td><td>0</td><td>0</td><td>0</td><td>3.005784</td><td>5.411653</td><td>7.8865952</td><td>3.0074072</td><td>5.4155354</td><td>7.8927546</td><td>0</td><td>0</td><td>0</td><td>S</td><td>2</td><td>526-532</td><td>5261442-5321464</td><td>True</td><td>1</td><td>1601.6787109375</td><td>0.7435897435897436</td><td>17.0</td><td>1.6930649649952991</td><td>1.0</td><td>5279473871837051085 .. -5840620310655548443</td><td>0.5546875</td></tr>\n",
       "</table>"
      ],
      "text/plain": [
       "<Table length=2>\n",
       "        RA                DEC         ...  PROB_OBS\n",
       "     float64            float64       ...  float64 \n",
       "----------------- ------------------- ... ---------\n",
       "212.0643478639728 -2.1391282868340644 ...  0.078125\n",
       "212.0693218972628 -2.1273874843538465 ... 0.5546875"
      ]
     },
     "execution_count": 24,
     "metadata": {},
     "output_type": "execute_result"
    }
   ],
   "source": [
    "sv3[:2]"
   ]
  },
  {
   "cell_type": "code",
   "execution_count": 6,
   "id": "3202fef4",
   "metadata": {},
   "outputs": [],
   "source": [
    "# sv1_bright = (sv1['SV1_BGS_TARGET'] & sv1_bgs_mask['BGS_BRIGHT']) != 0 \n",
    "# sv1_faint  = (sv1['SV1_BGS_TARGET'] & sv1_bgs_mask['BGS_FAINT']) != 0 \n",
    "\n",
    "sv3_bright = (sv3['SV3_BGS_TARGET'] & sv3_bgs_mask['BGS_BRIGHT']) != 0 \n",
    "sv3_faint  = (sv3['SV3_BGS_TARGET'] & sv3_bgs_mask['BGS_FAINT']) != 0 "
   ]
  },
  {
   "cell_type": "code",
   "execution_count": 14,
   "id": "fa7da4aa",
   "metadata": {},
   "outputs": [
    {
     "name": "stdout",
     "output_type": "stream",
     "text": [
      "0.9288539635974223\n"
     ]
    }
   ],
   "source": [
    "# sv1_cuts = ((sv1['Z'] != 1e20) & (sv1['ZWARN'] == 0) & (sv1['DELTACHI2'] > 15))\n",
    "sv3_cuts = ((sv3['Z'] != 1e20) & (sv3['ZWARN'] == 0) & (sv3['DELTACHI2'] > 40))\n",
    "print(np.mean(sv3_cuts))"
   ]
  },
  {
   "cell_type": "code",
   "execution_count": 15,
   "id": "e576cfbf",
   "metadata": {},
   "outputs": [
    {
     "name": "stdout",
     "output_type": "stream",
     "text": [
      "SV3: 246333 redshifts\n"
     ]
    }
   ],
   "source": [
    "# print('SV1: %i redshifts' % np.sum(sv1_cuts))\n",
    "print('SV3: %i redshifts' % np.sum(sv3_cuts))"
   ]
  },
  {
   "cell_type": "code",
   "execution_count": 16,
   "id": "036a0815",
   "metadata": {},
   "outputs": [],
   "source": [
    "def stephist(nh, _edges):\n",
    "    bin_edges = np.sort(list(_edges) + list(_edges[1:-1]))\n",
    "    return bin_edges, np.array([[x, x] for x in nh]).flatten()"
   ]
  },
  {
   "cell_type": "code",
   "execution_count": 29,
   "id": "662e4778",
   "metadata": {},
   "outputs": [
    {
     "data": {
      "image/png": "[encoded data removed]",
      "text/plain": [
       "<Figure size 864x432 with 2 Axes>"
      ]
     },
     "metadata": {
      "needs_background": "light"
     },
     "output_type": "display_data"
    }
   ],
   "source": [
    "fig = plt.figure(figsize=(12,6))\n",
    "sub = fig.add_subplot(121)\n",
    "\n",
    "# nh, edges = np.histogram(sv1['Z'][sv1_bright & sv1_cuts], range=(0., 0.6), bins=30)\n",
    "# bin_edges, nhist0 = stephist(nh, edges)\n",
    "\n",
    "# sub.fill_between(bin_edges, np.zeros(len(bin_edges)), nhist0, facecolor='C0', hatch='/')\n",
    "# sub.plot(bin_edges, nhist0, c='k')\n",
    "\n",
    "\n",
    "nh, edges = np.histogram(sv3['Z'][sv3_bright & sv3_cuts], range=(0., 0.6), bins=30)\n",
    "bin_edges, nhist1 = stephist(nh, edges)\n",
    "nhist0 = np.zeros(len(bin_edges))\n",
    "sub.fill_between(bin_edges, nhist0, nhist0 + nhist1, facecolor='C0')\n",
    "\n",
    "sub.text(0.05, 0.95, 'BGS Bright', ha='left', va='top', transform=sub.transAxes, fontsize=25)\n",
    "sub.set_xlabel('$z$', fontsize=25)\n",
    "sub.set_xlim(0., 0.7)\n",
    "sub.set_ylabel(r'${\\rm d}N/{\\rm d}z$', fontsize=25)\n",
    "sub.set_ylim(0., 1.6e4)\n",
    "\n",
    "sub = fig.add_subplot(122)\n",
    "\n",
    "# nh, edges = np.histogram(sv1['Z'][sv1_faint & sv1_cuts], range=(0., 0.7), bins=35)\n",
    "# bin_edges, nhist0 = stephist(nh, edges)\n",
    "\n",
    "# sub.fill_between(bin_edges, np.zeros(len(bin_edges)), nhist0, facecolor='C1', hatch='/', label='SV1')\n",
    "# sub.plot(bin_edges, nhist0, c='k')\n",
    "\n",
    "nh, edges = np.histogram(sv3['Z'][sv3_faint & sv3_cuts], range=(0., 0.7), bins=35)\n",
    "bin_edges, nhist1 = stephist(nh, edges)\n",
    "nhist0 = np.zeros(len(bin_edges))\n",
    "sub.fill_between(bin_edges, nhist0, nhist0 + nhist1, facecolor='C1', label=r'$1\\%$')\n",
    "\n",
    "sub.text(0.05, 0.95, 'BGS Faint', ha='left', va='top', transform=sub.transAxes, fontsize=25)\n",
    "sub.text(0.95, 0.95, '1\\%', ha='right', va='top', transform=sub.transAxes, fontsize=25)\n",
    "\n",
    "#sub.legend(loc='upper right', handletextpad=0.2, fontsize=25)\n",
    "sub.set_xlabel('redshift ($z$)', fontsize=25)\n",
    "sub.set_xlim(0., 0.7)\n",
    "sub.set_yticklabels([])\n",
    "sub.set_ylim(0., 1.6e4)\n",
    "\n",
    "fig.subplots_adjust(wspace=0.1)\n",
    "fig.savefig('figs/dndz.pdf', bbox_inches='tight')"
   ]
  },
  {
   "cell_type": "code",
   "execution_count": 31,
   "id": "0d9c7684-e389-45fc-9028-d92cc3cdf75b",
   "metadata": {},
   "outputs": [],
   "source": [
    "zlow, zhigh, volz = np.loadtxt('/global/cfs/cdirs/desi/survey/catalogs/SV3/LSS/everest/LSScats/2.1/BGS_ANY_nz.dat', skiprows=2, unpack=True, usecols=[1, 2, 5])"
   ]
  },
  {
   "cell_type": "code",
   "execution_count": 34,
   "id": "c09f8e69-8e0e-47d1-b036-39da0b4ba365",
   "metadata": {},
   "outputs": [],
   "source": [
    "zlim = (zlow < 0.7)\n",
    "\n",
    "zlow = zlow[zlim]\n",
    "zhigh = zhigh[zlim]\n",
    "volz = volz[zlim]"
   ]
  },
  {
   "cell_type": "code",
   "execution_count": 45,
   "id": "736dbde0-8a60-4462-865d-a5e972252395",
   "metadata": {},
   "outputs": [],
   "source": [
    "nz_all, zedges = np.histogram(sv3['Z'][sv3_cuts], bins=np.array(list(zlow)+[zhigh[-1]]))\n",
    "nz_bright, _ = np.histogram(sv3['Z'][sv3_bright & sv3_cuts], bins=np.array(list(zlow)+[zhigh[-1]]))\n",
    "nz_faint, _ = np.histogram(sv3['Z'][sv3_faint & sv3_cuts], bins=np.array(list(zlow)+[zhigh[-1]]))\n",
    "\n",
    "nz_all = nz_all.astype(float) / volz\n",
    "nz_bright = nz_bright.astype(float) / volz\n",
    "nz_faint = nz_faint.astype(float) / volz"
   ]
  },
  {
   "cell_type": "code",
   "execution_count": 87,
   "id": "59a9d529-3b1c-4a0c-a196-b722faa60f03",
   "metadata": {},
   "outputs": [],
   "source": [
    "# SDSS MGS n(z)\n",
    "sdss_dr16 = atable.Table.read('/global/cscratch1/sd/chahah/bgs-cmxsv/sv-paper/specObj-dr16.fits')\n",
    "is_mgs = ((sdss_dr16['LEGACY_TARGET1']  & (64 | 128 | 256)) > 0)\n",
    "nz_mgs, _ = np.histogram(sdss_dr16['Z'][is_mgs], bins=np.array(list(zlow)+[zhigh[-1]]))\n",
    "nz_mgs = nz_mgs.astype(float) / (volz / 168.8 * 7500.)"
   ]
  },
  {
   "cell_type": "code",
   "execution_count": 83,
   "id": "a1ab3e52-5d88-464b-9e22-15bc6c83acd1",
   "metadata": {},
   "outputs": [
    {
     "data": {
      "image/png": "[encoded data removed]",
      "text/plain": [
       "<Figure size 576x432 with 1 Axes>"
      ]
     },
     "metadata": {
      "needs_background": "light"
     },
     "output_type": "display_data"
    }
   ],
   "source": [
    "fig = plt.figure(figsize=(8,6))\n",
    "sub = fig.add_subplot(111)\n",
    "\n",
    "bin_edges, nhist = stephist(nz_all, zedges)\n",
    "sub.plot(bin_edges, nhist, c='k', label='BGS ($1\\%$)')\n",
    "\n",
    "bin_edges, nhist = stephist(nz_bright, zedges)\n",
    "sub.plot(bin_edges, nhist, c='C0', label='BGS Bright')\n",
    "\n",
    "bin_edges, nhist = stephist(nz_faint, zedges)\n",
    "sub.plot(bin_edges, nhist, c='C1', label='BGS Faint')\n",
    "\n",
    "bin_edges, nhist = stephist(nz_mgs, zedges)\n",
    "_sdss, = sub.plot(bin_edges, nhist, c='k', ls='--', lw=1)#, label='SDSS MGS')\n",
    "_lowz = sub.axhline(3e-4, color='k', linestyle=':')#, label='BOSS LOWZ')\n",
    "\n",
    "legend1 = sub.legend(loc='upper right', handletextpad=0.2, fontsize=25)\n",
    "fig.gca().add_artist(legend1)\n",
    "legend2 = sub.legend([_sdss, _lowz], ['SDSS MGS', 'BOSS LOWZ'], loc='lower left', handletextpad=0.2, fontsize=20)\n",
    "fig.gca().add_artist(legend2)\n",
    "\n",
    "\n",
    "sub.set_xlabel('$z$', fontsize=25)\n",
    "sub.set_xlim(0., 0.7)\n",
    "sub.set_ylabel(r'$\\bar{n}(z)$ [$({\\rm Mpc}/h)^{-3}$]', fontsize=25)\n",
    "sub.set_yscale('log')\n",
    "sub.set_ylim(1e-6, None)\n",
    "fig.savefig('figs/nofz.pdf', bbox_inches='tight')"
   ]
  },
  {
   "cell_type": "code",
   "execution_count": 90,
   "id": "764bf928-dc90-49c8-8d43-03dd50380552",
   "metadata": {},
   "outputs": [
    {
     "name": "stdout",
     "output_type": "stream",
     "text": [
      ".DEEP_QSO                   .\n",
      ".ELG_NGC                    .\n",
      ".ELG_SGC                    .\n",
      ".Orion_Taurus               .\n",
      ".RM                         .\n",
      ".SEGUE_GES                  .\n",
      ".SEQUELS_ELG                .\n",
      ".XMMXLL                     .\n",
      ".apbias                     .\n",
      ".boss                       .\n",
      ".boss_lofar                 .\n",
      ".commissioning              .\n",
      ".disk                       .\n",
      ".eboss                      .\n",
      ".fstars                     .\n",
      ".hyades                     .\n",
      ".legacy                     .\n",
      ".lowz                       .\n",
      ".lowz_loveday               .\n",
      ".lowz_lrg                   .\n",
      ".m31_fstars                 .\n",
      ".msturnoff                  .\n",
      ".orion                      .\n",
      ".perseus                    .\n",
      ".photoz                     .\n",
      ".preboss                    .\n",
      ".premarvels_preselection    .\n",
      ".reddening                  .\n",
      ".segcluster                 .\n",
      ".segclusterf                .\n",
      ".seglowlat                  .\n",
      ".seglowlatf                 .\n",
      ".segpointed                 .\n",
      ".segpointedf                .\n",
      ".segtest                    .\n",
      ".segtestf                   .\n",
      ".segue                      .\n",
      ".segue2                     .\n",
      ".seguefaint                 .\n",
      ".sequels                    .\n",
      ".southern                   .\n",
      ".special_elg                .\n",
      ".special_plates_NGC         .\n",
      ".special_plates_S82         .\n",
      ".special_plates_TDSS_SPIDERS.\n",
      ".special_plates_W1          .\n",
      ".special_plates_W3          .\n",
      ".special_sky                .\n",
      ".taurus                     .\n"
     ]
    }
   ],
   "source": [
    "for name in np.unique(sdss_dr16['PROGRAMNAME']):\n",
    "    print('.%s.' % name)"
   ]
  },
  {
   "cell_type": "code",
   "execution_count": null,
   "id": "8dcaecac-8b8e-4d49-9124-95a5352cb956",
   "metadata": {},
   "outputs": [],
   "source": []
  }
 ],
 "metadata": {
  "kernelspec": {
   "display_name": "DESI master",
   "language": "python",
   "name": "desi-master"
  },
  "language_info": {
   "codemirror_mode": {
    "name": "ipython",
    "version": 3
   },
   "file_extension": ".py",
   "mimetype": "text/x-python",
   "name": "python",
   "nbconvert_exporter": "python",
   "pygments_lexer": "ipython3",
   "version": "3.8.3"
  }
 },
 "nbformat": 4,
 "nbformat_minor": 5
}
