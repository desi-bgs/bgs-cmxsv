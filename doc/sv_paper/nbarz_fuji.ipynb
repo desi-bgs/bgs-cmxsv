{
 "cells": [
  {
   "cell_type": "code",
   "execution_count": 1,
   "id": "08854552",
   "metadata": {},
   "outputs": [],
   "source": [
    "import os\n",
    "import h5py\n",
    "import sv as SV\n",
    "import numpy as np\n",
    "import astropy.table as atable\n",
    "from astropy.cosmology import FlatLambdaCDM\n",
    "\n",
    "from desitarget.sv1.sv1_targetmask import bgs_mask as sv1_bgs_mask\n",
    "from desitarget.sv3.sv3_targetmask import bgs_mask as sv3_bgs_mask\n",
    "from desitarget.targetmask import bgs_mask as main_bgs_mask"
   ]
  },
  {
   "cell_type": "code",
   "execution_count": 2,
   "id": "257434e1",
   "metadata": {},
   "outputs": [],
   "source": [
    "# -- plotting -- \n",
    "import matplotlib as mpl\n",
    "import matplotlib.pyplot as plt\n",
    "mpl.rcParams['text.usetex'] = True\n",
    "mpl.rcParams['font.family'] = 'serif'\n",
    "mpl.rcParams['axes.linewidth'] = 1.5\n",
    "mpl.rcParams['axes.xmargin'] = 1\n",
    "mpl.rcParams['xtick.labelsize'] = 'x-large'\n",
    "mpl.rcParams['xtick.major.size'] = 5\n",
    "mpl.rcParams['xtick.major.width'] = 1.5\n",
    "mpl.rcParams['ytick.labelsize'] = 'x-large'\n",
    "mpl.rcParams['ytick.major.size'] = 5\n",
    "mpl.rcParams['ytick.major.width'] = 1.5\n",
    "mpl.rcParams['legend.frameon'] = False"
   ]
  },
  {
   "cell_type": "code",
   "execution_count": 3,
   "id": "c1cd9250",
   "metadata": {},
   "outputs": [
    {
     "name": "stderr",
     "output_type": "stream",
     "text": [
      "WARNING: hdu= was not specified but multiple tables are present, reading in first available table (hdu=1) [astropy.io.fits.connect]\n"
     ]
    }
   ],
   "source": [
    "dir_fuji = '/global/cfs/cdirs/desi/spectro/redux/fuji/zcatalog/'\n",
    "dir_guad = '/global/cfs/cdirs/desi/spectro/redux/guadalupe/zcatalog/'\n",
    "sv1 = atable.Table.read(os.path.join(dir_fuji, 'ztile-sv1-bright-cumulative.fits'))\n",
    "sv3 = atable.Table.read(os.path.join(dir_fuji, 'ztile-sv3-bright-cumulative.fits'))\n",
    "main = atable.Table.read(os.path.join(dir_guad, 'ztile-main-bright-cumulative.fits'))"
   ]
  },
  {
   "cell_type": "code",
   "execution_count": 4,
   "id": "9085999a-21c8-4388-aa34-603e06ed01c5",
   "metadata": {},
   "outputs": [
    {
     "data": {
      "text/html": [
       "<div><i>Table length=2</i>\n",
       "<table id=\"table23453707944240\" class=\"table-striped table-bordered table-condensed\">\n",
       "<thead><tr><th>TARGETID</th><th>LASTNIGHT</th><th>SPGRPVAL</th><th>Z</th><th>ZERR</th><th>ZWARN</th><th>CHI2</th><th>COEFF [10]</th><th>NPIXELS</th><th>SPECTYPE</th><th>SUBTYPE</th><th>NCOEFF</th><th>DELTACHI2</th><th>PETAL_LOC</th><th>DEVICE_LOC</th><th>LOCATION</th><th>FIBER</th><th>COADD_FIBERSTATUS</th><th>TARGET_RA</th><th>TARGET_DEC</th><th>PMRA</th><th>PMDEC</th><th>REF_EPOCH</th><th>LAMBDA_REF</th><th>FA_TARGET</th><th>FA_TYPE</th><th>OBJTYPE</th><th>FIBERASSIGN_X</th><th>FIBERASSIGN_Y</th><th>PRIORITY</th><th>SUBPRIORITY</th><th>OBSCONDITIONS</th><th>RELEASE</th><th>BRICKNAME</th><th>BRICKID</th><th>BRICK_OBJID</th><th>MORPHTYPE</th><th>EBV</th><th>FLUX_G</th><th>FLUX_R</th><th>FLUX_Z</th><th>FLUX_W1</th><th>FLUX_W2</th><th>FLUX_IVAR_G</th><th>FLUX_IVAR_R</th><th>FLUX_IVAR_Z</th><th>FLUX_IVAR_W1</th><th>FLUX_IVAR_W2</th><th>FIBERFLUX_G</th><th>FIBERFLUX_R</th><th>FIBERFLUX_Z</th><th>FIBERTOTFLUX_G</th><th>FIBERTOTFLUX_R</th><th>FIBERTOTFLUX_Z</th><th>MASKBITS</th><th>SERSIC</th><th>SHAPE_R</th><th>SHAPE_E1</th><th>SHAPE_E2</th><th>REF_ID</th><th>REF_CAT</th><th>GAIA_PHOT_G_MEAN_MAG</th><th>GAIA_PHOT_BP_MEAN_MAG</th><th>GAIA_PHOT_RP_MEAN_MAG</th><th>PARALLAX</th><th>PHOTSYS</th><th>PRIORITY_INIT</th><th>NUMOBS_INIT</th><th>SV3_DESI_TARGET</th><th>SV3_BGS_TARGET</th><th>SV3_MWS_TARGET</th><th>SV3_SCND_TARGET</th><th>DESI_TARGET</th><th>BGS_TARGET</th><th>MWS_TARGET</th><th>PLATE_RA</th><th>PLATE_DEC</th><th>TILEID</th><th>COADD_NUMEXP</th><th>COADD_EXPTIME</th><th>COADD_NUMNIGHT</th><th>COADD_NUMTILE</th><th>MEAN_DELTA_X</th><th>RMS_DELTA_X</th><th>MEAN_DELTA_Y</th><th>RMS_DELTA_Y</th><th>MEAN_FIBER_RA</th><th>STD_FIBER_RA</th><th>MEAN_FIBER_DEC</th><th>STD_FIBER_DEC</th><th>MEAN_PSF_TO_FIBER_SPECFLUX</th><th>MEAN_FIBER_X</th><th>MEAN_FIBER_Y</th><th>TSNR2_GPBDARK_B</th><th>TSNR2_ELG_B</th><th>TSNR2_GPBBRIGHT_B</th><th>TSNR2_LYA_B</th><th>TSNR2_BGS_B</th><th>TSNR2_GPBBACKUP_B</th><th>TSNR2_QSO_B</th><th>TSNR2_LRG_B</th><th>TSNR2_GPBDARK_R</th><th>TSNR2_ELG_R</th><th>TSNR2_GPBBRIGHT_R</th><th>TSNR2_LYA_R</th><th>TSNR2_BGS_R</th><th>TSNR2_GPBBACKUP_R</th><th>TSNR2_QSO_R</th><th>TSNR2_LRG_R</th><th>TSNR2_GPBDARK_Z</th><th>TSNR2_ELG_Z</th><th>TSNR2_GPBBRIGHT_Z</th><th>TSNR2_LYA_Z</th><th>TSNR2_BGS_Z</th><th>TSNR2_GPBBACKUP_Z</th><th>TSNR2_QSO_Z</th><th>TSNR2_LRG_Z</th><th>TSNR2_GPBDARK</th><th>TSNR2_ELG</th><th>TSNR2_GPBBRIGHT</th><th>TSNR2_LYA</th><th>TSNR2_BGS</th><th>TSNR2_GPBBACKUP</th><th>TSNR2_QSO</th><th>TSNR2_LRG</th><th>ZCAT_NSPEC</th><th>ZCAT_PRIMARY</th></tr></thead>\n",
       "<thead><tr><th>int64</th><th>int32</th><th>int32</th><th>float64</th><th>float64</th><th>int64</th><th>float64</th><th>float64</th><th>int64</th><th>bytes6</th><th>bytes20</th><th>int64</th><th>float64</th><th>int16</th><th>int32</th><th>int64</th><th>int32</th><th>int32</th><th>float64</th><th>float64</th><th>float32</th><th>float32</th><th>float32</th><th>float32</th><th>int64</th><th>uint8</th><th>bytes3</th><th>float32</th><th>float32</th><th>int32</th><th>float64</th><th>int32</th><th>int16</th><th>bytes8</th><th>int32</th><th>int32</th><th>bytes4</th><th>float32</th><th>float32</th><th>float32</th><th>float32</th><th>float32</th><th>float32</th><th>float32</th><th>float32</th><th>float32</th><th>float32</th><th>float32</th><th>float32</th><th>float32</th><th>float32</th><th>float32</th><th>float32</th><th>float32</th><th>int16</th><th>float32</th><th>float32</th><th>float32</th><th>float32</th><th>int64</th><th>bytes2</th><th>float32</th><th>float32</th><th>float32</th><th>float32</th><th>bytes1</th><th>int64</th><th>int64</th><th>int64</th><th>int64</th><th>int64</th><th>int64</th><th>int64</th><th>int64</th><th>int64</th><th>float64</th><th>float64</th><th>int32</th><th>int16</th><th>float32</th><th>int16</th><th>int16</th><th>float32</th><th>float32</th><th>float32</th><th>float32</th><th>float64</th><th>float32</th><th>float64</th><th>float32</th><th>float32</th><th>float32</th><th>float32</th><th>float32</th><th>float32</th><th>float32</th><th>float32</th><th>float32</th><th>float32</th><th>float32</th><th>float32</th><th>float32</th><th>float32</th><th>float32</th><th>float32</th><th>float32</th><th>float32</th><th>float32</th><th>float32</th><th>float32</th><th>float32</th><th>float32</th><th>float32</th><th>float32</th><th>float32</th><th>float32</th><th>float32</th><th>float32</th><th>float32</th><th>float32</th><th>float32</th><th>float32</th><th>float32</th><th>float32</th><th>float32</th><th>int16</th><th>bool</th></tr></thead>\n",
       "<tr><td>39632946289707054</td><td>20210405</td><td>20210405</td><td>-1.0884250801567422e-05</td><td>6.732821919742601e-06</td><td>0</td><td>9267.8989302644</td><td>4097.28766737681 .. 0.0</td><td>7907</td><td>STAR</td><td>G</td><td>5</td><td>2148.3693183338146</td><td>0</td><td>311</td><td>311</td><td>0</td><td>0</td><td>217.49569658349824</td><td>33.35535717170939</td><td>-13.707138</td><td>-2.427212</td><td>2015.5</td><td>5400.0</td><td>2305843009213693952</td><td>1</td><td>TGT</td><td>81.24594</td><td>-283.4049</td><td>101500</td><td>0.8055047524179098</td><td>516</td><td>9011</td><td>2174p332</td><td>512404</td><td>2094</td><td>PSF</td><td>0.009200617</td><td>43.620934</td><td>67.07036</td><td>76.90401</td><td>22.017822</td><td>12.771733</td><td>93.0877</td><td>96.014404</td><td>29.09171</td><td>3.869387</td><td>1.0587099</td><td>33.820114</td><td>52.00088</td><td>59.625095</td><td>33.820114</td><td>52.00088</td><td>59.625095</td><td>0</td><td>0.0</td><td>0.0</td><td>0.0</td><td>0.0</td><td>1287402123263271552</td><td>G2</td><td>18.023634</td><td>18.390764</td><td>17.520334</td><td>0.22377586</td><td>N</td><td>101500</td><td>9</td><td>2305843009213693952</td><td>0</td><td>768</td><td>0</td><td>0</td><td>0</td><td>0</td><td>217.49569658349824</td><td>33.35535717170939</td><td>201</td><td>1</td><td>378.2013</td><td>1</td><td>1</td><td>0.004</td><td>0.004</td><td>-0.002</td><td>0.002</td><td>217.49571565131004</td><td>0.0</td><td>33.35536475087667</td><td>0.0</td><td>0.789</td><td>81.205</td><td>-283.383</td><td>19.547792</td><td>0.011813587</td><td>3.8494592</td><td>9.616641</td><td>67.62338</td><td>31.899538</td><td>0.3152002</td><td>0.113029405</td><td>1844.8038</td><td>3.8133337</td><td>349.42694</td><td>0.007437738</td><td>398.9302</td><td>2563.135</td><td>1.2044522</td><td>5.5802956</td><td>2.740209e-06</td><td>12.772448</td><td>5.360235e-07</td><td>0.0</td><td>611.14453</td><td>4.3530713e-06</td><td>2.7009082</td><td>5.971848</td><td>1864.3517</td><td>16.597595</td><td>353.2764</td><td>9.624079</td><td>1077.6981</td><td>2595.0347</td><td>4.2205606</td><td>11.665173</td><td>5</td><td>False</td></tr>\n",
       "<tr><td>39632951343844427</td><td>20210405</td><td>20210405</td><td>0.05944829750203393</td><td>2.065676400678239e-06</td><td>0</td><td>8419.192837715149</td><td>3228.1315388897933 .. 98.80107543461622</td><td>7899</td><td>GALAXY</td><td>--</td><td>10</td><td>6882.500358581543</td><td>0</td><td>272</td><td>272</td><td>1</td><td>0</td><td>217.6192064649323</td><td>33.39798702024216</td><td>0.0</td><td>0.0</td><td>2015.5</td><td>5400.0</td><td>1152921504606846976</td><td>1</td><td>TGT</td><td>55.435486</td><td>-272.15115</td><td>102100</td><td>0.8356434365553858</td><td>516</td><td>9011</td><td>2175p335</td><td>513609</td><td>3147</td><td>REX</td><td>0.0082971975</td><td>23.578526</td><td>34.84529</td><td>43.64486</td><td>27.948347</td><td>16.314814</td><td>127.982834</td><td>106.42935</td><td>43.389038</td><td>3.472669</td><td>1.0076939</td><td>10.539599</td><td>15.575842</td><td>19.509249</td><td>10.539599</td><td>15.575842</td><td>19.509249</td><td>0</td><td>1.0</td><td>0.60904676</td><td>0.0</td><td>0.0</td><td>0</td><td>--</td><td>0.0</td><td>0.0</td><td>0.0</td><td>0.0</td><td>N</td><td>102100</td><td>9</td><td>1152921504606846976</td><td>514</td><td>0</td><td>0</td><td>0</td><td>0</td><td>0</td><td>217.6192064649323</td><td>33.39798702024216</td><td>201</td><td>1</td><td>378.2013</td><td>1</td><td>1</td><td>0.0</td><td>0.0</td><td>-0.004</td><td>0.004</td><td>217.6192063014939</td><td>0.0</td><td>33.39800256001894</td><td>0.0</td><td>0.76962906</td><td>55.402</td><td>-272.123</td><td>21.55274</td><td>0.013302265</td><td>4.2312365</td><td>11.043995</td><td>75.47953</td><td>34.98299</td><td>0.35632497</td><td>0.12552686</td><td>2000.6152</td><td>4.171539</td><td>377.52377</td><td>0.008063031</td><td>430.65347</td><td>2760.2424</td><td>1.3141863</td><td>6.084536</td><td>3.0291794e-06</td><td>14.001362</td><td>5.90585e-07</td><td>0.0</td><td>663.6922</td><td>4.7826925e-06</td><td>2.9617558</td><td>6.5252986</td><td>2022.168</td><td>18.186203</td><td>381.755</td><td>11.052058</td><td>1169.8252</td><td>2795.2253</td><td>4.632267</td><td>12.735361</td><td>2</td><td>False</td></tr>\n",
       "</table></div>"
      ],
      "text/plain": [
       "<Table length=2>\n",
       "     TARGETID     LASTNIGHT SPGRPVAL ... TSNR2_LRG ZCAT_NSPEC ZCAT_PRIMARY\n",
       "      int64         int32    int32   ...  float32    int16        bool    \n",
       "----------------- --------- -------- ... --------- ---------- ------------\n",
       "39632946289707054  20210405 20210405 ... 11.665173          5        False\n",
       "39632951343844427  20210405 20210405 ... 12.735361          2        False"
      ]
     },
     "execution_count": 4,
     "metadata": {},
     "output_type": "execute_result"
    }
   ],
   "source": [
    "sv3[:2]"
   ]
  },
  {
   "cell_type": "code",
   "execution_count": 5,
   "id": "3202fef4",
   "metadata": {},
   "outputs": [],
   "source": [
    "sv1_bright = (sv1['SV1_BGS_TARGET'] & sv1_bgs_mask['BGS_BRIGHT']) != 0 \n",
    "sv1_faint  = (sv1['SV1_BGS_TARGET'] & sv1_bgs_mask['BGS_FAINT']) != 0 \n",
    "\n",
    "sv3_bright = (sv3['SV3_BGS_TARGET'] & sv3_bgs_mask['BGS_BRIGHT']) != 0 \n",
    "sv3_faint  = (sv3['SV3_BGS_TARGET'] & sv3_bgs_mask['BGS_FAINT']) != 0 \n",
    "\n",
    "main_bright  = (main['BGS_TARGET'] & main_bgs_mask['BGS_FAINT']) != 0 \n",
    "main_faint  = (main['BGS_TARGET'] & main_bgs_mask['BGS_FAINT']) != 0 "
   ]
  },
  {
   "cell_type": "code",
   "execution_count": 6,
   "id": "fa7da4aa",
   "metadata": {},
   "outputs": [
    {
     "name": "stdout",
     "output_type": "stream",
     "text": [
      "0.6850104384133612\n",
      "0.7030595964335993\n",
      "0.791060212514758\n"
     ]
    }
   ],
   "source": [
    "sv1_cuts = ((sv1['COADD_FIBERSTATUS'] == 0) & (sv1['Z'] != 1e20) & (sv1['ZWARN'] == 0) & (sv1['DELTACHI2'] > 40))\n",
    "print(np.mean(sv1_cuts))\n",
    "sv3_cuts = ((sv3['COADD_FIBERSTATUS'] == 0) & (sv3['Z'] != 1e20) & (sv3['ZWARN'] == 0) & (sv3['DELTACHI2'] > 40))\n",
    "print(np.mean(sv3_cuts))\n",
    "main_cuts = ((main['COADD_FIBERSTATUS'] == 0) & (main['Z'] != 1e20) & (main['ZWARN'] == 0) & (main['DELTACHI2'] > 40))\n",
    "print(np.mean(main_cuts))"
   ]
  },
  {
   "cell_type": "code",
   "execution_count": 7,
   "id": "e576cfbf",
   "metadata": {},
   "outputs": [
    {
     "name": "stdout",
     "output_type": "stream",
     "text": [
      "SV1: BRIGHT 50600 FAINT 36767 ALL 87367 redshifts\n",
      "SV3: BRIGHT 234735 FAINT 164765 ALL 399500 redshifts\n",
      "MAIN: BRIGHT 266398 FAINT 266398 ALL 532796 redshifts\n",
      "285335 total BRIGHT SUCCESSFUL REDSHIFTS\n",
      "201532 total FAINT SUCCESSFUL REDSHIFTS\n"
     ]
    }
   ],
   "source": [
    "print('SV1: BRIGHT %i FAINT %i ALL %i redshifts' % (np.sum(sv1_bright & sv1_cuts), np.sum(sv1_faint & sv1_cuts), np.sum(sv1_bright & sv1_cuts) + np.sum(sv1_faint & sv1_cuts)))\n",
    "print('SV3: BRIGHT %i FAINT %i ALL %i redshifts' % (np.sum(sv3_bright & sv3_cuts), np.sum(sv3_faint & sv3_cuts), np.sum(sv3_bright & sv3_cuts) + np.sum(sv3_faint & sv3_cuts)))\n",
    "print('MAIN: BRIGHT %i FAINT %i ALL %i redshifts' % (np.sum(main_bright & main_cuts), np.sum(main_faint & main_cuts), np.sum(main_bright & main_cuts) + np.sum(main_faint & main_cuts)))\n",
    "\n",
    "print('%i total BRIGHT SUCCESSFUL REDSHIFTS' % (np.sum(sv1_bright & sv1_cuts) + np.sum(sv3_bright & sv3_cuts)))\n",
    "print('%i total FAINT SUCCESSFUL REDSHIFTS' % (np.sum(sv1_faint & sv1_cuts) + np.sum(sv3_faint & sv3_cuts)))"
   ]
  },
  {
   "cell_type": "code",
   "execution_count": 8,
   "id": "036a0815",
   "metadata": {},
   "outputs": [],
   "source": [
    "def stephist(nh, _edges):\n",
    "    bin_edges = np.sort(list(_edges) + list(_edges[1:-1]))\n",
    "    return bin_edges, np.array([[x, x] for x in nh]).flatten()"
   ]
  },
  {
   "cell_type": "code",
   "execution_count": 15,
   "id": "00ee9677-c871-4de3-bc11-decfea278026",
   "metadata": {},
   "outputs": [],
   "source": [
    "#gama_dr3 = atable.Table.read('/global/cscratch1/sd/chahah/bgs-cmxsv/sv-paper/gama_specobj.fits')\n",
    "#gama_dr4 = atable.Table.read('/global/cscratch1/sd/chahah/bgs-cmxsv/gama_dr4/TilingCatv46.fits')\n",
    "#gama_dr4 = atable.Table.read('/global/cfs/cdirs/desi/users/chahah/gama_specobjv27.fits')\n",
    "gama_dr4 = atable.Table.read('/global/cfs/cdirs/desi/users/chahah/TilingCatv46.fits') # see documentation here: #http://www.gama-survey.org/dr4/schema/table.php?id=469\n",
    "\n",
    "gama_dr4 = gama_dr4[(gama_dr4['NQ'] >= 3) & (gama_dr4['SURVEY_CLASS'] >= 3)]"
   ]
  },
  {
   "cell_type": "code",
   "execution_count": 16,
   "id": "81832269-4b3b-464f-9fbc-0a4e74cbbbae",
   "metadata": {},
   "outputs": [],
   "source": [
    "mpl.rcParams['text.usetex'] = False\n",
    "\n",
    "#plt.hist(gama_dr4['R_PETRO'])"
   ]
  },
  {
   "cell_type": "code",
   "execution_count": 17,
   "id": "662e4778",
   "metadata": {},
   "outputs": [
    {
     "data": {
      "image/png": "[encoded data removed]",
      "text/plain": [
       "<Figure size 864x432 with 2 Axes>"
      ]
     },
     "metadata": {
      "needs_background": "light"
     },
     "output_type": "display_data"
    }
   ],
   "source": [
    "fig = plt.figure(figsize=(12,6))\n",
    "sub = fig.add_subplot(121)\n",
    "\n",
    "nh, edges = np.histogram(sv1['Z'][sv1_bright & sv1_cuts], range=(0., 0.6), bins=30)\n",
    "bin_edges, nhist0 = stephist(nh, edges)\n",
    "\n",
    "sub.fill_between(bin_edges, np.zeros(len(bin_edges)), nhist0, facecolor='C0', hatch='/')\n",
    "sub.plot(bin_edges, nhist0, c='k')\n",
    "\n",
    "\n",
    "nh, edges = np.histogram(sv3['Z'][sv3_bright & sv3_cuts], range=(0., 0.6), bins=30)\n",
    "bin_edges, nhist1 = stephist(nh, edges)\n",
    "sub.fill_between(bin_edges, nhist0, nhist0 + nhist1, facecolor='C0')\n",
    "\n",
    "nh, edges = np.histogram(gama_dr4['Z'], range=(0., 0.7), bins=35)\n",
    "bin_edges, nhist0 = stephist(nh, edges)\n",
    "sub.plot(bin_edges, nhist0, c='k', lw=0.75, linestyle='-.', label='GAMA DR4')\n",
    "\n",
    "\n",
    "sub.text(0.05, 0.95, 'BGS Bright', ha='left', va='top', transform=sub.transAxes, fontsize=25)\n",
    "sub.legend(loc='center right', fontsize=20, handletextpad=0.1)\n",
    "sub.set_xlabel('$z$', fontsize=25)\n",
    "sub.set_xlim(0., 0.7)\n",
    "sub.set_ylabel(r'${\\rm d}N/{\\rm d}z$ $\\Delta z$', fontsize=25)\n",
    "sub.set_ylim(0., 3.e4)\n",
    "\n",
    "sub = fig.add_subplot(122)\n",
    "\n",
    "nh, edges = np.histogram(sv1['Z'][sv1_faint & sv1_cuts], range=(0., 0.7), bins=35)\n",
    "bin_edges, nhist0 = stephist(nh, edges)\n",
    "\n",
    "sub.fill_between(bin_edges, np.zeros(len(bin_edges)), nhist0, facecolor='C1', hatch='/', label='SV1')\n",
    "sub.plot(bin_edges, nhist0, c='k')\n",
    "\n",
    "nh, edges = np.histogram(sv3['Z'][sv3_faint & sv3_cuts], range=(0., 0.7), bins=35)\n",
    "bin_edges, nhist1 = stephist(nh, edges)\n",
    "sub.fill_between(bin_edges, nhist0, nhist0 + nhist1, facecolor='C1', label=r'$1\\%$')\n",
    "\n",
    "\n",
    "sub.text(0.05, 0.95, 'BGS Faint', ha='left', va='top', transform=sub.transAxes, fontsize=25)\n",
    "#sub.text(0.95, 0.95, '1\\%', ha='right', va='top', transform=sub.transAxes, fontsize=25)\n",
    "\n",
    "sub.legend(loc='upper right', handletextpad=0.2, fontsize=25)\n",
    "sub.set_xlabel('redshift ($z$)', fontsize=25)\n",
    "sub.set_xlim(0., 0.7)\n",
    "sub.set_yticklabels([])\n",
    "sub.set_ylim(0., 3.0e4)\n",
    "\n",
    "fig.subplots_adjust(wspace=0.1)\n",
    "fig.savefig('figs/dndz.pdf', bbox_inches='tight')"
   ]
  },
  {
   "cell_type": "code",
   "execution_count": 18,
   "id": "6164a0a8-fe35-4c67-8735-5128b59b8997",
   "metadata": {},
   "outputs": [],
   "source": [
    "nh, edges = np.histogram(sv1['Z'][sv1_bright & sv1_cuts], range=(0., 0.6), bins=30)"
   ]
  },
  {
   "cell_type": "code",
   "execution_count": 19,
   "id": "2428f5e8-f4f2-4c0f-80d3-a8480b82ee4b",
   "metadata": {},
   "outputs": [
    {
     "data": {
      "text/plain": [
       "array([1117,  996, 1548, 2073, 2595, 2774, 3536, 3146, 4061, 3435, 3271,\n",
       "       3183, 3282, 2752, 2248, 2046, 1772, 1357, 1187,  855,  693,  620,\n",
       "        403,  242,  190,  126,   72,   36,   24,   25])"
      ]
     },
     "execution_count": 19,
     "metadata": {},
     "output_type": "execute_result"
    }
   ],
   "source": [
    "nh"
   ]
  },
  {
   "cell_type": "code",
   "execution_count": 20,
   "id": "c976dd7a-5ffc-4580-a217-018871965060",
   "metadata": {},
   "outputs": [],
   "source": [
    "nh_sv1, edges = np.histogram(sv1['Z'][sv1_bright & sv1_cuts], range=(0., 0.6), bins=30)\n",
    "nh_sv3, edges = np.histogram(sv3['Z'][sv3_bright & sv3_cuts], range=(0., 0.6), bins=30)\n",
    "np.savetxt('dat/fig18_dNdz_dz_bgsbright.dat', \n",
    "           np.vstack([edges[:-1], edges[1:], nh_sv1, nh_sv3]).T, \n",
    "           fmt='%f %f %i %i', header='dN/dz * dz\\n z_low, z_high, N_SV1, N_SV3')\n",
    "\n",
    "nh_sv1, edges = np.histogram(sv1['Z'][sv1_faint & sv1_cuts], range=(0., 0.7), bins=35)\n",
    "nh_sv3, edges = np.histogram(sv3['Z'][sv3_faint & sv3_cuts], range=(0., 0.7), bins=35)\n",
    "np.savetxt('dat/fig18_dNdz_dz_bgsfaint.dat', \n",
    "           np.vstack([edges[:-1], edges[1:], nh_sv1, nh_sv3]).T, \n",
    "           fmt='%f %f %i %i', header='dN/dz * dz\\n z_low, z_high, N_SV1, N_SV3')"
   ]
  },
  {
   "cell_type": "code",
   "execution_count": 21,
   "id": "0d9c7684-e389-45fc-9028-d92cc3cdf75b",
   "metadata": {},
   "outputs": [],
   "source": [
    "zlow, zhigh, volz = np.loadtxt('/global/cfs/cdirs/desi/survey/catalogs/SV3/LSS/everest/LSScats/2.1/BGS_ANY_nz.dat', skiprows=2, unpack=True, usecols=[1, 2, 5])"
   ]
  },
  {
   "cell_type": "code",
   "execution_count": 22,
   "id": "c09f8e69-8e0e-47d1-b036-39da0b4ba365",
   "metadata": {},
   "outputs": [],
   "source": [
    "zlim = (zlow < 0.7)\n",
    "\n",
    "zlow = zlow[zlim]\n",
    "zhigh = zhigh[zlim]\n",
    "volz = volz[zlim]"
   ]
  },
  {
   "cell_type": "code",
   "execution_count": 23,
   "id": "736dbde0-8a60-4462-865d-a5e972252395",
   "metadata": {},
   "outputs": [],
   "source": [
    "nz_all, zedges = np.histogram(sv3['Z'][sv3_cuts], bins=np.array(list(zlow)+[zhigh[-1]]))\n",
    "nz_bright, _ = np.histogram(sv3['Z'][sv3_bright & sv3_cuts], bins=np.array(list(zlow)+[zhigh[-1]]))\n",
    "nz_faint, _ = np.histogram(sv3['Z'][sv3_faint & sv3_cuts], bins=np.array(list(zlow)+[zhigh[-1]]))\n",
    "\n",
    "nz_all = nz_all.astype(float) / volz\n",
    "nz_bright = nz_bright.astype(float) / volz\n",
    "nz_faint = nz_faint.astype(float) / volz"
   ]
  },
  {
   "cell_type": "code",
   "execution_count": 24,
   "id": "3a824a21-f618-4a87-85d1-0d0260061341",
   "metadata": {},
   "outputs": [
    {
     "data": {
      "text/plain": [
       "array([3.90392664e-01, 1.27622677e-01, 8.77224941e-02, 9.55205385e-02,\n",
       "       4.89250907e-02, 5.23638401e-02, 5.34683607e-02, 3.08226437e-02,\n",
       "       3.16298228e-02, 2.52611939e-02, 2.32743712e-02, 2.07396462e-02,\n",
       "       2.23050638e-02, 1.51172246e-02, 1.19508633e-02, 9.66653689e-03,\n",
       "       7.36603144e-03, 5.81243616e-03, 4.81524570e-03, 3.64153936e-03,\n",
       "       3.19380156e-03, 2.23671197e-03, 1.52200759e-03, 1.16241342e-03,\n",
       "       8.30123485e-04, 6.33734194e-04, 4.12875588e-04, 3.05213519e-04,\n",
       "       1.63014499e-04, 1.19362051e-04, 7.56659667e-05, 5.30910575e-05,\n",
       "       2.65796114e-05, 2.08349893e-05, 1.05418749e-05])"
      ]
     },
     "execution_count": 24,
     "metadata": {},
     "output_type": "execute_result"
    }
   ],
   "source": [
    "nz_all"
   ]
  },
  {
   "cell_type": "code",
   "execution_count": 25,
   "id": "778a34f1-5ed0-4499-9647-2442f30cc146",
   "metadata": {},
   "outputs": [],
   "source": [
    "np.savetxt('dat/fig19_nz_bgs_svda.dat', np.vstack([zedges[:-1], zedges[1:], nz_all, nz_bright, nz_faint]).T, header='zlow, zhigh, nz_all, nz_bright, nz_faint')"
   ]
  },
  {
   "cell_type": "code",
   "execution_count": 26,
   "id": "e082809b-73ec-4764-864f-0030f612f68e",
   "metadata": {},
   "outputs": [],
   "source": [
    "# DESI LRG n(z)\n",
    "#nz_lrg = np.loadtxt('/global/cfs/cdirs/desi/survey/catalogs/SV3/LSS/everest/LSScats/2.1/LRG_main_nz.dat', skiprows=2, unpack=True, usecols=[3])\n",
    "zmid_lrg, zlow_lrg, zhigh_lrg, nz_lrg, vol_lrg = np.loadtxt('/global/cfs/cdirs/desi/survey/catalogs/DA02/LSS/everest/LSScats/1/LRGzdone_nz.dat', skiprows=2, unpack=True, usecols=[0, 1, 2, 3, 5])\n",
    "vol_lrg /= 1130.138 \n",
    "\n",
    "zlo_lrg, zhi_lrg, N_lrg = np.loadtxt('main_lrg_dndz.txt', unpack=True, skiprows=1, usecols=[0, 1, 2])\n",
    "_zmid = 0.5 * (zlo_lrg[1::2] + zhi_lrg[2::2])\n",
    "N_lrg = N_lrg[1::2] + N_lrg[2::2]\n",
    "\n",
    "nz_lrg = N_lrg[_zmid < 0.7] / vol_lrg[zmid_lrg < 0.7]\n",
    "nz_lrg[zmid_lrg[zmid_lrg < 0.7] < 0.4] = 0.\n",
    "\n",
    "zedges_lrg = np.concatenate([[zlow_lrg[0]], zhigh_lrg[zmid_lrg < 0.7]])"
   ]
  },
  {
   "cell_type": "code",
   "execution_count": 29,
   "id": "59a9d529-3b1c-4a0c-a196-b722faa60f03",
   "metadata": {},
   "outputs": [],
   "source": [
    "# SDSS MGS n(z)\n",
    "sdss_dr16 = atable.Table.read('/global/cfs/cdirs/desi/users/chahah/specObj-dr16.fits')\n",
    "is_mgs = ((sdss_dr16['LEGACY_TARGET1']  & (64 | 128 | 256)) > 0)\n",
    "nz_mgs, _ = np.histogram(sdss_dr16['Z'][is_mgs], bins=np.array(list(zlow)+[zhigh[-1]]))\n",
    "nz_mgs = nz_mgs.astype(float) / (volz / 168.8 * 7500.)"
   ]
  },
  {
   "cell_type": "code",
   "execution_count": 30,
   "id": "60577b09-0228-49a6-86fa-476dcafe13ff",
   "metadata": {},
   "outputs": [],
   "source": [
    "# GAMA n(z) (assuming DR4 footprint is the same as DR3)\n",
    "area_gama = (#(8.6 * 6.53) + #G02\n",
    "    (12. * 5.0) + #G09\n",
    "    (12. * 4.0) + #G12\n",
    "    (12. * 4.0)) #G15\n",
    "\n",
    "nz_gama, _ = np.histogram(gama_dr4['Z'], bins=np.array(list(zlow)+[zhigh[-1]]))\n",
    "nz_gama = nz_gama.astype(float) / (volz / 168.8 * area_gama)"
   ]
  },
  {
   "cell_type": "code",
   "execution_count": 31,
   "id": "3f12ecd9-f8cb-490e-8c55-a4e1dc250b07",
   "metadata": {},
   "outputs": [
    {
     "data": {
      "text/plain": [
       "<matplotlib.collections.PathCollection at 0x155487fef370>"
      ]
     },
     "execution_count": 31,
     "metadata": {},
     "output_type": "execute_result"
    },
    {
     "data": {
      "image/png": "[encoded data removed]",
      "text/plain": [
       "<Figure size 432x288 with 1 Axes>"
      ]
     },
     "metadata": {
      "needs_background": "light"
     },
     "output_type": "display_data"
    }
   ],
   "source": [
    "plt.scatter(gama_dr4['RA'], gama_dr4['DEC'], s=1)"
   ]
  },
  {
   "cell_type": "code",
   "execution_count": 32,
   "id": "a1ab3e52-5d88-464b-9e22-15bc6c83acd1",
   "metadata": {},
   "outputs": [
    {
     "data": {
      "image/png": "[encoded data removed]",
      "text/plain": [
       "<Figure size 720x576 with 1 Axes>"
      ]
     },
     "metadata": {
      "needs_background": "light"
     },
     "output_type": "display_data"
    }
   ],
   "source": [
    "fig = plt.figure(figsize=(10,8))\n",
    "sub = fig.add_subplot(111)\n",
    "bin_edges, nhist = stephist(nz_mgs, zedges)\n",
    "_sdss, = sub.plot(bin_edges, nhist, c='k', ls='--', lw=1)#, label='SDSS MGS')\n",
    "bin_edges, nhist = stephist(nz_gama, zedges)\n",
    "_gama, = sub.plot(bin_edges, nhist, c='k', ls='-.', lw=1)#, label='SDSS MGS')\n",
    "_lowz = sub.axhline(3e-4, color='k', linestyle=':')#, label='BOSS LOWZ')\n",
    "\n",
    "\n",
    "sub.plot([], [], c='k', lw=2, label='BGS ($1\\%$)')\n",
    "\n",
    "bin_edges, nhist = stephist(nz_bright, zedges)\n",
    "sub.plot(bin_edges, nhist, c='C0', lw=2, label='BGS Bright')\n",
    "\n",
    "bin_edges, nhist = stephist(nz_faint, zedges)\n",
    "sub.plot(bin_edges, nhist, c='C1', lw=2, label='BGS Faint')\n",
    "\n",
    "bin_edges, nhist = stephist(nz_all, zedges)\n",
    "sub.plot(bin_edges, nhist, c='k', lw=2)\n",
    "\n",
    "bin_edges, nhist = stephist(nz_lrg, zedges_lrg)\n",
    "sub.plot(bin_edges, nhist, c='r', lw=0.75, label='DESI LRG')\n",
    "\n",
    "\n",
    "legend1 = sub.legend(loc='upper right', handletextpad=0.2, fontsize=25)\n",
    "fig.gca().add_artist(legend1)\n",
    "legend2 = sub.legend([_sdss, _lowz, _gama], ['SDSS MGS', 'BOSS LOWZ', 'GAMA DR4'], loc='lower left', handletextpad=0.2, frameon=True, fontsize=20)\n",
    "fig.gca().add_artist(legend2)\n",
    "\n",
    "\n",
    "sub.set_xlabel('$z$', fontsize=25)\n",
    "sub.set_xlim(0., 0.7)\n",
    "sub.set_ylabel(r'$\\bar{n}(z)$ [$({\\rm Mpc}/h)^{-3}$]', fontsize=25)\n",
    "sub.set_yscale('log')\n",
    "sub.set_ylim(2e-5, None)\n",
    "fig.savefig('figs/nofz.pdf', bbox_inches='tight')"
   ]
  },
  {
   "cell_type": "code",
   "execution_count": 23,
   "id": "35abe7a9-d0af-4016-b1db-4631414bcbb6",
   "metadata": {},
   "outputs": [
    {
     "name": "stdout",
     "output_type": "stream",
     "text": [
      "/global/u1/c/chahah/projects/bgs-cmxsv/doc/sv_paper\n"
     ]
    }
   ],
   "source": [
    "!pwd"
   ]
  },
  {
   "cell_type": "code",
   "execution_count": 25,
   "id": "b7a958f2-eacc-49a0-a68e-bb0e35f1876d",
   "metadata": {},
   "outputs": [],
   "source": [
    "\n",
    "\n",
    "sub.plot([], [], c='k', lw=2, label='BGS ($1\\%$)')\n",
    "\n",
    "bin_edges, nhist = stephist(nz_bright, zedges)\n",
    "sub.plot(bin_edges, nhist, c='C0', lw=2, label='BGS Bright')\n",
    "\n",
    "bin_edges, nhist = stephist(nz_faint, zedges)\n",
    "sub.plot(bin_edges, nhist, c='C1', lw=2, label='BGS Faint')\n",
    "\n",
    "bin_edges, nhist = stephist(nz_all, zedges)\n",
    "sub.plot(bin_edges, nhist, c='k', lw=2)\n",
    "\n",
    "bin_edges, nhist = stephist(nz_lrg, zedges_lrg)\n",
    "sub.plot(bin_edges, nhist, c='r', lw=0.75, label='DESI LRG')\n",
    "\n",
    "\n",
    "legend1 = sub.legend(loc='upper right', handletextpad=0.2, fontsize=25)\n",
    "fig.gca().add_artist(legend1)\n",
    "legend2 = sub.legend([_sdss, _lowz, _gama], ['SDSS MGS', 'BOSS LOWZ', 'GAMA DR4'], loc='lower left', handletextpad=0.2, frameon=True, fontsize=20)\n",
    "fig.gca().add_artist(legend2)\n",
    "\n",
    "\n",
    "sub.set_xlabel('$z$', fontsize=25)\n",
    "sub.set_xlim(0., 0.7)\n",
    "sub.set_ylabel(r'$\\bar{n}(z)$ [$({\\rm Mpc}/h)^{-3}$]', fontsize=25)\n",
    "sub.set_yscale('log')\n",
    "sub.set_ylim(2e-5, None)\n",
    "fig.savefig('figs/nofz.pdf', bbox_inches='tight')"
   ]
  },
  {
   "cell_type": "code",
   "execution_count": 29,
   "id": "8dcaecac-8b8e-4d49-9124-95a5352cb956",
   "metadata": {},
   "outputs": [
    {
     "data": {
      "text/plain": [
       "(2e-05, 1.0)"
      ]
     },
     "execution_count": 29,
     "metadata": {},
     "output_type": "execute_result"
    },
    {
     "data": {
      "image/png": "[encoded data removed]",
      "text/plain": [
       "<Figure size 720x576 with 1 Axes>"
      ]
     },
     "metadata": {
      "needs_background": "light"
     },
     "output_type": "display_data"
    }
   ],
   "source": [
    "mpl.rcParams['text.usetex'] = True\n",
    "\n",
    "fig = plt.figure(figsize=(10,8))\n",
    "sub = fig.add_subplot(111)\n",
    "bin_edges, nhist = stephist(nz_mgs, zedges)\n",
    "_sdss, = sub.plot(bin_edges, nhist, c='k', ls='--', lw=1)#, label='SDSS MGS')\n",
    "bin_edges, nhist = stephist(nz_gama, zedges)\n",
    "_gama, = sub.plot(bin_edges, nhist, c='k', ls='-.', lw=1)#, label='SDSS MGS')\n",
    "# # _lowz = sub.axhline(3e-4, color='k', linestyle=':')#, label='BOSS LOWZ')\n",
    "\n",
    "\n",
    "sub.plot([], [], c='k', lw=2, label='BGS ($1\\%$)')\n",
    "\n",
    "bin_edges, nhist = stephist(nz_all, zedges)\n",
    "sub.plot(bin_edges, nhist, c='k', lw=2)\n",
    "\n",
    "# bin_edges, nhist = stephist(nz_bright, zedges)\n",
    "# sub.plot(bin_edges, nhist, c='C0', lw=2, label='BGS Bright')\n",
    "\n",
    "# bin_edges, nhist = stephist(nz_faint, zedges)\n",
    "# sub.plot(bin_edges, nhist, c='C1', lw=2, label='BGS Faint')\n",
    "\n",
    "\n",
    "legend1 = sub.legend(loc='upper right', handletextpad=0.2, fontsize=25)\n",
    "fig.gca().add_artist(legend1)\n",
    "legend2 = sub.legend([_sdss, _lowz, _gama], ['SDSS MGS', 'BOSS LOWZ', 'GAMA DR3'], loc='lower left', handletextpad=0.2, frameon=True, fontsize=20)\n",
    "fig.gca().add_artist(legend2)\n",
    "\n",
    "sub.set_xlabel('$z$', fontsize=25)\n",
    "sub.set_xlim(0., 0.7)\n",
    "sub.set_ylabel(r'$\\bar{n}(z)$ [$({\\rm Mpc}/h)^{-3}$]', fontsize=25)\n",
    "sub.set_yscale('log')\n",
    "sub.set_ylim(2e-5, 1.)"
   ]
  },
  {
   "cell_type": "code",
   "execution_count": null,
   "id": "de777aea-c9c3-4b33-8ac0-471ec8d0eb05",
   "metadata": {},
   "outputs": [],
   "source": []
  },
  {
   "cell_type": "code",
   "execution_count": null,
   "id": "6f6cd1c6-2605-4be0-bc5c-abf3c1a5ae3c",
   "metadata": {},
   "outputs": [],
   "source": []
  },
  {
   "cell_type": "code",
   "execution_count": 22,
   "id": "3290638c-b2ce-4e27-b191-3a9e29534a74",
   "metadata": {},
   "outputs": [],
   "source": [
    "from astropy.cosmology import Planck18"
   ]
  },
  {
   "cell_type": "code",
   "execution_count": 23,
   "id": "5b77dcdd-ba1e-4048-b1dc-585ef749529c",
   "metadata": {},
   "outputs": [],
   "source": [
    "zbins = 0.05 * np.arange(21)\n",
    "nz_bright, _ = np.histogram(sv3['Z'][sv3_bright & sv3_cuts], bins=zbins)\n",
    "nz_faint, _ = np.histogram(sv3['Z'][sv3_faint & sv3_cuts], bins=zbins)"
   ]
  },
  {
   "cell_type": "code",
   "execution_count": 24,
   "id": "c6ed789c-29e2-42fe-a6ee-86f5d8bae8dd",
   "metadata": {},
   "outputs": [],
   "source": [
    "nbarz_bright, nbarz_faint = [], []\n",
    "for iz in range(len(zbins)-1): \n",
    "    nbarz_bright.append(nz_bright[iz] / np.sum(nz_bright) * \n",
    "        864. * # sq deg\n",
    "        0.8 * # fib assign eff.\n",
    "        0.984 / # z-success rate        \n",
    "        ((Planck18.comoving_volume(zbins[iz+1]) - Planck18.comoving_volume(zbins[iz])).value * Planck18.h**3 / (4*np.pi*(180/np.pi)**2))\n",
    "    )\n",
    "    nbarz_faint.append(nz_faint[iz] / np.sum(nz_faint) * \n",
    "        533. * # sq deg\n",
    "        0.61 * # fib assign eff.\n",
    "        0.979 / # z-success rate        \n",
    "        ((Planck18.comoving_volume(zbins[iz+1]) - Planck18.comoving_volume(zbins[iz])).value * Planck18.h**3 / (4*np.pi*(180/np.pi)**2))\n",
    "    )"
   ]
  },
  {
   "cell_type": "code",
   "execution_count": 25,
   "id": "1e5de644-6172-44c7-8b0a-00dc328df1f9",
   "metadata": {},
   "outputs": [
    {
     "data": {
      "image/png": "[encoded data removed]",
      "text/plain": [
       "<Figure size 432x288 with 1 Axes>"
      ]
     },
     "metadata": {
      "needs_background": "light"
     },
     "output_type": "display_data"
    }
   ],
   "source": [
    "bin_edges, nhist = stephist(nbarz_bright, zbins)\n",
    "plt.plot(bin_edges, nhist, c='C0', lw=2)\n",
    "bin_edges, nhist = stephist(nbarz_faint, zbins)\n",
    "plt.plot(bin_edges, nhist, c='C1', lw=2)\n",
    "plt.xlim(0., 0.7)\n",
    "plt.yscale('log')\n",
    "#plt.ylim(2e-5, 1.)"
   ]
  },
  {
   "cell_type": "code",
   "execution_count": 26,
   "id": "a9431b7f-8c25-4fc3-9426-18106b6b2b51",
   "metadata": {},
   "outputs": [],
   "source": [
    "np.savetxt('dat/nbarz_bgs.dat', \n",
    "           np.vstack([zbins[:-1], zbins[1:], nbarz_bright, nbarz_faint]).T, \n",
    "           header='zlow, zhigh, nz_bright (targ/deg2), nz_faint (targ/deg2)',\n",
    "           fmt='%.2f %.2f %.5e %.5e'\n",
    "          )"
   ]
  },
  {
   "cell_type": "code",
   "execution_count": 20,
   "id": "77a2a847-e341-423c-8048-9761b087d10b",
   "metadata": {},
   "outputs": [],
   "source": [
    "np.savetxt('dat/nz_bgs_svoverview.dat', \n",
    "           np.vstack([zbins[:-1], zbins[1:], nbarz_bright, nbarz_faint]).T, \n",
    "           header='zlow, zhigh, nz_bright (targ/deg2), nz_faint (targ/deg2)',\n",
    "           fmt='%.1f %.1f %.5e %.5e'\n",
    "          )"
   ]
  },
  {
   "cell_type": "code",
   "execution_count": 21,
   "id": "668d4cd7-9e10-4655-be0f-c2b1bb37b547",
   "metadata": {},
   "outputs": [
    {
     "name": "stdout",
     "output_type": "stream",
     "text": [
      "/global/u1/c/chahah/projects/bgs-cmxsv/doc/sv_paper\n"
     ]
    }
   ],
   "source": [
    "!pwd"
   ]
  },
  {
   "cell_type": "code",
   "execution_count": null,
   "id": "fec0456a-29be-460c-b559-16fc0791e2d3",
   "metadata": {},
   "outputs": [],
   "source": []
  }
 ],
 "metadata": {
  "kernelspec": {
   "display_name": "DESI master",
   "language": "python",
   "name": "desi-master"
  },
  "language_info": {
   "codemirror_mode": {
    "name": "ipython",
    "version": 3
   },
   "file_extension": ".py",
   "mimetype": "text/x-python",
   "name": "python",
   "nbconvert_exporter": "python",
   "pygments_lexer": "ipython3",
   "version": "3.9.7"
  }
 },
 "nbformat": 4,
 "nbformat_minor": 5
}
