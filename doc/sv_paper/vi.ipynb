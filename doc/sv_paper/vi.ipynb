{
 "cells": [
  {
   "cell_type": "code",
   "execution_count": 30,
   "id": "ded21b59-3452-4d00-ba5a-0898519ba978",
   "metadata": {},
   "outputs": [],
   "source": [
    "import numpy as np\n",
    "import astropy.table as atable"
   ]
  },
  {
   "cell_type": "code",
   "execution_count": 12,
   "id": "2fe5a5d6-1dce-4009-8676-3edf2602271d",
   "metadata": {},
   "outputs": [],
   "source": [
    "cols = ['TARGETID', 'best_z', 'best_quality', 'best_spectype']"
   ]
  },
  {
   "cell_type": "code",
   "execution_count": 19,
   "id": "debf89c1-085e-413f-bd9d-2a2fc5d8a05c",
   "metadata": {},
   "outputs": [],
   "source": [
    "aa = atable.Table.read('/global/cfs/cdirs/desi/sv/vi/TruthTables/Andes/BGS/Truth_table_Andes_reinspection_BGS_66003_20200315_v1.csv')\n",
    "\n",
    "for x in ['z', 'quality', 'spectype']:\n",
    "    aa.rename_column('best {}'.format(x, x), 'best_{}'.format(x, x))\n",
    "\n",
    "aa = aa[cols]"
   ]
  },
  {
   "cell_type": "code",
   "execution_count": 21,
   "id": "eb62f88a-3a72-472c-81f0-cd80440c1b08",
   "metadata": {},
   "outputs": [],
   "source": [
    "bb = atable.Table.read('/global/cfs/cdirs/desi/sv/vi/TruthTables/Blanc/BGS/desi-vi_BGS_tile80613_nightdeep_merged_all_210202.csv')[cols]"
   ]
  },
  {
   "cell_type": "code",
   "execution_count": 22,
   "id": "58605d29-eba4-417d-a420-375a31249cbb",
   "metadata": {},
   "outputs": [],
   "source": [
    "cc = atable.Table.read('/global/cfs/cdirs/desi/sv/vi/TruthTables/Cascades/BGS/desi-vi_SV_cascades_combination_BGS_all_210521.csv')[cols]"
   ]
  },
  {
   "cell_type": "code",
   "execution_count": 24,
   "id": "e8c0afe8-d4c6-4b39-b533-afec5e33e20d",
   "metadata": {},
   "outputs": [],
   "source": [
    "vi = atable.vstack([aa, bb, cc])"
   ]
  },
  {
   "cell_type": "code",
   "execution_count": 26,
   "id": "22a928f2-4334-4472-9a66-5d936a69bce9",
   "metadata": {},
   "outputs": [],
   "source": [
    "vi = vi[vi['best_quality'] >= 2.5]"
   ]
  },
  {
   "cell_type": "code",
   "execution_count": 34,
   "id": "ca7e6467-0051-4a7c-aaeb-d414eb29214c",
   "metadata": {},
   "outputs": [],
   "source": [
    "vi.sort('best_quality')"
   ]
  },
  {
   "cell_type": "code",
   "execution_count": 35,
   "id": "fa3f3055-2a41-406b-8c27-907e291f83f7",
   "metadata": {},
   "outputs": [
    {
     "data": {
      "text/html": [
       "<i>Table length=4546</i>\n",
       "<table id=\"table46913195167360\" class=\"table-striped table-bordered table-condensed\">\n",
       "<thead><tr><th>TARGETID</th><th>best_z</th><th>best_quality</th><th>best_spectype</th></tr></thead>\n",
       "<thead><tr><th>int64</th><th>float64</th><th>float64</th><th>str6</th></tr></thead>\n",
       "<tr><td>35191347774227775</td><td>0.1275</td><td>2.5</td><td>GALAXY</td></tr>\n",
       "<tr><td>39633066578150954</td><td>-0.0002</td><td>2.5</td><td>STAR</td></tr>\n",
       "<tr><td>39628462385794914</td><td>0.4188</td><td>2.5</td><td>GALAXY</td></tr>\n",
       "<tr><td>39633324657871262</td><td>0.6197</td><td>2.5</td><td>GALAXY</td></tr>\n",
       "<tr><td>39633334904556005</td><td>-0.0002</td><td>2.5</td><td>STAR</td></tr>\n",
       "<tr><td>39628510981002248</td><td>0.2469</td><td>2.5</td><td>GALAXY</td></tr>\n",
       "<tr><td>39633338335494404</td><td>0.0676</td><td>2.5</td><td>GALAXY</td></tr>\n",
       "<tr><td>39633338293555401</td><td>0.0551</td><td>2.5</td><td>GALAXY</td></tr>\n",
       "<tr><td>39627676557772855</td><td>0.2851</td><td>2.5</td><td>GALAXY</td></tr>\n",
       "<tr><td>39628127722279021</td><td>0.3148</td><td>2.5</td><td>GALAXY</td></tr>\n",
       "<tr><td>...</td><td>...</td><td>...</td><td>...</td></tr>\n",
       "<tr><td>39633348330522039</td><td>0.5652</td><td>4.0</td><td>GALAXY</td></tr>\n",
       "<tr><td>39633317670160408</td><td>0.3377</td><td>4.0</td><td>GALAXY</td></tr>\n",
       "<tr><td>39633317670160025</td><td>0.2949</td><td>4.0</td><td>GALAXY</td></tr>\n",
       "<tr><td>39633317670160006</td><td>0.0</td><td>4.0</td><td>STAR</td></tr>\n",
       "<tr><td>39633317670159183</td><td>-0.0001</td><td>4.0</td><td>STAR</td></tr>\n",
       "<tr><td>39633317670159171</td><td>0.3364</td><td>4.0</td><td>GALAXY</td></tr>\n",
       "<tr><td>39633317670159076</td><td>0.4162</td><td>4.0</td><td>GALAXY</td></tr>\n",
       "<tr><td>39633317670158806</td><td>0.4553</td><td>4.0</td><td>GALAXY</td></tr>\n",
       "<tr><td>39633317670160128</td><td>0.3243</td><td>4.0</td><td>GALAXY</td></tr>\n",
       "<tr><td>39628516131606576</td><td>0.1955</td><td>4.0</td><td>GALAXY</td></tr>\n",
       "</table>"
      ],
      "text/plain": [
       "<Table length=4546>\n",
       "     TARGETID      best_z best_quality best_spectype\n",
       "      int64       float64   float64         str6    \n",
       "----------------- ------- ------------ -------------\n",
       "35191347774227775  0.1275          2.5        GALAXY\n",
       "39633066578150954 -0.0002          2.5          STAR\n",
       "39628462385794914  0.4188          2.5        GALAXY\n",
       "39633324657871262  0.6197          2.5        GALAXY\n",
       "39633334904556005 -0.0002          2.5          STAR\n",
       "39628510981002248  0.2469          2.5        GALAXY\n",
       "39633338335494404  0.0676          2.5        GALAXY\n",
       "39633338293555401  0.0551          2.5        GALAXY\n",
       "39627676557772855  0.2851          2.5        GALAXY\n",
       "39628127722279021  0.3148          2.5        GALAXY\n",
       "              ...     ...          ...           ...\n",
       "39633348330522039  0.5652          4.0        GALAXY\n",
       "39633317670160408  0.3377          4.0        GALAXY\n",
       "39633317670160025  0.2949          4.0        GALAXY\n",
       "39633317670160006     0.0          4.0          STAR\n",
       "39633317670159183 -0.0001          4.0          STAR\n",
       "39633317670159171  0.3364          4.0        GALAXY\n",
       "39633317670159076  0.4162          4.0        GALAXY\n",
       "39633317670158806  0.4553          4.0        GALAXY\n",
       "39633317670160128  0.3243          4.0        GALAXY\n",
       "39628516131606576  0.1955          4.0        GALAXY"
      ]
     },
     "execution_count": 35,
     "metadata": {},
     "output_type": "execute_result"
    }
   ],
   "source": [
    "vi"
   ]
  },
  {
   "cell_type": "code",
   "execution_count": 36,
   "id": "853864ce-d808-4162-84c5-c5593b4ec480",
   "metadata": {},
   "outputs": [],
   "source": [
    "ids, cnts = np.unique(vi['TARGETID'], return_counts=True)"
   ]
  },
  {
   "cell_type": "code",
   "execution_count": 37,
   "id": "c624ecc4-cb7d-4c4a-b4a4-e125454ab16c",
   "metadata": {},
   "outputs": [
    {
     "data": {
      "text/plain": [
       "4"
      ]
     },
     "execution_count": 37,
     "metadata": {},
     "output_type": "execute_result"
    }
   ],
   "source": [
    "np.count_nonzero(cnts > 1)"
   ]
  },
  {
   "cell_type": "code",
   "execution_count": 39,
   "id": "16258d05-8734-4294-b9cc-2c4d9542be58",
   "metadata": {},
   "outputs": [],
   "source": [
    "vi = atable.unique(vi, keys='TARGETID', keep='last')"
   ]
  },
  {
   "cell_type": "code",
   "execution_count": 41,
   "id": "c644e424-e792-4d48-875f-518a70d8792a",
   "metadata": {},
   "outputs": [],
   "source": [
    "vi.rename_column('best_z', 'VI_Z')\n",
    "vi.rename_column('best_quality', 'VI_Q')\n",
    "vi.rename_column('best_spectype', 'VI_SPECTYPE')"
   ]
  },
  {
   "cell_type": "code",
   "execution_count": 42,
   "id": "45189247-2f8b-438c-b364-c65f37d0f614",
   "metadata": {},
   "outputs": [
    {
     "data": {
      "text/html": [
       "<i>Table length=4542</i>\n",
       "<table id=\"table46913195167696\" class=\"table-striped table-bordered table-condensed\">\n",
       "<thead><tr><th>TARGETID</th><th>VI_Z</th><th>VI_Q</th><th>VI_SPECTYPE</th></tr></thead>\n",
       "<thead><tr><th>int64</th><th>float64</th><th>float64</th><th>str6</th></tr></thead>\n",
       "<tr><td>35191325330507556</td><td>0.3928</td><td>3.5</td><td>GALAXY</td></tr>\n",
       "<tr><td>35191325330508207</td><td>0.4173</td><td>4.0</td><td>GALAXY</td></tr>\n",
       "<tr><td>35191328589480053</td><td>0.2965</td><td>4.0</td><td>GALAXY</td></tr>\n",
       "<tr><td>35191328610454021</td><td>0.0635</td><td>4.0</td><td>GALAXY</td></tr>\n",
       "<tr><td>35191331844260702</td><td>0.2949</td><td>4.0</td><td>GALAXY</td></tr>\n",
       "<tr><td>35191331848455971</td><td>0.4353</td><td>3.5</td><td>GALAXY</td></tr>\n",
       "<tr><td>35191331848457495</td><td>0.031</td><td>4.0</td><td>GALAXY</td></tr>\n",
       "<tr><td>35191331861037117</td><td>0.0675</td><td>4.0</td><td>GALAXY</td></tr>\n",
       "<tr><td>35191331869426428</td><td>0.2916</td><td>4.0</td><td>GALAXY</td></tr>\n",
       "<tr><td>35191335052904762</td><td>0.1695</td><td>4.0</td><td>GALAXY</td></tr>\n",
       "<tr><td>...</td><td>...</td><td>...</td><td>...</td></tr>\n",
       "<tr><td>39633567650679283</td><td>0.4668</td><td>4.0</td><td>GALAXY</td></tr>\n",
       "<tr><td>39633567654872770</td><td>0.1967</td><td>4.0</td><td>GALAXY</td></tr>\n",
       "<tr><td>39633567684232467</td><td>0.2503</td><td>4.0</td><td>GALAXY</td></tr>\n",
       "<tr><td>39633567684232773</td><td>0.2975</td><td>4.0</td><td>GALAXY</td></tr>\n",
       "<tr><td>39633567684233128</td><td>0.1665</td><td>4.0</td><td>GALAXY</td></tr>\n",
       "<tr><td>39633567684233325</td><td>0.2025</td><td>4.0</td><td>GALAXY</td></tr>\n",
       "<tr><td>39633567696815327</td><td>0.2425</td><td>4.0</td><td>GALAXY</td></tr>\n",
       "<tr><td>39633567696815353</td><td>0.2459</td><td>4.0</td><td>GALAXY</td></tr>\n",
       "<tr><td>39633567696815733</td><td>0.284</td><td>4.0</td><td>GALAXY</td></tr>\n",
       "<tr><td>39633567701008631</td><td>0.2434</td><td>4.0</td><td>GALAXY</td></tr>\n",
       "</table>"
      ],
      "text/plain": [
       "<Table length=4542>\n",
       "     TARGETID       VI_Z    VI_Q  VI_SPECTYPE\n",
       "      int64       float64 float64     str6   \n",
       "----------------- ------- ------- -----------\n",
       "35191325330507556  0.3928     3.5      GALAXY\n",
       "35191325330508207  0.4173     4.0      GALAXY\n",
       "35191328589480053  0.2965     4.0      GALAXY\n",
       "35191328610454021  0.0635     4.0      GALAXY\n",
       "35191331844260702  0.2949     4.0      GALAXY\n",
       "35191331848455971  0.4353     3.5      GALAXY\n",
       "35191331848457495   0.031     4.0      GALAXY\n",
       "35191331861037117  0.0675     4.0      GALAXY\n",
       "35191331869426428  0.2916     4.0      GALAXY\n",
       "35191335052904762  0.1695     4.0      GALAXY\n",
       "              ...     ...     ...         ...\n",
       "39633567650679283  0.4668     4.0      GALAXY\n",
       "39633567654872770  0.1967     4.0      GALAXY\n",
       "39633567684232467  0.2503     4.0      GALAXY\n",
       "39633567684232773  0.2975     4.0      GALAXY\n",
       "39633567684233128  0.1665     4.0      GALAXY\n",
       "39633567684233325  0.2025     4.0      GALAXY\n",
       "39633567696815327  0.2425     4.0      GALAXY\n",
       "39633567696815353  0.2459     4.0      GALAXY\n",
       "39633567696815733   0.284     4.0      GALAXY\n",
       "39633567701008631  0.2434     4.0      GALAXY"
      ]
     },
     "execution_count": 42,
     "metadata": {},
     "output_type": "execute_result"
    }
   ],
   "source": [
    "vi"
   ]
  },
  {
   "cell_type": "markdown",
   "id": "7ed6e8cd-b311-47ea-91b9-f2bad05ea8e3",
   "metadata": {},
   "source": [
    "# Done."
   ]
  }
 ],
 "metadata": {
  "kernelspec": {
   "display_name": "DESI 21.7e",
   "language": "python",
   "name": "desi-21.7e"
  },
  "language_info": {
   "codemirror_mode": {
    "name": "ipython",
    "version": 3
   },
   "file_extension": ".py",
   "mimetype": "text/x-python",
   "name": "python",
   "nbconvert_exporter": "python",
   "pygments_lexer": "ipython3",
   "version": "3.8.3"
  }
 },
 "nbformat": 4,
 "nbformat_minor": 5
}
