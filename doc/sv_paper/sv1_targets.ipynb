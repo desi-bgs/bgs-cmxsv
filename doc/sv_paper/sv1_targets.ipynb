{
 "cells": [
  {
   "cell_type": "code",
   "execution_count": 1,
   "id": "f23392db-8248-4960-88b5-62d5914fbf35",
   "metadata": {},
   "outputs": [],
   "source": [
    "import os\n",
    "import sv as SV\n",
    "import numpy as np \n",
    "import astropy.table as atable\n",
    "from tqdm.notebook import tqdm, trange"
   ]
  },
  {
   "cell_type": "code",
   "execution_count": 2,
   "id": "61747e76-dc07-441e-b927-1b74637bca2a",
   "metadata": {},
   "outputs": [],
   "source": [
    "from desitarget import cuts as desi_cuts\n",
    "from desitarget.cuts import _psflike"
   ]
  },
  {
   "cell_type": "code",
   "execution_count": 3,
   "id": "ff50c942-32cd-4d59-b7d7-45e6b1476e20",
   "metadata": {},
   "outputs": [],
   "source": [
    "# -- plotting -- \n",
    "import matplotlib as mpl\n",
    "import matplotlib.pyplot as plt\n",
    "mpl.rcParams['text.usetex'] = True\n",
    "mpl.rcParams['font.family'] = 'serif'\n",
    "mpl.rcParams['axes.linewidth'] = 1.5\n",
    "mpl.rcParams['axes.xmargin'] = 1\n",
    "mpl.rcParams['xtick.labelsize'] = 'x-large'\n",
    "mpl.rcParams['xtick.major.size'] = 5\n",
    "mpl.rcParams['xtick.major.width'] = 1.5\n",
    "mpl.rcParams['ytick.labelsize'] = 'x-large'\n",
    "mpl.rcParams['ytick.major.size'] = 5\n",
    "mpl.rcParams['ytick.major.width'] = 1.5\n",
    "mpl.rcParams['legend.frameon'] = False"
   ]
  },
  {
   "cell_type": "code",
   "execution_count": 4,
   "id": "ed5e2cf9-6c9e-4310-bfda-f477378f8493",
   "metadata": {},
   "outputs": [
    {
     "name": "stdout",
     "output_type": "stream",
     "text": [
      "Collecting corner\n",
      "  Using cached corner-2.2.1-py3-none-any.whl (15 kB)\n",
      "Requirement already satisfied: matplotlib>=2.1 in /global/common/software/desi/cori/desiconda/20211217-2.0.0/conda/lib/python3.9/site-packages (from corner) (3.5.1)\n",
      "Requirement already satisfied: pillow>=6.2.0 in /global/common/software/desi/cori/desiconda/20211217-2.0.0/conda/lib/python3.9/site-packages (from matplotlib>=2.1->corner) (8.4.0)\n",
      "Requirement already satisfied: python-dateutil>=2.7 in /global/common/software/desi/cori/desiconda/20211217-2.0.0/conda/lib/python3.9/site-packages (from matplotlib>=2.1->corner) (2.8.2)\n",
      "Requirement already satisfied: packaging>=20.0 in /global/common/software/desi/cori/desiconda/20211217-2.0.0/conda/lib/python3.9/site-packages (from matplotlib>=2.1->corner) (21.3)\n",
      "Requirement already satisfied: fonttools>=4.22.0 in /global/common/software/desi/cori/desiconda/20211217-2.0.0/conda/lib/python3.9/site-packages (from matplotlib>=2.1->corner) (4.28.4)\n",
      "Requirement already satisfied: pyparsing>=2.2.1 in /global/common/software/desi/cori/desiconda/20211217-2.0.0/conda/lib/python3.9/site-packages (from matplotlib>=2.1->corner) (3.0.6)\n",
      "Requirement already satisfied: numpy>=1.17 in /global/common/software/desi/cori/desiconda/20211217-2.0.0/conda/lib/python3.9/site-packages (from matplotlib>=2.1->corner) (1.21.4)\n",
      "Requirement already satisfied: cycler>=0.10 in /global/common/software/desi/cori/desiconda/20211217-2.0.0/conda/lib/python3.9/site-packages (from matplotlib>=2.1->corner) (0.11.0)\n",
      "Requirement already satisfied: kiwisolver>=1.0.1 in /global/common/software/desi/cori/desiconda/20211217-2.0.0/conda/lib/python3.9/site-packages (from matplotlib>=2.1->corner) (1.3.2)\n",
      "Requirement already satisfied: six>=1.5 in /global/common/software/desi/cori/desiconda/20211217-2.0.0/conda/lib/python3.9/site-packages (from python-dateutil>=2.7->matplotlib>=2.1->corner) (1.16.0)\n",
      "Installing collected packages: corner\n",
      "Successfully installed corner-2.2.1\n"
     ]
    },
    {
     "ename": "ModuleNotFoundError",
     "evalue": "No module named 'corner'",
     "output_type": "error",
     "traceback": [
      "\u001b[0;31m---------------------------------------------------------------------------\u001b[0m",
      "\u001b[0;31mModuleNotFoundError\u001b[0m                       Traceback (most recent call last)",
      "\u001b[0;32m/tmp/ipykernel_42670/1544430580.py\u001b[0m in \u001b[0;36m<module>\u001b[0;34m\u001b[0m\n\u001b[1;32m      1\u001b[0m \u001b[0mget_ipython\u001b[0m\u001b[0;34m(\u001b[0m\u001b[0;34m)\u001b[0m\u001b[0;34m.\u001b[0m\u001b[0msystem\u001b[0m\u001b[0;34m(\u001b[0m\u001b[0;34m'pip install corner --user'\u001b[0m\u001b[0;34m)\u001b[0m\u001b[0;34m\u001b[0m\u001b[0;34m\u001b[0m\u001b[0m\n\u001b[0;32m----> 2\u001b[0;31m \u001b[0;32mimport\u001b[0m \u001b[0mcorner\u001b[0m \u001b[0;32mas\u001b[0m \u001b[0mDFM\u001b[0m\u001b[0;34m\u001b[0m\u001b[0;34m\u001b[0m\u001b[0m\n\u001b[0m",
      "\u001b[0;31mModuleNotFoundError\u001b[0m: No module named 'corner'"
     ]
    }
   ],
   "source": [
    "!pip install corner --user\n",
    "import corner as DFM"
   ]
  },
  {
   "cell_type": "code",
   "execution_count": null,
   "id": "87fcfa66-3a0b-4b14-b8aa-ef01a8534555",
   "metadata": {},
   "outputs": [],
   "source": [
    "ls_S_dir = '/global/cfs/cdirs/cosmo/data/legacysurvey/dr9/south/sweep/9.0'\n",
    "ls_N_dir = '/global/cfs/cdirs/cosmo/data/legacysurvey/dr9/north/sweep/9.0'\n",
    "#ls_S_dir = '/Users/chahah/data/bgs_cmxsv/sv_paper'\n",
    "#ls_N_dir = '/Users/chahah/data/bgs_cmxsv/sv_paper'\n",
    "\n",
    "cat_S = atable.Table.read(os.path.join(ls_S_dir, 'sweep-200p005-210p010.fits'))\n",
    "cat_N = atable.Table.read(os.path.join(ls_N_dir, 'sweep-190p040-200p045.fits'))"
   ]
  },
  {
   "cell_type": "code",
   "execution_count": null,
   "id": "ead1fb14-0fe8-466d-99a4-1dc2a0cf8bd1",
   "metadata": {},
   "outputs": [],
   "source": [
    "cat_S['PHOTSYS'] = 'S'\n",
    "cat_N['PHOTSYS'] = 'N'"
   ]
  },
  {
   "cell_type": "code",
   "execution_count": null,
   "id": "9d9489bd-a306-4ade-8cfa-b7cde741c14b",
   "metadata": {},
   "outputs": [],
   "source": [
    "optw_S = desi_cuts._prepare_optical_wise(objects=cat_S, mask=True)\n",
    "optw_N = desi_cuts._prepare_optical_wise(objects=cat_N, mask=True)\n",
    "\n",
    "gaia_S = desi_cuts._prepare_gaia(objects=cat_S, colnames=None)\n",
    "gaia_N = desi_cuts._prepare_gaia(objects=cat_N, colnames=None)"
   ]
  },
  {
   "cell_type": "code",
   "execution_count": null,
   "id": "6d4c2704-a386-4b43-9c6c-505a6634cdbb",
   "metadata": {},
   "outputs": [],
   "source": [
    "rfib_S = 22.5 - 2.5 * np.log10(optw_S[9].clip(1e-16))\n",
    "gmag_S = 22.5 - 2.5 * np.log10(optw_S[3].clip(1e-16))\n",
    "rmag_S = 22.5 - 2.5 * np.log10(optw_S[4].clip(1e-16))\n",
    "zmag_S = 22.5 - 2.5 * np.log10(optw_S[5].clip(1e-16))\n",
    "w1_S = 22.5 - 2.5 * np.log10(optw_S[6].clip(1e-16))\n",
    "\n",
    "gaia_g_S = gaia_S[6]\n",
    "G_rr_S = gaia_S[11]\n",
    "\n",
    "rfib_N = 22.5 - 2.5 * np.log10(optw_N[9].clip(1e-16))\n",
    "gmag_N = 22.5 - 2.5 * np.log10(optw_N[3].clip(1e-16))\n",
    "rmag_N = 22.5 - 2.5 * np.log10(optw_N[4].clip(1e-16))\n",
    "zmag_N = 22.5 - 2.5 * np.log10(optw_N[5].clip(1e-16))\n",
    "w1_N = 22.5 - 2.5 * np.log10(optw_N[6].clip(1e-16))\n",
    "\n",
    "gaia_g_N = gaia_N[6]\n",
    "G_rr_N = gaia_N[11]"
   ]
  },
  {
   "cell_type": "code",
   "execution_count": null,
   "id": "5164f60a-8477-41fe-846d-5235a334df8a",
   "metadata": {},
   "outputs": [],
   "source": [
    "objtype_S = optw_S[14]\n",
    "objtype_N = optw_N[14]"
   ]
  },
  {
   "cell_type": "code",
   "execution_count": null,
   "id": "c93494cb-0735-48f6-8a97-4e5e1e3474e4",
   "metadata": {},
   "outputs": [],
   "source": [
    "is_gal_S = G_rr_S > 0.6\n",
    "is_gal_S |= gaia_g_S == 0 \n",
    "is_gal_S |= (G_rr_S < 0.6) & (~_psflike(objtype_S)) & (gaia_g_S != 0)"
   ]
  },
  {
   "cell_type": "code",
   "execution_count": null,
   "id": "123ccd09-4e92-4faf-8f6e-c3484fbc9e2e",
   "metadata": {},
   "outputs": [],
   "source": [
    "sv1_bright = (rmag_S < 19.5) \n",
    "sv1_faint = (rmag_S > 19.5) & (rmag_S < 20.1)\n",
    "sv1_faint_ext = (rmag_S > 20.1) & (rmag_S < 20.5) & (rfib_S > 21.051)\n",
    "sv1_faint_fibmag = (rmag_S > 20.1) & (rfib_S < 21.051)\n",
    "sv1_all = sv1_bright | sv1_faint | sv1_faint_ext | sv1_faint_fibmag"
   ]
  },
  {
   "cell_type": "code",
   "execution_count": null,
   "id": "f7a49676-fd72-4ac5-9eb4-bc73dd08b618",
   "metadata": {},
   "outputs": [],
   "source": [
    "fig = plt.figure(figsize=(8,6))\n",
    "sub = fig.add_subplot(111)\n",
    "\n",
    "DFM.hist2d(rmag_S[is_gal_S & sv1_all], rfib_S[is_gal_S & sv1_all], \n",
    "           range=[(14, 21), (16, 26)], color='k', \n",
    "           plot_density=False, plot_datapoints=True, no_fill_contours=True, \n",
    "           bins=200, smooth=True, \n",
    "           contour_kwargs={'linewidths': 1, 'linestyles': ':'}, \n",
    "           ax=sub)\n",
    "\n",
    "sub.scatter(rmag_S[is_gal_S & sv1_bright], rfib_S[is_gal_S & sv1_bright], s=1, c='C0', rasterized=True, label='Bright')\n",
    "sub.scatter(rmag_S[is_gal_S & sv1_faint], rfib_S[is_gal_S & sv1_faint], s=1, c='C1', rasterized=True, label='Faint')\n",
    "sub.scatter(rmag_S[is_gal_S & sv1_faint_ext], rfib_S[is_gal_S & sv1_faint_ext], s=1, c='r', rasterized=True, label='Faint ext.')\n",
    "sub.scatter(rmag_S[is_gal_S & sv1_faint_fibmag], rfib_S[is_gal_S & sv1_faint_fibmag], s=1, c='C4', rasterized=True, label='Faint ext. fiber mag.')\n",
    "\n",
    "sub.legend(loc='upper left', fontsize=20, handletextpad=-0.5, markerscale=10)\n",
    "# hb = sub.hexbin(rmag_S[sv1_all], rfib_S[sv1_all], \n",
    "#                 C=np.ones(np.sum(sv1_all))/47, \n",
    "#                 reduce_C_function=np.sum, extent=(14, 21, 16, 26), gridsize=30, \n",
    "#                 edgecolors='k', linewidth=1., mincnt=2, cmap='Spectral_r')\n",
    "# sub.text(0.05, 0.95, r'SV1', ha='left', va='top', transform=sub.transAxes, fontsize=30)\n",
    "\n",
    "# sub.plot([14, 17.8], [19.1, 22.9], c='k', ls='--', lw=3)\n",
    "# sub.plot([17.8, 19.5], [22.9, 22.9], c='k', ls='--', lw=3)\n",
    "\n",
    "sub.plot([19.5, 19.5], [16., 26], c='k', ls='--', lw=3)\n",
    "sub.plot([20.1, 20.1], [16., 26], c='k', ls='--', lw=3)\n",
    "sub.plot([20.1, 20.5], [21.051, 21.051], c='k', ls='--', lw=3)\n",
    "sub.plot([20.5, 20.5], [21.051, 26.0], c='k', ls='--', lw=3)\n",
    "\n",
    "sub.text(0.975, 0.05, r'SV1', ha='right', va='bottom', transform=sub.transAxes, fontsize=30)\n",
    "\n",
    "sub.set_xlim(15, 21)\n",
    "sub.set_ylim(16, 25)\n",
    "sub.set_yticks([16, 18, 20, 22, 24])\n",
    "#sub.set_yticklabels([])\n",
    "\n",
    "bkgd = fig.add_subplot(111, frameon=False)\n",
    "bkgd.set_xlabel(r'$r$ magnitude', labelpad=10, fontsize=25) \n",
    "bkgd.set_ylabel(r'$r_{\\rm fiber}$ magnitude', labelpad=10, fontsize=25) \n",
    "bkgd.tick_params(labelcolor='none', top=False, bottom=False, left=False, right=False)\n",
    "# fig.subplots_adjust(wspace=0.1, right=0.8)\n",
    "\n",
    "\n",
    "fig.savefig('figs/sv1_targets.pdf', bbox_inches='tight')"
   ]
  },
  {
   "cell_type": "code",
   "execution_count": null,
   "id": "4a72c5b5-8e0d-4f3c-a903-f0ce3895ba7d",
   "metadata": {},
   "outputs": [],
   "source": []
  }
 ],
 "metadata": {
  "kernelspec": {
   "display_name": "DESI master",
   "language": "python",
   "name": "desi-master"
  },
  "language_info": {
   "codemirror_mode": {
    "name": "ipython",
    "version": 3
   },
   "file_extension": ".py",
   "mimetype": "text/x-python",
   "name": "python",
   "nbconvert_exporter": "python",
   "pygments_lexer": "ipython3",
   "version": "3.9.7"
  }
 },
 "nbformat": 4,
 "nbformat_minor": 5
}
