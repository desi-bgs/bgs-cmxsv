{
 "cells": [
  {
   "cell_type": "code",
   "execution_count": 1,
   "id": "8902b8b5-3a31-4665-add2-9e77ba516390",
   "metadata": {},
   "outputs": [
    {
     "name": "stderr",
     "output_type": "stream",
     "text": [
      "WARNING: leap-second auto-update failed due to the following exception: RuntimeError('Cache is locked after 5.02 s. This may indicate an astropy bug or that kill -9 was used. If you want to unlock the cache remove the directory /global/homes/m/mjwilson/.astropy/cache/download/py3/lock. Lock claims to be held by process .') [astropy.time.core]\n"
     ]
    }
   ],
   "source": [
    "import glob\n",
    "import numpy as np\n",
    "import pylab as pl\n",
    "import astropy.io.fits as fits\n",
    "\n",
    "from astropy.table import Table, vstack, join\n",
    "from desimodel.footprint import is_point_in_desi\n",
    "from desimodel.focalplane.geometry import get_tile_radius_deg\n",
    "from matplotlib.pyplot import figure\n",
    "from desitarget.geomask import circles"
   ]
  },
  {
   "cell_type": "code",
   "execution_count": 2,
   "id": "7a6c8d77-3779-4cb8-be3a-2a5e8907e65f",
   "metadata": {},
   "outputs": [],
   "source": [
    "tpath = '/global/cfs/cdirs/desi/survey/ops/surveyops/trunk/ops/tiles-sv1.ecsv'"
   ]
  },
  {
   "cell_type": "code",
   "execution_count": 3,
   "id": "24cb73d6-951f-4644-be49-6637c53a4248",
   "metadata": {},
   "outputs": [
    {
     "data": {
      "text/html": [
       "<i>Table length=170</i>\n",
       "<table id=\"table46913296477728\" class=\"table-striped table-bordered table-condensed\">\n",
       "<thead><tr><th>TILEID</th><th>CENTERID</th><th>PASS</th><th>RA</th><th>DEC</th><th>PROGRAM</th><th>IN_DESI</th><th>DESIGNHA</th><th>PRIORITY</th><th>STATUS</th><th>EBV_MED</th><th>DONEFRAC</th><th>AVAILABLE</th></tr></thead>\n",
       "<thead><tr><th></th><th></th><th></th><th>deg</th><th>deg</th><th></th><th></th><th></th><th></th><th></th><th></th><th></th><th></th></tr></thead>\n",
       "<thead><tr><th>int32</th><th>int32</th><th>int32</th><th>float64</th><th>float64</th><th>str13</th><th>bool</th><th>float32</th><th>float64</th><th>str8</th><th>float32</th><th>float32</th><th>bool</th></tr></thead>\n",
       "<tr><td>80605</td><td>80605</td><td>8</td><td>36.448</td><td>-4.601</td><td>sv1_cmxlrgqso</td><td>False</td><td>0.00</td><td>2.000e-03</td><td>obsend</td><td>0.026</td><td>5.4000</td><td>False</td></tr>\n",
       "<tr><td>80606</td><td>80606</td><td>7</td><td>36.448</td><td>-4.501</td><td>sv1_cmxelg</td><td>False</td><td>0.00</td><td>2.000e-03</td><td>obsend</td><td>0.026</td><td>4.1000</td><td>False</td></tr>\n",
       "<tr><td>80607</td><td>80607</td><td>8</td><td>106.740</td><td>56.100</td><td>sv1_cmxlrgqso</td><td>True</td><td>0.00</td><td>2.000e-03</td><td>obsend</td><td>0.053</td><td>10.7000</td><td>True</td></tr>\n",
       "<tr><td>80608</td><td>80608</td><td>7</td><td>106.740</td><td>56.200</td><td>sv1_cmxelg</td><td>True</td><td>0.00</td><td>2.000e-03</td><td>obsend</td><td>0.053</td><td>8.1000</td><td>True</td></tr>\n",
       "<tr><td>80609</td><td>80609</td><td>8</td><td>150.120</td><td>2.206</td><td>sv1_cmxlrgqso</td><td>True</td><td>0.00</td><td>2.000e-03</td><td>obsend</td><td>0.023</td><td>4.0000</td><td>True</td></tr>\n",
       "<tr><td>80610</td><td>80610</td><td>7</td><td>150.120</td><td>2.306</td><td>sv1_cmxelg</td><td>True</td><td>0.00</td><td>2.000e-03</td><td>obsend</td><td>0.022</td><td>5.1000</td><td>True</td></tr>\n",
       "<tr><td>80611</td><td>80611</td><td>10</td><td>35.220</td><td>30.300</td><td>sv1bgsmws</td><td>False</td><td>0.00</td><td>2.000e+00</td><td>obsend</td><td>0.088</td><td>0.7500</td><td>False</td></tr>\n",
       "<tr><td>80612</td><td>80612</td><td>10</td><td>66.680</td><td>-5.240</td><td>sv1bgsmws</td><td>False</td><td>0.00</td><td>2.000e-03</td><td>obsend</td><td>0.040</td><td>1.0500</td><td>False</td></tr>\n",
       "<tr><td>80613</td><td>80613</td><td>10</td><td>106.740</td><td>56.100</td><td>sv1bgsmws</td><td>True</td><td>0.00</td><td>2.000e-03</td><td>obsend</td><td>0.053</td><td>1.0500</td><td>True</td></tr>\n",
       "<tr><td>...</td><td>...</td><td>...</td><td>...</td><td>...</td><td>...</td><td>...</td><td>...</td><td>...</td><td>...</td><td>...</td><td>...</td><td>...</td></tr>\n",
       "<tr><td>80893</td><td>80893</td><td>14</td><td>219.000</td><td>15.000</td><td>sv1lrgqso2</td><td>True</td><td>0.00</td><td>2.000e-03</td><td>obsend</td><td>0.022</td><td>1.0000</td><td>True</td></tr>\n",
       "<tr><td>80894</td><td>80894</td><td>11</td><td>219.000</td><td>15.000</td><td>sv1elg</td><td>True</td><td>0.00</td><td>2.000e-03</td><td>obsend</td><td>0.022</td><td>1.0000</td><td>True</td></tr>\n",
       "<tr><td>80895</td><td>80895</td><td>14</td><td>226.000</td><td>32.375</td><td>sv1lrgqso2</td><td>True</td><td>0.00</td><td>2.000e-03</td><td>obsend</td><td>0.017</td><td>1.0000</td><td>True</td></tr>\n",
       "<tr><td>80896</td><td>80896</td><td>11</td><td>226.000</td><td>32.375</td><td>sv1elg</td><td>True</td><td>0.00</td><td>2.000e+00</td><td>obsend</td><td>0.017</td><td>0.7500</td><td>True</td></tr>\n",
       "<tr><td>80897</td><td>80897</td><td>14</td><td>235.000</td><td>32.375</td><td>sv1lrgqso2</td><td>True</td><td>0.00</td><td>2.000e+00</td><td>obsstart</td><td>0.029</td><td>0.5000</td><td>True</td></tr>\n",
       "<tr><td>80898</td><td>80898</td><td>11</td><td>235.000</td><td>32.375</td><td>sv1elg</td><td>True</td><td>0.00</td><td>2.000e+00</td><td>obsstart</td><td>0.029</td><td>0.5000</td><td>True</td></tr>\n",
       "<tr><td>80899</td><td>80899</td><td>14</td><td>241.000</td><td>15.000</td><td>sv1lrgqso2</td><td>True</td><td>0.00</td><td>2.000e-03</td><td>obsend</td><td>0.042</td><td>1.2500</td><td>True</td></tr>\n",
       "<tr><td>80900</td><td>80900</td><td>11</td><td>241.000</td><td>15.000</td><td>sv1elg</td><td>True</td><td>0.00</td><td>2.000e+00</td><td>obsstart</td><td>0.042</td><td>0.7750</td><td>True</td></tr>\n",
       "<tr><td>80901</td><td>80901</td><td>14</td><td>247.800</td><td>32.375</td><td>sv1lrgqso2</td><td>True</td><td>0.00</td><td>2.000e+00</td><td>obsstart</td><td>0.023</td><td>0.7500</td><td>True</td></tr>\n",
       "<tr><td>80902</td><td>80902</td><td>11</td><td>247.800</td><td>32.375</td><td>sv1elg</td><td>True</td><td>0.00</td><td>2.000e-03</td><td>obsend</td><td>0.023</td><td>1.0000</td><td>True</td></tr>\n",
       "</table>"
      ],
      "text/plain": [
       "<Table length=170>\n",
       "TILEID CENTERID  PASS    RA     DEC   ...  STATUS  EBV_MED DONEFRAC AVAILABLE\n",
       "                        deg     deg   ...                                    \n",
       "int32   int32   int32 float64 float64 ...   str8   float32 float32     bool  \n",
       "------ -------- ----- ------- ------- ... -------- ------- -------- ---------\n",
       " 80605    80605     8  36.448  -4.601 ...   obsend   0.026   5.4000     False\n",
       " 80606    80606     7  36.448  -4.501 ...   obsend   0.026   4.1000     False\n",
       " 80607    80607     8 106.740  56.100 ...   obsend   0.053  10.7000      True\n",
       " 80608    80608     7 106.740  56.200 ...   obsend   0.053   8.1000      True\n",
       " 80609    80609     8 150.120   2.206 ...   obsend   0.023   4.0000      True\n",
       " 80610    80610     7 150.120   2.306 ...   obsend   0.022   5.1000      True\n",
       " 80611    80611    10  35.220  30.300 ...   obsend   0.088   0.7500     False\n",
       " 80612    80612    10  66.680  -5.240 ...   obsend   0.040   1.0500     False\n",
       " 80613    80613    10 106.740  56.100 ...   obsend   0.053   1.0500      True\n",
       "   ...      ...   ...     ...     ... ...      ...     ...      ...       ...\n",
       " 80893    80893    14 219.000  15.000 ...   obsend   0.022   1.0000      True\n",
       " 80894    80894    11 219.000  15.000 ...   obsend   0.022   1.0000      True\n",
       " 80895    80895    14 226.000  32.375 ...   obsend   0.017   1.0000      True\n",
       " 80896    80896    11 226.000  32.375 ...   obsend   0.017   0.7500      True\n",
       " 80897    80897    14 235.000  32.375 ... obsstart   0.029   0.5000      True\n",
       " 80898    80898    11 235.000  32.375 ... obsstart   0.029   0.5000      True\n",
       " 80899    80899    14 241.000  15.000 ...   obsend   0.042   1.2500      True\n",
       " 80900    80900    11 241.000  15.000 ... obsstart   0.042   0.7750      True\n",
       " 80901    80901    14 247.800  32.375 ... obsstart   0.023   0.7500      True\n",
       " 80902    80902    11 247.800  32.375 ...   obsend   0.023   1.0000      True"
      ]
     },
     "execution_count": 3,
     "metadata": {},
     "output_type": "execute_result"
    }
   ],
   "source": [
    "tiles = Table.read(tpath)\n",
    "tiles"
   ]
  },
  {
   "cell_type": "code",
   "execution_count": 4,
   "id": "324c1aa0-212f-4192-91d3-cac93c0173b5",
   "metadata": {},
   "outputs": [
    {
     "data": {
      "text/plain": [
       "array(['cmxm33', 'sv1_cmxelg', 'sv1_cmxlrgqso', 'sv1bgsmws', 'sv1elg',\n",
       "       'sv1elgqso', 'sv1lrgqso', 'sv1lrgqso2', 'sv1m31'], dtype='<U13')"
      ]
     },
     "execution_count": 4,
     "metadata": {},
     "output_type": "execute_result"
    }
   ],
   "source": [
    "np.unique(tiles['PROGRAM'].data)"
   ]
  },
  {
   "cell_type": "code",
   "execution_count": 5,
   "id": "487b3c38-0090-4d22-b096-07ea68775135",
   "metadata": {},
   "outputs": [
    {
     "data": {
      "text/html": [
       "<i>Table length=73</i>\n",
       "<table id=\"table46913304190544\" class=\"table-striped table-bordered table-condensed\">\n",
       "<thead><tr><th>TILEID</th><th>CENTERID</th><th>PASS</th><th>RA</th><th>DEC</th><th>PROGRAM</th><th>IN_DESI</th><th>DESIGNHA</th><th>PRIORITY</th><th>STATUS</th><th>EBV_MED</th><th>DONEFRAC</th><th>AVAILABLE</th></tr></thead>\n",
       "<thead><tr><th></th><th></th><th></th><th>deg</th><th>deg</th><th></th><th></th><th></th><th></th><th></th><th></th><th></th><th></th></tr></thead>\n",
       "<thead><tr><th>int32</th><th>int32</th><th>int32</th><th>float64</th><th>float64</th><th>str13</th><th>bool</th><th>float32</th><th>float64</th><th>str8</th><th>float32</th><th>float32</th><th>bool</th></tr></thead>\n",
       "<tr><td>80611</td><td>80611</td><td>10</td><td>35.220</td><td>30.300</td><td>sv1bgsmws</td><td>False</td><td>0.00</td><td>2.000e+00</td><td>obsend</td><td>0.088</td><td>0.7500</td><td>False</td></tr>\n",
       "<tr><td>80612</td><td>80612</td><td>10</td><td>66.680</td><td>-5.240</td><td>sv1bgsmws</td><td>False</td><td>0.00</td><td>2.000e-03</td><td>obsend</td><td>0.040</td><td>1.0500</td><td>False</td></tr>\n",
       "<tr><td>80613</td><td>80613</td><td>10</td><td>106.740</td><td>56.100</td><td>sv1bgsmws</td><td>True</td><td>0.00</td><td>2.000e-03</td><td>obsend</td><td>0.053</td><td>1.0500</td><td>True</td></tr>\n",
       "<tr><td>80614</td><td>80614</td><td>10</td><td>154.100</td><td>-1.375</td><td>sv1bgsmws</td><td>True</td><td>46.14</td><td>2.000e+00</td><td>obsend</td><td>0.044</td><td>0.5250</td><td>True</td></tr>\n",
       "<tr><td>80616</td><td>80616</td><td>10</td><td>356.000</td><td>29.000</td><td>sv1bgsmws</td><td>False</td><td>0.00</td><td>2.000e+00</td><td>obsend</td><td>0.109</td><td>0.5500</td><td>False</td></tr>\n",
       "<tr><td>80617</td><td>80617</td><td>10</td><td>5.000</td><td>28.000</td><td>sv1bgsmws</td><td>False</td><td>0.00</td><td>2.000e-03</td><td>obsend</td><td>0.036</td><td>1.0250</td><td>False</td></tr>\n",
       "<tr><td>80618</td><td>80618</td><td>10</td><td>114.221</td><td>38.469</td><td>sv1bgsmws</td><td>True</td><td>0.00</td><td>2.000e-03</td><td>obsend</td><td>0.056</td><td>1.0750</td><td>True</td></tr>\n",
       "<tr><td>80619</td><td>80619</td><td>10</td><td>144.000</td><td>65.000</td><td>sv1bgsmws</td><td>True</td><td>31.30</td><td>2.000e+00</td><td>obsend</td><td>0.073</td><td>0.8000</td><td>True</td></tr>\n",
       "<tr><td>80624</td><td>80624</td><td>10</td><td>4.000</td><td>10.000</td><td>sv1bgsmws</td><td>False</td><td>0.00</td><td>2.000e+00</td><td>obsend</td><td>0.154</td><td>0.3250</td><td>False</td></tr>\n",
       "<tr><td>...</td><td>...</td><td>...</td><td>...</td><td>...</td><td>...</td><td>...</td><td>...</td><td>...</td><td>...</td><td>...</td><td>...</td><td>...</td></tr>\n",
       "<tr><td>80733</td><td>0</td><td>10</td><td>199.100</td><td>18.300</td><td>sv1bgsmws</td><td>True</td><td>0.00</td><td>2.000e-03</td><td>obsend</td><td>0.000</td><td>1.3000</td><td>True</td></tr>\n",
       "<tr><td>80734</td><td>0</td><td>10</td><td>229.640</td><td>2.580</td><td>sv1bgsmws</td><td>True</td><td>0.00</td><td>2.000e-03</td><td>obsend</td><td>0.042</td><td>1.8250</td><td>True</td></tr>\n",
       "<tr><td>80735</td><td>0</td><td>10</td><td>250.420</td><td>36.960</td><td>sv1bgsmws</td><td>True</td><td>0.00</td><td>2.000e-03</td><td>obsend</td><td>0.017</td><td>1.5500</td><td>True</td></tr>\n",
       "<tr><td>80736</td><td>0</td><td>10</td><td>259.280</td><td>43.640</td><td>sv1bgsmws</td><td>True</td><td>0.00</td><td>2.000e-03</td><td>obsend</td><td>0.020</td><td>1.7750</td><td>True</td></tr>\n",
       "<tr><td>80737</td><td>0</td><td>10</td><td>153.260</td><td>-1.110</td><td>sv1bgsmws</td><td>True</td><td>40.11</td><td>2.000e+00</td><td>obsstart</td><td>0.035</td><td>0.2500</td><td>True</td></tr>\n",
       "<tr><td>80738</td><td>0</td><td>10</td><td>260.070</td><td>58.420</td><td>sv1bgsmws</td><td>True</td><td>0.00</td><td>2.000e-03</td><td>obsend</td><td>0.027</td><td>2.0750</td><td>True</td></tr>\n",
       "<tr><td>80739</td><td>0</td><td>10</td><td>131.000</td><td>0.500</td><td>sv1bgsmws</td><td>True</td><td>0.04</td><td>1.000e+00</td><td>unobs</td><td>0.035</td><td>0.0000</td><td>True</td></tr>\n",
       "<tr><td>80740</td><td>0</td><td>10</td><td>135.000</td><td>0.500</td><td>sv1bgsmws</td><td>True</td><td>28.08</td><td>2.000e+00</td><td>obsstart</td><td>0.037</td><td>0.3000</td><td>True</td></tr>\n",
       "<tr><td>80741</td><td>0</td><td>10</td><td>139.000</td><td>0.500</td><td>sv1bgsmws</td><td>True</td><td>28.68</td><td>2.000e+00</td><td>obsstart</td><td>0.029</td><td>0.2750</td><td>True</td></tr>\n",
       "<tr><td>80742</td><td>0</td><td>10</td><td>150.100</td><td>3.000</td><td>sv1bgsmws</td><td>True</td><td>46.72</td><td>2.000e+00</td><td>obsstart</td><td>0.021</td><td>0.5500</td><td>True</td></tr>\n",
       "</table>"
      ],
      "text/plain": [
       "<Table length=73>\n",
       "TILEID CENTERID  PASS    RA     DEC   ...  STATUS  EBV_MED DONEFRAC AVAILABLE\n",
       "                        deg     deg   ...                                    \n",
       "int32   int32   int32 float64 float64 ...   str8   float32 float32     bool  \n",
       "------ -------- ----- ------- ------- ... -------- ------- -------- ---------\n",
       " 80611    80611    10  35.220  30.300 ...   obsend   0.088   0.7500     False\n",
       " 80612    80612    10  66.680  -5.240 ...   obsend   0.040   1.0500     False\n",
       " 80613    80613    10 106.740  56.100 ...   obsend   0.053   1.0500      True\n",
       " 80614    80614    10 154.100  -1.375 ...   obsend   0.044   0.5250      True\n",
       " 80616    80616    10 356.000  29.000 ...   obsend   0.109   0.5500     False\n",
       " 80617    80617    10   5.000  28.000 ...   obsend   0.036   1.0250     False\n",
       " 80618    80618    10 114.221  38.469 ...   obsend   0.056   1.0750      True\n",
       " 80619    80619    10 144.000  65.000 ...   obsend   0.073   0.8000      True\n",
       " 80624    80624    10   4.000  10.000 ...   obsend   0.154   0.3250     False\n",
       "   ...      ...   ...     ...     ... ...      ...     ...      ...       ...\n",
       " 80733        0    10 199.100  18.300 ...   obsend   0.000   1.3000      True\n",
       " 80734        0    10 229.640   2.580 ...   obsend   0.042   1.8250      True\n",
       " 80735        0    10 250.420  36.960 ...   obsend   0.017   1.5500      True\n",
       " 80736        0    10 259.280  43.640 ...   obsend   0.020   1.7750      True\n",
       " 80737        0    10 153.260  -1.110 ... obsstart   0.035   0.2500      True\n",
       " 80738        0    10 260.070  58.420 ...   obsend   0.027   2.0750      True\n",
       " 80739        0    10 131.000   0.500 ...    unobs   0.035   0.0000      True\n",
       " 80740        0    10 135.000   0.500 ... obsstart   0.037   0.3000      True\n",
       " 80741        0    10 139.000   0.500 ... obsstart   0.029   0.2750      True\n",
       " 80742        0    10 150.100   3.000 ... obsstart   0.021   0.5500      True"
      ]
     },
     "execution_count": 5,
     "metadata": {},
     "output_type": "execute_result"
    }
   ],
   "source": [
    "tiles = tiles[tiles['PROGRAM'] == 'sv1bgsmws']\n",
    "tiles"
   ]
  },
  {
   "cell_type": "code",
   "execution_count": 6,
   "id": "dbd69d9a-613a-430b-ae22-e42fa2678b60",
   "metadata": {},
   "outputs": [
    {
     "data": {
      "text/html": [
       "<i>Table length=1</i>\n",
       "<table id=\"table46913304265296\" class=\"table-striped table-bordered table-condensed\">\n",
       "<thead><tr><th>TILEID</th><th>CENTERID</th><th>PASS</th><th>RA</th><th>DEC</th><th>PROGRAM</th><th>IN_DESI</th><th>DESIGNHA</th><th>PRIORITY</th><th>STATUS</th><th>EBV_MED</th><th>DONEFRAC</th><th>AVAILABLE</th></tr></thead>\n",
       "<thead><tr><th></th><th></th><th></th><th>deg</th><th>deg</th><th></th><th></th><th></th><th></th><th></th><th></th><th></th><th></th></tr></thead>\n",
       "<thead><tr><th>int32</th><th>int32</th><th>int32</th><th>float64</th><th>float64</th><th>str13</th><th>bool</th><th>float32</th><th>float64</th><th>str8</th><th>float32</th><th>float32</th><th>bool</th></tr></thead>\n",
       "<tr><td>80657</td><td>80657</td><td>10</td><td>158.128</td><td>10.360</td><td>sv1bgsmws</td><td>True</td><td>55.02</td><td>2.000e+00</td><td>obsend</td><td>0.032</td><td>0.7500</td><td>True</td></tr>\n",
       "</table>"
      ],
      "text/plain": [
       "<Table length=1>\n",
       "TILEID CENTERID  PASS    RA     DEC   ... STATUS EBV_MED DONEFRAC AVAILABLE\n",
       "                        deg     deg   ...                                  \n",
       "int32   int32   int32 float64 float64 ...  str8  float32 float32     bool  \n",
       "------ -------- ----- ------- ------- ... ------ ------- -------- ---------\n",
       " 80657    80657    10 158.128  10.360 ... obsend   0.032   0.7500      True"
      ]
     },
     "execution_count": 6,
     "metadata": {},
     "output_type": "execute_result"
    }
   ],
   "source": [
    "tiles[tiles['TILEID'].data == 80657]"
   ]
  },
  {
   "cell_type": "code",
   "execution_count": 7,
   "id": "f2e8b18b-9507-47b5-b987-38b4f9eaa2b4",
   "metadata": {},
   "outputs": [
    {
     "data": {
      "text/html": [
       "<i>Table length=1591</i>\n",
       "<table id=\"table46912564606288\" class=\"table-striped table-bordered table-condensed\">\n",
       "<thead><tr><th>TILEID</th><th>SURVEY</th><th>FAPRGRM</th><th>FAFLAVOR</th><th>NEXP</th><th>EXPTIME</th><th>TILERA</th><th>TILEDEC</th><th>EFFTIME_ETC</th><th>EFFTIME_SPEC</th><th>EFFTIME_GFA</th><th>GOALTIME</th><th>OBSSTATUS</th><th>ZDONE</th><th>ELG_EFFTIME_DARK</th><th>BGS_EFFTIME_BRIGHT</th><th>LYA_EFFTIME_DARK</th><th>GOALTYPE</th><th>MINTFRAC</th><th>LASTNIGHT</th><th>QA</th><th>USER</th></tr></thead>\n",
       "<thead><tr><th>int64</th><th>str7</th><th>str16</th><th>str19</th><th>int64</th><th>float64</th><th>float64</th><th>float64</th><th>float64</th><th>float64</th><th>float64</th><th>float64</th><th>str8</th><th>str5</th><th>float64</th><th>float64</th><th>float64</th><th>str7</th><th>float64</th><th>int64</th><th>str6</th><th>str7</th></tr></thead>\n",
       "<tr><td>1</td><td>sv3</td><td>dark</td><td>sv3dark</td><td>3</td><td>2299.4</td><td>150.04</td><td>2.286</td><td>1409.3</td><td>1621.8</td><td>1423.6</td><td>1200.0</td><td>obsend</td><td>true</td><td>1621.8</td><td>1598.7</td><td>1535.4</td><td>dark</td><td>0.9</td><td>20210406</td><td>none</td><td>none</td></tr>\n",
       "<tr><td>2</td><td>sv3</td><td>dark</td><td>sv3dark</td><td>2</td><td>1900.4</td><td>150.061</td><td>2.069</td><td>1411.1</td><td>1338.7</td><td>1366.6</td><td>1200.0</td><td>obsend</td><td>true</td><td>1338.7</td><td>1333.2</td><td>1351.2</td><td>dark</td><td>0.9</td><td>20210407</td><td>none</td><td>none</td></tr>\n",
       "<tr><td>3</td><td>sv3</td><td>dark</td><td>sv3dark</td><td>1</td><td>951.5</td><td>150.212</td><td>2.226</td><td>1404.7</td><td>1435.2</td><td>1287.4</td><td>1200.0</td><td>obsend</td><td>true</td><td>1435.2</td><td>1365.9</td><td>1711.6</td><td>dark</td><td>0.9</td><td>20210409</td><td>none</td><td>none</td></tr>\n",
       "<tr><td>4</td><td>sv3</td><td>dark</td><td>sv3dark</td><td>1</td><td>1065.1</td><td>149.98</td><td>2.171</td><td>1415.1</td><td>1460.5</td><td>1238.8</td><td>1200.0</td><td>obsend</td><td>true</td><td>1460.5</td><td>1381.4</td><td>1769.7</td><td>dark</td><td>0.9</td><td>20210410</td><td>none</td><td>none</td></tr>\n",
       "<tr><td>5</td><td>sv3</td><td>dark</td><td>sv3dark</td><td>2</td><td>1656.9</td><td>150.187</td><td>2.099</td><td>1402.2</td><td>1398.0</td><td>1361.3</td><td>1200.0</td><td>obsend</td><td>true</td><td>1398.0</td><td>1408.8</td><td>1556.4</td><td>dark</td><td>0.9</td><td>20210412</td><td>none</td><td>none</td></tr>\n",
       "<tr><td>6</td><td>sv3</td><td>dark</td><td>sv3dark</td><td>2</td><td>1668.3</td><td>150.106</td><td>2.302</td><td>1422.0</td><td>1517.2</td><td>1232.0</td><td>1200.0</td><td>obsend</td><td>true</td><td>1517.2</td><td>1441.7</td><td>1480.9</td><td>dark</td><td>0.9</td><td>20210417</td><td>none</td><td>none</td></tr>\n",
       "<tr><td>7</td><td>sv3</td><td>dark</td><td>sv3dark</td><td>1</td><td>1750.8</td><td>149.993</td><td>2.237</td><td>1408.0</td><td>1385.1</td><td>1399.1</td><td>1200.0</td><td>obsend</td><td>true</td><td>1385.1</td><td>1409.8</td><td>1563.7</td><td>dark</td><td>0.9</td><td>20210429</td><td>none</td><td>none</td></tr>\n",
       "<tr><td>8</td><td>sv3</td><td>dark</td><td>sv3dark</td><td>2</td><td>2347.9</td><td>150.128</td><td>2.065</td><td>1415.1</td><td>1661.7</td><td>1626.1</td><td>1200.0</td><td>obsend</td><td>true</td><td>1661.7</td><td>1696.9</td><td>1708.5</td><td>dark</td><td>0.9</td><td>20210430</td><td>none</td><td>none</td></tr>\n",
       "<tr><td>9</td><td>sv3</td><td>dark</td><td>sv3dark</td><td>2</td><td>2457.8</td><td>150.17</td><td>2.28</td><td>1031.6</td><td>1345.2</td><td>1088.4</td><td>1200.0</td><td>obsend</td><td>true</td><td>1345.2</td><td>1292.8</td><td>1227.6</td><td>dark</td><td>0.9</td><td>20210502</td><td>none</td><td>none</td></tr>\n",
       "<tr><td>10</td><td>sv3</td><td>dark</td><td>sv3dark</td><td>3</td><td>2992.4</td><td>150.005</td><td>2.108</td><td>1404.1</td><td>1334.3</td><td>1320.6</td><td>1200.0</td><td>obsend</td><td>true</td><td>1334.3</td><td>1382.7</td><td>1453.5</td><td>dark</td><td>0.9</td><td>20210503</td><td>none</td><td>none</td></tr>\n",
       "<tr><td>...</td><td>...</td><td>...</td><td>...</td><td>...</td><td>...</td><td>...</td><td>...</td><td>...</td><td>...</td><td>...</td><td>...</td><td>...</td><td>...</td><td>...</td><td>...</td><td>...</td><td>...</td><td>...</td><td>...</td><td>...</td><td>...</td></tr>\n",
       "<tr><td>82068</td><td>cmx</td><td>dithfocus</td><td>dithfocus</td><td>1</td><td>200.1</td><td>220.2</td><td>47.8</td><td>0.0</td><td>0.0</td><td>0.0</td><td>1000.0</td><td>unknown</td><td>false</td><td>0.0</td><td>0.0</td><td>0.0</td><td>unknown</td><td>0.9</td><td>20210423</td><td>none</td><td>none</td></tr>\n",
       "<tr><td>82069</td><td>cmx</td><td>dithfocus</td><td>dithfocus</td><td>1</td><td>200.1</td><td>220.2</td><td>47.8</td><td>0.0</td><td>0.0</td><td>0.0</td><td>1000.0</td><td>unknown</td><td>false</td><td>0.0</td><td>0.0</td><td>0.0</td><td>unknown</td><td>0.9</td><td>20210423</td><td>none</td><td>none</td></tr>\n",
       "<tr><td>82070</td><td>cmx</td><td>dithfocus</td><td>dithfocus</td><td>1</td><td>200.1</td><td>220.2</td><td>47.8</td><td>0.0</td><td>0.0</td><td>0.0</td><td>1000.0</td><td>unknown</td><td>false</td><td>0.0</td><td>0.0</td><td>0.0</td><td>unknown</td><td>0.9</td><td>20210423</td><td>none</td><td>none</td></tr>\n",
       "<tr><td>82071</td><td>cmx</td><td>dithfocus</td><td>dithfocus</td><td>1</td><td>200.1</td><td>220.2</td><td>47.8</td><td>0.0</td><td>0.0</td><td>0.0</td><td>1000.0</td><td>unknown</td><td>false</td><td>0.0</td><td>0.0</td><td>0.0</td><td>unknown</td><td>0.9</td><td>20210423</td><td>none</td><td>none</td></tr>\n",
       "<tr><td>82072</td><td>cmx</td><td>dithfocus</td><td>dithfocus</td><td>1</td><td>200.1</td><td>220.2</td><td>47.8</td><td>0.0</td><td>0.0</td><td>0.0</td><td>1000.0</td><td>unknown</td><td>false</td><td>0.0</td><td>0.0</td><td>0.0</td><td>unknown</td><td>0.9</td><td>20210423</td><td>none</td><td>none</td></tr>\n",
       "<tr><td>82073</td><td>cmx</td><td>dithfocus</td><td>dithfocus</td><td>1</td><td>200.1</td><td>220.2</td><td>47.8</td><td>0.0</td><td>0.0</td><td>0.0</td><td>1000.0</td><td>unknown</td><td>false</td><td>0.0</td><td>0.0</td><td>0.0</td><td>unknown</td><td>0.9</td><td>20210423</td><td>none</td><td>none</td></tr>\n",
       "<tr><td>82074</td><td>cmx</td><td>dithfocus</td><td>dithfocus</td><td>1</td><td>200.1</td><td>220.2</td><td>47.8</td><td>0.0</td><td>0.0</td><td>0.0</td><td>1000.0</td><td>unknown</td><td>false</td><td>0.0</td><td>0.0</td><td>0.0</td><td>unknown</td><td>0.9</td><td>20210423</td><td>none</td><td>none</td></tr>\n",
       "<tr><td>82075</td><td>cmx</td><td>dithfocus</td><td>dithfocus</td><td>1</td><td>200.1</td><td>220.2</td><td>47.8</td><td>0.0</td><td>0.0</td><td>0.0</td><td>1000.0</td><td>unknown</td><td>false</td><td>0.0</td><td>0.0</td><td>0.0</td><td>unknown</td><td>0.9</td><td>20210423</td><td>none</td><td>none</td></tr>\n",
       "<tr><td>82076</td><td>cmx</td><td>dithfocus</td><td>dithfocus</td><td>1</td><td>200.1</td><td>220.2</td><td>47.8</td><td>0.0</td><td>0.0</td><td>0.0</td><td>1000.0</td><td>unknown</td><td>false</td><td>0.0</td><td>0.0</td><td>0.0</td><td>unknown</td><td>0.9</td><td>20210423</td><td>none</td><td>none</td></tr>\n",
       "<tr><td>82077</td><td>cmx</td><td>dithfocus</td><td>dithfocus</td><td>1</td><td>200.1</td><td>220.2</td><td>47.8</td><td>0.0</td><td>0.0</td><td>0.0</td><td>1000.0</td><td>unknown</td><td>false</td><td>0.0</td><td>0.0</td><td>0.0</td><td>unknown</td><td>0.9</td><td>20210423</td><td>none</td><td>none</td></tr>\n",
       "</table>"
      ],
      "text/plain": [
       "<Table length=1591>\n",
       "TILEID SURVEY  FAPRGRM   FAFLAVOR  NEXP ... MINTFRAC LASTNIGHT  QA  USER\n",
       "int64   str7    str16     str19   int64 ... float64    int64   str6 str7\n",
       "------ ------ --------- --------- ----- ... -------- --------- ---- ----\n",
       "     1    sv3      dark   sv3dark     3 ...      0.9  20210406 none none\n",
       "     2    sv3      dark   sv3dark     2 ...      0.9  20210407 none none\n",
       "     3    sv3      dark   sv3dark     1 ...      0.9  20210409 none none\n",
       "     4    sv3      dark   sv3dark     1 ...      0.9  20210410 none none\n",
       "     5    sv3      dark   sv3dark     2 ...      0.9  20210412 none none\n",
       "     6    sv3      dark   sv3dark     2 ...      0.9  20210417 none none\n",
       "     7    sv3      dark   sv3dark     1 ...      0.9  20210429 none none\n",
       "     8    sv3      dark   sv3dark     2 ...      0.9  20210430 none none\n",
       "     9    sv3      dark   sv3dark     2 ...      0.9  20210502 none none\n",
       "    10    sv3      dark   sv3dark     3 ...      0.9  20210503 none none\n",
       "   ...    ...       ...       ...   ... ...      ...       ...  ...  ...\n",
       " 82068    cmx dithfocus dithfocus     1 ...      0.9  20210423 none none\n",
       " 82069    cmx dithfocus dithfocus     1 ...      0.9  20210423 none none\n",
       " 82070    cmx dithfocus dithfocus     1 ...      0.9  20210423 none none\n",
       " 82071    cmx dithfocus dithfocus     1 ...      0.9  20210423 none none\n",
       " 82072    cmx dithfocus dithfocus     1 ...      0.9  20210423 none none\n",
       " 82073    cmx dithfocus dithfocus     1 ...      0.9  20210423 none none\n",
       " 82074    cmx dithfocus dithfocus     1 ...      0.9  20210423 none none\n",
       " 82075    cmx dithfocus dithfocus     1 ...      0.9  20210423 none none\n",
       " 82076    cmx dithfocus dithfocus     1 ...      0.9  20210423 none none\n",
       " 82077    cmx dithfocus dithfocus     1 ...      0.9  20210423 none none"
      ]
     },
     "execution_count": 7,
     "metadata": {},
     "output_type": "execute_result"
    }
   ],
   "source": [
    "tiles = Table.read('/global/cfs/cdirs/desi/spectro/redux/everest/tiles-everest.csv')\n",
    "tiles"
   ]
  },
  {
   "cell_type": "code",
   "execution_count": 8,
   "id": "032531e8-e2bc-4f80-a477-a60ad361a913",
   "metadata": {},
   "outputs": [
    {
     "data": {
      "text/plain": [
       "array(['backup', 'backup1', 'bgsmws', 'bright', 'dark', 'dc3r2',\n",
       "       'dithfocus', 'dithlost', 'dithprec', 'elg', 'elgqso', 'lrgqso',\n",
       "       'lrgqso2', 'm31', 'm33', 'mwclusgaldeep', 'praesepe', 'rosette',\n",
       "       'scndcosmos', 'scndhetdex', 'ssv', 'umaii', 'unwisebluebright',\n",
       "       'unwisebluefaint', 'unwisegreen'], dtype='<U16')"
      ]
     },
     "execution_count": 8,
     "metadata": {},
     "output_type": "execute_result"
    }
   ],
   "source": [
    "np.unique(tiles['FAPRGRM'].data)"
   ]
  },
  {
   "cell_type": "code",
   "execution_count": 9,
   "id": "8dc034c3-d144-4028-bf4a-a0260c9b88ed",
   "metadata": {},
   "outputs": [
    {
     "data": {
      "text/html": [
       "<i>Table length=50</i>\n",
       "<table id=\"table46912564713648\" class=\"table-striped table-bordered table-condensed\">\n",
       "<thead><tr><th>TILEID</th><th>SURVEY</th><th>FAPRGRM</th><th>FAFLAVOR</th><th>NEXP</th><th>EXPTIME</th><th>TILERA</th><th>TILEDEC</th><th>EFFTIME_ETC</th><th>EFFTIME_SPEC</th><th>EFFTIME_GFA</th><th>GOALTIME</th><th>OBSSTATUS</th><th>ZDONE</th><th>ELG_EFFTIME_DARK</th><th>BGS_EFFTIME_BRIGHT</th><th>LYA_EFFTIME_DARK</th><th>GOALTYPE</th><th>MINTFRAC</th><th>LASTNIGHT</th><th>QA</th><th>USER</th></tr></thead>\n",
       "<thead><tr><th>int64</th><th>str7</th><th>str16</th><th>str19</th><th>int64</th><th>float64</th><th>float64</th><th>float64</th><th>float64</th><th>float64</th><th>float64</th><th>float64</th><th>str8</th><th>str5</th><th>float64</th><th>float64</th><th>float64</th><th>str7</th><th>float64</th><th>int64</th><th>str6</th><th>str7</th></tr></thead>\n",
       "<tr><td>80665</td><td>sv1</td><td>bgsmws</td><td>sv1bgsmws</td><td>9</td><td>3593.9</td><td>198.0</td><td>7.0</td><td>0.0</td><td>1273.3</td><td>0.0</td><td>600.0</td><td>obsend</td><td>true</td><td>1308.3</td><td>1273.3</td><td>1077.9</td><td>bright</td><td>0.9</td><td>20210322</td><td>none</td><td>none</td></tr>\n",
       "<tr><td>80660</td><td>sv1</td><td>bgsmws</td><td>sv1bgsmws</td><td>15</td><td>5614.1</td><td>168.382</td><td>50.4622</td><td>0.0</td><td>1676.4</td><td>0.0</td><td>600.0</td><td>obsend</td><td>true</td><td>1698.2</td><td>1676.4</td><td>1457.2</td><td>bright</td><td>0.9</td><td>20210131</td><td>none</td><td>none</td></tr>\n",
       "<tr><td>80659</td><td>sv1</td><td>bgsmws</td><td>sv1bgsmws</td><td>15</td><td>9949.0</td><td>165.0</td><td>32.375</td><td>0.0</td><td>866.9</td><td>0.0</td><td>600.0</td><td>obsend</td><td>true</td><td>935.7</td><td>866.9</td><td>635.0</td><td>bright</td><td>0.9</td><td>20210304</td><td>none</td><td>none</td></tr>\n",
       "<tr><td>80657</td><td>sv1</td><td>bgsmws</td><td>sv1bgsmws</td><td>7</td><td>5931.4</td><td>158.128</td><td>10.36</td><td>0.0</td><td>917.4</td><td>0.0</td><td>600.0</td><td>obsend</td><td>true</td><td>998.5</td><td>917.4</td><td>526.2</td><td>bright</td><td>0.9</td><td>20210331</td><td>none</td><td>none</td></tr>\n",
       "<tr><td>80650</td><td>sv1</td><td>bgsmws</td><td>sv1bgsmws</td><td>22</td><td>8411.6</td><td>135.0</td><td>83.0</td><td>0.0</td><td>2329.6</td><td>0.0</td><td>600.0</td><td>obsend</td><td>true</td><td>2390.8</td><td>2329.6</td><td>1642.3</td><td>bright</td><td>0.9</td><td>20210322</td><td>none</td><td>none</td></tr>\n",
       "<tr><td>80645</td><td>sv1</td><td>bgsmws</td><td>sv1bgsmws</td><td>13</td><td>3900.9</td><td>120.0</td><td>40.0</td><td>0.0</td><td>1942.3</td><td>0.0</td><td>600.0</td><td>obsend</td><td>true</td><td>2041.2</td><td>1942.3</td><td>1651.8</td><td>bright</td><td>0.9</td><td>20210205</td><td>none</td><td>none</td></tr>\n",
       "<tr><td>80626</td><td>sv1</td><td>bgsmws</td><td>sv1bgsmws</td><td>2</td><td>600.1</td><td>23.4</td><td>25.6</td><td>0.0</td><td>113.0</td><td>116.2</td><td>600.0</td><td>obsstart</td><td>false</td><td>108.4</td><td>113.0</td><td>67.0</td><td>bright</td><td>0.9</td><td>20210203</td><td>none</td><td>none</td></tr>\n",
       "<tr><td>80635</td><td>sv1</td><td>bgsmws</td><td>sv1bgsmws</td><td>5</td><td>1500.3</td><td>36.0</td><td>-7.0</td><td>0.0</td><td>187.4</td><td>180.8</td><td>600.0</td><td>obsstart</td><td>false</td><td>200.2</td><td>187.4</td><td>87.4</td><td>bright</td><td>0.9</td><td>20210105</td><td>none</td><td>none</td></tr>\n",
       "<tr><td>80637</td><td>sv1</td><td>bgsmws</td><td>sv1bgsmws</td><td>5</td><td>3633.1</td><td>38.5</td><td>0.5</td><td>0.0</td><td>208.3</td><td>196.4</td><td>600.0</td><td>obsstart</td><td>false</td><td>245.9</td><td>208.3</td><td>83.1</td><td>bright</td><td>0.9</td><td>20210221</td><td>none</td><td>none</td></tr>\n",
       "<tr><td>80740</td><td>sv1</td><td>bgsmws</td><td>sv1bgsmws</td><td>5</td><td>3258.5</td><td>135.0</td><td>0.5</td><td>0.0</td><td>281.7</td><td>297.2</td><td>600.0</td><td>obsstart</td><td>false</td><td>283.3</td><td>281.7</td><td>181.8</td><td>bright</td><td>0.9</td><td>20210328</td><td>none</td><td>none</td></tr>\n",
       "<tr><td>...</td><td>...</td><td>...</td><td>...</td><td>...</td><td>...</td><td>...</td><td>...</td><td>...</td><td>...</td><td>...</td><td>...</td><td>...</td><td>...</td><td>...</td><td>...</td><td>...</td><td>...</td><td>...</td><td>...</td><td>...</td><td>...</td></tr>\n",
       "<tr><td>80662</td><td>sv1</td><td>bgsmws</td><td>sv1bgsmws</td><td>14</td><td>6893.1</td><td>180.0</td><td>-0.5</td><td>0.0</td><td>1595.0</td><td>1574.9</td><td>600.0</td><td>obsend</td><td>true</td><td>1693.1</td><td>1595.0</td><td>1221.9</td><td>bright</td><td>0.9</td><td>20210322</td><td>none</td><td>none</td></tr>\n",
       "<tr><td>80661</td><td>sv1</td><td>bgsmws</td><td>sv1bgsmws</td><td>11</td><td>5116.1</td><td>176.0</td><td>-0.5</td><td>0.0</td><td>1533.5</td><td>1596.0</td><td>600.0</td><td>obsend</td><td>true</td><td>1589.0</td><td>1533.5</td><td>1258.5</td><td>bright</td><td>0.9</td><td>20210322</td><td>none</td><td>none</td></tr>\n",
       "<tr><td>80616</td><td>sv1</td><td>bgsmws</td><td>sv1bgsmws</td><td>18</td><td>5106.2</td><td>356.0</td><td>29.0</td><td>0.0</td><td>1569.4</td><td>1608.1</td><td>600.0</td><td>obsend</td><td>true</td><td>1713.6</td><td>1569.4</td><td>829.8</td><td>bright</td><td>0.9</td><td>20201223</td><td>none</td><td>none</td></tr>\n",
       "<tr><td>80646</td><td>sv1</td><td>bgsmws</td><td>sv1bgsmws</td><td>12</td><td>4698.4</td><td>125.0</td><td>32.375</td><td>0.0</td><td>1757.4</td><td>1663.6</td><td>600.0</td><td>obsend</td><td>true</td><td>1803.6</td><td>1757.4</td><td>1547.9</td><td>bright</td><td>0.9</td><td>20210205</td><td>none</td><td>none</td></tr>\n",
       "<tr><td>80666</td><td>sv1</td><td>bgsmws</td><td>sv1bgsmws</td><td>14</td><td>9248.6</td><td>204.0</td><td>3.0</td><td>0.0</td><td>1612.4</td><td>1726.1</td><td>600.0</td><td>obsend</td><td>true</td><td>1694.5</td><td>1612.4</td><td>1310.6</td><td>bright</td><td>0.9</td><td>20210402</td><td>none</td><td>none</td></tr>\n",
       "<tr><td>80653</td><td>sv1</td><td>bgsmws</td><td>sv1bgsmws</td><td>11</td><td>3300.8</td><td>152.54</td><td>40.3004</td><td>0.0</td><td>1756.4</td><td>1875.6</td><td>600.0</td><td>obsend</td><td>true</td><td>1717.9</td><td>1756.4</td><td>1688.6</td><td>bright</td><td>0.9</td><td>20210115</td><td>none</td><td>none</td></tr>\n",
       "<tr><td>80655</td><td>sv1</td><td>bgsmws</td><td>sv1bgsmws</td><td>17</td><td>7019.5</td><td>155.0</td><td>83.0</td><td>0.0</td><td>1951.3</td><td>1939.8</td><td>600.0</td><td>obsend</td><td>true</td><td>2034.1</td><td>1951.3</td><td>1290.4</td><td>bright</td><td>0.9</td><td>20210322</td><td>none</td><td>none</td></tr>\n",
       "<tr><td>80618</td><td>sv1</td><td>bgsmws</td><td>sv1bgsmws</td><td>35</td><td>11036.9</td><td>114.221</td><td>38.469</td><td>0.0</td><td>2283.0</td><td>2262.1</td><td>600.0</td><td>obsend</td><td>true</td><td>2488.6</td><td>2283.0</td><td>1570.1</td><td>bright</td><td>0.9</td><td>20210328</td><td>none</td><td>none</td></tr>\n",
       "<tr><td>80663</td><td>sv1</td><td>bgsmws</td><td>sv1bgsmws</td><td>12</td><td>8337.0</td><td>184.0</td><td>-0.5</td><td>0.0</td><td>2183.0</td><td>2296.2</td><td>600.0</td><td>obsend</td><td>true</td><td>2340.2</td><td>2183.0</td><td>1560.0</td><td>bright</td><td>0.9</td><td>20210322</td><td>none</td><td>none</td></tr>\n",
       "<tr><td>80613</td><td>sv1</td><td>bgsmws</td><td>sv1bgsmws</td><td>30</td><td>10975.0</td><td>106.74</td><td>56.1</td><td>0.0</td><td>3107.6</td><td>2812.5</td><td>600.0</td><td>obsend</td><td>false</td><td>3411.4</td><td>3107.6</td><td>2167.7</td><td>bright</td><td>0.9</td><td>20210324</td><td>none</td><td>none</td></tr>\n",
       "</table>"
      ],
      "text/plain": [
       "<Table length=50>\n",
       "TILEID SURVEY FAPRGRM  FAFLAVOR  NEXP ... GOALTYPE MINTFRAC LASTNIGHT  QA  USER\n",
       "int64   str7   str16    str19   int64 ...   str7   float64    int64   str6 str7\n",
       "------ ------ ------- --------- ----- ... -------- -------- --------- ---- ----\n",
       " 80665    sv1  bgsmws sv1bgsmws     9 ...   bright      0.9  20210322 none none\n",
       " 80660    sv1  bgsmws sv1bgsmws    15 ...   bright      0.9  20210131 none none\n",
       " 80659    sv1  bgsmws sv1bgsmws    15 ...   bright      0.9  20210304 none none\n",
       " 80657    sv1  bgsmws sv1bgsmws     7 ...   bright      0.9  20210331 none none\n",
       " 80650    sv1  bgsmws sv1bgsmws    22 ...   bright      0.9  20210322 none none\n",
       " 80645    sv1  bgsmws sv1bgsmws    13 ...   bright      0.9  20210205 none none\n",
       " 80626    sv1  bgsmws sv1bgsmws     2 ...   bright      0.9  20210203 none none\n",
       " 80635    sv1  bgsmws sv1bgsmws     5 ...   bright      0.9  20210105 none none\n",
       " 80637    sv1  bgsmws sv1bgsmws     5 ...   bright      0.9  20210221 none none\n",
       " 80740    sv1  bgsmws sv1bgsmws     5 ...   bright      0.9  20210328 none none\n",
       "   ...    ...     ...       ...   ... ...      ...      ...       ...  ...  ...\n",
       " 80662    sv1  bgsmws sv1bgsmws    14 ...   bright      0.9  20210322 none none\n",
       " 80661    sv1  bgsmws sv1bgsmws    11 ...   bright      0.9  20210322 none none\n",
       " 80616    sv1  bgsmws sv1bgsmws    18 ...   bright      0.9  20201223 none none\n",
       " 80646    sv1  bgsmws sv1bgsmws    12 ...   bright      0.9  20210205 none none\n",
       " 80666    sv1  bgsmws sv1bgsmws    14 ...   bright      0.9  20210402 none none\n",
       " 80653    sv1  bgsmws sv1bgsmws    11 ...   bright      0.9  20210115 none none\n",
       " 80655    sv1  bgsmws sv1bgsmws    17 ...   bright      0.9  20210322 none none\n",
       " 80618    sv1  bgsmws sv1bgsmws    35 ...   bright      0.9  20210328 none none\n",
       " 80663    sv1  bgsmws sv1bgsmws    12 ...   bright      0.9  20210322 none none\n",
       " 80613    sv1  bgsmws sv1bgsmws    30 ...   bright      0.9  20210324 none none"
      ]
     },
     "execution_count": 9,
     "metadata": {},
     "output_type": "execute_result"
    }
   ],
   "source": [
    "tiles = tiles[tiles['FAPRGRM'] == 'bgsmws']\n",
    "tiles.sort('EFFTIME_GFA')\n",
    "tiles"
   ]
  },
  {
   "cell_type": "code",
   "execution_count": 10,
   "id": "87cff42f-c66e-45e7-9157-5ee9d88b917d",
   "metadata": {},
   "outputs": [],
   "source": [
    "utids, cnts = np.unique(tiles['TILEID'].data, return_counts=True)"
   ]
  },
  {
   "cell_type": "code",
   "execution_count": 11,
   "id": "e3692895-1b09-4780-95d1-78d43d7defd0",
   "metadata": {},
   "outputs": [
    {
     "data": {
      "text/plain": [
       "array([80611, 80612, 80613, 80614, 80616, 80617, 80618, 80619, 80624,\n",
       "       80626, 80627, 80628, 80629, 80632, 80633, 80635, 80636, 80637,\n",
       "       80638, 80639, 80640, 80641, 80642, 80643, 80644, 80645, 80646,\n",
       "       80647, 80648, 80649, 80650, 80651, 80652, 80653, 80654, 80655,\n",
       "       80656, 80657, 80658, 80659, 80660, 80661, 80662, 80663, 80664,\n",
       "       80665, 80666, 80740, 80741, 80742])"
      ]
     },
     "execution_count": 11,
     "metadata": {},
     "output_type": "execute_result"
    }
   ],
   "source": [
    "utids"
   ]
  },
  {
   "cell_type": "code",
   "execution_count": 12,
   "id": "17bc8108-b6bf-4d96-9b2b-53b7d4d3f9bc",
   "metadata": {},
   "outputs": [
    {
     "data": {
      "text/plain": [
       "1"
      ]
     },
     "execution_count": 12,
     "metadata": {},
     "output_type": "execute_result"
    }
   ],
   "source": [
    "cnts.max()"
   ]
  },
  {
   "cell_type": "code",
   "execution_count": 13,
   "id": "ca1cecfe-4fa1-47f5-8662-631fc034deb2",
   "metadata": {},
   "outputs": [
    {
     "data": {
      "text/plain": [
       "50"
      ]
     },
     "execution_count": 13,
     "metadata": {},
     "output_type": "execute_result"
    }
   ],
   "source": [
    "len(utids)"
   ]
  },
  {
   "cell_type": "code",
   "execution_count": 14,
   "id": "93904c19-7298-4718-96bd-ee8e8b5952d6",
   "metadata": {},
   "outputs": [
    {
     "data": {
      "text/plain": [
       "15"
      ]
     },
     "execution_count": 14,
     "metadata": {},
     "output_type": "execute_result"
    }
   ],
   "source": [
    "np.count_nonzero(tiles['ZDONE'] == 'false')"
   ]
  },
  {
   "cell_type": "code",
   "execution_count": 15,
   "id": "78b4b55a-6186-49e6-9b0c-382c898fb401",
   "metadata": {},
   "outputs": [
    {
     "data": {
      "text/plain": [
       "13"
      ]
     },
     "execution_count": 15,
     "metadata": {},
     "output_type": "execute_result"
    }
   ],
   "source": [
    "np.count_nonzero(tiles['EFFTIME_SPEC'] < 600.)"
   ]
  },
  {
   "cell_type": "code",
   "execution_count": 16,
   "id": "1538ca1a-68cb-48ad-b828-f0741a23e8ba",
   "metadata": {},
   "outputs": [
    {
     "data": {
      "text/plain": [
       "20"
      ]
     },
     "execution_count": 16,
     "metadata": {},
     "output_type": "execute_result"
    }
   ],
   "source": [
    "np.count_nonzero(tiles['EFFTIME_GFA'] < 600.)"
   ]
  },
  {
   "cell_type": "code",
   "execution_count": 17,
   "id": "3fa631dd-fdcf-4541-bb24-658990ee1df8",
   "metadata": {},
   "outputs": [
    {
     "data": {
      "text/plain": [
       "13"
      ]
     },
     "execution_count": 17,
     "metadata": {},
     "output_type": "execute_result"
    }
   ],
   "source": [
    "np.count_nonzero(tiles['OBSSTATUS'] == 'obsstart')"
   ]
  },
  {
   "cell_type": "code",
   "execution_count": 18,
   "id": "d41476a7-2986-4543-80e3-4bedf8f2c2d3",
   "metadata": {},
   "outputs": [
    {
     "data": {
      "text/html": [
       "<i>Table length=37</i>\n",
       "<table id=\"table46913304443488\" class=\"table-striped table-bordered table-condensed\">\n",
       "<thead><tr><th>TILEID</th><th>SURVEY</th><th>FAPRGRM</th><th>FAFLAVOR</th><th>NEXP</th><th>EXPTIME</th><th>TILERA</th><th>TILEDEC</th><th>EFFTIME_ETC</th><th>EFFTIME_SPEC</th><th>EFFTIME_GFA</th><th>GOALTIME</th><th>OBSSTATUS</th><th>ZDONE</th><th>ELG_EFFTIME_DARK</th><th>BGS_EFFTIME_BRIGHT</th><th>LYA_EFFTIME_DARK</th><th>GOALTYPE</th><th>MINTFRAC</th><th>LASTNIGHT</th><th>QA</th><th>USER</th></tr></thead>\n",
       "<thead><tr><th>int64</th><th>str7</th><th>str16</th><th>str19</th><th>int64</th><th>float64</th><th>float64</th><th>float64</th><th>float64</th><th>float64</th><th>float64</th><th>float64</th><th>str8</th><th>str5</th><th>float64</th><th>float64</th><th>float64</th><th>str7</th><th>float64</th><th>int64</th><th>str6</th><th>str7</th></tr></thead>\n",
       "<tr><td>80665</td><td>sv1</td><td>bgsmws</td><td>sv1bgsmws</td><td>9</td><td>3593.9</td><td>198.0</td><td>7.0</td><td>0.0</td><td>1273.3</td><td>0.0</td><td>600.0</td><td>obsend</td><td>true</td><td>1308.3</td><td>1273.3</td><td>1077.9</td><td>bright</td><td>0.9</td><td>20210322</td><td>none</td><td>none</td></tr>\n",
       "<tr><td>80660</td><td>sv1</td><td>bgsmws</td><td>sv1bgsmws</td><td>15</td><td>5614.1</td><td>168.382</td><td>50.4622</td><td>0.0</td><td>1676.4</td><td>0.0</td><td>600.0</td><td>obsend</td><td>true</td><td>1698.2</td><td>1676.4</td><td>1457.2</td><td>bright</td><td>0.9</td><td>20210131</td><td>none</td><td>none</td></tr>\n",
       "<tr><td>80659</td><td>sv1</td><td>bgsmws</td><td>sv1bgsmws</td><td>15</td><td>9949.0</td><td>165.0</td><td>32.375</td><td>0.0</td><td>866.9</td><td>0.0</td><td>600.0</td><td>obsend</td><td>true</td><td>935.7</td><td>866.9</td><td>635.0</td><td>bright</td><td>0.9</td><td>20210304</td><td>none</td><td>none</td></tr>\n",
       "<tr><td>80657</td><td>sv1</td><td>bgsmws</td><td>sv1bgsmws</td><td>7</td><td>5931.4</td><td>158.128</td><td>10.36</td><td>0.0</td><td>917.4</td><td>0.0</td><td>600.0</td><td>obsend</td><td>true</td><td>998.5</td><td>917.4</td><td>526.2</td><td>bright</td><td>0.9</td><td>20210331</td><td>none</td><td>none</td></tr>\n",
       "<tr><td>80650</td><td>sv1</td><td>bgsmws</td><td>sv1bgsmws</td><td>22</td><td>8411.6</td><td>135.0</td><td>83.0</td><td>0.0</td><td>2329.6</td><td>0.0</td><td>600.0</td><td>obsend</td><td>true</td><td>2390.8</td><td>2329.6</td><td>1642.3</td><td>bright</td><td>0.9</td><td>20210322</td><td>none</td><td>none</td></tr>\n",
       "<tr><td>80645</td><td>sv1</td><td>bgsmws</td><td>sv1bgsmws</td><td>13</td><td>3900.9</td><td>120.0</td><td>40.0</td><td>0.0</td><td>1942.3</td><td>0.0</td><td>600.0</td><td>obsend</td><td>true</td><td>2041.2</td><td>1942.3</td><td>1651.8</td><td>bright</td><td>0.9</td><td>20210205</td><td>none</td><td>none</td></tr>\n",
       "<tr><td>80624</td><td>sv1</td><td>bgsmws</td><td>sv1bgsmws</td><td>11</td><td>3300.9</td><td>4.0</td><td>10.0</td><td>0.0</td><td>652.2</td><td>574.7</td><td>600.0</td><td>obsend</td><td>true</td><td>674.6</td><td>652.2</td><td>378.5</td><td>bright</td><td>0.9</td><td>20210109</td><td>none</td><td>none</td></tr>\n",
       "<tr><td>80614</td><td>sv1</td><td>bgsmws</td><td>sv1bgsmws</td><td>12</td><td>3831.2</td><td>154.1</td><td>-1.375</td><td>0.0</td><td>622.2</td><td>649.2</td><td>600.0</td><td>obsend</td><td>true</td><td>670.4</td><td>622.2</td><td>377.5</td><td>bright</td><td>0.9</td><td>20210331</td><td>none</td><td>none</td></tr>\n",
       "<tr><td>80611</td><td>sv1</td><td>bgsmws</td><td>sv1bgsmws</td><td>13</td><td>3620.9</td><td>35.22</td><td>30.3</td><td>0.0</td><td>688.2</td><td>687.8</td><td>600.0</td><td>obsend</td><td>true</td><td>742.3</td><td>688.2</td><td>439.3</td><td>bright</td><td>0.9</td><td>20201222</td><td>none</td><td>none</td></tr>\n",
       "<tr><td>80632</td><td>sv1</td><td>bgsmws</td><td>sv1bgsmws</td><td>11</td><td>3088.9</td><td>31.5</td><td>-5.5</td><td>0.0</td><td>668.4</td><td>717.9</td><td>600.0</td><td>obsend</td><td>true</td><td>647.7</td><td>668.4</td><td>590.4</td><td>bright</td><td>0.9</td><td>20210222</td><td>none</td><td>none</td></tr>\n",
       "<tr><td>...</td><td>...</td><td>...</td><td>...</td><td>...</td><td>...</td><td>...</td><td>...</td><td>...</td><td>...</td><td>...</td><td>...</td><td>...</td><td>...</td><td>...</td><td>...</td><td>...</td><td>...</td><td>...</td><td>...</td><td>...</td><td>...</td></tr>\n",
       "<tr><td>80662</td><td>sv1</td><td>bgsmws</td><td>sv1bgsmws</td><td>14</td><td>6893.1</td><td>180.0</td><td>-0.5</td><td>0.0</td><td>1595.0</td><td>1574.9</td><td>600.0</td><td>obsend</td><td>true</td><td>1693.1</td><td>1595.0</td><td>1221.9</td><td>bright</td><td>0.9</td><td>20210322</td><td>none</td><td>none</td></tr>\n",
       "<tr><td>80661</td><td>sv1</td><td>bgsmws</td><td>sv1bgsmws</td><td>11</td><td>5116.1</td><td>176.0</td><td>-0.5</td><td>0.0</td><td>1533.5</td><td>1596.0</td><td>600.0</td><td>obsend</td><td>true</td><td>1589.0</td><td>1533.5</td><td>1258.5</td><td>bright</td><td>0.9</td><td>20210322</td><td>none</td><td>none</td></tr>\n",
       "<tr><td>80616</td><td>sv1</td><td>bgsmws</td><td>sv1bgsmws</td><td>18</td><td>5106.2</td><td>356.0</td><td>29.0</td><td>0.0</td><td>1569.4</td><td>1608.1</td><td>600.0</td><td>obsend</td><td>true</td><td>1713.6</td><td>1569.4</td><td>829.8</td><td>bright</td><td>0.9</td><td>20201223</td><td>none</td><td>none</td></tr>\n",
       "<tr><td>80646</td><td>sv1</td><td>bgsmws</td><td>sv1bgsmws</td><td>12</td><td>4698.4</td><td>125.0</td><td>32.375</td><td>0.0</td><td>1757.4</td><td>1663.6</td><td>600.0</td><td>obsend</td><td>true</td><td>1803.6</td><td>1757.4</td><td>1547.9</td><td>bright</td><td>0.9</td><td>20210205</td><td>none</td><td>none</td></tr>\n",
       "<tr><td>80666</td><td>sv1</td><td>bgsmws</td><td>sv1bgsmws</td><td>14</td><td>9248.6</td><td>204.0</td><td>3.0</td><td>0.0</td><td>1612.4</td><td>1726.1</td><td>600.0</td><td>obsend</td><td>true</td><td>1694.5</td><td>1612.4</td><td>1310.6</td><td>bright</td><td>0.9</td><td>20210402</td><td>none</td><td>none</td></tr>\n",
       "<tr><td>80653</td><td>sv1</td><td>bgsmws</td><td>sv1bgsmws</td><td>11</td><td>3300.8</td><td>152.54</td><td>40.3004</td><td>0.0</td><td>1756.4</td><td>1875.6</td><td>600.0</td><td>obsend</td><td>true</td><td>1717.9</td><td>1756.4</td><td>1688.6</td><td>bright</td><td>0.9</td><td>20210115</td><td>none</td><td>none</td></tr>\n",
       "<tr><td>80655</td><td>sv1</td><td>bgsmws</td><td>sv1bgsmws</td><td>17</td><td>7019.5</td><td>155.0</td><td>83.0</td><td>0.0</td><td>1951.3</td><td>1939.8</td><td>600.0</td><td>obsend</td><td>true</td><td>2034.1</td><td>1951.3</td><td>1290.4</td><td>bright</td><td>0.9</td><td>20210322</td><td>none</td><td>none</td></tr>\n",
       "<tr><td>80618</td><td>sv1</td><td>bgsmws</td><td>sv1bgsmws</td><td>35</td><td>11036.9</td><td>114.221</td><td>38.469</td><td>0.0</td><td>2283.0</td><td>2262.1</td><td>600.0</td><td>obsend</td><td>true</td><td>2488.6</td><td>2283.0</td><td>1570.1</td><td>bright</td><td>0.9</td><td>20210328</td><td>none</td><td>none</td></tr>\n",
       "<tr><td>80663</td><td>sv1</td><td>bgsmws</td><td>sv1bgsmws</td><td>12</td><td>8337.0</td><td>184.0</td><td>-0.5</td><td>0.0</td><td>2183.0</td><td>2296.2</td><td>600.0</td><td>obsend</td><td>true</td><td>2340.2</td><td>2183.0</td><td>1560.0</td><td>bright</td><td>0.9</td><td>20210322</td><td>none</td><td>none</td></tr>\n",
       "<tr><td>80613</td><td>sv1</td><td>bgsmws</td><td>sv1bgsmws</td><td>30</td><td>10975.0</td><td>106.74</td><td>56.1</td><td>0.0</td><td>3107.6</td><td>2812.5</td><td>600.0</td><td>obsend</td><td>false</td><td>3411.4</td><td>3107.6</td><td>2167.7</td><td>bright</td><td>0.9</td><td>20210324</td><td>none</td><td>none</td></tr>\n",
       "</table>"
      ],
      "text/plain": [
       "<Table length=37>\n",
       "TILEID SURVEY FAPRGRM  FAFLAVOR  NEXP ... GOALTYPE MINTFRAC LASTNIGHT  QA  USER\n",
       "int64   str7   str16    str19   int64 ...   str7   float64    int64   str6 str7\n",
       "------ ------ ------- --------- ----- ... -------- -------- --------- ---- ----\n",
       " 80665    sv1  bgsmws sv1bgsmws     9 ...   bright      0.9  20210322 none none\n",
       " 80660    sv1  bgsmws sv1bgsmws    15 ...   bright      0.9  20210131 none none\n",
       " 80659    sv1  bgsmws sv1bgsmws    15 ...   bright      0.9  20210304 none none\n",
       " 80657    sv1  bgsmws sv1bgsmws     7 ...   bright      0.9  20210331 none none\n",
       " 80650    sv1  bgsmws sv1bgsmws    22 ...   bright      0.9  20210322 none none\n",
       " 80645    sv1  bgsmws sv1bgsmws    13 ...   bright      0.9  20210205 none none\n",
       " 80624    sv1  bgsmws sv1bgsmws    11 ...   bright      0.9  20210109 none none\n",
       " 80614    sv1  bgsmws sv1bgsmws    12 ...   bright      0.9  20210331 none none\n",
       " 80611    sv1  bgsmws sv1bgsmws    13 ...   bright      0.9  20201222 none none\n",
       " 80632    sv1  bgsmws sv1bgsmws    11 ...   bright      0.9  20210222 none none\n",
       "   ...    ...     ...       ...   ... ...      ...      ...       ...  ...  ...\n",
       " 80662    sv1  bgsmws sv1bgsmws    14 ...   bright      0.9  20210322 none none\n",
       " 80661    sv1  bgsmws sv1bgsmws    11 ...   bright      0.9  20210322 none none\n",
       " 80616    sv1  bgsmws sv1bgsmws    18 ...   bright      0.9  20201223 none none\n",
       " 80646    sv1  bgsmws sv1bgsmws    12 ...   bright      0.9  20210205 none none\n",
       " 80666    sv1  bgsmws sv1bgsmws    14 ...   bright      0.9  20210402 none none\n",
       " 80653    sv1  bgsmws sv1bgsmws    11 ...   bright      0.9  20210115 none none\n",
       " 80655    sv1  bgsmws sv1bgsmws    17 ...   bright      0.9  20210322 none none\n",
       " 80618    sv1  bgsmws sv1bgsmws    35 ...   bright      0.9  20210328 none none\n",
       " 80663    sv1  bgsmws sv1bgsmws    12 ...   bright      0.9  20210322 none none\n",
       " 80613    sv1  bgsmws sv1bgsmws    30 ...   bright      0.9  20210324 none none"
      ]
     },
     "execution_count": 18,
     "metadata": {},
     "output_type": "execute_result"
    }
   ],
   "source": [
    "tiles = tiles[tiles['OBSSTATUS'] == 'obsend']\n",
    "tiles"
   ]
  },
  {
   "cell_type": "code",
   "execution_count": 19,
   "id": "d98ea85c-4cbf-4a78-b815-e689d582153b",
   "metadata": {},
   "outputs": [
    {
     "data": {
      "text/plain": [
       "37"
      ]
     },
     "execution_count": 19,
     "metadata": {},
     "output_type": "execute_result"
    }
   ],
   "source": [
    "ntileobs = np.count_nonzero(tiles['OBSSTATUS'] == 'obsend')\n",
    "ntileobs"
   ]
  },
  {
   "cell_type": "code",
   "execution_count": 20,
   "id": "d20a69ef-a87f-42c6-89a8-d6f16136e8c1",
   "metadata": {},
   "outputs": [
    {
     "data": {
      "text/plain": [
       "1.6280324520485583"
      ]
     },
     "execution_count": 20,
     "metadata": {},
     "output_type": "execute_result"
    }
   ],
   "source": [
    "trad = get_tile_radius_deg()\n",
    "trad"
   ]
  },
  {
   "cell_type": "code",
   "execution_count": 21,
   "id": "63beb511-c2c5-4358-9b50-03431df6a548",
   "metadata": {},
   "outputs": [
    {
     "data": {
      "text/plain": [
       "8.326758859738527"
      ]
     },
     "execution_count": 21,
     "metadata": {},
     "output_type": "execute_result"
    }
   ],
   "source": [
    "tarea = np.pi * trad**2.\n",
    "tarea"
   ]
  },
  {
   "cell_type": "code",
   "execution_count": 22,
   "id": "22ae01bc-fb8f-4ebc-ae3c-e85aeb7dd624",
   "metadata": {},
   "outputs": [
    {
     "data": {
      "text/plain": [
       "308.0900778103255"
      ]
     },
     "execution_count": 22,
     "metadata": {},
     "output_type": "execute_result"
    }
   ],
   "source": [
    "sv1_area = tarea * ntileobs\n",
    "sv1_area"
   ]
  },
  {
   "cell_type": "code",
   "execution_count": 23,
   "id": "70c7fdff-6e7b-4b46-8946-67cd15117a3d",
   "metadata": {},
   "outputs": [
    {
     "data": {
      "text/plain": [
       "123.2"
      ]
     },
     "execution_count": 23,
     "metadata": {},
     "output_type": "execute_result"
    }
   ],
   "source": [
    "# 40% chance of assignment in MINISV (true of restricted reach in SV1?)\n",
    "308. * 0.40"
   ]
  },
  {
   "cell_type": "code",
   "execution_count": 24,
   "id": "94e301a1-383b-4a01-aa1c-f0b6cb77bdf6",
   "metadata": {},
   "outputs": [
    {
     "data": {
      "text/plain": [
       "<matplotlib.collections.PatchCollection at 0x2aaadad60e80>"
      ]
     },
     "execution_count": 24,
     "metadata": {},
     "output_type": "execute_result"
    },
    {
     "data": {
      "image/png": "[encoded data removed]",
      "text/plain": [
       "<Figure size 800x640 with 1 Axes>"
      ]
     },
     "metadata": {
      "needs_background": "light"
     },
     "output_type": "display_data"
    }
   ],
   "source": [
    "figure(figsize=(10, 8), dpi=80)\n",
    "\n",
    "circles(tiles['TILERA'].data, tiles['TILEDEC'].data, s=1.628, c='k', vmin=None, vmax=None)"
   ]
  },
  {
   "cell_type": "code",
   "execution_count": 25,
   "id": "be0c14b8-03be-49d7-8a45-cf78740b88a4",
   "metadata": {},
   "outputs": [
    {
     "data": {
      "text/plain": [
       "<matplotlib.collections.PatchCollection at 0x2aaadaea66a0>"
      ]
     },
     "execution_count": 25,
     "metadata": {},
     "output_type": "execute_result"
    },
    {
     "data": {
      "image/png": "[encoded data removed]",
      "text/plain": [
       "<Figure size 800x640 with 1 Axes>"
      ]
     },
     "metadata": {
      "needs_background": "light"
     },
     "output_type": "display_data"
    }
   ],
   "source": [
    "figure(figsize=(10, 8), dpi=80)\n",
    "\n",
    "circles(tiles['TILERA'].data[0], tiles['TILEDEC'].data[0], s=1.628, c='k', vmin=None, vmax=None)"
   ]
  },
  {
   "cell_type": "code",
   "execution_count": 26,
   "id": "7ce878e0-a36e-49ef-be26-354ebf08653e",
   "metadata": {},
   "outputs": [
    {
     "data": {
      "text/plain": [
       "array([   0. ,    0. ,    0. ,    0. ,    0. ,    0. ,  574.7,  649.2,\n",
       "        687.8,  717.9,  785.4,  839.6,  890.6,  997. , 1011.9, 1018.6,\n",
       "       1041.1, 1196.7, 1266.5, 1269.2, 1347.3, 1357. , 1406.9, 1434.2,\n",
       "       1467.6, 1471.5, 1574. , 1574.9, 1596. , 1608.1, 1663.6, 1726.1,\n",
       "       1875.6, 1939.8, 2262.1, 2296.2, 2812.5])"
      ]
     },
     "execution_count": 26,
     "metadata": {},
     "output_type": "execute_result"
    }
   ],
   "source": [
    "np.sort(tiles['EFFTIME_GFA'].data)"
   ]
  },
  {
   "cell_type": "code",
   "execution_count": 27,
   "id": "95f4dccc-b5e9-4458-b55b-05fe197cbe1e",
   "metadata": {},
   "outputs": [
    {
     "data": {
      "image/png": "[encoded data removed]",
      "text/plain": [
       "<Figure size 432x288 with 1 Axes>"
      ]
     },
     "metadata": {
      "needs_background": "light"
     },
     "output_type": "display_data"
    }
   ],
   "source": [
    "_ = pl.hist(tiles['EFFTIME_GFA'].data, bins=np.arange(0.0, 3000., 100.), histtype='step')"
   ]
  },
  {
   "cell_type": "markdown",
   "id": "d660d31a-ff1c-46f9-ad9f-59b233dce318",
   "metadata": {},
   "source": [
    "##  LSS SV1 randoms"
   ]
  },
  {
   "cell_type": "code",
   "execution_count": 28,
   "id": "f531b064-b16d-48f5-aeaa-19e17d05f958",
   "metadata": {},
   "outputs": [
    {
     "data": {
      "text/html": [
       "<i>Table length=37</i>\n",
       "<table id=\"table46913304443488\" class=\"table-striped table-bordered table-condensed\">\n",
       "<thead><tr><th>TILEID</th><th>SURVEY</th><th>FAPRGRM</th><th>FAFLAVOR</th><th>NEXP</th><th>EXPTIME</th><th>TILERA</th><th>TILEDEC</th><th>EFFTIME_ETC</th><th>EFFTIME_SPEC</th><th>EFFTIME_GFA</th><th>GOALTIME</th><th>OBSSTATUS</th><th>ZDONE</th><th>ELG_EFFTIME_DARK</th><th>BGS_EFFTIME_BRIGHT</th><th>LYA_EFFTIME_DARK</th><th>GOALTYPE</th><th>MINTFRAC</th><th>LASTNIGHT</th><th>QA</th><th>USER</th></tr></thead>\n",
       "<thead><tr><th>int64</th><th>str7</th><th>str16</th><th>str19</th><th>int64</th><th>float64</th><th>float64</th><th>float64</th><th>float64</th><th>float64</th><th>float64</th><th>float64</th><th>str8</th><th>str5</th><th>float64</th><th>float64</th><th>float64</th><th>str7</th><th>float64</th><th>int64</th><th>str6</th><th>str7</th></tr></thead>\n",
       "<tr><td>80665</td><td>sv1</td><td>bgsmws</td><td>sv1bgsmws</td><td>9</td><td>3593.9</td><td>198.0</td><td>7.0</td><td>0.0</td><td>1273.3</td><td>0.0</td><td>600.0</td><td>obsend</td><td>true</td><td>1308.3</td><td>1273.3</td><td>1077.9</td><td>bright</td><td>0.9</td><td>20210322</td><td>none</td><td>none</td></tr>\n",
       "<tr><td>80660</td><td>sv1</td><td>bgsmws</td><td>sv1bgsmws</td><td>15</td><td>5614.1</td><td>168.382</td><td>50.4622</td><td>0.0</td><td>1676.4</td><td>0.0</td><td>600.0</td><td>obsend</td><td>true</td><td>1698.2</td><td>1676.4</td><td>1457.2</td><td>bright</td><td>0.9</td><td>20210131</td><td>none</td><td>none</td></tr>\n",
       "<tr><td>80659</td><td>sv1</td><td>bgsmws</td><td>sv1bgsmws</td><td>15</td><td>9949.0</td><td>165.0</td><td>32.375</td><td>0.0</td><td>866.9</td><td>0.0</td><td>600.0</td><td>obsend</td><td>true</td><td>935.7</td><td>866.9</td><td>635.0</td><td>bright</td><td>0.9</td><td>20210304</td><td>none</td><td>none</td></tr>\n",
       "<tr><td>80657</td><td>sv1</td><td>bgsmws</td><td>sv1bgsmws</td><td>7</td><td>5931.4</td><td>158.128</td><td>10.36</td><td>0.0</td><td>917.4</td><td>0.0</td><td>600.0</td><td>obsend</td><td>true</td><td>998.5</td><td>917.4</td><td>526.2</td><td>bright</td><td>0.9</td><td>20210331</td><td>none</td><td>none</td></tr>\n",
       "<tr><td>80650</td><td>sv1</td><td>bgsmws</td><td>sv1bgsmws</td><td>22</td><td>8411.6</td><td>135.0</td><td>83.0</td><td>0.0</td><td>2329.6</td><td>0.0</td><td>600.0</td><td>obsend</td><td>true</td><td>2390.8</td><td>2329.6</td><td>1642.3</td><td>bright</td><td>0.9</td><td>20210322</td><td>none</td><td>none</td></tr>\n",
       "<tr><td>80645</td><td>sv1</td><td>bgsmws</td><td>sv1bgsmws</td><td>13</td><td>3900.9</td><td>120.0</td><td>40.0</td><td>0.0</td><td>1942.3</td><td>0.0</td><td>600.0</td><td>obsend</td><td>true</td><td>2041.2</td><td>1942.3</td><td>1651.8</td><td>bright</td><td>0.9</td><td>20210205</td><td>none</td><td>none</td></tr>\n",
       "<tr><td>80624</td><td>sv1</td><td>bgsmws</td><td>sv1bgsmws</td><td>11</td><td>3300.9</td><td>4.0</td><td>10.0</td><td>0.0</td><td>652.2</td><td>574.7</td><td>600.0</td><td>obsend</td><td>true</td><td>674.6</td><td>652.2</td><td>378.5</td><td>bright</td><td>0.9</td><td>20210109</td><td>none</td><td>none</td></tr>\n",
       "<tr><td>80614</td><td>sv1</td><td>bgsmws</td><td>sv1bgsmws</td><td>12</td><td>3831.2</td><td>154.1</td><td>-1.375</td><td>0.0</td><td>622.2</td><td>649.2</td><td>600.0</td><td>obsend</td><td>true</td><td>670.4</td><td>622.2</td><td>377.5</td><td>bright</td><td>0.9</td><td>20210331</td><td>none</td><td>none</td></tr>\n",
       "<tr><td>80611</td><td>sv1</td><td>bgsmws</td><td>sv1bgsmws</td><td>13</td><td>3620.9</td><td>35.22</td><td>30.3</td><td>0.0</td><td>688.2</td><td>687.8</td><td>600.0</td><td>obsend</td><td>true</td><td>742.3</td><td>688.2</td><td>439.3</td><td>bright</td><td>0.9</td><td>20201222</td><td>none</td><td>none</td></tr>\n",
       "<tr><td>80632</td><td>sv1</td><td>bgsmws</td><td>sv1bgsmws</td><td>11</td><td>3088.9</td><td>31.5</td><td>-5.5</td><td>0.0</td><td>668.4</td><td>717.9</td><td>600.0</td><td>obsend</td><td>true</td><td>647.7</td><td>668.4</td><td>590.4</td><td>bright</td><td>0.9</td><td>20210222</td><td>none</td><td>none</td></tr>\n",
       "<tr><td>...</td><td>...</td><td>...</td><td>...</td><td>...</td><td>...</td><td>...</td><td>...</td><td>...</td><td>...</td><td>...</td><td>...</td><td>...</td><td>...</td><td>...</td><td>...</td><td>...</td><td>...</td><td>...</td><td>...</td><td>...</td><td>...</td></tr>\n",
       "<tr><td>80662</td><td>sv1</td><td>bgsmws</td><td>sv1bgsmws</td><td>14</td><td>6893.1</td><td>180.0</td><td>-0.5</td><td>0.0</td><td>1595.0</td><td>1574.9</td><td>600.0</td><td>obsend</td><td>true</td><td>1693.1</td><td>1595.0</td><td>1221.9</td><td>bright</td><td>0.9</td><td>20210322</td><td>none</td><td>none</td></tr>\n",
       "<tr><td>80661</td><td>sv1</td><td>bgsmws</td><td>sv1bgsmws</td><td>11</td><td>5116.1</td><td>176.0</td><td>-0.5</td><td>0.0</td><td>1533.5</td><td>1596.0</td><td>600.0</td><td>obsend</td><td>true</td><td>1589.0</td><td>1533.5</td><td>1258.5</td><td>bright</td><td>0.9</td><td>20210322</td><td>none</td><td>none</td></tr>\n",
       "<tr><td>80616</td><td>sv1</td><td>bgsmws</td><td>sv1bgsmws</td><td>18</td><td>5106.2</td><td>356.0</td><td>29.0</td><td>0.0</td><td>1569.4</td><td>1608.1</td><td>600.0</td><td>obsend</td><td>true</td><td>1713.6</td><td>1569.4</td><td>829.8</td><td>bright</td><td>0.9</td><td>20201223</td><td>none</td><td>none</td></tr>\n",
       "<tr><td>80646</td><td>sv1</td><td>bgsmws</td><td>sv1bgsmws</td><td>12</td><td>4698.4</td><td>125.0</td><td>32.375</td><td>0.0</td><td>1757.4</td><td>1663.6</td><td>600.0</td><td>obsend</td><td>true</td><td>1803.6</td><td>1757.4</td><td>1547.9</td><td>bright</td><td>0.9</td><td>20210205</td><td>none</td><td>none</td></tr>\n",
       "<tr><td>80666</td><td>sv1</td><td>bgsmws</td><td>sv1bgsmws</td><td>14</td><td>9248.6</td><td>204.0</td><td>3.0</td><td>0.0</td><td>1612.4</td><td>1726.1</td><td>600.0</td><td>obsend</td><td>true</td><td>1694.5</td><td>1612.4</td><td>1310.6</td><td>bright</td><td>0.9</td><td>20210402</td><td>none</td><td>none</td></tr>\n",
       "<tr><td>80653</td><td>sv1</td><td>bgsmws</td><td>sv1bgsmws</td><td>11</td><td>3300.8</td><td>152.54</td><td>40.3004</td><td>0.0</td><td>1756.4</td><td>1875.6</td><td>600.0</td><td>obsend</td><td>true</td><td>1717.9</td><td>1756.4</td><td>1688.6</td><td>bright</td><td>0.9</td><td>20210115</td><td>none</td><td>none</td></tr>\n",
       "<tr><td>80655</td><td>sv1</td><td>bgsmws</td><td>sv1bgsmws</td><td>17</td><td>7019.5</td><td>155.0</td><td>83.0</td><td>0.0</td><td>1951.3</td><td>1939.8</td><td>600.0</td><td>obsend</td><td>true</td><td>2034.1</td><td>1951.3</td><td>1290.4</td><td>bright</td><td>0.9</td><td>20210322</td><td>none</td><td>none</td></tr>\n",
       "<tr><td>80618</td><td>sv1</td><td>bgsmws</td><td>sv1bgsmws</td><td>35</td><td>11036.9</td><td>114.221</td><td>38.469</td><td>0.0</td><td>2283.0</td><td>2262.1</td><td>600.0</td><td>obsend</td><td>true</td><td>2488.6</td><td>2283.0</td><td>1570.1</td><td>bright</td><td>0.9</td><td>20210328</td><td>none</td><td>none</td></tr>\n",
       "<tr><td>80663</td><td>sv1</td><td>bgsmws</td><td>sv1bgsmws</td><td>12</td><td>8337.0</td><td>184.0</td><td>-0.5</td><td>0.0</td><td>2183.0</td><td>2296.2</td><td>600.0</td><td>obsend</td><td>true</td><td>2340.2</td><td>2183.0</td><td>1560.0</td><td>bright</td><td>0.9</td><td>20210322</td><td>none</td><td>none</td></tr>\n",
       "<tr><td>80613</td><td>sv1</td><td>bgsmws</td><td>sv1bgsmws</td><td>30</td><td>10975.0</td><td>106.74</td><td>56.1</td><td>0.0</td><td>3107.6</td><td>2812.5</td><td>600.0</td><td>obsend</td><td>false</td><td>3411.4</td><td>3107.6</td><td>2167.7</td><td>bright</td><td>0.9</td><td>20210324</td><td>none</td><td>none</td></tr>\n",
       "</table>"
      ],
      "text/plain": [
       "<Table length=37>\n",
       "TILEID SURVEY FAPRGRM  FAFLAVOR  NEXP ... GOALTYPE MINTFRAC LASTNIGHT  QA  USER\n",
       "int64   str7   str16    str19   int64 ...   str7   float64    int64   str6 str7\n",
       "------ ------ ------- --------- ----- ... -------- -------- --------- ---- ----\n",
       " 80665    sv1  bgsmws sv1bgsmws     9 ...   bright      0.9  20210322 none none\n",
       " 80660    sv1  bgsmws sv1bgsmws    15 ...   bright      0.9  20210131 none none\n",
       " 80659    sv1  bgsmws sv1bgsmws    15 ...   bright      0.9  20210304 none none\n",
       " 80657    sv1  bgsmws sv1bgsmws     7 ...   bright      0.9  20210331 none none\n",
       " 80650    sv1  bgsmws sv1bgsmws    22 ...   bright      0.9  20210322 none none\n",
       " 80645    sv1  bgsmws sv1bgsmws    13 ...   bright      0.9  20210205 none none\n",
       " 80624    sv1  bgsmws sv1bgsmws    11 ...   bright      0.9  20210109 none none\n",
       " 80614    sv1  bgsmws sv1bgsmws    12 ...   bright      0.9  20210331 none none\n",
       " 80611    sv1  bgsmws sv1bgsmws    13 ...   bright      0.9  20201222 none none\n",
       " 80632    sv1  bgsmws sv1bgsmws    11 ...   bright      0.9  20210222 none none\n",
       "   ...    ...     ...       ...   ... ...      ...      ...       ...  ...  ...\n",
       " 80662    sv1  bgsmws sv1bgsmws    14 ...   bright      0.9  20210322 none none\n",
       " 80661    sv1  bgsmws sv1bgsmws    11 ...   bright      0.9  20210322 none none\n",
       " 80616    sv1  bgsmws sv1bgsmws    18 ...   bright      0.9  20201223 none none\n",
       " 80646    sv1  bgsmws sv1bgsmws    12 ...   bright      0.9  20210205 none none\n",
       " 80666    sv1  bgsmws sv1bgsmws    14 ...   bright      0.9  20210402 none none\n",
       " 80653    sv1  bgsmws sv1bgsmws    11 ...   bright      0.9  20210115 none none\n",
       " 80655    sv1  bgsmws sv1bgsmws    17 ...   bright      0.9  20210322 none none\n",
       " 80618    sv1  bgsmws sv1bgsmws    35 ...   bright      0.9  20210328 none none\n",
       " 80663    sv1  bgsmws sv1bgsmws    12 ...   bright      0.9  20210322 none none\n",
       " 80613    sv1  bgsmws sv1bgsmws    30 ...   bright      0.9  20210324 none none"
      ]
     },
     "execution_count": 28,
     "metadata": {},
     "output_type": "execute_result"
    }
   ],
   "source": [
    "tiles"
   ]
  },
  {
   "cell_type": "code",
   "execution_count": 29,
   "id": "52224493-25e9-4cc7-9691-0a6caea5791c",
   "metadata": {},
   "outputs": [
    {
     "data": {
      "text/plain": [
       "['/global/cfs/cdirs/desi/survey/catalogs/SV1/LSS/random0/fba-080605.fits',\n",
       " '/global/cfs/cdirs/desi/survey/catalogs/SV1/LSS/random0/fba-080606.fits',\n",
       " '/global/cfs/cdirs/desi/survey/catalogs/SV1/LSS/random0/fba-080607.fits',\n",
       " '/global/cfs/cdirs/desi/survey/catalogs/SV1/LSS/random0/fba-080608.fits',\n",
       " '/global/cfs/cdirs/desi/survey/catalogs/SV1/LSS/random0/fba-080609.fits',\n",
       " '/global/cfs/cdirs/desi/survey/catalogs/SV1/LSS/random0/fba-080610.fits',\n",
       " '/global/cfs/cdirs/desi/survey/catalogs/SV1/LSS/random0/fba-080611.fits',\n",
       " '/global/cfs/cdirs/desi/survey/catalogs/SV1/LSS/random0/fba-080612.fits',\n",
       " '/global/cfs/cdirs/desi/survey/catalogs/SV1/LSS/random0/fba-080613.fits',\n",
       " '/global/cfs/cdirs/desi/survey/catalogs/SV1/LSS/random0/fba-080614.fits',\n",
       " '/global/cfs/cdirs/desi/survey/catalogs/SV1/LSS/random0/fba-080616.fits',\n",
       " '/global/cfs/cdirs/desi/survey/catalogs/SV1/LSS/random0/fba-080617.fits',\n",
       " '/global/cfs/cdirs/desi/survey/catalogs/SV1/LSS/random0/fba-080618.fits',\n",
       " '/global/cfs/cdirs/desi/survey/catalogs/SV1/LSS/random0/fba-080619.fits',\n",
       " '/global/cfs/cdirs/desi/survey/catalogs/SV1/LSS/random0/fba-080620.fits',\n",
       " '/global/cfs/cdirs/desi/survey/catalogs/SV1/LSS/random0/fba-080621.fits',\n",
       " '/global/cfs/cdirs/desi/survey/catalogs/SV1/LSS/random0/fba-080622.fits',\n",
       " '/global/cfs/cdirs/desi/survey/catalogs/SV1/LSS/random0/fba-080623.fits',\n",
       " '/global/cfs/cdirs/desi/survey/catalogs/SV1/LSS/random0/fba-080624.fits',\n",
       " '/global/cfs/cdirs/desi/survey/catalogs/SV1/LSS/random0/fba-080626.fits',\n",
       " '/global/cfs/cdirs/desi/survey/catalogs/SV1/LSS/random0/fba-080627.fits',\n",
       " '/global/cfs/cdirs/desi/survey/catalogs/SV1/LSS/random0/fba-080628.fits',\n",
       " '/global/cfs/cdirs/desi/survey/catalogs/SV1/LSS/random0/fba-080629.fits',\n",
       " '/global/cfs/cdirs/desi/survey/catalogs/SV1/LSS/random0/fba-080632.fits',\n",
       " '/global/cfs/cdirs/desi/survey/catalogs/SV1/LSS/random0/fba-080633.fits',\n",
       " '/global/cfs/cdirs/desi/survey/catalogs/SV1/LSS/random0/fba-080635.fits',\n",
       " '/global/cfs/cdirs/desi/survey/catalogs/SV1/LSS/random0/fba-080636.fits',\n",
       " '/global/cfs/cdirs/desi/survey/catalogs/SV1/LSS/random0/fba-080637.fits',\n",
       " '/global/cfs/cdirs/desi/survey/catalogs/SV1/LSS/random0/fba-080638.fits',\n",
       " '/global/cfs/cdirs/desi/survey/catalogs/SV1/LSS/random0/fba-080639.fits',\n",
       " '/global/cfs/cdirs/desi/survey/catalogs/SV1/LSS/random0/fba-080640.fits',\n",
       " '/global/cfs/cdirs/desi/survey/catalogs/SV1/LSS/random0/fba-080641.fits',\n",
       " '/global/cfs/cdirs/desi/survey/catalogs/SV1/LSS/random0/fba-080642.fits',\n",
       " '/global/cfs/cdirs/desi/survey/catalogs/SV1/LSS/random0/fba-080643.fits',\n",
       " '/global/cfs/cdirs/desi/survey/catalogs/SV1/LSS/random0/fba-080644.fits',\n",
       " '/global/cfs/cdirs/desi/survey/catalogs/SV1/LSS/random0/fba-080645.fits',\n",
       " '/global/cfs/cdirs/desi/survey/catalogs/SV1/LSS/random0/fba-080646.fits',\n",
       " '/global/cfs/cdirs/desi/survey/catalogs/SV1/LSS/random0/fba-080647.fits',\n",
       " '/global/cfs/cdirs/desi/survey/catalogs/SV1/LSS/random0/fba-080648.fits',\n",
       " '/global/cfs/cdirs/desi/survey/catalogs/SV1/LSS/random0/fba-080649.fits',\n",
       " '/global/cfs/cdirs/desi/survey/catalogs/SV1/LSS/random0/fba-080650.fits',\n",
       " '/global/cfs/cdirs/desi/survey/catalogs/SV1/LSS/random0/fba-080651.fits',\n",
       " '/global/cfs/cdirs/desi/survey/catalogs/SV1/LSS/random0/fba-080652.fits',\n",
       " '/global/cfs/cdirs/desi/survey/catalogs/SV1/LSS/random0/fba-080653.fits',\n",
       " '/global/cfs/cdirs/desi/survey/catalogs/SV1/LSS/random0/fba-080654.fits',\n",
       " '/global/cfs/cdirs/desi/survey/catalogs/SV1/LSS/random0/fba-080655.fits',\n",
       " '/global/cfs/cdirs/desi/survey/catalogs/SV1/LSS/random0/fba-080656.fits',\n",
       " '/global/cfs/cdirs/desi/survey/catalogs/SV1/LSS/random0/fba-080657.fits',\n",
       " '/global/cfs/cdirs/desi/survey/catalogs/SV1/LSS/random0/fba-080658.fits',\n",
       " '/global/cfs/cdirs/desi/survey/catalogs/SV1/LSS/random0/fba-080659.fits',\n",
       " '/global/cfs/cdirs/desi/survey/catalogs/SV1/LSS/random0/fba-080660.fits',\n",
       " '/global/cfs/cdirs/desi/survey/catalogs/SV1/LSS/random0/fba-080661.fits',\n",
       " '/global/cfs/cdirs/desi/survey/catalogs/SV1/LSS/random0/fba-080662.fits',\n",
       " '/global/cfs/cdirs/desi/survey/catalogs/SV1/LSS/random0/fba-080663.fits',\n",
       " '/global/cfs/cdirs/desi/survey/catalogs/SV1/LSS/random0/fba-080664.fits',\n",
       " '/global/cfs/cdirs/desi/survey/catalogs/SV1/LSS/random0/fba-080665.fits',\n",
       " '/global/cfs/cdirs/desi/survey/catalogs/SV1/LSS/random0/fba-080666.fits',\n",
       " '/global/cfs/cdirs/desi/survey/catalogs/SV1/LSS/random0/fba-080669.fits',\n",
       " '/global/cfs/cdirs/desi/survey/catalogs/SV1/LSS/random0/fba-080670.fits',\n",
       " '/global/cfs/cdirs/desi/survey/catalogs/SV1/LSS/random0/fba-080673.fits',\n",
       " '/global/cfs/cdirs/desi/survey/catalogs/SV1/LSS/random0/fba-080674.fits',\n",
       " '/global/cfs/cdirs/desi/survey/catalogs/SV1/LSS/random0/fba-080675.fits',\n",
       " '/global/cfs/cdirs/desi/survey/catalogs/SV1/LSS/random0/fba-080676.fits',\n",
       " '/global/cfs/cdirs/desi/survey/catalogs/SV1/LSS/random0/fba-080677.fits',\n",
       " '/global/cfs/cdirs/desi/survey/catalogs/SV1/LSS/random0/fba-080678.fits',\n",
       " '/global/cfs/cdirs/desi/survey/catalogs/SV1/LSS/random0/fba-080679.fits',\n",
       " '/global/cfs/cdirs/desi/survey/catalogs/SV1/LSS/random0/fba-080680.fits',\n",
       " '/global/cfs/cdirs/desi/survey/catalogs/SV1/LSS/random0/fba-080681.fits',\n",
       " '/global/cfs/cdirs/desi/survey/catalogs/SV1/LSS/random0/fba-080682.fits',\n",
       " '/global/cfs/cdirs/desi/survey/catalogs/SV1/LSS/random0/fba-080683.fits',\n",
       " '/global/cfs/cdirs/desi/survey/catalogs/SV1/LSS/random0/fba-080684.fits',\n",
       " '/global/cfs/cdirs/desi/survey/catalogs/SV1/LSS/random0/fba-080685.fits',\n",
       " '/global/cfs/cdirs/desi/survey/catalogs/SV1/LSS/random0/fba-080686.fits',\n",
       " '/global/cfs/cdirs/desi/survey/catalogs/SV1/LSS/random0/fba-080687.fits',\n",
       " '/global/cfs/cdirs/desi/survey/catalogs/SV1/LSS/random0/fba-080688.fits',\n",
       " '/global/cfs/cdirs/desi/survey/catalogs/SV1/LSS/random0/fba-080689.fits',\n",
       " '/global/cfs/cdirs/desi/survey/catalogs/SV1/LSS/random0/fba-080690.fits',\n",
       " '/global/cfs/cdirs/desi/survey/catalogs/SV1/LSS/random0/fba-080691.fits',\n",
       " '/global/cfs/cdirs/desi/survey/catalogs/SV1/LSS/random0/fba-080692.fits',\n",
       " '/global/cfs/cdirs/desi/survey/catalogs/SV1/LSS/random0/fba-080693.fits',\n",
       " '/global/cfs/cdirs/desi/survey/catalogs/SV1/LSS/random0/fba-080694.fits',\n",
       " '/global/cfs/cdirs/desi/survey/catalogs/SV1/LSS/random0/fba-080695.fits',\n",
       " '/global/cfs/cdirs/desi/survey/catalogs/SV1/LSS/random0/fba-080696.fits',\n",
       " '/global/cfs/cdirs/desi/survey/catalogs/SV1/LSS/random0/fba-080697.fits',\n",
       " '/global/cfs/cdirs/desi/survey/catalogs/SV1/LSS/random0/fba-080698.fits',\n",
       " '/global/cfs/cdirs/desi/survey/catalogs/SV1/LSS/random0/fba-080699.fits',\n",
       " '/global/cfs/cdirs/desi/survey/catalogs/SV1/LSS/random0/fba-080700.fits',\n",
       " '/global/cfs/cdirs/desi/survey/catalogs/SV1/LSS/random0/fba-080701.fits',\n",
       " '/global/cfs/cdirs/desi/survey/catalogs/SV1/LSS/random0/fba-080702.fits',\n",
       " '/global/cfs/cdirs/desi/survey/catalogs/SV1/LSS/random0/fba-080703.fits',\n",
       " '/global/cfs/cdirs/desi/survey/catalogs/SV1/LSS/random0/fba-080705.fits',\n",
       " '/global/cfs/cdirs/desi/survey/catalogs/SV1/LSS/random0/fba-080706.fits',\n",
       " '/global/cfs/cdirs/desi/survey/catalogs/SV1/LSS/random0/fba-080707.fits',\n",
       " '/global/cfs/cdirs/desi/survey/catalogs/SV1/LSS/random0/fba-080708.fits',\n",
       " '/global/cfs/cdirs/desi/survey/catalogs/SV1/LSS/random0/fba-080709.fits',\n",
       " '/global/cfs/cdirs/desi/survey/catalogs/SV1/LSS/random0/fba-080710.fits',\n",
       " '/global/cfs/cdirs/desi/survey/catalogs/SV1/LSS/random0/fba-080711.fits',\n",
       " '/global/cfs/cdirs/desi/survey/catalogs/SV1/LSS/random0/fba-080712.fits',\n",
       " '/global/cfs/cdirs/desi/survey/catalogs/SV1/LSS/random0/fba-080740.fits',\n",
       " '/global/cfs/cdirs/desi/survey/catalogs/SV1/LSS/random0/fba-080741.fits',\n",
       " '/global/cfs/cdirs/desi/survey/catalogs/SV1/LSS/random0/fba-080742.fits',\n",
       " '/global/cfs/cdirs/desi/survey/catalogs/SV1/LSS/random0/fba-080856.fits',\n",
       " '/global/cfs/cdirs/desi/survey/catalogs/SV1/LSS/random0/fba-080857.fits',\n",
       " '/global/cfs/cdirs/desi/survey/catalogs/SV1/LSS/random0/fba-080858.fits',\n",
       " '/global/cfs/cdirs/desi/survey/catalogs/SV1/LSS/random0/fba-080859.fits',\n",
       " '/global/cfs/cdirs/desi/survey/catalogs/SV1/LSS/random0/fba-080860.fits',\n",
       " '/global/cfs/cdirs/desi/survey/catalogs/SV1/LSS/random0/fba-080861.fits']"
      ]
     },
     "execution_count": 29,
     "metadata": {},
     "output_type": "execute_result"
    }
   ],
   "source": [
    "fbas = glob.glob('/global/cfs/cdirs/desi/survey/catalogs/SV1/LSS/random0/fba-*')\n",
    "fbas = sorted(fbas)\n",
    "fbas"
   ]
  },
  {
   "cell_type": "code",
   "execution_count": 30,
   "id": "e5905dde-023a-4ce7-aee3-7ef0cd885c55",
   "metadata": {},
   "outputs": [],
   "source": [
    "keep = [fits.open(fba)[0].header['TILEID'] in tiles['TILEID'] for fba in fbas]"
   ]
  },
  {
   "cell_type": "code",
   "execution_count": 31,
   "id": "8c574a3a-cd9e-44b0-901d-ff4de5d91f6a",
   "metadata": {},
   "outputs": [
    {
     "data": {
      "text/plain": [
       "0.34579439252336447"
      ]
     },
     "execution_count": 31,
     "metadata": {},
     "output_type": "execute_result"
    }
   ],
   "source": [
    "np.mean(keep)"
   ]
  },
  {
   "cell_type": "code",
   "execution_count": 32,
   "id": "ee870296-2802-4cc6-9131-67ebd1ed4d43",
   "metadata": {},
   "outputs": [],
   "source": [
    "fbas = np.array(fbas)[keep]"
   ]
  },
  {
   "cell_type": "code",
   "execution_count": 33,
   "id": "0d657a69-193c-4135-a95e-3ca5db435a19",
   "metadata": {},
   "outputs": [
    {
     "data": {
      "text/plain": [
       "array(['/global/cfs/cdirs/desi/survey/catalogs/SV1/LSS/random0/fba-080611.fits',\n",
       "       '/global/cfs/cdirs/desi/survey/catalogs/SV1/LSS/random0/fba-080612.fits',\n",
       "       '/global/cfs/cdirs/desi/survey/catalogs/SV1/LSS/random0/fba-080613.fits',\n",
       "       '/global/cfs/cdirs/desi/survey/catalogs/SV1/LSS/random0/fba-080614.fits',\n",
       "       '/global/cfs/cdirs/desi/survey/catalogs/SV1/LSS/random0/fba-080616.fits',\n",
       "       '/global/cfs/cdirs/desi/survey/catalogs/SV1/LSS/random0/fba-080617.fits',\n",
       "       '/global/cfs/cdirs/desi/survey/catalogs/SV1/LSS/random0/fba-080618.fits',\n",
       "       '/global/cfs/cdirs/desi/survey/catalogs/SV1/LSS/random0/fba-080619.fits',\n",
       "       '/global/cfs/cdirs/desi/survey/catalogs/SV1/LSS/random0/fba-080624.fits',\n",
       "       '/global/cfs/cdirs/desi/survey/catalogs/SV1/LSS/random0/fba-080629.fits',\n",
       "       '/global/cfs/cdirs/desi/survey/catalogs/SV1/LSS/random0/fba-080632.fits',\n",
       "       '/global/cfs/cdirs/desi/survey/catalogs/SV1/LSS/random0/fba-080633.fits',\n",
       "       '/global/cfs/cdirs/desi/survey/catalogs/SV1/LSS/random0/fba-080641.fits',\n",
       "       '/global/cfs/cdirs/desi/survey/catalogs/SV1/LSS/random0/fba-080642.fits',\n",
       "       '/global/cfs/cdirs/desi/survey/catalogs/SV1/LSS/random0/fba-080643.fits',\n",
       "       '/global/cfs/cdirs/desi/survey/catalogs/SV1/LSS/random0/fba-080644.fits',\n",
       "       '/global/cfs/cdirs/desi/survey/catalogs/SV1/LSS/random0/fba-080645.fits',\n",
       "       '/global/cfs/cdirs/desi/survey/catalogs/SV1/LSS/random0/fba-080646.fits',\n",
       "       '/global/cfs/cdirs/desi/survey/catalogs/SV1/LSS/random0/fba-080647.fits',\n",
       "       '/global/cfs/cdirs/desi/survey/catalogs/SV1/LSS/random0/fba-080649.fits',\n",
       "       '/global/cfs/cdirs/desi/survey/catalogs/SV1/LSS/random0/fba-080650.fits',\n",
       "       '/global/cfs/cdirs/desi/survey/catalogs/SV1/LSS/random0/fba-080651.fits',\n",
       "       '/global/cfs/cdirs/desi/survey/catalogs/SV1/LSS/random0/fba-080652.fits',\n",
       "       '/global/cfs/cdirs/desi/survey/catalogs/SV1/LSS/random0/fba-080653.fits',\n",
       "       '/global/cfs/cdirs/desi/survey/catalogs/SV1/LSS/random0/fba-080654.fits',\n",
       "       '/global/cfs/cdirs/desi/survey/catalogs/SV1/LSS/random0/fba-080655.fits',\n",
       "       '/global/cfs/cdirs/desi/survey/catalogs/SV1/LSS/random0/fba-080656.fits',\n",
       "       '/global/cfs/cdirs/desi/survey/catalogs/SV1/LSS/random0/fba-080657.fits',\n",
       "       '/global/cfs/cdirs/desi/survey/catalogs/SV1/LSS/random0/fba-080658.fits',\n",
       "       '/global/cfs/cdirs/desi/survey/catalogs/SV1/LSS/random0/fba-080659.fits',\n",
       "       '/global/cfs/cdirs/desi/survey/catalogs/SV1/LSS/random0/fba-080660.fits',\n",
       "       '/global/cfs/cdirs/desi/survey/catalogs/SV1/LSS/random0/fba-080661.fits',\n",
       "       '/global/cfs/cdirs/desi/survey/catalogs/SV1/LSS/random0/fba-080662.fits',\n",
       "       '/global/cfs/cdirs/desi/survey/catalogs/SV1/LSS/random0/fba-080663.fits',\n",
       "       '/global/cfs/cdirs/desi/survey/catalogs/SV1/LSS/random0/fba-080664.fits',\n",
       "       '/global/cfs/cdirs/desi/survey/catalogs/SV1/LSS/random0/fba-080665.fits',\n",
       "       '/global/cfs/cdirs/desi/survey/catalogs/SV1/LSS/random0/fba-080666.fits'],\n",
       "      dtype='<U70')"
      ]
     },
     "execution_count": 33,
     "metadata": {},
     "output_type": "execute_result"
    }
   ],
   "source": [
    "fbas"
   ]
  },
  {
   "cell_type": "code",
   "execution_count": 34,
   "id": "b2bb78bb-0b5b-43ce-9be9-3143fd8130c5",
   "metadata": {},
   "outputs": [
    {
     "data": {
      "text/plain": [
       "37"
      ]
     },
     "execution_count": 34,
     "metadata": {},
     "output_type": "execute_result"
    }
   ],
   "source": [
    "len(fbas)"
   ]
  },
  {
   "cell_type": "code",
   "execution_count": 35,
   "id": "88c8ae48-bd7a-4a8f-8efe-f3d5f125424a",
   "metadata": {},
   "outputs": [],
   "source": [
    "fba = fits.open(fbas[0])"
   ]
  },
  {
   "cell_type": "code",
   "execution_count": 36,
   "id": "38101eb1-d403-49a5-bcf5-a0cbb565a063",
   "metadata": {},
   "outputs": [
    {
     "name": "stdout",
     "output_type": "stream",
     "text": [
      "Filename: /global/cfs/cdirs/desi/survey/catalogs/SV1/LSS/random0/fba-080611.fits\n",
      "No.    Name      Ver    Type      Cards   Dimensions   Format\n",
      "  0  PRIMARY       1 PrimaryHDU      35   ()      \n",
      "  1  FASSIGN       1 BinTableHDU     65   5020R x 14C   [J, K, J, J, E, I, J, 3A, D, D, K, B, E, E]   \n",
      "  2  FTARGETS      1 BinTableHDU     53   12935R x 8C   [K, D, D, K, B, J, D, J]   \n",
      "  3  FAVAIL        1 BinTableHDU     43   12935R x 3C   [J, J, K]   \n"
     ]
    }
   ],
   "source": [
    "fba.info()"
   ]
  },
  {
   "cell_type": "code",
   "execution_count": 37,
   "id": "1e6ab17e-2c88-44bc-b074-7e84b847d293",
   "metadata": {},
   "outputs": [
    {
     "name": "stdout",
     "output_type": "stream",
     "text": [
      "0\t12935\n",
      "1\t12745\n",
      "2\t12896\n",
      "3\t12769\n",
      "4\t12781\n",
      "5\t12719\n",
      "6\t12816\n",
      "7\t12965\n",
      "8\t12790\n",
      "9\t12786\n",
      "10\t12646\n",
      "11\t13095\n",
      "12\t12872\n",
      "13\t12679\n",
      "14\t12753\n",
      "15\t12819\n",
      "16\t12696\n",
      "17\t12720\n",
      "18\t12793\n",
      "19\t12744\n",
      "20\t12808\n",
      "21\t13053\n",
      "22\t12556\n",
      "23\t12888\n",
      "24\t12744\n",
      "25\t12762\n",
      "26\t12841\n",
      "27\t12675\n",
      "28\t12950\n",
      "29\t12864\n",
      "30\t12710\n",
      "31\t12770\n",
      "32\t12991\n",
      "33\t12937\n",
      "34\t12931\n",
      "35\t12867\n",
      "36\t12580\n",
      "\n",
      "473946\n"
     ]
    }
   ],
   "source": [
    "nrow = 0\n",
    "\n",
    "for i, fba in enumerate(fbas):\n",
    "    fba = fits.open(fba)\n",
    "    \n",
    "    print('{:d}\\t{:d}'.format(i, len(fba['FAVAIL'].data['TARGETID'])))\n",
    "    \n",
    "    nrow += len(fba['FAVAIL'].data['TARGETID'])\n",
    "    \n",
    "print()\n",
    "print(nrow)"
   ]
  },
  {
   "cell_type": "code",
   "execution_count": 38,
   "id": "93306fbe-1338-40e0-a583-d72ff277c3b7",
   "metadata": {},
   "outputs": [
    {
     "data": {
      "text/plain": [
       "192.2668"
      ]
     },
     "execution_count": 38,
     "metadata": {},
     "output_type": "execute_result"
    }
   ],
   "source": [
    "37 * 12991 / 2500."
   ]
  },
  {
   "cell_type": "code",
   "execution_count": 39,
   "id": "0599b1fa-cb97-4361-988e-fe8b4bbb5435",
   "metadata": {},
   "outputs": [
    {
     "name": "stdout",
     "output_type": "stream",
     "text": [
      "80611\t35.220000\t30.300000\n",
      "80612\t66.680000\t-5.240000\n",
      "80613\t106.740000\t56.100000\n",
      "80614\t154.100000\t-1.375000\n",
      "80616\t356.000000\t29.000000\n",
      "80617\t5.000000\t28.000000\n",
      "80618\t114.221000\t38.469000\n"
     ]
    }
   ],
   "source": [
    "for i, fba in enumerate(fbas):\n",
    "    tileid = fba.split('/')[-1].split('-')[-1].replace('.fits','')\n",
    "    \n",
    "    x  = Table(fits.open(fba)['FAVAIL'].data) \n",
    "    x['TILEID']= np.int(tileid)\n",
    "    x.sort('TARGETID')\n",
    "    \n",
    "    x = x[:10]\n",
    " \n",
    "    hdr = fits.open(fba)[0].header\n",
    "\n",
    "    print('{:d}\\t{:f}\\t{:f}'.format(hdr['TILEID'], hdr['TILERA'], hdr['TILEDEC']))\n",
    "    \n",
    "    if i > 5:\n",
    "        break"
   ]
  },
  {
   "cell_type": "code",
   "execution_count": 40,
   "id": "a8ed1096-0ffa-4344-8bcc-23b66eb0171d",
   "metadata": {},
   "outputs": [
    {
     "data": {
      "text/html": [
       "<i>Table length=473946</i>\n",
       "<table id=\"table46913306721632\" class=\"table-striped table-bordered table-condensed\">\n",
       "<thead><tr><th>LOCATION</th><th>FIBER</th><th>TARGETID</th><th>TILEID</th><th>TARGET_RA</th><th>TARGET_DEC</th></tr></thead>\n",
       "<thead><tr><th>int32</th><th>int32</th><th>int64</th><th>int64</th><th>float64</th><th>float64</th></tr></thead>\n",
       "<tr><td>6484</td><td>3078</td><td>0</td><td>80611</td><td>36.12240363249487</td><td>31.686513791782197</td></tr>\n",
       "<tr><td>6483</td><td>3087</td><td>6</td><td>80611</td><td>36.09386490566186</td><td>31.720289540184925</td></tr>\n",
       "<tr><td>6485</td><td>3470</td><td>10</td><td>80611</td><td>36.16870419175712</td><td>31.650274022341765</td></tr>\n",
       "<tr><td>6486</td><td>3491</td><td>16</td><td>80611</td><td>36.19044462206948</td><td>31.632625616245143</td></tr>\n",
       "<tr><td>6503</td><td>3466</td><td>18</td><td>80611</td><td>36.22160922411851</td><td>31.632294894452723</td></tr>\n",
       "<tr><td>6503</td><td>3466</td><td>21</td><td>80611</td><td>36.225828567627154</td><td>31.637137170216384</td></tr>\n",
       "<tr><td>6503</td><td>3466</td><td>22</td><td>80611</td><td>36.223382642824234</td><td>31.620836470753222</td></tr>\n",
       "<tr><td>6503</td><td>3466</td><td>23</td><td>80611</td><td>36.23157644057259</td><td>31.63582175042567</td></tr>\n",
       "<tr><td>6503</td><td>3466</td><td>26</td><td>80611</td><td>36.23650893611502</td><td>31.62923547536745</td></tr>\n",
       "<tr><td>6487</td><td>3499</td><td>28</td><td>80611</td><td>36.224339070564334</td><td>31.596623513111158</td></tr>\n",
       "<tr><td>...</td><td>...</td><td>...</td><td>...</td><td>...</td><td>...</td></tr>\n",
       "<tr><td>3524</td><td>1865</td><td>41184</td><td>80666</td><td>202.58546215986445</td><td>3.685960021455966</td></tr>\n",
       "<tr><td>3523</td><td>1852</td><td>41186</td><td>80666</td><td>202.57445824295928</td><td>3.668991329489878</td></tr>\n",
       "<tr><td>3524</td><td>1865</td><td>41188</td><td>80666</td><td>202.58406629579807</td><td>3.68723405648866</td></tr>\n",
       "<tr><td>3523</td><td>1852</td><td>41190</td><td>80666</td><td>202.5681958804885</td><td>3.6583405630580415</td></tr>\n",
       "<tr><td>3523</td><td>1852</td><td>41192</td><td>80666</td><td>202.56135247950206</td><td>3.6539560785179135</td></tr>\n",
       "<tr><td>3523</td><td>1852</td><td>41193</td><td>80666</td><td>202.56183728224295</td><td>3.665993209183936</td></tr>\n",
       "<tr><td>3523</td><td>1852</td><td>41194</td><td>80666</td><td>202.56034181051817</td><td>3.6687193167860985</td></tr>\n",
       "<tr><td>3523</td><td>1852</td><td>41195</td><td>80666</td><td>202.55886148660719</td><td>3.653711890226091</td></tr>\n",
       "<tr><td>3524</td><td>1865</td><td>41209</td><td>80666</td><td>202.59831361445424</td><td>3.7020769069656705</td></tr>\n",
       "<tr><td>3524</td><td>1865</td><td>41211</td><td>80666</td><td>202.59257457305827</td><td>3.7063992417425893</td></tr>\n",
       "</table>"
      ],
      "text/plain": [
       "<Table length=473946>\n",
       "LOCATION FIBER TARGETID TILEID     TARGET_RA          TARGET_DEC    \n",
       " int32   int32  int64   int64       float64            float64      \n",
       "-------- ----- -------- ------ ------------------ ------------------\n",
       "    6484  3078        0  80611  36.12240363249487 31.686513791782197\n",
       "    6483  3087        6  80611  36.09386490566186 31.720289540184925\n",
       "    6485  3470       10  80611  36.16870419175712 31.650274022341765\n",
       "    6486  3491       16  80611  36.19044462206948 31.632625616245143\n",
       "    6503  3466       18  80611  36.22160922411851 31.632294894452723\n",
       "    6503  3466       21  80611 36.225828567627154 31.637137170216384\n",
       "    6503  3466       22  80611 36.223382642824234 31.620836470753222\n",
       "    6503  3466       23  80611  36.23157644057259  31.63582175042567\n",
       "    6503  3466       26  80611  36.23650893611502  31.62923547536745\n",
       "    6487  3499       28  80611 36.224339070564334 31.596623513111158\n",
       "     ...   ...      ...    ...                ...                ...\n",
       "    3524  1865    41184  80666 202.58546215986445  3.685960021455966\n",
       "    3523  1852    41186  80666 202.57445824295928  3.668991329489878\n",
       "    3524  1865    41188  80666 202.58406629579807   3.68723405648866\n",
       "    3523  1852    41190  80666  202.5681958804885 3.6583405630580415\n",
       "    3523  1852    41192  80666 202.56135247950206 3.6539560785179135\n",
       "    3523  1852    41193  80666 202.56183728224295  3.665993209183936\n",
       "    3523  1852    41194  80666 202.56034181051817 3.6687193167860985\n",
       "    3523  1852    41195  80666 202.55886148660719  3.653711890226091\n",
       "    3524  1865    41209  80666 202.59831361445424 3.7020769069656705\n",
       "    3524  1865    41211  80666 202.59257457305827 3.7063992417425893"
      ]
     },
     "execution_count": 40,
     "metadata": {},
     "output_type": "execute_result"
    }
   ],
   "source": [
    "sfbas = []\n",
    "\n",
    "for fba in fbas:\n",
    "   # /global/cfs/cdirs/desi/survey/catalogs/SV1/LSS/random0/fba-080642.fits\n",
    "   tileid = fba.split('/')[-1].split('-')[-1].replace('.fits','')\n",
    "    \n",
    "   x  = Table(fits.open(fba)['FAVAIL'].data) \n",
    "   x['TILEID']= np.int(tileid) \n",
    "\n",
    "   y  = Table(fits.open(fba)['FTARGETS'].data)\n",
    "    \n",
    "   x  = join(x, y['TARGETID', 'TARGET_RA', 'TARGET_DEC'], join_type='left', keys='TARGETID') \n",
    "    \n",
    "   sfbas.append(x)\n",
    "\n",
    "sfbas  = vstack(sfbas)\n",
    "sfbas"
   ]
  },
  {
   "cell_type": "code",
   "execution_count": 41,
   "id": "4edae7d8-5372-4f2b-89e9-2e88a6b8ff11",
   "metadata": {},
   "outputs": [
    {
     "data": {
      "text/plain": [
       "numpy.int64"
      ]
     },
     "execution_count": 41,
     "metadata": {},
     "output_type": "execute_result"
    }
   ],
   "source": [
    "type(sfbas['TARGETID'].data[0])"
   ]
  },
  {
   "cell_type": "code",
   "execution_count": 42,
   "id": "0b501483-5304-4504-a615-045b7a0c3d60",
   "metadata": {},
   "outputs": [],
   "source": [
    "urandid, cnts = np.unique(sfbas['TARGETID'].data, return_counts=True)"
   ]
  },
  {
   "cell_type": "code",
   "execution_count": 43,
   "id": "d9e4b254-bf51-478c-91f6-126681c47b62",
   "metadata": {},
   "outputs": [
    {
     "data": {
      "text/plain": [
       "23"
      ]
     },
     "execution_count": 43,
     "metadata": {},
     "output_type": "execute_result"
    }
   ],
   "source": [
    "cnts.max()"
   ]
  },
  {
   "cell_type": "code",
   "execution_count": 44,
   "id": "711644a1-c27b-4e5f-b7a3-3fc7f8038d63",
   "metadata": {},
   "outputs": [
    {
     "data": {
      "text/plain": [
       "16.7424"
      ]
     },
     "execution_count": 44,
     "metadata": {},
     "output_type": "execute_result"
    }
   ],
   "source": [
    "len(urandid) / 2500."
   ]
  },
  {
   "cell_type": "code",
   "execution_count": 45,
   "id": "c93a798f-e487-4219-a057-a8f7ac94c032",
   "metadata": {},
   "outputs": [],
   "source": [
    "uids, idx = np.unique(sfbas['TARGETID'].data, return_index=True)"
   ]
  },
  {
   "cell_type": "code",
   "execution_count": 46,
   "id": "b2dc9a50-95aa-4491-ae7f-8f910b089d9d",
   "metadata": {},
   "outputs": [
    {
     "data": {
      "text/plain": [
       "array([     0, 192247, 140848, ..., 384157, 384158, 384159])"
      ]
     },
     "execution_count": 46,
     "metadata": {},
     "output_type": "execute_result"
    }
   ],
   "source": [
    "idx"
   ]
  },
  {
   "cell_type": "code",
   "execution_count": 47,
   "id": "308a3ef3-e0e8-4edb-bb92-e33b4c1df727",
   "metadata": {},
   "outputs": [],
   "source": [
    "dup = np.arange(len(sfbas))\n",
    "dup = dup[~np.isin(dup, idx)]"
   ]
  },
  {
   "cell_type": "code",
   "execution_count": 48,
   "id": "dd753b58-a38f-4cb0-a174-1e20ecf4f15b",
   "metadata": {},
   "outputs": [
    {
     "data": {
      "text/plain": [
       "(432090, 432090, 473946)"
      ]
     },
     "execution_count": 48,
     "metadata": {},
     "output_type": "execute_result"
    }
   ],
   "source": [
    "len(dup), len(sfbas) - len(idx), len(sfbas)"
   ]
  },
  {
   "cell_type": "code",
   "execution_count": 49,
   "id": "32b84cf6-6b6c-46e0-b21d-63ee3f33cdd7",
   "metadata": {},
   "outputs": [
    {
     "data": {
      "text/html": [
       "<i>Table length=432090</i>\n",
       "<table id=\"table46913305414672\" class=\"table-striped table-bordered table-condensed\">\n",
       "<thead><tr><th>LOCATION</th><th>FIBER</th><th>TARGETID</th><th>TILEID</th><th>TARGET_RA</th><th>TARGET_DEC</th></tr></thead>\n",
       "<thead><tr><th>int32</th><th>int32</th><th>int64</th><th>int64</th><th>float64</th><th>float64</th></tr></thead>\n",
       "<tr><td>8524</td><td>4370</td><td>111</td><td>80612</td><td>68.1038682535264</td><td>-5.928239454195679</td></tr>\n",
       "<tr><td>8512</td><td>4392</td><td>124</td><td>80612</td><td>68.04151740888724</td><td>-5.980833616948158</td></tr>\n",
       "<tr><td>8525</td><td>4378</td><td>133</td><td>80612</td><td>68.08526231546209</td><td>-5.967461412813926</td></tr>\n",
       "<tr><td>8512</td><td>4392</td><td>142</td><td>80612</td><td>68.04572064256737</td><td>-5.961076537681671</td></tr>\n",
       "<tr><td>8511</td><td>4360</td><td>143</td><td>80612</td><td>68.05150840482979</td><td>-5.937875459584199</td></tr>\n",
       "<tr><td>8512</td><td>4392</td><td>146</td><td>80612</td><td>68.03884802558579</td><td>-5.966883410835705</td></tr>\n",
       "<tr><td>8512</td><td>4392</td><td>154</td><td>80612</td><td>68.03269520662697</td><td>-5.976522728336788</td></tr>\n",
       "<tr><td>8495</td><td>4394</td><td>165</td><td>80612</td><td>68.01285076087657</td><td>-5.933952051417105</td></tr>\n",
       "<tr><td>8523</td><td>4373</td><td>204</td><td>80612</td><td>68.12663253229682</td><td>-5.88869281038862</td></tr>\n",
       "<tr><td>8523</td><td>4373</td><td>210</td><td>80612</td><td>68.1127924341588</td><td>-5.904986713548502</td></tr>\n",
       "<tr><td>...</td><td>...</td><td>...</td><td>...</td><td>...</td><td>...</td></tr>\n",
       "<tr><td>3524</td><td>1865</td><td>41184</td><td>80666</td><td>202.58546215986445</td><td>3.685960021455966</td></tr>\n",
       "<tr><td>3523</td><td>1852</td><td>41186</td><td>80666</td><td>202.57445824295928</td><td>3.668991329489878</td></tr>\n",
       "<tr><td>3524</td><td>1865</td><td>41188</td><td>80666</td><td>202.58406629579807</td><td>3.68723405648866</td></tr>\n",
       "<tr><td>3523</td><td>1852</td><td>41190</td><td>80666</td><td>202.5681958804885</td><td>3.6583405630580415</td></tr>\n",
       "<tr><td>3523</td><td>1852</td><td>41192</td><td>80666</td><td>202.56135247950206</td><td>3.6539560785179135</td></tr>\n",
       "<tr><td>3523</td><td>1852</td><td>41193</td><td>80666</td><td>202.56183728224295</td><td>3.665993209183936</td></tr>\n",
       "<tr><td>3523</td><td>1852</td><td>41194</td><td>80666</td><td>202.56034181051817</td><td>3.6687193167860985</td></tr>\n",
       "<tr><td>3523</td><td>1852</td><td>41195</td><td>80666</td><td>202.55886148660719</td><td>3.653711890226091</td></tr>\n",
       "<tr><td>3524</td><td>1865</td><td>41209</td><td>80666</td><td>202.59831361445424</td><td>3.7020769069656705</td></tr>\n",
       "<tr><td>3524</td><td>1865</td><td>41211</td><td>80666</td><td>202.59257457305827</td><td>3.7063992417425893</td></tr>\n",
       "</table>"
      ],
      "text/plain": [
       "<Table length=432090>\n",
       "LOCATION FIBER TARGETID TILEID     TARGET_RA          TARGET_DEC    \n",
       " int32   int32  int64   int64       float64            float64      \n",
       "-------- ----- -------- ------ ------------------ ------------------\n",
       "    8524  4370      111  80612   68.1038682535264 -5.928239454195679\n",
       "    8512  4392      124  80612  68.04151740888724 -5.980833616948158\n",
       "    8525  4378      133  80612  68.08526231546209 -5.967461412813926\n",
       "    8512  4392      142  80612  68.04572064256737 -5.961076537681671\n",
       "    8511  4360      143  80612  68.05150840482979 -5.937875459584199\n",
       "    8512  4392      146  80612  68.03884802558579 -5.966883410835705\n",
       "    8512  4392      154  80612  68.03269520662697 -5.976522728336788\n",
       "    8495  4394      165  80612  68.01285076087657 -5.933952051417105\n",
       "    8523  4373      204  80612  68.12663253229682  -5.88869281038862\n",
       "    8523  4373      210  80612   68.1127924341588 -5.904986713548502\n",
       "     ...   ...      ...    ...                ...                ...\n",
       "    3524  1865    41184  80666 202.58546215986445  3.685960021455966\n",
       "    3523  1852    41186  80666 202.57445824295928  3.668991329489878\n",
       "    3524  1865    41188  80666 202.58406629579807   3.68723405648866\n",
       "    3523  1852    41190  80666  202.5681958804885 3.6583405630580415\n",
       "    3523  1852    41192  80666 202.56135247950206 3.6539560785179135\n",
       "    3523  1852    41193  80666 202.56183728224295  3.665993209183936\n",
       "    3523  1852    41194  80666 202.56034181051817 3.6687193167860985\n",
       "    3523  1852    41195  80666 202.55886148660719  3.653711890226091\n",
       "    3524  1865    41209  80666 202.59831361445424 3.7020769069656705\n",
       "    3524  1865    41211  80666 202.59257457305827 3.7063992417425893"
      ]
     },
     "execution_count": 49,
     "metadata": {},
     "output_type": "execute_result"
    }
   ],
   "source": [
    "dup = sfbas[dup]\n",
    "dup"
   ]
  },
  {
   "cell_type": "code",
   "execution_count": 50,
   "id": "e48441a5-d25a-44ed-8a1d-0949f1a57ea7",
   "metadata": {},
   "outputs": [
    {
     "data": {
      "text/plain": [
       "91.16861414591536"
      ]
     },
     "execution_count": 50,
     "metadata": {},
     "output_type": "execute_result"
    }
   ],
   "source": [
    "100. * len(dup) / len(sfbas)"
   ]
  },
  {
   "cell_type": "code",
   "execution_count": 51,
   "id": "66d79731-cc68-416b-8545-8179693d0490",
   "metadata": {},
   "outputs": [
    {
     "data": {
      "text/plain": [
       "[<matplotlib.lines.Line2D at 0x2aaadb04bb20>]"
      ]
     },
     "execution_count": 51,
     "metadata": {},
     "output_type": "execute_result"
    },
    {
     "data": {
      "image/png": "[encoded data removed]",
      "text/plain": [
       "<Figure size 800x640 with 1 Axes>"
      ]
     },
     "metadata": {
      "needs_background": "light"
     },
     "output_type": "display_data"
    }
   ],
   "source": [
    "figure(figsize=(10, 8), dpi=80)\n",
    "\n",
    "pl.plot(sfbas['TARGET_RA'].data, sfbas['TARGET_DEC'].data, marker=',', lw=0.0, c='k')\n",
    "pl.plot(  dup['TARGET_RA'].data,   dup['TARGET_DEC'].data, marker=',', lw=0.0, c='m')"
   ]
  },
  {
   "cell_type": "code",
   "execution_count": 52,
   "id": "488954e6-b799-4c08-b2e2-7609ea147f25",
   "metadata": {},
   "outputs": [
    {
     "name": "stdout",
     "output_type": "stream",
     "text": [
      "80611 12935 100.0\n",
      "80612 12745 30.961161239701845\n",
      "80613 12896 31.12593052109181\n",
      "80614 12769 30.01018090688386\n",
      "80616 12781 30.4045066896174\n",
      "80617 12719 30.93010456796918\n",
      "80618 12816 31.44506866416979\n",
      "80619 12965 30.43578866178172\n",
      "80624 12790 31.016419077404223\n",
      "80629 12786 30.41608008759581\n",
      "80632 12646 31.67009331013759\n",
      "80633 13095 30.866743031691485\n",
      "80641 12872 30.593536357986327\n",
      "80642 12679 30.58600836028078\n",
      "80643 12753 30.643770093311378\n",
      "80644 12819 30.91504797566113\n",
      "80645 12696 31.19092627599244\n",
      "80646 12720 31.32075471698113\n",
      "80647 12793 30.915344328929883\n",
      "80649 12744 31.136220966729443\n",
      "80650 12808 30.676139912554653\n",
      "80651 13053 30.820501034245\n",
      "80652 12556 30.77413188913667\n",
      "80653 12888 30.8504034761018\n",
      "80654 12744 31.544256120527308\n",
      "80655 12762 30.833725121454318\n",
      "80656 12841 31.158009500817695\n",
      "80657 12675 30.90335305719921\n",
      "80658 12950 31.335907335907336\n",
      "80659 12864 31.428793532338307\n",
      "80660 12710 31.966955153422504\n",
      "80661 12770 31.605324980422868\n",
      "80662 12991 31.64498498960819\n",
      "80663 12937 30.919069336012985\n",
      "80664 12931 30.832882221019258\n",
      "80665 12867 31.149452086733504\n",
      "80666 12580 30.95389507154213\n"
     ]
    }
   ],
   "source": [
    "for i, tileid in enumerate(np.unique(sfbas['TILEID'].data)):\n",
    "    in_tile  = (sfbas['TILEID'].data == tileid)\n",
    "    \n",
    "    tids     = sfbas['TARGETID'].data[in_tile].astype(np.int64)\n",
    "    tids     = np.sort(tids)\n",
    "\n",
    "    if i == 0:\n",
    "        control = tids\n",
    "\n",
    "    print(tileid, len(tids), 100. * np.count_nonzero(np.isin(tids, control)) / len(tids))"
   ]
  },
  {
   "cell_type": "markdown",
   "id": "5b2cc562-35d2-4b61-aa17-af756cea99f1",
   "metadata": {},
   "source": [
    "# Done."
   ]
  }
 ],
 "metadata": {
  "kernelspec": {
   "display_name": "DESI 21.7e",
   "language": "python",
   "name": "desi-21.7e"
  },
  "language_info": {
   "codemirror_mode": {
    "name": "ipython",
    "version": 3
   },
   "file_extension": ".py",
   "mimetype": "text/x-python",
   "name": "python",
   "nbconvert_exporter": "python",
   "pygments_lexer": "ipython3",
   "version": "3.8.3"
  }
 },
 "nbformat": 4,
 "nbformat_minor": 5
}
