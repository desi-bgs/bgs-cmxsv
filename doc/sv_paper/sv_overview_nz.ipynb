{
 "cells": [
  {
   "cell_type": "markdown",
   "id": "7b4c4aa2-c509-4563-8093-42bda521cedc",
   "metadata": {},
   "source": [
    "# $n(z)$ calculations for SV overview paper"
   ]
  },
  {
   "cell_type": "code",
   "execution_count": 1,
   "id": "08854552",
   "metadata": {},
   "outputs": [],
   "source": [
    "import os\n",
    "import h5py\n",
    "import sv as SV\n",
    "import numpy as np\n",
    "import astropy.table as atable\n",
    "from astropy.cosmology import FlatLambdaCDM\n",
    "\n",
    "from desitarget.sv1.sv1_targetmask import bgs_mask as sv1_bgs_mask\n",
    "from desitarget.sv3.sv3_targetmask import bgs_mask as sv3_bgs_mask"
   ]
  },
  {
   "cell_type": "code",
   "execution_count": 2,
   "id": "257434e1",
   "metadata": {},
   "outputs": [],
   "source": [
    "# -- plotting -- \n",
    "import matplotlib as mpl\n",
    "import matplotlib.pyplot as plt\n",
    "mpl.rcParams['text.usetex'] = True\n",
    "mpl.rcParams['font.family'] = 'serif'\n",
    "mpl.rcParams['axes.linewidth'] = 1.5\n",
    "mpl.rcParams['axes.xmargin'] = 1\n",
    "mpl.rcParams['xtick.labelsize'] = 'x-large'\n",
    "mpl.rcParams['xtick.major.size'] = 5\n",
    "mpl.rcParams['xtick.major.width'] = 1.5\n",
    "mpl.rcParams['ytick.labelsize'] = 'x-large'\n",
    "mpl.rcParams['ytick.major.size'] = 5\n",
    "mpl.rcParams['ytick.major.width'] = 1.5\n",
    "mpl.rcParams['legend.frameon'] = False"
   ]
  },
  {
   "cell_type": "code",
   "execution_count": 3,
   "id": "c1cd9250",
   "metadata": {},
   "outputs": [
    {
     "name": "stderr",
     "output_type": "stream",
     "text": [
      "WARNING: hdu= was not specified but multiple tables are present, reading in first available table (hdu=1) [astropy.io.fits.connect]\n"
     ]
    }
   ],
   "source": [
    "dat_dir = '/global/cfs/cdirs/desi/spectro/redux/everest/zcatalog/'\n",
    "sv1 = atable.Table.read(os.path.join(dat_dir, 'ztile-sv1-bright-cumulative.fits'))\n",
    "sv3 = atable.Table.read(os.path.join(dat_dir, 'ztile-sv3-bright-cumulative.fits'))#'/global/cfs/cdirs/desi/survey/catalogs/SV3/LSS/everest/LSScats/2.1/BGS_ANY_full.dat.fits')   "
   ]
  },
  {
   "cell_type": "code",
   "execution_count": 4,
   "id": "9085999a-21c8-4388-aa34-603e06ed01c5",
   "metadata": {},
   "outputs": [
    {
     "data": {
      "text/html": [
       "<i>Table length=2</i>\n",
       "<table id=\"table46912564584992\" class=\"table-striped table-bordered table-condensed\">\n",
       "<thead><tr><th>TARGETID</th><th>CHI2</th><th>COEFF [10]</th><th>Z</th><th>ZERR</th><th>ZWARN</th><th>NPIXELS</th><th>SPECTYPE</th><th>SUBTYPE</th><th>NCOEFF</th><th>DELTACHI2</th><th>PETAL_LOC</th><th>DEVICE_LOC</th><th>LOCATION</th><th>FIBER</th><th>COADD_FIBERSTATUS</th><th>TARGET_RA</th><th>TARGET_DEC</th><th>PMRA</th><th>PMDEC</th><th>REF_EPOCH</th><th>LAMBDA_REF</th><th>FA_TARGET</th><th>FA_TYPE</th><th>OBJTYPE</th><th>FIBERASSIGN_X</th><th>FIBERASSIGN_Y</th><th>PRIORITY</th><th>SUBPRIORITY</th><th>OBSCONDITIONS</th><th>RELEASE</th><th>BRICKID</th><th>BRICK_OBJID</th><th>MORPHTYPE</th><th>FLUX_G</th><th>FLUX_R</th><th>FLUX_Z</th><th>FLUX_IVAR_G</th><th>FLUX_IVAR_R</th><th>FLUX_IVAR_Z</th><th>MASKBITS</th><th>REF_ID</th><th>REF_CAT</th><th>GAIA_PHOT_G_MEAN_MAG</th><th>GAIA_PHOT_BP_MEAN_MAG</th><th>GAIA_PHOT_RP_MEAN_MAG</th><th>PARALLAX</th><th>BRICKNAME</th><th>EBV</th><th>FLUX_W1</th><th>FLUX_W2</th><th>FLUX_IVAR_W1</th><th>FLUX_IVAR_W2</th><th>FIBERFLUX_G</th><th>FIBERFLUX_R</th><th>FIBERFLUX_Z</th><th>FIBERTOTFLUX_G</th><th>FIBERTOTFLUX_R</th><th>FIBERTOTFLUX_Z</th><th>SERSIC</th><th>SHAPE_R</th><th>SHAPE_E1</th><th>SHAPE_E2</th><th>PHOTSYS</th><th>PRIORITY_INIT</th><th>NUMOBS_INIT</th><th>SV3_DESI_TARGET</th><th>SV3_BGS_TARGET</th><th>SV3_MWS_TARGET</th><th>SV3_SCND_TARGET</th><th>DESI_TARGET</th><th>BGS_TARGET</th><th>MWS_TARGET</th><th>PLATE_RA</th><th>PLATE_DEC</th><th>TILEID</th><th>COADD_NUMEXP</th><th>COADD_EXPTIME</th><th>COADD_NUMNIGHT</th><th>COADD_NUMTILE</th><th>MEAN_DELTA_X</th><th>RMS_DELTA_X</th><th>MEAN_DELTA_Y</th><th>RMS_DELTA_Y</th><th>MEAN_FIBER_RA</th><th>STD_FIBER_RA</th><th>MEAN_FIBER_DEC</th><th>STD_FIBER_DEC</th><th>MEAN_PSF_TO_FIBER_SPECFLUX</th><th>MEAN_FIBER_X</th><th>MEAN_FIBER_Y</th><th>TSNR2_GPBDARK_B</th><th>TSNR2_ELG_B</th><th>TSNR2_GPBBRIGHT_B</th><th>TSNR2_LYA_B</th><th>TSNR2_BGS_B</th><th>TSNR2_GPBBACKUP_B</th><th>TSNR2_QSO_B</th><th>TSNR2_LRG_B</th><th>TSNR2_GPBDARK_R</th><th>TSNR2_ELG_R</th><th>TSNR2_GPBBRIGHT_R</th><th>TSNR2_LYA_R</th><th>TSNR2_BGS_R</th><th>TSNR2_GPBBACKUP_R</th><th>TSNR2_QSO_R</th><th>TSNR2_LRG_R</th><th>TSNR2_GPBDARK_Z</th><th>TSNR2_ELG_Z</th><th>TSNR2_GPBBRIGHT_Z</th><th>TSNR2_LYA_Z</th><th>TSNR2_BGS_Z</th><th>TSNR2_GPBBACKUP_Z</th><th>TSNR2_QSO_Z</th><th>TSNR2_LRG_Z</th><th>TSNR2_GPBDARK</th><th>TSNR2_ELG</th><th>TSNR2_GPBBRIGHT</th><th>TSNR2_LYA</th><th>TSNR2_BGS</th><th>TSNR2_GPBBACKUP</th><th>TSNR2_QSO</th><th>TSNR2_LRG</th></tr></thead>\n",
       "<thead><tr><th>int64</th><th>float64</th><th>float64</th><th>float64</th><th>float64</th><th>int64</th><th>int64</th><th>bytes6</th><th>bytes20</th><th>int64</th><th>float64</th><th>int16</th><th>int32</th><th>int64</th><th>int32</th><th>int32</th><th>float64</th><th>float64</th><th>float32</th><th>float32</th><th>float32</th><th>float32</th><th>int64</th><th>uint8</th><th>bytes3</th><th>float32</th><th>float32</th><th>int32</th><th>float64</th><th>int32</th><th>int16</th><th>int32</th><th>int32</th><th>bytes4</th><th>float32</th><th>float32</th><th>float32</th><th>float32</th><th>float32</th><th>float32</th><th>int16</th><th>int64</th><th>bytes2</th><th>float32</th><th>float32</th><th>float32</th><th>float32</th><th>bytes8</th><th>float32</th><th>float32</th><th>float32</th><th>float32</th><th>float32</th><th>float32</th><th>float32</th><th>float32</th><th>float32</th><th>float32</th><th>float32</th><th>float32</th><th>float32</th><th>float32</th><th>float32</th><th>bytes1</th><th>int64</th><th>int64</th><th>int64</th><th>int64</th><th>int64</th><th>int64</th><th>int64</th><th>int64</th><th>int64</th><th>float64</th><th>float64</th><th>int32</th><th>int16</th><th>float32</th><th>int16</th><th>int16</th><th>float32</th><th>float32</th><th>float32</th><th>float32</th><th>float64</th><th>float32</th><th>float64</th><th>float32</th><th>float32</th><th>float32</th><th>float32</th><th>float32</th><th>float32</th><th>float32</th><th>float32</th><th>float32</th><th>float32</th><th>float32</th><th>float32</th><th>float32</th><th>float32</th><th>float32</th><th>float32</th><th>float32</th><th>float32</th><th>float32</th><th>float32</th><th>float32</th><th>float32</th><th>float32</th><th>float32</th><th>float32</th><th>float32</th><th>float32</th><th>float32</th><th>float32</th><th>float32</th><th>float32</th><th>float32</th><th>float32</th><th>float32</th><th>float32</th><th>float32</th></tr></thead>\n",
       "<tr><td>616088637154525577</td><td>7469.736961875111</td><td>343.341920185407 .. 4.461166245608293</td><td>0.1640355753964906</td><td>5.34206875304331e-05</td><td>5</td><td>7888</td><td>GALAXY</td><td></td><td>10</td><td>2.0885551758110523</td><td>0</td><td>311</td><td>311</td><td>0</td><td>0</td><td>209.73714846971205</td><td>3.9564394849835423</td><td>0.0</td><td>0.0</td><td>0.0</td><td>5400.0</td><td>4294967296</td><td>4</td><td>SKY</td><td>79.813156</td><td>-285.5409</td><td>-1</td><td>0.9928253255644854</td><td>63</td><td>9010</td><td>354239</td><td>393</td><td></td><td>0.0</td><td>0.0</td><td>0.0</td><td>0.0</td><td>0.0</td><td>0.0</td><td>0</td><td>0</td><td></td><td>0.0</td><td>0.0</td><td>0.0</td><td>0.0</td><td>2096p040</td><td>0.0</td><td>0.0</td><td>0.0</td><td>0.0</td><td>0.0</td><td>0.002932687</td><td>0.050296437</td><td>-0.32439482</td><td>0.0</td><td>0.0</td><td>0.0</td><td>0.0</td><td>0.0</td><td>0.0</td><td>0.0</td><td></td><td>-1</td><td>-1</td><td>0</td><td>0</td><td>0</td><td>0</td><td>4294967296</td><td>0</td><td>0</td><td>209.73714846971205</td><td>3.9564394849835423</td><td>147</td><td>1</td><td>547.2114</td><td>1</td><td>1</td><td>0.003</td><td>0.003</td><td>-0.006</td><td>0.006</td><td>209.73716026500415</td><td>0.0</td><td>3.956462500819131</td><td>0.0</td><td>0.7922114</td><td>79.788</td><td>-285.475</td><td>23.863243</td><td>0.013085774</td><td>4.6983557</td><td>9.864799</td><td>76.063774</td><td>38.58653</td><td>0.34747624</td><td>0.13140436</td><td>1929.5238</td><td>4.1310186</td><td>369.23856</td><td>0.0073187514</td><td>418.62964</td><td>2770.6206</td><td>1.2766074</td><td>5.9954977</td><td>3.1019076e-06</td><td>14.1808815</td><td>6.09562e-07</td><td>0.0</td><td>678.5658</td><td>4.9829587e-06</td><td>2.9812157</td><td>6.5986357</td><td>1953.3871</td><td>18.324986</td><td>373.93692</td><td>9.872117</td><td>1173.2593</td><td>2809.207</td><td>4.6052995</td><td>12.725538</td></tr>\n",
       "<tr><td>39627884855296350</td><td>8.999999999999996e+99</td><td>0.0 .. 0.0</td><td>-0.0019956912923479522</td><td>4.1311493573349107e-48</td><td>1570</td><td>0</td><td>STAR</td><td>CV</td><td>3</td><td>1.942668892225729e+84</td><td>0</td><td>272</td><td>272</td><td>1</td><td>512</td><td>209.80570753935638</td><td>3.9921168242771152</td><td>0.0</td><td>0.0</td><td>2015.5</td><td>5400.0</td><td>1152921504609009673</td><td>1</td><td>TGT</td><td>62.678272</td><td>-276.09814</td><td>102100</td><td>0.3370130848906494</td><td>517</td><td>9010</td><td>354240</td><td>350</td><td>SER</td><td>1.4384575</td><td>7.465098</td><td>23.792833</td><td>514.5049</td><td>144.19394</td><td>20.042986</td><td>0</td><td>0</td><td></td><td>0.0</td><td>0.0</td><td>0.0</td><td>0.0</td><td>2099p040</td><td>0.033253953</td><td>56.904545</td><td>38.72192</td><td>1.6268853</td><td>0.4759606</td><td>0.46754184</td><td>2.4263809</td><td>7.7333846</td><td>0.46829304</td><td>2.4274113</td><td>7.734687</td><td>6.0</td><td>1.3621521</td><td>0.09121728</td><td>-0.046635494</td><td>S</td><td>102100</td><td>9</td><td>1152921504609009673</td><td>65545</td><td>0</td><td>0</td><td>0</td><td>0</td><td>0</td><td>209.80570753935638</td><td>3.9921168242771152</td><td>147</td><td>0</td><td>0.0</td><td>1</td><td>1</td><td>0.452</td><td>0.452</td><td>-1.523</td><td>1.523</td><td>209.80748214637995</td><td>0.0</td><td>3.9980099233057196</td><td>0.0</td><td>0.0</td><td>62.213</td><td>-274.512</td><td>32.885677</td><td>0.017683093</td><td>31.661036</td><td>6.6652136</td><td>504.40475</td><td>27.399128</td><td>0.23670875</td><td>0.54349893</td><td>2743.9277</td><td>5.9831195</td><td>2574.6584</td><td>0.005131786</td><td>2912.753</td><td>2048.9397</td><td>0.92391133</td><td>26.283371</td><td>4.633289e-06</td><td>21.165466</td><td>4.4502763e-06</td><td>0.0</td><td>4889.59</td><td>3.8256835e-06</td><td>2.2327754</td><td>29.735834</td><td>2776.8135</td><td>27.16627</td><td>2606.3196</td><td>6.6703453</td><td>8306.748</td><td>2076.3389</td><td>3.3933954</td><td>56.562706</td></tr>\n",
       "</table>"
      ],
      "text/plain": [
       "<Table length=2>\n",
       "     TARGETID               CHI2         ... TSNR2_QSO TSNR2_LRG\n",
       "      int64               float64        ...  float32   float32 \n",
       "------------------ --------------------- ... --------- ---------\n",
       "616088637154525577     7469.736961875111 ... 4.6052995 12.725538\n",
       " 39627884855296350 8.999999999999996e+99 ... 3.3933954 56.562706"
      ]
     },
     "execution_count": 4,
     "metadata": {},
     "output_type": "execute_result"
    }
   ],
   "source": [
    "sv3[:2]"
   ]
  },
  {
   "cell_type": "code",
   "execution_count": 5,
   "id": "3202fef4",
   "metadata": {},
   "outputs": [],
   "source": [
    "sv1_bright = (sv1['SV1_BGS_TARGET'] & sv1_bgs_mask['BGS_BRIGHT']) != 0 \n",
    "sv1_faint  = (sv1['SV1_BGS_TARGET'] & sv1_bgs_mask['BGS_FAINT']) != 0 \n",
    "\n",
    "sv3_bright = (sv3['SV3_BGS_TARGET'] & sv3_bgs_mask['BGS_BRIGHT']) != 0 \n",
    "sv3_faint  = (sv3['SV3_BGS_TARGET'] & sv3_bgs_mask['BGS_FAINT']) != 0 "
   ]
  },
  {
   "cell_type": "code",
   "execution_count": 6,
   "id": "fa7da4aa",
   "metadata": {},
   "outputs": [
    {
     "name": "stdout",
     "output_type": "stream",
     "text": [
      "0.6849508196721311\n",
      "0.707624531835206\n"
     ]
    }
   ],
   "source": [
    "sv1_cuts = ((sv1['Z'] != 1e20) & (sv1['ZWARN'] == 0) & (sv1['DELTACHI2'] > 40))\n",
    "print(np.mean(sv1_cuts))\n",
    "sv3_cuts = ((sv3['Z'] != 1e20) & (sv3['ZWARN'] == 0) & (sv3['DELTACHI2'] > 40))\n",
    "print(np.mean(sv3_cuts))"
   ]
  },
  {
   "cell_type": "code",
   "execution_count": 7,
   "id": "e576cfbf",
   "metadata": {},
   "outputs": [
    {
     "name": "stdout",
     "output_type": "stream",
     "text": [
      "SV1: BRIGHT 51045 FAINT 37361 ALL 88406 redshifts\n",
      "SV3: BRIGHT 236768 FAINT 165796 ALL 402564 redshifts\n",
      "287813 total BRIGHT SUCCESSFUL REDSHIFTS\n",
      "203157 total FAINT SUCCESSFUL REDSHIFTS\n"
     ]
    }
   ],
   "source": [
    "print('SV1: BRIGHT %i FAINT %i ALL %i redshifts' % (np.sum(sv1_bright & sv1_cuts), np.sum(sv1_faint & sv1_cuts), np.sum(sv1_bright & sv1_cuts) + np.sum(sv1_faint & sv1_cuts)))\n",
    "print('SV3: BRIGHT %i FAINT %i ALL %i redshifts' % (np.sum(sv3_bright & sv3_cuts), np.sum(sv3_faint & sv3_cuts), np.sum(sv3_bright & sv3_cuts) + np.sum(sv3_faint & sv3_cuts)))\n",
    "\n",
    "print('%i total BRIGHT SUCCESSFUL REDSHIFTS' % (np.sum(sv1_bright & sv1_cuts) + np.sum(sv3_bright & sv3_cuts)))\n",
    "print('%i total FAINT SUCCESSFUL REDSHIFTS' % (np.sum(sv1_faint & sv1_cuts) + np.sum(sv3_faint & sv3_cuts)))"
   ]
  },
  {
   "cell_type": "code",
   "execution_count": 8,
   "id": "036a0815",
   "metadata": {},
   "outputs": [],
   "source": [
    "def stephist(nh, _edges):\n",
    "    bin_edges = np.sort(list(_edges) + list(_edges[1:-1]))\n",
    "    return bin_edges, np.array([[x, x] for x in nh]).flatten()"
   ]
  },
  {
   "cell_type": "markdown",
   "id": "3bd65b06-3761-4b4e-8a06-8c6cc8a020a2",
   "metadata": {},
   "source": [
    "## get normalized $z$ distribution of SV3"
   ]
  },
  {
   "cell_type": "code",
   "execution_count": 21,
   "id": "2335bd56-7d40-4a5c-a7c1-c33cbe62a7cb",
   "metadata": {},
   "outputs": [],
   "source": [
    "zbins = 0. + 0.05 * np.arange(20)\n",
    "nh_bright, _ = np.histogram(sv3['Z'][sv3_bright & sv3_cuts], bins=zbins, density=True)\n",
    "nh_faint, _ = np.histogram(sv3['Z'][sv3_faint & sv3_cuts], bins=zbins, density=True)"
   ]
  },
  {
   "cell_type": "code",
   "execution_count": 24,
   "id": "cfa51ff6-4d41-4cc1-b1ef-60c0d5dd434c",
   "metadata": {},
   "outputs": [
    {
     "data": {
      "text/plain": [
       "(0.0, 0.20366650943019965)"
      ]
     },
     "execution_count": 24,
     "metadata": {},
     "output_type": "execute_result"
    },
    {
     "data": {
      "image/png": "[encoded data removed]",
      "text/plain": [
       "<Figure size 432x288 with 1 Axes>"
      ]
     },
     "metadata": {
      "needs_background": "light"
     },
     "output_type": "display_data"
    }
   ],
   "source": [
    "x, y = stephist(nh_bright/np.sum(nh_bright), zbins)\n",
    "plt.plot(x, y)\n",
    "x, y = stephist(nh_faint/np.sum(nh_faint), zbins)\n",
    "plt.plot(x, y)\n",
    "plt.xlim(0., 0.8)\n",
    "plt.ylim(0., None)"
   ]
  },
  {
   "cell_type": "markdown",
   "id": "1e9cc889-31b8-4e0e-85c2-88893a99537d",
   "metadata": {},
   "source": [
    "## calculate $n(z)$\n",
    "(target density in ${\\rm deg}^{-2}$) x (normalized $z$ distribution)"
   ]
  },
  {
   "cell_type": "code",
   "execution_count": 25,
   "id": "98bc4773-f9f8-43d0-99a3-399c3f4e7ff4",
   "metadata": {},
   "outputs": [],
   "source": [
    "nz_bright = 864. * (nh_bright/np.sum(nh_bright))\n",
    "nz_faint = 533. * (nh_faint/np.sum(nh_faint))"
   ]
  },
  {
   "cell_type": "code",
   "execution_count": 30,
   "id": "de777aea-c9c3-4b33-8ac0-471ec8d0eb05",
   "metadata": {},
   "outputs": [],
   "source": [
    "zlow = zbins[:-1]\n",
    "zhigh = zbins[1:] "
   ]
  },
  {
   "cell_type": "code",
   "execution_count": 32,
   "id": "f8567e44-ff45-4c2e-9f3a-5ff3f004e161",
   "metadata": {},
   "outputs": [],
   "source": [
    "np.savetxt('bgs_nz_sv_overview.dat', np.vstack([zlow, zhigh, nz_bright, nz_faint]).T, fmt=['%.3f', '%.3f', '%.5e', '%.5e'], header='z_low, z_high, n_bright (deg^-2), n_faint (deg^-2)')"
   ]
  },
  {
   "cell_type": "code",
   "execution_count": null,
   "id": "f16b615f-a011-400c-b3e5-abcd2e91fa3d",
   "metadata": {},
   "outputs": [],
   "source": []
  }
 ],
 "metadata": {
  "kernelspec": {
   "display_name": "DESI master",
   "language": "python",
   "name": "desi-master"
  },
  "language_info": {
   "codemirror_mode": {
    "name": "ipython",
    "version": 3
   },
   "file_extension": ".py",
   "mimetype": "text/x-python",
   "name": "python",
   "nbconvert_exporter": "python",
   "pygments_lexer": "ipython3",
   "version": "3.8.3"
  }
 },
 "nbformat": 4,
 "nbformat_minor": 5
}
