{
 "cells": [
  {
   "cell_type": "code",
   "execution_count": 23,
   "id": "3dfe9a41-fa0f-4bd9-a39e-68c6c1b03153",
   "metadata": {},
   "outputs": [],
   "source": [
    "import os\n",
    "import sys\n",
    "import ephem\n",
    "import desimodel\n",
    "import pylab as pl\n",
    "import numpy as np \n",
    "\n",
    "sys.path.insert(0, '/global/homes/m/mjwilson/desi/BGS/bgs-cmxsv/surveysim/py/')\n",
    "sys.path.insert(0, '/global/homes/m/mjwilson/desi/BGS/bgs-cmxsv/desisurvey/py/')\n",
    "\n",
    "import desisurvey\n",
    "import surveysim.stats\n",
    "\n",
    "from astropy.io import fits\n",
    "from astropy.time import Time\n",
    "from astropy.table import Table\n",
    "\n",
    "# -- plotting -- \n",
    "import matplotlib as mpl\n",
    "import matplotlib.pyplot as plt\n",
    "mpl.rcParams['text.usetex'] = True\n",
    "mpl.rcParams['font.family'] = 'serif'\n",
    "mpl.rcParams['axes.linewidth'] = 1.5\n",
    "mpl.rcParams['axes.xmargin'] = 1\n",
    "mpl.rcParams['xtick.labelsize'] = 'x-large'\n",
    "mpl.rcParams['xtick.major.size'] = 5\n",
    "mpl.rcParams['xtick.major.width'] = 1.5\n",
    "mpl.rcParams['ytick.labelsize'] = 'x-large'\n",
    "mpl.rcParams['ytick.major.size'] = 5\n",
    "mpl.rcParams['ytick.major.width'] = 1.5\n",
    "mpl.rcParams['legend.frameon'] = False"
   ]
  },
  {
   "cell_type": "code",
   "execution_count": 2,
   "id": "b30aaa43-6e92-435b-bd11-74f921f1a647",
   "metadata": {},
   "outputs": [],
   "source": [
    "_dir = '/global/cscratch1/sd/chahah/desisurvey_output'"
   ]
  },
  {
   "cell_type": "code",
   "execution_count": 3,
   "id": "d0397826-29c0-4819-bb33-17fd37c031c1",
   "metadata": {},
   "outputs": [
    {
     "data": {
      "text/plain": [
       "['/global/homes/m/mjwilson/desi/BGS/bgs-cmxsv/surveysim/py/surveysim']"
      ]
     },
     "execution_count": 3,
     "metadata": {},
     "output_type": "execute_result"
    }
   ],
   "source": [
    "surveysim.__path__"
   ]
  },
  {
   "cell_type": "code",
   "execution_count": 4,
   "id": "7bd00f3a-f0e5-4fb9-a5fa-fd74c693c00f",
   "metadata": {},
   "outputs": [
    {
     "data": {
      "text/plain": [
       "['/global/homes/m/mjwilson/desi/BGS/bgs-cmxsv/desisurvey/py/desisurvey']"
      ]
     },
     "execution_count": 4,
     "metadata": {},
     "output_type": "execute_result"
    }
   ],
   "source": [
    "desisurvey.__path__"
   ]
  },
  {
   "cell_type": "code",
   "execution_count": 5,
   "id": "b77ab1e3-5f24-4a8a-8f32-57f33f737736",
   "metadata": {},
   "outputs": [],
   "source": [
    "colors = plt.rcParams['axes.prop_cycle'].by_key()['color']"
   ]
  },
  {
   "cell_type": "code",
   "execution_count": 6,
   "id": "a52b60c1-2fdd-4feb-a4c6-1f0602004fc0",
   "metadata": {},
   "outputs": [
    {
     "data": {
      "text/plain": [
       "((<Quantity -111.59933611 deg>,),\n",
       " (<Quantity 31.96397222 deg>,),\n",
       " <Quantity 2120. m>)"
      ]
     },
     "execution_count": 6,
     "metadata": {},
     "output_type": "execute_result"
    }
   ],
   "source": [
    "config = desisurvey.config.Configuration()\n",
    "\n",
    "lat=config.location.latitude(),\n",
    "lon=config.location.longitude(),\n",
    "height=config.location.elevation()\n",
    "\n",
    "lon, lat, height"
   ]
  },
  {
   "cell_type": "code",
   "execution_count": 16,
   "id": "adb31706-ff29-4bc3-98ac-fef49e1d82fc",
   "metadata": {},
   "outputs": [],
   "source": [
    "mayall = ephem.Observer()\n",
    "mayall.lat = '-111.599'\n",
    "mayall.lon = '31.963'\n",
    "mayall.date = Time(exps['MJD'][0], format='mjd').iso"
   ]
  },
  {
   "cell_type": "code",
   "execution_count": 17,
   "id": "ab32b30f-2e7c-44d6-8e65-d82027b7b132",
   "metadata": {},
   "outputs": [
    {
     "data": {
      "text/plain": [
       "(5.560604855755167, -0.32421733764830557)"
      ]
     },
     "execution_count": 17,
     "metadata": {},
     "output_type": "execute_result"
    }
   ],
   "source": [
    "moon = ephem.Moon()\n",
    "moon.compute(mayall)\n",
    "\n",
    "moon.ra, moon.dec"
   ]
  },
  {
   "cell_type": "code",
   "execution_count": 106,
   "id": "45170941-0bdc-41af-ae45-af90a2636618",
   "metadata": {},
   "outputs": [],
   "source": [
    "def surveysim_summary(texp, footprint, version=8, deepfirst=False, twilight=False):\n",
    "    _file = ('%is_bgs%i_skybranch_v%i%s.brightsky%s%s' % \n",
    "             (texp, footprint, version, ['', '.twilight'][twilight], ['', '.deepfirst'][deepfirst], ['.bgs%i' % footprint, ''][footprint == 14000]))\n",
    "\n",
    "    fstats = os.path.join(_dir, 'stats_%s.fits' % _file)\n",
    "    stats = surveysim.stats.SurveyStatistics(restore=fstats, bgs_footprint=[footprint, None][footprint == 14000])\n",
    "\n",
    "    tiles_file = '/global/cscratch1/sd/chahah/desisurvey_output/desi-tiles.ecsv'\n",
    "    tiles      = Table.read(tiles_file)\n",
    "\n",
    "    assert np.all(stats.tiles.tileID == tiles['TILEID'].data)\n",
    "    \n",
    "    fexps = os.path.join(_dir, 'exposures_%s.fits' % _file)\n",
    "    exps = fits.getdata(fexps, 'exposures')\n",
    "    \n",
    "    stats.summarize()\n",
    "    \n",
    "    actual = np.cumsum(stats._data['completed'], axis=0)\n",
    "\n",
    "    # Map to absolute pass number for third bright pass, e.g. returns pass 7. \n",
    "    third_pass = stats.tiles.program_passes['BRIGHT'][-1]\n",
    "    \n",
    "    # This is really ntile in the third pass. \n",
    "    npass = stats.tiles.pass_ntiles[third_pass]\n",
    "    \n",
    "    # Indices into pass array for non-consecutive / non-dense pass numbers.  \n",
    "    passidx = stats.tiles.pass_index[third_pass]\n",
    "    \n",
    "    '''\n",
    "    bgs_complete = (actual[:,passidx] / npass) == 1.\n",
    "\n",
    "    dt = 1 + np.arange(len(stats._data))\n",
    "    print('BGS finishes 3rd passs on day %i of %i' % (dt[bgs_complete].min(), dt[-1]))\n",
    "    print('  %.3f percent margin' % (100.*(dt[-1] - dt[bgs_complete].min())/dt[-1]))\n",
    "    '''\n",
    "    \n",
    "    # ntile length array of whether in BGS. \n",
    "    _pass = np.isin(stats.tiles.passnum, stats.tiles.program_passes['BRIGHT'])\n",
    "\n",
    "    # BGS tileids.\n",
    "    tileid_pass = stats.tiles.tileID[_pass]\n",
    "    \n",
    "    '''\n",
    "    Returns:\n",
    "        intersect1dndarray\n",
    "            Sorted 1D array of common and unique elements.\n",
    "\n",
    "        comm1ndarray\n",
    "            The indices of the first occurrences of the common values in ar1. Only provided if return_indices is True.\n",
    "\n",
    "        comm2ndarray\n",
    "            The indices of the first occurrences of the common values in ar2. Only provided if return_indices is True.\n",
    "    \n",
    "    '''\n",
    "    \n",
    "    _, m0, m1 = np.intersect1d(exps['TILEID'], tileid_pass, return_indices=True)\n",
    "    \n",
    "    t_exps = Time(exps['MJD'], format='mjd')\n",
    "\n",
    "    fig = plt.figure(figsize=(16, 8))\n",
    "    \n",
    "    # Will assumes consecutive pass. \n",
    "    min_pass = stats.tiles.program_passes['BRIGHT'][0]\n",
    "    \n",
    "    mjds = np.linspace(exps['MJD'].min(), exps['MJD'].min() + 365, 250)\n",
    "    moon_radec = []\n",
    "    \n",
    "    for mjd in mjds:\n",
    "        mayall.date = Time(mjd, format='mjd').iso  \n",
    "    \n",
    "        moon.compute(mayall)\n",
    "\n",
    "        # Time(mjd, format='mjd').iso\n",
    "        moon_radec.append([mjd, np.degrees(moon.ra), np.degrees(moon.dec)])           \n",
    "    \n",
    "    moon_radec = np.array(moon_radec)\n",
    "    \n",
    "    for year in range(5): \n",
    "        # inyear = (t_exps[m0].decimalyear >= t_exps.decimalyear.min() + year) & (t_exps[m0].decimalyear < (t_exps.decimalyear.min() + year + 1))\n",
    "\n",
    "        bynowyear = (t_exps[m0].decimalyear >= t_exps.decimalyear.min()) & (t_exps[m0].decimalyear < (t_exps.decimalyear.min() + year + 1))\n",
    "        \n",
    "        sub = fig.add_subplot(2,3,year+1)\n",
    "\n",
    "        # sub.scatter(((stats.tiles.tileRA[_pass][m1][inyear] - 80) % 360) + 80, stats.tiles.tileDEC[_pass][m1][inyear], s=5, c='k')\n",
    "\n",
    "        sub.plot(((moon_radec[:,1] - 80) % 360) + 80., moon_radec[:,2], c='k', lw=0.0, marker=',')\n",
    "        \n",
    "        # _pass:  in BRIGHT \n",
    "        toplot = Table(tiles[_pass][m1][bynowyear], copy=True)\n",
    "        \n",
    "        toplot_passes = np.unique(toplot['PASS'].data)[::-1]\n",
    "\n",
    "        # print()\n",
    "        # print()\n",
    "        \n",
    "        for i, pp in enumerate(toplot_passes):\n",
    "            in_pass = toplot['PASS'].data == pp \n",
    "                    \n",
    "            sub.scatter(((toplot['RA'].data[in_pass] - 80) % 360) + 80, toplot['DEC'].data[in_pass], s=5, c=colors[pp - min_pass], label='Pass {:d}'.format(pp - min_pass))\n",
    "\n",
    "            plotted_centerids = np.unique(toplot['CENTERID'].data[in_pass])\n",
    "\n",
    "            to_remove = np.isin(toplot['CENTERID'].data, plotted_centerids)\n",
    "\n",
    "            # print(pp)\n",
    "            # print(len(toplot))\n",
    "            \n",
    "            toplot = toplot[~to_remove]\n",
    "     \n",
    "            # print(len(toplot))\n",
    "        \n",
    "        sub.set_xlim(440, 80)\n",
    "        sub.set_ylim(-55., 90.)\n",
    "        sub.legend(frameon=False, loc=3)\n",
    "        sub.text(0.25, 0.95, 'Year %i' % (year+1), transform=sub.transAxes, ha='right', va='top', fontsize=20)\n",
    "\n",
    "        if year not in [0, 3]: \n",
    "            sub.set_yticklabels([])\n",
    "        if year < 2: \n",
    "            sub.set_xticklabels([])\n",
    "            \n",
    "    bkgd = fig.add_subplot(111, frameon=False)\n",
    "    bkgd.set_xlabel(r'RA', labelpad=10, fontsize=25) \n",
    "    bkgd.set_ylabel(r'Dec', labelpad=10, fontsize=25) \n",
    "    bkgd.tick_params(labelcolor='none', top=False, bottom=False, left=False, right=False)\n",
    "    fig.subplots_adjust(wspace=0.1, hspace=0.1)\n",
    "    return fig, exps, stats, moon_radec\n",
    "\n",
    "#     fig, sub = stats.plot()\n",
    "    \n",
    "#     # get BGS tiles\n",
    "#     _pass = np.zeros(len(stats.tiles.passnum)).astype(bool)\n",
    "#     for i in range(3):\n",
    "#         _pass = _pass | (stats.tiles.passnum == stats.tiles.program_passes['BRIGHT'][i-3])\n",
    "\n",
    "#     tileid_pass = stats.tiles.tileID[_pass]\n",
    "#     _, m0, m1 = np.intersect1d(exps['TILEID'], tileid_pass, return_indices=True)\n",
    "    \n",
    "#     fig = plt.figure(figsize=(10,5))\n",
    "#     sub = fig.add_subplot(111)\n",
    "\n",
    "#     sub.scatter(((stats.tiles.tileRA[_pass] - 80) % 360) + 80, stats.tiles.tileDEC[_pass], s=5, c='k')\n",
    "#     sub.set_xlim(80, 440)\n",
    "#     sub.set_ylabel('Dec', fontsize=25)\n",
    "#     sub.set_ylim(-25., 90.)\n",
    "#     sub.set_xlabel('RA', fontsize=25)\n",
    "\n",
    "#     fig = plt.figure(figsize=(6,6))\n",
    "#     sub = fig.add_subplot(111)\n",
    "#     sub.hist(exps['SKY'][m0], range=(0., 5), bins=50)\n",
    "#     #sub.plot([2.5, 2.5], [0., 750], c='k', ls='--')\n",
    "#     sub.text(0.95, 0.95, 'median=%.2f' %np.median(exps['SKY'][m0]), transform=sub.transAxes, ha='right', va='top', fontsize=20)\n",
    "#     sub.set_xlabel('sky brightness exposure factor', fontsize=25)\n",
    "#     sub.set_xlim(0., 5)"
   ]
  },
  {
   "cell_type": "code",
   "execution_count": 108,
   "id": "229c47e2-0296-4a53-b9ff-a505575decd1",
   "metadata": {},
   "outputs": [
    {
     "name": "stdout",
     "output_type": "stream",
     "text": [
      "(15984,)\n",
      "INFO:stats.py:79:__init__: Restored stats from /global/cscratch1/sd/chahah/desisurvey_output/stats_300s_bgs14000_skybranch_v8.brightsky.fits\n",
      "INFO:stats.py:81:__init__:   Comment: \"\".\n",
      "Scheduled 10545.349 hr Open 74.915% Live 74.277%\n",
      "==================================================================================\n",
      "PROG PASS    TILES  NEXP SETUP ABT SPLIT ABT    TEXP TSETUP TSPLIT   TOPEN  TDEAD\n",
      "==================================================================================\n",
      "DARK   1 2011/1998  5996  2952  14  3044  11 1856.1s 176.5s  91.0s\n",
      "DARK   2 2007/1998  6146  3028  16  3118   3 1948.3s 181.5s  93.3s\n",
      "DARK   3 2010/1998  5959  2888  15  3071   3 1966.8s 172.9s  91.7s\n",
      "DARK   4 2005/1998  6242  3222  14  3020   4 1836.1s 193.3s  90.4s\n",
      "DARK     8033/7992 24343 12090  59 12253  21 1901.8s 181.1s  91.6s 2294.1s 114.2s\n",
      "----------------------------------------------------------------------------------\n",
      "GRAY   0 2010/1998  6067  3040  19  3027   7 1863.8s 182.0s  90.5s\n",
      "GRAY     2010/1998  6067  3040  19  3027   7 1863.8s 182.0s  90.5s 2322.9s 208.4s\n",
      "----------------------------------------------------------------------------------\n",
      "BRIGHT 5 2007/1998  4298  2167   6  2131   3  345.1s 129.7s  63.8s\n",
      "BRIGHT 6 2011/1998  4408  2167   7  2241   2  354.8s 129.6s  66.9s\n",
      "BRIGHT 7 2010/1998  4322  2185   8  2137  10  345.6s 130.7s  64.0s\n",
      "BRIGHT   6028/5994 13028  6519  21  6509  15  348.5s 130.0s  64.9s  886.2s 342.9s\n",
      "----------------------------------------------------------------------------------\n"
     ]
    },
    {
     "name": "stderr",
     "output_type": "stream",
     "text": [
      "WARNING: ErfaWarning: ERFA function \"dtf2d\" yielded 228 of \"dubious year (Note 6)\" [astropy._erfa.core]\n"
     ]
    },
    {
     "data": {
      "image/png": "[encoded data removed]",
      "text/plain": [
       "<Figure size 1152x576 with 6 Axes>"
      ]
     },
     "metadata": {
      "needs_background": "light"
     },
     "output_type": "display_data"
    }
   ],
   "source": [
    "fig, exps, stats, moon_radec = surveysim_summary(300, 14000, version=8, deepfirst=False, twilight=False)\n",
    "fig.savefig('figs/strategysim.pdf', bbox_inches='tight')"
   ]
  },
  {
   "cell_type": "code",
   "execution_count": 91,
   "id": "7a5e9267-3cd3-448c-8b43-2afefa7875b3",
   "metadata": {},
   "outputs": [
    {
     "data": {
      "text/plain": [
       "'desi-tiles.fits'"
      ]
     },
     "execution_count": 91,
     "metadata": {},
     "output_type": "execute_result"
    }
   ],
   "source": [
    "stats.tiles.tiles_file"
   ]
  },
  {
   "cell_type": "code",
   "execution_count": 82,
   "id": "74a790b5-d60e-45a3-8918-8161c14dd896",
   "metadata": {},
   "outputs": [
    {
     "data": {
      "text/plain": [
       "(1998, 1998)"
      ]
     },
     "execution_count": 82,
     "metadata": {},
     "output_type": "execute_result"
    }
   ],
   "source": [
    "stats.tiles.overlapping[6].shape"
   ]
  },
  {
   "cell_type": "code",
   "execution_count": 84,
   "id": "49814ae8-1002-4c47-8452-fe4a21274ae0",
   "metadata": {},
   "outputs": [
    {
     "data": {
      "text/plain": [
       "0"
      ]
     },
     "execution_count": 84,
     "metadata": {},
     "output_type": "execute_result"
    }
   ],
   "source": [
    "np.count_nonzero(stats.tiles.tile_over[5])"
   ]
  },
  {
   "cell_type": "code",
   "execution_count": 85,
   "id": "4f954234-3886-4f38-9a7b-db7649bc2108",
   "metadata": {},
   "outputs": [
    {
     "data": {
      "text/plain": [
       "1998"
      ]
     },
     "execution_count": 85,
     "metadata": {},
     "output_type": "execute_result"
    }
   ],
   "source": [
    "np.count_nonzero(stats.tiles.tile_over[6])"
   ]
  },
  {
   "cell_type": "code",
   "execution_count": 86,
   "id": "ea5e2e36-b42d-4cf9-9cb5-fc66fe5eb97c",
   "metadata": {},
   "outputs": [
    {
     "data": {
      "text/plain": [
       "3996"
      ]
     },
     "execution_count": 86,
     "metadata": {},
     "output_type": "execute_result"
    }
   ],
   "source": [
    "np.count_nonzero(stats.tiles.tile_over[7])"
   ]
  },
  {
   "cell_type": "code",
   "execution_count": 25,
   "id": "03639481-c794-4223-ba5b-59fd8ae5bf2a",
   "metadata": {},
   "outputs": [
    {
     "data": {
      "text/plain": [
       "array([    4,     6,     7, ..., 46090, 46091, 46095], dtype=int32)"
      ]
     },
     "execution_count": 25,
     "metadata": {},
     "output_type": "execute_result"
    }
   ],
   "source": [
    "stats.tiles.tileID"
   ]
  },
  {
   "cell_type": "code",
   "execution_count": 27,
   "id": "e4f23885-e8f1-4a27-b9ff-756e7a5d68fd",
   "metadata": {},
   "outputs": [
    {
     "data": {
      "text/plain": [
       "array([0, 0, 0, ..., 7, 7, 7], dtype=int16)"
      ]
     },
     "execution_count": 27,
     "metadata": {},
     "output_type": "execute_result"
    }
   ],
   "source": [
    "stats.tiles.passnum"
   ]
  },
  {
   "cell_type": "code",
   "execution_count": 28,
   "id": "b612d2e4-2dfb-4951-a8ba-38b21509c2ec",
   "metadata": {},
   "outputs": [
    {
     "data": {
      "text/plain": [
       "array([334.81451466, 333.01036364, 332.14257944, ..., 244.69308567,\n",
       "       247.11398399, 247.16251195])"
      ]
     },
     "execution_count": 28,
     "metadata": {},
     "output_type": "execute_result"
    }
   ],
   "source": [
    "stats.tiles.tileRA"
   ]
  },
  {
   "cell_type": "code",
   "execution_count": 29,
   "id": "fb44e7f0-46b5-4b91-9396-f418eb8b17d2",
   "metadata": {},
   "outputs": [
    {
     "data": {
      "text/plain": [
       "array([20.45422737, 15.41422737, 12.89422737, ...,  3.20363934,\n",
       "        4.62363934,  1.69363934])"
      ]
     },
     "execution_count": 29,
     "metadata": {},
     "output_type": "execute_result"
    }
   ],
   "source": [
    "stats.tiles.tileDEC"
   ]
  },
  {
   "cell_type": "code",
   "execution_count": 30,
   "id": "dd119a08-0c9e-42a1-b3a1-b9e896ec3966",
   "metadata": {},
   "outputs": [
    {
     "data": {
      "text/plain": [
       "{0: 1998, 1: 1998, 2: 1998, 3: 1998, 4: 1998, 5: 1998, 6: 1998, 7: 1998}"
      ]
     },
     "execution_count": 30,
     "metadata": {},
     "output_type": "execute_result"
    }
   ],
   "source": [
    "stats.tiles.pass_ntiles"
   ]
  },
  {
   "cell_type": "code",
   "execution_count": 32,
   "id": "4beda7a6-8c8b-41c9-89c8-9ff19512dad1",
   "metadata": {},
   "outputs": [
    {
     "data": {
      "text/plain": [
       "{'DARK': array([1, 2, 3, 4], dtype=int16),\n",
       " 'GRAY': array([0], dtype=int16),\n",
       " 'BRIGHT': array([5, 6, 7], dtype=int16)}"
      ]
     },
     "execution_count": 32,
     "metadata": {},
     "output_type": "execute_result"
    }
   ],
   "source": [
    "stats.tiles.program_passes"
   ]
  },
  {
   "cell_type": "code",
   "execution_count": 34,
   "id": "0d2a9191-c45c-476c-9399-b1de82f94a61",
   "metadata": {},
   "outputs": [
    {
     "data": {
      "text/plain": [
       "{0: 1998, 1: 1998, 2: 1998, 3: 1998, 4: 1998, 5: 1998, 6: 1998, 7: 1998}"
      ]
     },
     "execution_count": 34,
     "metadata": {},
     "output_type": "execute_result"
    }
   ],
   "source": [
    "stats.tiles.pass_ntiles"
   ]
  },
  {
   "cell_type": "code",
   "execution_count": 35,
   "id": "6c4fc04f-1965-4292-baac-304b21c4eec7",
   "metadata": {},
   "outputs": [
    {
     "data": {
      "text/plain": [
       "{0: 0, 1: 1, 2: 2, 3: 3, 4: 4, 5: 5, 6: 6, 7: 7}"
      ]
     },
     "execution_count": 35,
     "metadata": {},
     "output_type": "execute_result"
    }
   ],
   "source": [
    "stats.tiles.pass_index"
   ]
  },
  {
   "cell_type": "code",
   "execution_count": 49,
   "id": "6885c0ae-5aa5-4a84-82c6-0da6d73d301b",
   "metadata": {},
   "outputs": [],
   "source": [
    "# get BGS tiles\n",
    "_pass = np.zeros(len(stats.tiles.passnum)).astype(bool)\n",
    "\n",
    "for i in range(3):\n",
    "    _pass = _pass | (stats.tiles.passnum == stats.tiles.program_passes['BRIGHT'][i-3])\n",
    "\n",
    "tileid_pass = stats.tiles.tileID[_pass]"
   ]
  },
  {
   "cell_type": "code",
   "execution_count": 55,
   "id": "55cd1038-b084-4634-bf0c-d97e2d49dc21",
   "metadata": {},
   "outputs": [
    {
     "data": {
      "text/plain": [
       "15984"
      ]
     },
     "execution_count": 55,
     "metadata": {},
     "output_type": "execute_result"
    }
   ],
   "source": [
    "len(_pass)"
   ]
  },
  {
   "cell_type": "code",
   "execution_count": 61,
   "id": "fed43d4b-0556-4566-9c12-58283298a16a",
   "metadata": {},
   "outputs": [
    {
     "data": {
      "text/plain": [
       "True"
      ]
     },
     "execution_count": 61,
     "metadata": {},
     "output_type": "execute_result"
    }
   ],
   "source": [
    "np.all(np.isin(stats.tiles.passnum, stats.tiles.program_passes['BRIGHT']) == _pass)"
   ]
  },
  {
   "cell_type": "code",
   "execution_count": 62,
   "id": "e7edf656-1aef-4eea-984b-cf0a42735b2b",
   "metadata": {},
   "outputs": [],
   "source": [
    "    # ntile length array of whether in BGS. \n",
    "    _pass = np.isin(stats.tiles.passnum, stats.tiles.program_passes['BRIGHT'])\n",
    "\n",
    "    # BGS tileids.\n",
    "    tileid_pass = stats.tiles.tileID[_pass]\n",
    "    \n",
    "    _, m0, m1 = np.intersect1d(exps['TILEID'].data, tileid_pass, return_indices=True)"
   ]
  },
  {
   "cell_type": "code",
   "execution_count": 65,
   "id": "95f6ad1e-3a1e-4ffc-b660-85901e3411d4",
   "metadata": {},
   "outputs": [
    {
     "data": {
      "text/plain": [
       "array([ 8568,  7808,  7810, ..., 28726, 28732, 28736])"
      ]
     },
     "execution_count": 65,
     "metadata": {},
     "output_type": "execute_result"
    }
   ],
   "source": [
    "m0"
   ]
  },
  {
   "cell_type": "code",
   "execution_count": 66,
   "id": "70aab81c-dc20-4698-8bf6-b626b2f3ef4a",
   "metadata": {},
   "outputs": [
    {
     "data": {
      "text/plain": [
       "array([28814, 28816, 28817, ..., 46089, 46090, 46091], dtype=int32)"
      ]
     },
     "execution_count": 66,
     "metadata": {},
     "output_type": "execute_result"
    }
   ],
   "source": [
    "_"
   ]
  },
  {
   "cell_type": "code",
   "execution_count": 71,
   "id": "8e9b4c9b-0666-4b4d-a267-0b98bf3383d6",
   "metadata": {},
   "outputs": [
    {
     "data": {
      "text/plain": [
       "(5592, 5592, 5592)"
      ]
     },
     "execution_count": 71,
     "metadata": {},
     "output_type": "execute_result"
    }
   ],
   "source": [
    "len(_), len(m0), len(m1)"
   ]
  },
  {
   "cell_type": "code",
   "execution_count": 73,
   "id": "658f49ab-8f1d-4202-b7f4-26c01d46be1a",
   "metadata": {},
   "outputs": [
    {
     "data": {
      "text/plain": [
       "dtype('int64')"
      ]
     },
     "execution_count": 73,
     "metadata": {},
     "output_type": "execute_result"
    }
   ],
   "source": [
    "m0.dtype"
   ]
  },
  {
   "cell_type": "code",
   "execution_count": 133,
   "id": "c47f857e-ecdd-4b0b-8814-e8a3859eb443",
   "metadata": {},
   "outputs": [],
   "source": [
    "    # Map to absolute pass number for third bright pass, e.g. returns pass 7. \n",
    "    third_pass = stats.tiles.program_passes['BRIGHT'][-1]\n",
    "    \n",
    "    # This is really ntile in the third pass. \n",
    "    npass = stats.tiles.pass_ntiles[third_pass]\n",
    "    \n",
    "    # Indices into pass array for non-consecutive / non-dense pass numbers.  \n",
    "    passidx = stats.tiles.pass_index[third_pass]"
   ]
  },
  {
   "cell_type": "code",
   "execution_count": 134,
   "id": "2396bdb5-5c90-44c0-9f73-58bb8988e282",
   "metadata": {},
   "outputs": [
    {
     "data": {
      "text/plain": [
       "array([5, 6, 7], dtype=int16)"
      ]
     },
     "execution_count": 134,
     "metadata": {},
     "output_type": "execute_result"
    }
   ],
   "source": [
    "stats.tiles.program_passes['BRIGHT']"
   ]
  },
  {
   "cell_type": "markdown",
   "id": "64c22567-505b-4317-b6b1-9d7574c7f950",
   "metadata": {},
   "source": [
    "# Done."
   ]
  }
 ],
 "metadata": {
  "kernelspec": {
   "display_name": "DESI 21.7e",
   "language": "python",
   "name": "desi-21.7e"
  },
  "language_info": {
   "codemirror_mode": {
    "name": "ipython",
    "version": 3
   },
   "file_extension": ".py",
   "mimetype": "text/x-python",
   "name": "python",
   "nbconvert_exporter": "python",
   "pygments_lexer": "ipython3",
   "version": "3.8.3"
  }
 },
 "nbformat": 4,
 "nbformat_minor": 5
}
