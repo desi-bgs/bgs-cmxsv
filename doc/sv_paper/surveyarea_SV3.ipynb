{
 "cells": [
  {
   "cell_type": "code",
   "execution_count": 1,
   "id": "fb8eaf0f-e5e4-4c87-a90f-4c89abe52c09",
   "metadata": {},
   "outputs": [],
   "source": [
    "import fitsio\n",
    "import pylab as pl\n",
    "import numpy as np\n",
    "import astropy.io.fits as fits"
   ]
  },
  {
   "cell_type": "code",
   "execution_count": 2,
   "id": "f1a371aa-eda6-460f-aa5b-f7764201680e",
   "metadata": {},
   "outputs": [],
   "source": [
    "def tile2rosette(tile):\n",
    "    if tile < 433:\n",
    "        return (tile-1)//27\n",
    "    else:\n",
    "        if tile >= 433 and tile < 436:\n",
    "            return 13\n",
    "        if tile >= 436 and tile < 439:\n",
    "            return 14\n",
    "        if tile >= 439 and tile < 442:\n",
    "            return 15\n",
    "        if tile >= 442 and tile <=480:\n",
    "            return (tile-442)//3\n",
    "            \n",
    "        if tile > 480:\n",
    "            return tile//30    \n",
    "    return 999999 #shouldn't be any more?"
   ]
  },
  {
   "cell_type": "code",
   "execution_count": 3,
   "id": "d90291bb-a1f6-43b0-b025-a8d5f0d80b59",
   "metadata": {},
   "outputs": [],
   "source": [
    "root0 = '/global/cfs/cdirs/desi/survey/catalogs/SV3/LSS/random0/'\n",
    "root1 = '/global/cfs/cdirs/desi/survey/catalogs/SV3/LSS/random1/'\n",
    "root2 = '/global/cfs/cdirs/desi/survey/catalogs/SV3/LSS/random2/'"
   ]
  },
  {
   "cell_type": "code",
   "execution_count": 4,
   "id": "05314e3d-0602-42cb-bd39-160cc64d8f01",
   "metadata": {},
   "outputs": [],
   "source": [
    "rand  = fits.open(root0 + 'rancomb_brightwdup_Alltiles.fits')"
   ]
  },
  {
   "cell_type": "code",
   "execution_count": 5,
   "id": "9e926bb6-54ad-4ab9-a371-cac5dfb681c0",
   "metadata": {},
   "outputs": [
    {
     "name": "stdout",
     "output_type": "stream",
     "text": [
      "Filename: /global/cfs/cdirs/desi/survey/catalogs/SV3/LSS/random0/rancomb_brightwdup_Alltiles.fits\n",
      "No.    Name      Ver    Type      Cards   Dimensions   Format\n",
      "  0  PRIMARY       1 PrimaryHDU       4   ()      \n",
      "  1  FAVAIL        1 BinTableHDU     51   3825185R x 6C   [J, J, K, D, D, K]   \n"
     ]
    }
   ],
   "source": [
    "rand.info()"
   ]
  },
  {
   "cell_type": "code",
   "execution_count": 6,
   "id": "23861715-d169-43b2-acbf-170fb9399eb0",
   "metadata": {},
   "outputs": [
    {
     "data": {
      "text/plain": [
       "XTENSION= 'BINTABLE'           / binary table extension                         \n",
       "BITPIX  =                    8 / array data type                                \n",
       "NAXIS   =                    2 / number of array dimensions                     \n",
       "NAXIS1  =                   40 / length of dimension 1                          \n",
       "NAXIS2  =              3825185 / length of dimension 2                          \n",
       "PCOUNT  =                    0 / number of group parameters                     \n",
       "GCOUNT  =                    1 / number of groups                               \n",
       "TFIELDS =                    6 / number of table fields                         \n",
       "TTYPE1  = 'LOCATION'                                                            \n",
       "TFORM1  = 'J       '                                                            \n",
       "TTYPE2  = 'FIBER   '                                                            \n",
       "TFORM2  = 'J       '                                                            \n",
       "TTYPE3  = 'TARGETID'                                                            \n",
       "TFORM3  = 'K       '                                                            \n",
       "TTYPE4  = 'RA      '                                                            \n",
       "TFORM4  = 'D       '                                                            \n",
       "TTYPE5  = 'DEC     '                                                            \n",
       "TFORM5  = 'D       '                                                            \n",
       "TTYPE6  = 'TILEID  '                                                            \n",
       "TFORM6  = 'K       '                                                            \n",
       "EXTNAME = 'FAVAIL  '                                                            \n",
       "TILEID  =                   49                                                  \n",
       "TILERA  =              179.691                                                  \n",
       "TILEDEC =               -0.078                                                  \n",
       "FIELDROT= 0.000359628494740581                                                  \n",
       "FA_PLAN = '2022-07-01T00:00:00.000'                                             \n",
       "FA_HA   =                  0.0                                                  \n",
       "FA_RUN  = '2021-05-03T20:56:22+00:00'                                           \n",
       "REQRA   =              179.691                                                  \n",
       "REQDEC  =               -0.078                                                  \n",
       "FIELDNUM=                    0                                                  \n",
       "FA_VER  = '2.3.0   '                                                            \n",
       "FA_SURV = 'sv3     '                                                            \n",
       "DEPNAM00= 'python  '                                                            \n",
       "DEPVER00= '3.8.3   '                                                            \n",
       "DEPNAM01= 'numpy   '                                                            \n",
       "DEPVER01= '1.19.1  '                                                            \n",
       "DEPNAM02= 'matplotlib'                                                          \n",
       "DEPVER02= '3.2.1   '                                                            \n",
       "DEPNAM03= 'astropy '                                                            \n",
       "DEPVER03= '4.0.1.post1'                                                         \n",
       "DEPNAM04= 'fitsio  '                                                            \n",
       "DEPVER04= '1.1.2   '                                                            \n",
       "DEPNAM05= 'desiutil'                                                            \n",
       "DEPVER05= '3.2.1.dev938'                                                        \n",
       "DEPNAM06= 'desimodel'                                                           \n",
       "DEPVER06= '0.15.0.dev651'                                                       \n",
       "DEPNAM07= 'desitarget'                                                          \n",
       "DEPVER07= '1.1.1.dev5118'                                                       \n",
       "DEPNAM08= 'SKYBRICKS_DIR'                                                       \n",
       "DEPVER08= '$DESI_ROOT/target/skybricks/v3'                                      "
      ]
     },
     "execution_count": 6,
     "metadata": {},
     "output_type": "execute_result"
    }
   ],
   "source": [
    "rand[1].header"
   ]
  },
  {
   "cell_type": "code",
   "execution_count": 7,
   "id": "29492c73-11f8-43f8-99a0-7e422ee1e6b6",
   "metadata": {},
   "outputs": [],
   "source": [
    "rand = rand['FAVAIL'].data"
   ]
  },
  {
   "cell_type": "code",
   "execution_count": 8,
   "id": "52f26af5-53f3-4967-a6ad-8aa66753f6e1",
   "metadata": {},
   "outputs": [
    {
     "data": {
      "text/plain": [
       "('LOCATION', 'FIBER', 'TARGETID', 'RA', 'DEC', 'TILEID')"
      ]
     },
     "execution_count": 8,
     "metadata": {},
     "output_type": "execute_result"
    }
   ],
   "source": [
    "rand.dtype.names"
   ]
  },
  {
   "cell_type": "code",
   "execution_count": 9,
   "id": "e1feada4-c334-4b3b-ab50-7412bf1ccb5a",
   "metadata": {},
   "outputs": [],
   "source": [
    "uids, cnts = np.unique(rand['TARGETID'].data, return_counts=True)"
   ]
  },
  {
   "cell_type": "code",
   "execution_count": 11,
   "id": "442204ee-879f-49a3-8348-090f8c17de42",
   "metadata": {},
   "outputs": [
    {
     "data": {
      "text/plain": [
       "18"
      ]
     },
     "execution_count": 11,
     "metadata": {},
     "output_type": "execute_result"
    }
   ],
   "source": [
    "# Max. number of tiles a given random can be assigned to. \n",
    "cnts.max()"
   ]
  },
  {
   "cell_type": "code",
   "execution_count": 12,
   "id": "e286193f-5c5a-4cb4-b892-ae4239fa2795",
   "metadata": {},
   "outputs": [
    {
     "data": {
      "text/plain": [
       "3825185"
      ]
     },
     "execution_count": 12,
     "metadata": {},
     "output_type": "execute_result"
    }
   ],
   "source": [
    "len(rand)"
   ]
  },
  {
   "cell_type": "raw",
   "id": "feae6e2c-f936-41dd-b0ad-0d43ed0c87df",
   "metadata": {},
   "source": [
    "uids, cnts = np.unique(rand['RA'].data, return_counts=True)\n",
    "cnts.max()\n",
    "18"
   ]
  },
  {
   "cell_type": "raw",
   "id": "c2f328f7-7b42-4cda-ae1c-e566f0a0c24e",
   "metadata": {},
   "source": [
    "uids, cnts = np.unique(rand['TILEID'].data, return_counts=True)\n",
    "cnts.max()\n",
    "18477"
   ]
  },
  {
   "cell_type": "code",
   "execution_count": 13,
   "id": "6aead2cb-2ad0-4803-912b-b39c8863da58",
   "metadata": {},
   "outputs": [
    {
     "data": {
      "text/plain": [
       "FITS_rec([(212,  89, 327863819936203181, 269.7045326, 64.98686776, 424),\n",
       "          (252,   2, 327863819936203181, 269.7045326, 64.98686776, 423),\n",
       "          (168, 205, 327863819936203181, 269.7045326, 64.98686776, 427),\n",
       "          (203,  15, 327863819936203181, 269.7045326, 64.98686776, 422),\n",
       "          (247,  54, 327863819936203181, 269.7045326, 64.98686776, 418),\n",
       "          (169,  31, 327863819936203181, 269.7045326, 64.98686776, 427),\n",
       "          (187,  29, 327863819936203181, 269.7045326, 64.98686776, 422),\n",
       "          (266,  69, 327863819936203181, 269.7045326, 64.98686776, 426),\n",
       "          (267,  63, 327863819936203181, 269.7045326, 64.98686776, 420),\n",
       "          (268,  81, 327863819936203181, 269.7045326, 64.98686776, 420),\n",
       "          (170,  12, 327863819936203181, 269.7045326, 64.98686776, 419),\n",
       "          (251,  20, 327863819936203181, 269.7045326, 64.98686776, 423),\n",
       "          (156,   3, 327863819936203181, 269.7045326, 64.98686776, 419),\n",
       "          (213,  87, 327863819936203181, 269.7045326, 64.98686776, 424),\n",
       "          (235,  36, 327863819936203181, 269.7045326, 64.98686776, 417),\n",
       "          (182, 203, 327863819936203181, 269.7045326, 64.98686776, 421),\n",
       "          (218,  47, 327863819936203181, 269.7045326, 64.98686776, 417),\n",
       "          (172,   7, 327863819936203181, 269.7045326, 64.98686776, 425)],\n",
       "         dtype=(numpy.record, [('LOCATION', '>i4'), ('FIBER', '>i4'), ('TARGETID', '>i8'), ('RA', '>f8'), ('DEC', '>f8'), ('TILEID', '>i8')]))"
      ]
     },
     "execution_count": 13,
     "metadata": {},
     "output_type": "execute_result"
    }
   ],
   "source": [
    "# Example target.\n",
    "rand[rand['TARGETID'] == 327863819936203181]"
   ]
  },
  {
   "cell_type": "code",
   "execution_count": 14,
   "id": "d42e5357-d73f-4793-af7d-b44f3086927a",
   "metadata": {},
   "outputs": [],
   "source": [
    "uids, idx = np.unique(rand['TARGETID'].data, return_index=True)"
   ]
  },
  {
   "cell_type": "code",
   "execution_count": 15,
   "id": "ba679859-6ce4-4bb7-a958-5dec17a1cc84",
   "metadata": {},
   "outputs": [],
   "source": [
    "# Unique randoms available.\n",
    "urand = np.array(rand[idx], copy=True)"
   ]
  },
  {
   "cell_type": "code",
   "execution_count": 18,
   "id": "a3eab380-a45f-4ea4-ae2b-cbfb8d9d3065",
   "metadata": {},
   "outputs": [
    {
     "data": {
      "text/plain": [
       "11.976623352857443"
      ]
     },
     "execution_count": 18,
     "metadata": {},
     "output_type": "execute_result"
    }
   ],
   "source": [
    "100. * len(urand) / len(rand)"
   ]
  },
  {
   "cell_type": "code",
   "execution_count": 19,
   "id": "3e00f1f4-3fb6-400c-bb68-d815d8faeeac",
   "metadata": {},
   "outputs": [
    {
     "data": {
      "text/plain": [
       "numpy.int64"
      ]
     },
     "execution_count": 19,
     "metadata": {},
     "output_type": "execute_result"
    }
   ],
   "source": [
    "type(rand['TARGETID'][0])"
   ]
  },
  {
   "cell_type": "code",
   "execution_count": 20,
   "id": "45bab03b-f75e-4126-ad9d-096e669e5c54",
   "metadata": {},
   "outputs": [
    {
     "data": {
      "text/plain": [
       "iinfo(min=-9223372036854775808, max=9223372036854775807, dtype=int64)"
      ]
     },
     "execution_count": 20,
     "metadata": {},
     "output_type": "execute_result"
    }
   ],
   "source": [
    "np.iinfo(np.int64)"
   ]
  },
  {
   "cell_type": "code",
   "execution_count": 21,
   "id": "a1b6f440-6e27-4b25-88df-5debafbbe9e0",
   "metadata": {},
   "outputs": [],
   "source": [
    "# uids, cnts = np.unique(urand['TARGETID'].data, return_counts=True)\n",
    "# cnts.max()"
   ]
  },
  {
   "cell_type": "code",
   "execution_count": 22,
   "id": "9c932ab6-c48c-4a8f-85b8-ba7fedd00e30",
   "metadata": {},
   "outputs": [
    {
     "data": {
      "text/plain": [
       "[<matplotlib.lines.Line2D at 0x2aaae04aab50>]"
      ]
     },
     "execution_count": 22,
     "metadata": {},
     "output_type": "execute_result"
    },
    {
     "data": {
      "image/png": "[encoded data removed]",
      "text/plain": [
       "<Figure size 432x288 with 1 Axes>"
      ]
     },
     "metadata": {
      "needs_background": "light"
     },
     "output_type": "display_data"
    }
   ],
   "source": [
    "pl.plot(urand['RA'].data, urand['DEC'].data, lw=0.0, c='k', marker=',')"
   ]
  },
  {
   "cell_type": "code",
   "execution_count": 23,
   "id": "8bd07121-b409-4ca5-887a-e3479a94075e",
   "metadata": {},
   "outputs": [],
   "source": [
    "rosette_num = np.array([tile2rosette(x) for x in urand['TILEID']])"
   ]
  },
  {
   "cell_type": "code",
   "execution_count": 24,
   "id": "b3cf57a5-b50b-49d8-83d7-a31374d1498f",
   "metadata": {},
   "outputs": [
    {
     "data": {
      "text/plain": [
       "array([ 0,  1,  2,  3,  4,  5,  6,  7,  8,  9, 10, 11, 12, 13, 14, 15, 16,\n",
       "       17, 18, 19])"
      ]
     },
     "execution_count": 24,
     "metadata": {},
     "output_type": "execute_result"
    }
   ],
   "source": [
    "np.unique(rosette_num)"
   ]
  },
  {
   "cell_type": "code",
   "execution_count": 26,
   "id": "8e160438-9eae-4164-a566-665f563b5b31",
   "metadata": {},
   "outputs": [
    {
     "data": {
      "text/plain": [
       "22774"
      ]
     },
     "execution_count": 26,
     "metadata": {},
     "output_type": "execute_result"
    }
   ],
   "source": [
    "# Number of randoms in rosette 17.\n",
    "np.count_nonzero(rosette_num == 17)"
   ]
  },
  {
   "cell_type": "code",
   "execution_count": 27,
   "id": "dd9b36a5-3ed4-4657-95ef-8f5bbe3f8555",
   "metadata": {},
   "outputs": [],
   "source": [
    "ros = urand[rosette_num == 0]"
   ]
  },
  {
   "cell_type": "code",
   "execution_count": 28,
   "id": "0c7d23c6-c9c3-416e-be38-a6a3186129fe",
   "metadata": {},
   "outputs": [
    {
     "data": {
      "image/png": "[encoded data removed]",
      "text/plain": [
       "<Figure size 432x288 with 1 Axes>"
      ]
     },
     "metadata": {
      "needs_background": "light"
     },
     "output_type": "display_data"
    }
   ],
   "source": [
    "# pl.plot(ros['RA'], ros['DEC'], lw=0.0, c='k', marker=',', alpha=0.5)\n",
    "\n",
    "for uids in np.unique(ros['TILEID']):\n",
    "    intile = ros['TILEID'] == uids\n",
    "    \n",
    "    pl.plot(ros['RA'][intile], ros['DEC'][intile], lw=0.0, marker=',')"
   ]
  },
  {
   "cell_type": "markdown",
   "id": "e50c5fd6-d14c-4c49-a5e3-0582a4751878",
   "metadata": {},
   "source": [
    "## SV3 assignable area:"
   ]
  },
  {
   "cell_type": "code",
   "execution_count": 30,
   "id": "6be9811b-c319-4032-bd18-93636c98cdc7",
   "metadata": {},
   "outputs": [
    {
     "data": {
      "text/plain": [
       "183.2512"
      ]
     },
     "execution_count": 30,
     "metadata": {},
     "output_type": "execute_result"
    }
   ],
   "source": [
    "# Each random file (10 sets of 18 files) has a density of 2500 per sq deg. \n",
    "len(urand) / 2500."
   ]
  },
  {
   "cell_type": "markdown",
   "id": "34bf080d-e0f8-4d65-9846-5ecda9db764b",
   "metadata": {},
   "source": [
    "## Caveat "
   ]
  },
  {
   "cell_type": "markdown",
   "id": "f83f83c9-d6f0-4213-84e2-a0994f2f5416",
   "metadata": {},
   "source": [
    "A buffer area was made unassignable around e.g. the edge of each petal to prevent fibers being assigned by fiberassign, but being unassignable by platemaker (due to the more accurate astrometry in the latter).  Due to a bug, this buffer was not accounted for correctly in FAVAIL."
   ]
  },
  {
   "cell_type": "markdown",
   "id": "c3d82e5e-fe7c-4f8f-8df6-ae9bf598530c",
   "metadata": {},
   "source": [
    "## To Do?"
   ]
  },
  {
   "cell_type": "markdown",
   "id": "706b1f9f-1ac2-4a10-8d22-14c2eb744553",
   "metadata": {},
   "source": [
    "It may be the case we should quote the area available at high completeness, which will likely be much closer to 140. sq. deg. "
   ]
  },
  {
   "cell_type": "code",
   "execution_count": 32,
   "id": "ca93aa64-cb48-4ad0-81e0-6d1d499d1d7f",
   "metadata": {},
   "outputs": [],
   "source": [
    "# Original desi target randoms.  \n",
    "# ff = fits.open('/global/cfs/cdirs/desi/target/catalogs/dr9/0.49.0/randoms/resolve/randoms-1-1.fits')\n",
    "# ff[1].header"
   ]
  },
  {
   "cell_type": "markdown",
   "id": "8f2618cf-a7b1-4aec-aab1-57352c7da9a1",
   "metadata": {},
   "source": [
    "# Done."
   ]
  }
 ],
 "metadata": {
  "kernelspec": {
   "display_name": "DESI 21.7e",
   "language": "python",
   "name": "desi-21.7e"
  },
  "language_info": {
   "codemirror_mode": {
    "name": "ipython",
    "version": 3
   },
   "file_extension": ".py",
   "mimetype": "text/x-python",
   "name": "python",
   "nbconvert_exporter": "python",
   "pygments_lexer": "ipython3",
   "version": "3.8.3"
  }
 },
 "nbformat": 4,
 "nbformat_minor": 5
}
