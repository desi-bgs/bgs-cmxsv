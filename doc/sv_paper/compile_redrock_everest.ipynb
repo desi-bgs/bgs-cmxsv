{
 "cells": [
  {
   "cell_type": "code",
   "execution_count": 1,
   "id": "08c86a8f-0ec7-4c82-9950-d7dac0062701",
   "metadata": {},
   "outputs": [
    {
     "name": "stderr",
     "output_type": "stream",
     "text": [
      "WARNING: leap-second auto-update failed due to the following exception: RuntimeError('Cache is locked after 5.02 s. This may indicate an astropy bug or that kill -9 was used. If you want to unlock the cache remove the directory /global/homes/m/mjwilson/.astropy/cache/download/py3/lock. Lock claims to be held by process .') [astropy.time.core]\n"
     ]
    }
   ],
   "source": [
    "import os\n",
    "import sv as SV\n",
    "import numpy as np \n",
    "import pylab as pl\n",
    "import astropy.table as atable\n",
    "import astropy.io.fits as fits\n",
    "\n",
    "from   tqdm.notebook import tqdm, trange\n",
    "\n",
    "# 21.7e version for Everest. \n",
    "from   desispec.tsnr import tsnr2_to_efftime"
   ]
  },
  {
   "cell_type": "code",
   "execution_count": 2,
   "id": "c5d9f6c0-c338-48d4-90b7-79f446b7a978",
   "metadata": {},
   "outputs": [],
   "source": [
    "# -- plotting -- \n",
    "import matplotlib as mpl\n",
    "import matplotlib.pyplot as plt\n",
    "#mpl.use('Agg')\n",
    "#mpl.rcParams['text.usetex'] = True\n",
    "mpl.rcParams['font.family'] = 'serif'\n",
    "mpl.rcParams['axes.linewidth'] = 1.5\n",
    "mpl.rcParams['axes.xmargin'] = 1\n",
    "mpl.rcParams['xtick.labelsize'] = 'x-large'\n",
    "mpl.rcParams['xtick.major.size'] = 5\n",
    "mpl.rcParams['xtick.major.width'] = 1.5\n",
    "mpl.rcParams['ytick.labelsize'] = 'x-large'\n",
    "mpl.rcParams['ytick.major.size'] = 5\n",
    "mpl.rcParams['ytick.major.width'] = 1.5\n",
    "mpl.rcParams['legend.frameon'] = False"
   ]
  },
  {
   "cell_type": "code",
   "execution_count": 3,
   "id": "222e64b6-7520-4801-9f89-3567c183322c",
   "metadata": {},
   "outputs": [],
   "source": [
    "all_exps = SV.info_exposures(release='everest')"
   ]
  },
  {
   "cell_type": "code",
   "execution_count": 4,
   "id": "b3b17309-9855-40bd-89fb-20e8d1ff118e",
   "metadata": {},
   "outputs": [
    {
     "name": "stdout",
     "output_type": "stream",
     "text": [
      "1418 exposures in BRIGHT\n",
      "635 SV1 BRIGHT exposure\n",
      "298 SV3 BRIGHT exposure\n",
      "409 MAIN BRIGHT exposure\n"
     ]
    }
   ],
   "source": [
    "in_bright = (all_exps['FAPRGRM'] == 'bgsmws') | (all_exps['FAPRGRM'] == 'bright')\n",
    "print(\"%i exposures in BRIGHT\" % np.sum(in_bright))\n",
    "\n",
    "sv1_exps = all_exps[(all_exps['SURVEY'] == 'sv1') & in_bright]\n",
    "sv3_exps = all_exps[(all_exps['SURVEY'] == 'sv3') & in_bright]\n",
    "main_exps = all_exps[(all_exps['SURVEY'] == 'main') & in_bright]\n",
    "\n",
    "print('%i SV1 BRIGHT exposure' % len(sv1_exps))\n",
    "print('%i SV3 BRIGHT exposure' % len(sv3_exps))\n",
    "print('%i MAIN BRIGHT exposure' % len(main_exps))"
   ]
  },
  {
   "cell_type": "code",
   "execution_count": 5,
   "id": "e306263a-a759-4517-839d-3523d002641b",
   "metadata": {},
   "outputs": [
    {
     "name": "stderr",
     "output_type": "stream",
     "text": [
      "/global/common/software/desi/cori/desiconda/20200801-1.4.0-spec/conda/lib/python3.8/site-packages/numpy/core/_asarray.py:83: VisibleDeprecationWarning: Creating an ndarray from ragged nested sequences (which is a list-or-tuple of lists-or-tuples-or ndarrays with different lengths or shapes) is deprecated. If you meant to do this, you must specify 'dtype=object' when creating the ndarray\n",
      "  return array(a, dtype, copy=False, order=order)\n"
     ]
    },
    {
     "data": {
      "text/plain": [
       "Text(0, 0.5, '$N_{\\\\rm exp}$')"
      ]
     },
     "execution_count": 5,
     "metadata": {},
     "output_type": "execute_result"
    },
    {
     "data": {
      "image/png": "[encoded data removed]",
      "text/plain": [
       "<Figure size 576x432 with 1 Axes>"
      ]
     },
     "metadata": {
      "needs_background": "light"
     },
     "output_type": "display_data"
    }
   ],
   "source": [
    "fig = plt.figure(figsize=(8,6))\n",
    "sub = fig.add_subplot(111)\n",
    "_   = sub.hist([sv1_exps['BGS_EFFTIME_BRIGHT'], sv3_exps['BGS_EFFTIME_BRIGHT'], main_exps['BGS_EFFTIME_BRIGHT']], range=(0., 500), bins=50, stacked=True, label=['SV1', 'SV3', 'Main'], histtype='step')\n",
    "\n",
    "sub.axvline(180, color='k', linestyle='--')\n",
    "sub.text(185, 120, r'$t_{\\rm nom}= 180s$', fontsize=20)\n",
    "\n",
    "sub.legend(loc='upper right', fontsize=20, handletextpad=0.2)\n",
    "sub.set_xlabel(r'BGS BRIGHT EFFTIME', fontsize=25)\n",
    "sub.set_xlim(0., 500)\n",
    "sub.set_ylabel(r'$N_{\\rm exp}$', fontsize=25)"
   ]
  },
  {
   "cell_type": "code",
   "execution_count": 6,
   "id": "ca492e40-957c-4837-abeb-2931e79f0940",
   "metadata": {},
   "outputs": [],
   "source": [
    "def compile_rr(exps, survey): \n",
    "    gals = [] \n",
    "    for i in trange(len(exps)): \n",
    "        try: \n",
    "            _gals = SV.get_exp_zsuccess(exps['TILEID'][i], exps['EXPID'][i], release='everest', survey=survey)\n",
    "        except AssertionError: \n",
    "            continue \n",
    "        gals.append(_gals)\n",
    "    return atable.vstack(gals)"
   ]
  },
  {
   "cell_type": "code",
   "execution_count": 7,
   "id": "9b782065-6f9d-493c-bc96-73a7c83a14cd",
   "metadata": {
    "scrolled": true,
    "tags": []
   },
   "outputs": [
    {
     "data": {
      "text/html": [
       "<i>Table length=61</i>\n",
       "<table id=\"table46913375038768\" class=\"table-striped table-bordered table-condensed\">\n",
       "<thead><tr><th>NIGHT</th><th>EXPID</th><th>TILEID</th><th>TILERA</th><th>TILEDEC</th><th>MJD</th><th>SURVEY</th><th>FAPRGRM</th><th>FAFLAVOR</th><th>EXPTIME</th><th>EFFTIME_SPEC</th><th>GOALTIME</th><th>GOALTYPE</th><th>MINTFRAC</th><th>AIRMASS</th><th>EBV</th><th>SEEING_ETC</th><th>EFFTIME_ETC</th><th>TSNR2_ELG</th><th>TSNR2_QSO</th><th>TSNR2_LRG</th><th>TSNR2_LYA</th><th>TSNR2_BGS</th><th>TSNR2_GPBDARK</th><th>TSNR2_GPBBRIGHT</th><th>TSNR2_GPBBACKUP</th><th>ELG_EFFTIME_DARK</th><th>BGS_EFFTIME_BRIGHT</th><th>LYA_EFFTIME_DARK</th><th>GPB_EFFTIME_DARK</th><th>GPB_EFFTIME_BRIGHT</th><th>GPB_EFFTIME_BACKUP</th><th>TRANSPARENCY_GFA</th><th>SEEING_GFA</th><th>FIBER_FRACFLUX_GFA</th><th>FIBER_FRACFLUX_ELG_GFA</th><th>FIBER_FRACFLUX_BGS_GFA</th><th>FIBERFAC_GFA</th><th>FIBERFAC_ELG_GFA</th><th>FIBERFAC_BGS_GFA</th><th>AIRMASS_GFA</th><th>SKY_MAG_AB_GFA</th><th>SKY_MAG_G_SPEC</th><th>SKY_MAG_R_SPEC</th><th>SKY_MAG_Z_SPEC</th><th>EFFTIME_GFA</th><th>EFFTIME_DARK_GFA</th><th>EFFTIME_BRIGHT_GFA</th><th>EFFTIME_BACKUP_GFA</th></tr></thead>\n",
       "<thead><tr><th>int32</th><th>int32</th><th>int32</th><th>float64</th><th>float64</th><th>float64</th><th>bytes7</th><th>bytes16</th><th>bytes19</th><th>float64</th><th>float32</th><th>float64</th><th>bytes7</th><th>float64</th><th>float32</th><th>float64</th><th>float64</th><th>float32</th><th>float32</th><th>float32</th><th>float32</th><th>float64</th><th>float32</th><th>float32</th><th>float32</th><th>float32</th><th>float32</th><th>float32</th><th>float64</th><th>float32</th><th>float32</th><th>float32</th><th>float64</th><th>float64</th><th>float64</th><th>float64</th><th>float64</th><th>float64</th><th>float64</th><th>float64</th><th>float64</th><th>float64</th><th>float64</th><th>float64</th><th>float64</th><th>float64</th><th>float64</th><th>float64</th><th>float64</th></tr></thead>\n",
       "<tr><td>20201218</td><td>68644</td><td>80612</td><td>66.68</td><td>-5.24</td><td>59202.22459972</td><td>sv1</td><td>bgsmws</td><td>sv1bgsmws</td><td>300.0010070800781</td><td>171.1516</td><td>0.0</td><td>bright</td><td>0.9</td><td>1.26963</td><td>0.05122321844100952</td><td>0.0</td><td>0.0</td><td>20.952724</td><td>5.08265</td><td>13.688762</td><td>8.618848882569</td><td>1222.5114</td><td>1725.9258</td><td>323.3774</td><td>2277.3179</td><td>180.19344</td><td>171.1516</td><td>98.5975457180189</td><td>149.40862</td><td>169.84839</td><td>166.90308</td><td>1.0042864939724667</td><td>1.0952459827853764</td><td>0.5619414713666072</td><td>0.4074967808812967</td><td>0.18785281852149527</td><td>0.9141705766461077</td><td>0.9165563914476362</td><td>0.9217111493640366</td><td>1.2701076559082927</td><td>20.92396638055517</td><td>22.20757076967689</td><td>21.40149922615739</td><td>19.723903257048825</td><td>164.1901775248753</td><td>154.53363002236713</td><td>164.1901775248753</td><td>175.86648702351312</td></tr>\n",
       "<tr><td>20201218</td><td>68645</td><td>80612</td><td>66.68</td><td>-5.24</td><td>59202.23151057</td><td>sv1</td><td>bgsmws</td><td>sv1bgsmws</td><td>300.0979919433594</td><td>179.45139</td><td>0.0</td><td>bright</td><td>0.9</td><td>1.262242</td><td>0.05122321844100952</td><td>0.0</td><td>0.0</td><td>22.198978</td><td>5.3813157</td><td>14.39769</td><td>9.26497264066711</td><td>1281.7957</td><td>1812.4518</td><td>338.47516</td><td>2380.1042</td><td>190.91122</td><td>179.45139</td><td>105.98904516841742</td><td>156.89893</td><td>177.77821</td><td>174.43622</td><td>1.009471397520319</td><td>1.108553298776409</td><td>0.5533975367461605</td><td>0.4022084825062936</td><td>0.1856965561852464</td><td>0.8989511249328812</td><td>0.8989023277362183</td><td>0.9031466096879777</td><td>1.2627392115717027</td><td>21.44992826900792</td><td>22.200865025605903</td><td>21.379588310137994</td><td>19.652755313272536</td><td>156.72063643780757</td><td>147.52984941143305</td><td>156.72063643780757</td><td>169.5877371966596</td></tr>\n",
       "<tr><td>20201218</td><td>68672</td><td>80619</td><td>144.0</td><td>65.0</td><td>59202.40698597</td><td>sv1</td><td>bgsmws</td><td>sv1bgsmws</td><td>300.08697509765625</td><td>183.57341</td><td>0.0</td><td>bright</td><td>0.9</td><td>1.223817</td><td>0.035708148032426834</td><td>0.0</td><td>0.0</td><td>23.093914</td><td>5.604284</td><td>14.927747</td><td>11.270953583950178</td><td>1311.2386</td><td>1941.7871</td><td>359.75494</td><td>2474.222</td><td>198.60767</td><td>183.57341</td><td>128.93698177336617</td><td>168.09514</td><td>188.95505</td><td>181.33405</td><td>0.9896109295302464</td><td>0.9293998784983915</td><td>0.6669069324443271</td><td>0.4708699789867281</td><td>0.21344507397527468</td><td>1.1106114565151195</td><td>1.075098319398474</td><td>1.0571692973933349</td><td>1.2241183864529335</td><td>20.725008468617467</td><td>22.27953399939353</td><td>21.153045086443957</td><td>19.076475521279527</td><td>213.4449205333816</td><td>203.85748766677594</td><td>213.4449205333816</td><td>269.0919935083795</td></tr>\n",
       "<tr><td>20201218</td><td>68673</td><td>80619</td><td>144.0</td><td>65.0</td><td>59202.41391844</td><td>sv1</td><td>bgsmws</td><td>sv1bgsmws</td><td>300.0690002441406</td><td>170.45181</td><td>0.0</td><td>bright</td><td>0.9</td><td>1.216428</td><td>0.035708148032426834</td><td>0.0</td><td>0.0</td><td>21.384495</td><td>5.184302</td><td>13.767217</td><td>10.625154384505004</td><td>1217.513</td><td>1758.595</td><td>327.43906</td><td>2278.8691</td><td>183.90666</td><td>170.45181</td><td>121.54919519542396</td><td>152.2367</td><td>171.98169</td><td>167.01677</td><td>0.9792221152556593</td><td>0.9659125186876333</td><td>0.6410569478049033</td><td>0.45568331950563534</td><td>0.20747954150416967</td><td>1.065164015354027</td><td>1.0372629856801945</td><td>1.0240095631888306</td><td>1.2166845923132494</td><td>20.656512559719275</td><td>22.280886051687176</td><td>21.14971910763764</td><td>19.076246697791902</td><td>199.83906509035646</td><td>189.73276613869922</td><td>199.83906509035646</td><td>246.72919232932492</td></tr>\n",
       "<tr><td>20201219</td><td>68801</td><td>80617</td><td>5.0</td><td>28.0</td><td>59203.14121402</td><td>sv1</td><td>bgsmws</td><td>sv1bgsmws</td><td>300.0909729003906</td><td>169.3149</td><td>0.0</td><td>bright</td><td>0.9</td><td>1.072357</td><td>0.03294771909713745</td><td>0.0</td><td>0.0</td><td>20.250278</td><td>5.0386</td><td>13.159578</td><td>11.464531835354865</td><td>1209.3921</td><td>1695.803</td><td>320.0998</td><td>2343.4673</td><td>174.1524</td><td>169.3149</td><td>131.15147012940275</td><td>146.80096</td><td>168.12688</td><td>171.75113</td><td>0.9942224375702047</td><td>1.0744618347755743</td><td>0.5863118272579355</td><td>0.4224420996108259</td><td>0.19399013006970905</td><td>0.962481431776583</td><td>0.9527860157331145</td><td>0.9516951376860239</td><td>1.0729883008868033</td><td>20.784817836679167</td><td>21.332764163763805</td><td>20.9851175872055</td><td>19.644721401739098</td><td>167.84999740501974</td><td>153.58449633798776</td><td>167.84999740501974</td><td>201.30790036363894</td></tr>\n",
       "<tr><td>20201221</td><td>69227</td><td>80613</td><td>106.74</td><td>56.1</td><td>59205.16286716</td><td>sv1</td><td>bgsmws</td><td>sv1bgsmws</td><td>300.09698486328125</td><td>170.75117</td><td>0.0</td><td>bright</td><td>0.9</td><td>1.617158</td><td>0.05588603392243385</td><td>0.0</td><td>0.0</td><td>21.432013</td><td>5.1461835</td><td>13.552083</td><td>9.046914543677122</td><td>1219.6512</td><td>1639.5289</td><td>312.0367</td><td>2334.897</td><td>184.31532</td><td>170.75117</td><td>103.49451330226105</td><td>141.92947</td><td>163.89188</td><td>171.12302</td><td>1.000936446712883</td><td>0.8203278967146415</td><td>0.7350951353385391</td><td>0.5130046409202529</td><td>0.230282582694557</td><td>1.2170822856941985</td><td>1.1644422301547122</td><td>1.1362509971896482</td><td>1.617969559785008</td><td>20.306759199302142</td><td>20.54163341500924</td><td>20.42241378355135</td><td>19.11585010179327</td><td>149.41166643752703</td><td>134.93308950900848</td><td>149.41166643752703</td><td>227.65416689280568</td></tr>\n",
       "<tr><td>20210103</td><td>70700</td><td>80629</td><td>29.0</td><td>-3.0</td><td>59218.16388966</td><td>sv1</td><td>bgsmws</td><td>sv1bgsmws</td><td>300.09503173828125</td><td>177.1448</td><td>0.0</td><td>bright</td><td>0.9</td><td>1.329421</td><td>0.024378161877393723</td><td>0.0</td><td>0.0</td><td>18.250614</td><td>4.5954456</td><td>12.956159</td><td>12.390599641069356</td><td>1265.3201</td><td>1795.782</td><td>355.7322</td><td>2344.8179</td><td>156.95529</td><td>177.1448</td><td>141.7454617466109</td><td>155.45587</td><td>186.84218</td><td>171.85011</td><td>0.9797055215867259</td><td>0.9755855428790838</td><td>0.6347994804172701</td><td>0.45087784182379537</td><td>0.20531922378591683</td><td>1.0528231190620536</td><td>1.0256248926681324</td><td>1.0152445703681607</td><td>1.3311477962258624</td><td>20.410673419180995</td><td>22.02040803842948</td><td>21.0992341878531</td><td>19.71792192496343</td><td>196.75815133991495</td><td>184.90339915559073</td><td>196.75815133991495</td><td>243.68873318415186</td></tr>\n",
       "<tr><td>20210103</td><td>70729</td><td>80641</td><td>98.5</td><td>44.5</td><td>59218.31425635</td><td>sv1</td><td>bgsmws</td><td>sv1bgsmws</td><td>300.0730285644531</td><td>165.39128</td><td>0.0</td><td>bright</td><td>0.9</td><td>1.03023</td><td>0.14663997292518616</td><td>0.0</td><td>0.0</td><td>21.627085</td><td>4.947161</td><td>13.150214</td><td>7.874295660967214</td><td>1181.3663</td><td>1504.1663</td><td>285.33292</td><td>2063.7976</td><td>185.99294</td><td>165.39128</td><td>90.08003702206659</td><td>130.2115</td><td>149.86617</td><td>151.25432</td><td>0.9671764967258468</td><td>0.7605853557739806</td><td>0.7826600456051793</td><td>0.5435949672445667</td><td>0.2425790734096774</td><td>1.265225452936445</td><td>1.2056269277794502</td><td>1.1688399441638677</td><td>1.0304778387674371</td><td>20.138972901849364</td><td>20.303809861155273</td><td>20.311420786584172</td><td>19.696425374542226</td><td>115.6613634340186</td><td>106.09079539943289</td><td>115.6613634340186</td><td>183.3180781007135</td></tr>\n",
       "<tr><td>20210103</td><td>70730</td><td>80641</td><td>98.5</td><td>44.5</td><td>59218.32029795</td><td>sv1</td><td>bgsmws</td><td>sv1bgsmws</td><td>300.00299072265625</td><td>182.51004</td><td>0.0</td><td>bright</td><td>0.9</td><td>1.034233</td><td>0.14663997292518616</td><td>0.0</td><td>0.0</td><td>24.103916</td><td>5.515165</td><td>14.614343</td><td>8.207053593618589</td><td>1303.6432</td><td>1647.1722</td><td>311.3224</td><td>2239.2976</td><td>207.29369</td><td>182.51004</td><td>93.88670725432712</td><td>142.59114</td><td>163.5167</td><td>164.1166</td><td>0.971977262630864</td><td>0.6982739069269375</td><td>0.8227162718676437</td><td>0.5702676600734933</td><td>0.2529062161408874</td><td>1.327740755406097</td><td>1.2599140812147875</td><td>1.2152459565286102</td><td>1.0344087476693953</td><td>20.117844483843232</td><td>20.28806339823108</td><td>20.292831092512372</td><td>19.653083255583816</td><td>124.27454826895993</td><td>114.3313245562662</td><td>124.27454826895993</td><td>202.5320456511418</td></tr>\n",
       "<tr><td>20210103</td><td>70731</td><td>80642</td><td>102.0</td><td>36.5</td><td>59218.32705853</td><td>sv1</td><td>bgsmws</td><td>sv1bgsmws</td><td>300.0979919433594</td><td>183.44127</td><td>0.0</td><td>bright</td><td>0.9</td><td>1.011402</td><td>0.1267217993736267</td><td>0.0</td><td>0.0</td><td>24.00287</td><td>5.5236073</td><td>14.633055</td><td>8.826029907808536</td><td>1310.2948</td><td>1670.9524</td><td>316.89166</td><td>2284.7212</td><td>206.4247</td><td>183.44127</td><td>100.96764651526973</td><td>144.64972</td><td>166.44185</td><td>167.44566</td><td>0.9613899356790785</td><td>0.7169704895769182</td><td>0.8061824575012949</td><td>0.5587722241802343</td><td>0.24832500168529759</td><td>1.3161511651642794</td><td>1.2548402918143486</td><td>1.210384229468718</td><td>1.0116678402211812</td><td>20.110079203228665</td><td>20.25700316714301</td><td>20.250910884353218</td><td>19.611201475338117</td><td>131.19503573655933</td><td>120.06923122823096</td><td>131.19503573655933</td><td>213.82004514713967</td></tr>\n",
       "<tr><td>...</td><td>...</td><td>...</td><td>...</td><td>...</td><td>...</td><td>...</td><td>...</td><td>...</td><td>...</td><td>...</td><td>...</td><td>...</td><td>...</td><td>...</td><td>...</td><td>...</td><td>...</td><td>...</td><td>...</td><td>...</td><td>...</td><td>...</td><td>...</td><td>...</td><td>...</td><td>...</td><td>...</td><td>...</td><td>...</td><td>...</td><td>...</td><td>...</td><td>...</td><td>...</td><td>...</td><td>...</td><td>...</td><td>...</td><td>...</td><td>...</td><td>...</td><td>...</td><td>...</td><td>...</td><td>...</td><td>...</td><td>...</td><td>...</td></tr>\n",
       "<tr><td>20210220</td><td>77223</td><td>80659</td><td>165.0</td><td>32.375</td><td>59266.31601695</td><td>sv1</td><td>bgsmws</td><td>sv1bgsmws</td><td>952.4708862304688</td><td>169.60378</td><td>0.0</td><td>bright</td><td>0.9</td><td>1.014327</td><td>0.02397739887237549</td><td>0.0</td><td>0.0</td><td>22.253832</td><td>4.6170115</td><td>13.42071</td><td>8.76998740597628</td><td>1211.4556</td><td>1530.7329</td><td>303.11728</td><td>2203.222</td><td>191.38297</td><td>169.60378</td><td>100.32653385488497</td><td>132.5113</td><td>159.20709</td><td>161.47264</td><td>0.0</td><td>0.0</td><td>0.0</td><td>0.0</td><td>0.0</td><td>0.0</td><td>0.0</td><td>0.0</td><td>0.0</td><td>0.0</td><td>20.666844034093277</td><td>20.59265537512982</td><td>19.32347765068502</td><td>0.0</td><td>0.0</td><td>0.0</td><td>0.0</td></tr>\n",
       "<tr><td>20210221</td><td>77382</td><td>80663</td><td>184.0</td><td>-0.5</td><td>59267.31656829</td><td>sv1</td><td>bgsmws</td><td>sv1bgsmws</td><td>1093.2578125</td><td>161.88171</td><td>0.0</td><td>bright</td><td>0.9</td><td>1.358091</td><td>0.02410484291613102</td><td>0.0</td><td>0.0</td><td>21.036943</td><td>4.815387</td><td>12.744539</td><td>9.594754852354527</td><td>1156.298</td><td>1509.695</td><td>298.40228</td><td>2457.2188</td><td>180.91772</td><td>161.88171</td><td>109.76167387288399</td><td>130.69011</td><td>156.73062</td><td>180.08789</td><td>0.9946444764692326</td><td>1.6796665758316358</td><td>0.3328990157148215</td><td>0.2640277847784186</td><td>0.12825282278445754</td><td>0.538984984853401</td><td>0.5868637885286959</td><td>0.6201573739230932</td><td>1.3301447349868079</td><td>20.39396321558673</td><td>20.078243650283948</td><td>20.087625892204464</td><td>18.790839102871303</td><td>181.3812645459343</td><td>146.76570684484707</td><td>181.3812645459343</td><td>168.90284681681416</td></tr>\n",
       "<tr><td>20210221</td><td>77383</td><td>80663</td><td>184.0</td><td>-0.5</td><td>59267.33101522</td><td>sv1</td><td>bgsmws</td><td>sv1bgsmws</td><td>1093.2435302734375</td><td>187.44044</td><td>0.0</td><td>bright</td><td>0.9</td><td>1.297323</td><td>0.02410484291613102</td><td>0.0</td><td>0.0</td><td>24.413015</td><td>5.5438123</td><td>14.757937</td><td>11.125026649562642</td><td>1338.8604</td><td>1728.5697</td><td>341.80804</td><td>2749.6191</td><td>209.95193</td><td>187.44044</td><td>127.26761295384038</td><td>149.6375</td><td>179.52875</td><td>201.51772</td><td>1.0191477960073894</td><td>1.6631746345637763</td><td>0.3359785945644247</td><td>0.2662435689255961</td><td>0.12918253990854617</td><td>0.5737191985625598</td><td>0.6208367438974279</td><td>0.6527989560797963</td><td>1.2767362759745051</td><td>20.0314703121445</td><td>20.140439014958552</td><td>20.164262858656734</td><td>18.922608941757957</td><td>216.46272392322155</td><td>177.42574725126</td><td>216.46272392322155</td><td>203.87669818061985</td></tr>\n",
       "<tr><td>20210221</td><td>77384</td><td>80663</td><td>184.0</td><td>-0.5</td><td>59267.34647782</td><td>sv1</td><td>bgsmws</td><td>sv1bgsmws</td><td>1093.2454833984375</td><td>195.63899</td><td>0.0</td><td>bright</td><td>0.9</td><td>1.248984</td><td>0.02410484291613102</td><td>0.0</td><td>0.0</td><td>25.787403</td><td>5.8050656</td><td>15.515422</td><td>11.224740211758762</td><td>1397.4214</td><td>1793.1589</td><td>353.4172</td><td>2828.1482</td><td>221.77168</td><td>195.63899</td><td>128.40831197772303</td><td>155.2288</td><td>185.62627</td><td>207.27306</td><td>0.9783165596122375</td><td>1.6615655014662645</td><td>0.33961600856175966</td><td>0.2687204224012713</td><td>0.1303397268908409</td><td>0.5421833950897661</td><td>0.5907578859170871</td><td>0.6234132245032147</td><td>1.234101002389606</td><td>20.62081259728626</td><td>20.209159951569</td><td>20.23755762477216</td><td>19.007833104692565</td><td>210.23788938316204</td><td>172.53619520136212</td><td>210.23788938316204</td><td>190.733918517105</td></tr>\n",
       "<tr><td>20210306</td><td>79554</td><td>80741</td><td>139.0</td><td>0.5</td><td>59280.2114445</td><td>sv1</td><td>bgsmws</td><td>sv1bgsmws</td><td>300.0722351074219</td><td>172.41202</td><td>0.0</td><td>bright</td><td>0.9</td><td>1.187679</td><td>0.03389573097229004</td><td>0.0</td><td>0.0</td><td>20.036394</td><td>4.8777294</td><td>13.291221</td><td>11.143787921251109</td><td>1231.5144</td><td>1795.9165</td><td>336.90552</td><td>2312.2363</td><td>172.313</td><td>172.41202</td><td>127.48223736230089</td><td>155.46751</td><td>176.95378</td><td>169.46223</td><td>0.9547474228326537</td><td>1.0106870871879008</td><td>0.5885886561894752</td><td>0.4218016461639117</td><td>0.1930766453869306</td><td>0.9365436541783609</td><td>0.9205398179214535</td><td>0.9169512342147663</td><td>1.186092217237238</td><td>21.072373497647717</td><td>22.101183308339394</td><td>21.256246263709436</td><td>19.367068250603726</td><td>168.30207747243637</td><td>159.28524574449244</td><td>168.30207747243637</td><td>196.05838849386126</td></tr>\n",
       "<tr><td>20210309</td><td>79881</td><td>80652</td><td>149.319</td><td>37.1872</td><td>59283.40342047</td><td>sv1</td><td>bgsmws</td><td>sv1bgsmws</td><td>300.0791320800781</td><td>185.87126</td><td>0.0</td><td>bright</td><td>0.9</td><td>1.368043</td><td>0.011687984690070152</td><td>0.0</td><td>0.0</td><td>22.020412</td><td>5.2910275</td><td>14.493432</td><td>10.64861889830273</td><td>1327.6519</td><td>1946.3427</td><td>365.34167</td><td>2489.734</td><td>189.37555</td><td>185.87126</td><td>121.81762355557325</td><td>168.48949</td><td>191.88939</td><td>182.4709</td><td>0.9215933766063956</td><td>1.0009469422574495</td><td>0.5996531381975387</td><td>0.4300933567429042</td><td>0.19669763680850705</td><td>0.913977080786214</td><td>0.9037806035779166</td><td>0.9030240724623939</td><td>1.3803669779774181</td><td>22.451559069820945</td><td>22.178046542305346</td><td>21.295639721145964</td><td>19.404826262601862</td><td>174.31955818193268</td><td>164.47562387923787</td><td>174.31955818193268</td><td>198.13022151686204</td></tr>\n",
       "<tr><td>20210309</td><td>79882</td><td>80652</td><td>149.319</td><td>37.1872</td><td>59283.40913586</td><td>sv1</td><td>bgsmws</td><td>sv1bgsmws</td><td>300.0816650390625</td><td>194.83379</td><td>0.0</td><td>bright</td><td>0.9</td><td>1.405664</td><td>0.011687984690070152</td><td>0.0</td><td>0.0</td><td>23.446672</td><td>5.6061215</td><td>15.285058</td><td>10.92258058503891</td><td>1391.6699</td><td>2013.8384</td><td>377.35748</td><td>2569.684</td><td>201.64139</td><td>194.83379</td><td>124.95167896146228</td><td>174.33241</td><td>198.20049</td><td>188.3304</td><td>0.9749080846006233</td><td>1.0072221703481328</td><td>0.5825817624902221</td><td>0.4171949291437337</td><td>0.19099431174345285</td><td>0.9443638102959528</td><td>0.9252248060281004</td><td>0.9194345306155758</td><td>1.4190206606024383</td><td>21.482773065664176</td><td>22.17317330686606</td><td>21.269124901474797</td><td>19.385902999993988</td><td>177.74560435681119</td><td>168.95570302651979</td><td>177.74560435681119</td><td>209.08178119325908</td></tr>\n",
       "<tr><td>20210331</td><td>82832</td><td>80614</td><td>154.1</td><td>-1.375</td><td>59305.32260652</td><td>sv1</td><td>bgsmws</td><td>sv1bgsmws</td><td>531.0242309570312</td><td>179.38696</td><td>0.0</td><td>bright</td><td>0.9</td><td>1.63907</td><td>0.037189699709415436</td><td>0.0</td><td>158.14854</td><td>23.461699</td><td>5.317739</td><td>13.899536</td><td>8.499600664072204</td><td>1281.3354</td><td>1530.2117</td><td>300.11856</td><td>2402.0771</td><td>201.77061</td><td>179.38696</td><td>97.23337495284758</td><td>132.46619</td><td>157.63208</td><td>176.0466</td><td>1.0592614238190423</td><td>0.9612164608854813</td><td>0.6457840771659376</td><td>0.45749678572384</td><td>0.20808051811293482</td><td>1.100291280455454</td><td>1.0711822281401224</td><td>1.0607214993099796</td><td>1.6051655564767318</td><td>19.76748921338623</td><td>19.64856312112542</td><td>19.792033485294812</td><td>18.973381026936295</td><td>183.51297831158791</td><td>154.43917833452895</td><td>183.51297831158791</td><td>289.5792105115197</td></tr>\n",
       "<tr><td>20210331</td><td>82839</td><td>80652</td><td>149.319</td><td>37.1872</td><td>59305.3930684</td><td>sv1</td><td>bgsmws</td><td>sv1bgsmws</td><td>756.1084594726562</td><td>189.64778</td><td>0.0</td><td>bright</td><td>0.9</td><td>1.970377</td><td>0.011687984690070152</td><td>0.0</td><td>151.75931</td><td>23.781502</td><td>5.526269</td><td>14.441379</td><td>9.93679035763489</td><td>1354.627</td><td>1647.9381</td><td>326.08118</td><td>2715.835</td><td>204.52092</td><td>189.64778</td><td>113.67447729113053</td><td>142.65744</td><td>171.2685</td><td>199.0417</td><td>1.1092689796250754</td><td>1.1915384972869383</td><td>0.5183497651447091</td><td>0.3812547147251266</td><td>0.17701386434153615</td><td>0.9192486190541134</td><td>0.9363985764843235</td><td>0.9499235379732174</td><td>1.8967973023234812</td><td>19.602607460397095</td><td>19.453590757182045</td><td>19.618357087540552</td><td>18.782441194528364</td><td>193.3256783806698</td><td>155.7961243641638</td><td>193.3256783806698</td><td>265.5570931801799</td></tr>\n",
       "<tr><td>20210402</td><td>83168</td><td>80666</td><td>204.0</td><td>3.0</td><td>59307.46682361</td><td>sv1</td><td>bgsmws</td><td>sv1bgsmws</td><td>391.5329895019531</td><td>176.9742</td><td>0.0</td><td>bright</td><td>0.9</td><td>1.579609</td><td>0.023677559569478035</td><td>0.0</td><td>161.87605</td><td>21.110193</td><td>4.9574594</td><td>13.420595</td><td>10.710775549730492</td><td>1264.1014</td><td>1674.3617</td><td>326.3297</td><td>2445.9102</td><td>181.54767</td><td>176.9742</td><td>122.52868060789285</td><td>144.94485</td><td>171.39903</td><td>179.2591</td><td>1.0157466783410838</td><td>0.8868370509669901</td><td>0.6827484092205214</td><td>0.47989070783490406</td><td>0.21686480186437707</td><td>1.1348038977107024</td><td>1.0973138079466016</td><td>1.0806207518923145</td><td>1.6029491938662441</td><td>19.900168180823037</td><td>20.18937860419519</td><td>20.083711346853374</td><td>19.008690000637564</td><td>175.99653097518566</td><td>152.13915407417073</td><td>175.99653097518566</td><td>271.7168519668911</td></tr>\n",
       "</table>"
      ],
      "text/plain": [
       "<Table length=61>\n",
       " NIGHT   EXPID TILEID ... EFFTIME_BRIGHT_GFA EFFTIME_BACKUP_GFA\n",
       " int32   int32 int32  ...      float64            float64      \n",
       "-------- ----- ------ ... ------------------ ------------------\n",
       "20201218 68644  80612 ...  164.1901775248753 175.86648702351312\n",
       "20201218 68645  80612 ... 156.72063643780757  169.5877371966596\n",
       "20201218 68672  80619 ...  213.4449205333816  269.0919935083795\n",
       "20201218 68673  80619 ... 199.83906509035646 246.72919232932492\n",
       "20201219 68801  80617 ... 167.84999740501974 201.30790036363894\n",
       "20201221 69227  80613 ... 149.41166643752703 227.65416689280568\n",
       "20210103 70700  80629 ... 196.75815133991495 243.68873318415186\n",
       "20210103 70729  80641 ...  115.6613634340186  183.3180781007135\n",
       "20210103 70730  80641 ... 124.27454826895993  202.5320456511418\n",
       "20210103 70731  80642 ... 131.19503573655933 213.82004514713967\n",
       "     ...   ...    ... ...                ...                ...\n",
       "20210220 77223  80659 ...                0.0                0.0\n",
       "20210221 77382  80663 ...  181.3812645459343 168.90284681681416\n",
       "20210221 77383  80663 ... 216.46272392322155 203.87669818061985\n",
       "20210221 77384  80663 ... 210.23788938316204   190.733918517105\n",
       "20210306 79554  80741 ... 168.30207747243637 196.05838849386126\n",
       "20210309 79881  80652 ... 174.31955818193268 198.13022151686204\n",
       "20210309 79882  80652 ... 177.74560435681119 209.08178119325908\n",
       "20210331 82832  80614 ... 183.51297831158791  289.5792105115197\n",
       "20210331 82839  80652 ...  193.3256783806698  265.5570931801799\n",
       "20210402 83168  80666 ... 175.99653097518566  271.7168519668911"
      ]
     },
     "execution_count": 7,
     "metadata": {},
     "output_type": "execute_result"
    }
   ],
   "source": [
    "near_nom = (sv1_exps['BGS_EFFTIME_BRIGHT'] > 160) & (sv1_exps['BGS_EFFTIME_BRIGHT'] < 200)\n",
    "\n",
    "sv1_exps[near_nom]"
   ]
  },
  {
   "cell_type": "code",
   "execution_count": 8,
   "id": "e19879a3-1f12-49be-9e75-5d9c0791b639",
   "metadata": {},
   "outputs": [
    {
     "data": {
      "application/vnd.jupyter.widget-view+json": {
       "model_id": "14132a49f7e1434e9a1767e5817c2e5b",
       "version_major": 2,
       "version_minor": 0
      },
      "text/plain": [
       "HBox(children=(FloatProgress(value=0.0, max=61.0), HTML(value='')))"
      ]
     },
     "metadata": {},
     "output_type": "display_data"
    },
    {
     "name": "stdout",
     "output_type": "stream",
     "text": [
      "  /global/cfs/cdirs/desi/spectro/redux/everest/tiles/cumulative/80629/20210103/redrock-3-80629-thru20210103.fits does not exist\n",
      "  /global/cfs/cdirs/desi/spectro/redux/everest/tiles/perexp/80629/00070700/redrock-3-80629-exp00070700.fits does not exist\n",
      "  /global/cfs/cdirs/desi/spectro/redux/everest/tiles/cumulative/80641/20210107/redrock-3-80641-thru20210107.fits does not exist\n",
      "  /global/cfs/cdirs/desi/spectro/redux/everest/tiles/perexp/80641/00070729/redrock-3-80641-exp00070729.fits does not exist\n",
      "  /global/cfs/cdirs/desi/spectro/redux/everest/tiles/cumulative/80641/20210107/redrock-3-80641-thru20210107.fits does not exist\n",
      "  /global/cfs/cdirs/desi/spectro/redux/everest/tiles/perexp/80641/00070730/redrock-3-80641-exp00070730.fits does not exist\n",
      "  /global/cfs/cdirs/desi/spectro/redux/everest/tiles/cumulative/80642/20210107/redrock-3-80642-thru20210107.fits does not exist\n",
      "  /global/cfs/cdirs/desi/spectro/redux/everest/tiles/perexp/80642/00070731/redrock-3-80642-exp00070731.fits does not exist\n",
      "  /global/cfs/cdirs/desi/spectro/redux/everest/tiles/cumulative/80642/20210107/redrock-3-80642-thru20210107.fits does not exist\n",
      "  /global/cfs/cdirs/desi/spectro/redux/everest/tiles/perexp/80642/00070732/redrock-3-80642-exp00070732.fits does not exist\n",
      "  /global/cfs/cdirs/desi/spectro/redux/everest/tiles/cumulative/80642/20210107/redrock-3-80642-thru20210107.fits does not exist\n",
      "  /global/cfs/cdirs/desi/spectro/redux/everest/tiles/perexp/80642/00070733/redrock-3-80642-exp00070733.fits does not exist\n",
      "  /global/cfs/cdirs/desi/spectro/redux/everest/tiles/perexp/80643/00070734/redrock-3-80643-exp00070734.fits does not exist\n",
      "  /global/cfs/cdirs/desi/spectro/redux/everest/tiles/perexp/80644/00070738/redrock-3-80644-exp00070738.fits does not exist\n",
      "  /global/cfs/cdirs/desi/spectro/redux/everest/tiles/perexp/80644/00070739/redrock-3-80644-exp00070739.fits does not exist\n",
      "  /global/cfs/cdirs/desi/spectro/redux/everest/tiles/cumulative/80645/20210205/redrock-3-80645-thru20210205.fits does not exist\n",
      "  /global/cfs/cdirs/desi/spectro/redux/everest/tiles/perexp/80645/00070741/redrock-3-80645-exp00070741.fits does not exist\n",
      "  /global/cfs/cdirs/desi/spectro/redux/everest/tiles/cumulative/80646/20210205/redrock-3-80646-thru20210205.fits does not exist\n",
      "  /global/cfs/cdirs/desi/spectro/redux/everest/tiles/perexp/80646/00070744/redrock-3-80646-exp00070744.fits does not exist\n",
      "  /global/cfs/cdirs/desi/spectro/redux/everest/tiles/cumulative/80646/20210205/redrock-3-80646-thru20210205.fits does not exist\n",
      "  /global/cfs/cdirs/desi/spectro/redux/everest/tiles/perexp/80646/00070745/redrock-3-80646-exp00070745.fits does not exist\n",
      "  /global/cfs/cdirs/desi/spectro/redux/everest/tiles/cumulative/80656/20210202/redrock-3-80656-thru20210202.fits does not exist\n",
      "  /global/cfs/cdirs/desi/spectro/redux/everest/tiles/perexp/80656/00070759/redrock-3-80656-exp00070759.fits does not exist\n",
      "  /global/cfs/cdirs/desi/spectro/redux/everest/tiles/cumulative/80656/20210202/redrock-3-80656-thru20210202.fits does not exist\n",
      "  /global/cfs/cdirs/desi/spectro/redux/everest/tiles/perexp/80656/00070760/redrock-3-80656-exp00070760.fits does not exist\n",
      "  /global/cfs/cdirs/desi/spectro/redux/everest/tiles/cumulative/80660/20210131/redrock-3-80660-thru20210131.fits does not exist\n",
      "  /global/cfs/cdirs/desi/spectro/redux/everest/tiles/perexp/80660/00070762/redrock-3-80660-exp00070762.fits does not exist\n",
      "  /global/cfs/cdirs/desi/spectro/redux/everest/tiles/cumulative/80660/20210131/redrock-3-80660-thru20210131.fits does not exist\n",
      "  /global/cfs/cdirs/desi/spectro/redux/everest/tiles/perexp/80660/00070763/redrock-3-80660-exp00070763.fits does not exist\n",
      "  /global/cfs/cdirs/desi/spectro/redux/everest/tiles/cumulative/80646/20210205/redrock-3-80646-thru20210205.fits does not exist\n",
      "  /global/cfs/cdirs/desi/spectro/redux/everest/tiles/perexp/80646/00070964/redrock-3-80646-exp00070964.fits does not exist\n",
      "  /global/cfs/cdirs/desi/spectro/redux/everest/tiles/cumulative/80642/20210107/redrock-3-80642-thru20210107.fits does not exist\n",
      "  /global/cfs/cdirs/desi/spectro/redux/everest/tiles/perexp/80642/00071103/redrock-3-80642-exp00071103.fits does not exist\n",
      "  /global/cfs/cdirs/desi/spectro/redux/everest/tiles/perexp/80643/00071105/redrock-3-80643-exp00071105.fits does not exist\n",
      "  /global/cfs/cdirs/desi/spectro/redux/everest/tiles/perexp/80644/00071114/redrock-3-80644-exp00071114.fits does not exist\n",
      "  /global/cfs/cdirs/desi/spectro/redux/everest/tiles/perexp/80644/00071115/redrock-3-80644-exp00071115.fits does not exist\n",
      "  /global/cfs/cdirs/desi/spectro/redux/everest/tiles/cumulative/80645/20210205/redrock-3-80645-thru20210205.fits does not exist\n",
      "  /global/cfs/cdirs/desi/spectro/redux/everest/tiles/perexp/80645/00071116/redrock-3-80645-exp00071116.fits does not exist\n",
      "  /global/cfs/cdirs/desi/spectro/redux/everest/tiles/perexp/80632/00071240/redrock-3-80632-exp00071240.fits does not exist\n",
      "  /global/cfs/cdirs/desi/spectro/redux/everest/tiles/cumulative/80633/20210107/redrock-3-80633-thru20210107.fits does not exist\n",
      "  /global/cfs/cdirs/desi/spectro/redux/everest/tiles/cumulative/80633/20210107/redrock-3-80633-thru20210107.fits does not exist\n",
      "  /global/cfs/cdirs/desi/spectro/redux/everest/tiles/cumulative/80633/20210107/redrock-3-80633-thru20210107.fits does not exist\n",
      "  /global/cfs/cdirs/desi/spectro/redux/everest/tiles/perexp/80633/00071245/redrock-3-80633-exp00071245.fits does not exist\n",
      "  /global/cfs/cdirs/desi/spectro/redux/everest/tiles/cumulative/80646/20210205/redrock-3-80646-thru20210205.fits does not exist\n",
      "  /global/cfs/cdirs/desi/spectro/redux/everest/tiles/perexp/80646/00071272/redrock-3-80646-exp00071272.fits does not exist\n",
      "  /global/cfs/cdirs/desi/spectro/redux/everest/tiles/cumulative/80646/20210205/redrock-3-80646-thru20210205.fits does not exist\n",
      "  /global/cfs/cdirs/desi/spectro/redux/everest/tiles/perexp/80646/00071273/redrock-3-80646-exp00071273.fits does not exist\n",
      "  /global/cfs/cdirs/desi/spectro/redux/everest/tiles/cumulative/80653/20210115/redrock-3-80653-thru20210115.fits does not exist\n",
      "  /global/cfs/cdirs/desi/spectro/redux/everest/tiles/perexp/80653/00071284/redrock-3-80653-exp00071284.fits does not exist\n",
      "  /global/cfs/cdirs/desi/spectro/redux/everest/tiles/cumulative/80653/20210115/redrock-3-80653-thru20210115.fits does not exist\n",
      "  /global/cfs/cdirs/desi/spectro/redux/everest/tiles/perexp/80653/00071285/redrock-3-80653-exp00071285.fits does not exist\n",
      "  /global/cfs/cdirs/desi/spectro/redux/everest/tiles/perexp/80663/00072532/redrock-3-80663-exp00072532.fits does not exist\n",
      "  /global/cfs/cdirs/desi/spectro/redux/everest/tiles/perexp/80663/00072533/redrock-3-80663-exp00072533.fits does not exist\n",
      "  /global/cfs/cdirs/desi/spectro/redux/everest/tiles/perexp/80665/00072536/redrock-3-80665-exp00072536.fits does not exist\n",
      "  /global/cfs/cdirs/desi/spectro/redux/everest/tiles/perexp/80665/00072537/redrock-3-80665-exp00072537.fits does not exist\n",
      "  /global/cfs/cdirs/desi/spectro/redux/everest/tiles/cumulative/80656/20210202/redrock-3-80656-thru20210202.fits does not exist\n",
      "  /global/cfs/cdirs/desi/spectro/redux/everest/tiles/perexp/80656/00074322/redrock-3-80656-exp00074322.fits does not exist\n",
      "  /global/cfs/cdirs/desi/spectro/redux/everest/tiles/cumulative/80646/20210205/redrock-3-80646-thru20210205.fits does not exist\n",
      "  /global/cfs/cdirs/desi/spectro/redux/everest/tiles/perexp/80646/00074796/redrock-3-80646-exp00074796.fits does not exist\n",
      "  /global/cfs/cdirs/desi/spectro/redux/everest/tiles/cumulative/80645/20210205/redrock-3-80645-thru20210205.fits does not exist\n",
      "  /global/cfs/cdirs/desi/spectro/redux/everest/tiles/perexp/80645/00074797/redrock-3-80645-exp00074797.fits does not exist\n",
      "  /global/cfs/cdirs/desi/spectro/redux/everest/tiles/cumulative/80648/20210205/redrock-3-80648-thru20210205.fits does not exist\n",
      "  /global/cfs/cdirs/desi/spectro/redux/everest/tiles/perexp/80648/00074799/redrock-3-80648-exp00074799.fits does not exist\n",
      "  /global/cfs/cdirs/desi/spectro/redux/everest/tiles/perexp/80651/00074809/redrock-3-80651-exp00074809.fits does not exist\n",
      "  /global/cfs/cdirs/desi/spectro/redux/everest/tiles/perexp/80655/00074815/redrock-3-80655-exp00074815.fits does not exist\n",
      "  /global/cfs/cdirs/desi/spectro/redux/everest/tiles/cumulative/80741/20210306/redrock-6-80741-thru20210306.fits does not exist\n",
      "  /global/cfs/cdirs/desi/spectro/redux/everest/tiles/perexp/80741/00079554/redrock-6-80741-exp00079554.fits does not exist\n",
      "  /global/cfs/cdirs/desi/spectro/redux/everest/tiles/perexp/80614/00082832/redrock-1-80614-exp00082832.fits does not exist\n",
      "  /global/cfs/cdirs/desi/spectro/redux/everest/tiles/perexp/80614/00082832/redrock-6-80614-exp00082832.fits does not exist\n",
      "  /global/cfs/cdirs/desi/spectro/redux/everest/tiles/perexp/80652/00082839/redrock-1-80652-exp00082839.fits does not exist\n",
      "  /global/cfs/cdirs/desi/spectro/redux/everest/tiles/perexp/80652/00082839/redrock-6-80652-exp00082839.fits does not exist\n",
      "  /global/cfs/cdirs/desi/spectro/redux/everest/tiles/perexp/80666/00083168/redrock-0-80666-exp00083168.fits does not exist\n",
      "\n"
     ]
    }
   ],
   "source": [
    "sv1_gals = compile_rr(sv1_exps[near_nom])"
   ]
  },
  {
   "cell_type": "code",
   "execution_count": 57,
   "id": "ee2dd989-690e-4345-9d47-4a4b1c1aed00",
   "metadata": {},
   "outputs": [
    {
     "name": "stdout",
     "output_type": "stream",
     "text": [
      "INFO:tsnr.py:444:get_ensemble: for /global/common/software/desi/cori/desiconda/20200801-1.4.0-spec/code/desimodel/0.16.0/data/tsnr/tsnr-ensemble-gpbdark.fits apply scale factor = 1.000\n",
      "INFO:tsnr.py:444:get_ensemble: for /global/common/software/desi/cori/desiconda/20200801-1.4.0-spec/code/desimodel/0.16.0/data/tsnr/tsnr-ensemble-elg.fits apply scale factor = 1.261\n",
      "INFO:tsnr.py:444:get_ensemble: for /global/common/software/desi/cori/desiconda/20200801-1.4.0-spec/code/desimodel/0.16.0/data/tsnr/tsnr-ensemble-gpbbright.fits apply scale factor = 1.000\n",
      "INFO:tsnr.py:444:get_ensemble: for /global/common/software/desi/cori/desiconda/20200801-1.4.0-spec/code/desimodel/0.16.0/data/tsnr/tsnr-ensemble-lya.fits apply scale factor = 0.998\n",
      "INFO:tsnr.py:444:get_ensemble: for /global/common/software/desi/cori/desiconda/20200801-1.4.0-spec/code/desimodel/0.16.0/data/tsnr/tsnr-ensemble-bgs.fits apply scale factor = 2.652\n",
      "INFO:tsnr.py:444:get_ensemble: for /global/common/software/desi/cori/desiconda/20200801-1.4.0-spec/code/desimodel/0.16.0/data/tsnr/tsnr-ensemble-gpbbackup.fits apply scale factor = 1.000\n",
      "INFO:tsnr.py:444:get_ensemble: for /global/common/software/desi/cori/desiconda/20200801-1.4.0-spec/code/desimodel/0.16.0/data/tsnr/tsnr-ensemble-qso.fits apply scale factor = 1.050\n",
      "INFO:tsnr.py:444:get_ensemble: for /global/common/software/desi/cori/desiconda/20200801-1.4.0-spec/code/desimodel/0.16.0/data/tsnr/tsnr-ensemble-lrg.fits apply scale factor = 2.392\n",
      "INFO:tsnr.py:464:get_ensemble: iotime 0.060 sec to read tsnr ensemble at 2021-09-21T04:06:49.022956\n",
      "INFO:tsnr.py:1160:tsnr2_to_efftime: for tracer bgs SNR2TIME=0.140000\n",
      "INFO:tsnr.py:444:get_ensemble: for /global/common/software/desi/cori/desiconda/20200801-1.4.0-spec/code/desimodel/0.16.0/data/tsnr/tsnr-ensemble-gpbdark.fits apply scale factor = 1.000\n",
      "INFO:tsnr.py:444:get_ensemble: for /global/common/software/desi/cori/desiconda/20200801-1.4.0-spec/code/desimodel/0.16.0/data/tsnr/tsnr-ensemble-elg.fits apply scale factor = 1.261\n",
      "INFO:tsnr.py:444:get_ensemble: for /global/common/software/desi/cori/desiconda/20200801-1.4.0-spec/code/desimodel/0.16.0/data/tsnr/tsnr-ensemble-gpbbright.fits apply scale factor = 1.000\n",
      "INFO:tsnr.py:444:get_ensemble: for /global/common/software/desi/cori/desiconda/20200801-1.4.0-spec/code/desimodel/0.16.0/data/tsnr/tsnr-ensemble-lya.fits apply scale factor = 0.998\n",
      "INFO:tsnr.py:444:get_ensemble: for /global/common/software/desi/cori/desiconda/20200801-1.4.0-spec/code/desimodel/0.16.0/data/tsnr/tsnr-ensemble-bgs.fits apply scale factor = 2.652\n",
      "INFO:tsnr.py:444:get_ensemble: for /global/common/software/desi/cori/desiconda/20200801-1.4.0-spec/code/desimodel/0.16.0/data/tsnr/tsnr-ensemble-gpbbackup.fits apply scale factor = 1.000\n",
      "INFO:tsnr.py:444:get_ensemble: for /global/common/software/desi/cori/desiconda/20200801-1.4.0-spec/code/desimodel/0.16.0/data/tsnr/tsnr-ensemble-qso.fits apply scale factor = 1.050\n",
      "INFO:tsnr.py:444:get_ensemble: for /global/common/software/desi/cori/desiconda/20200801-1.4.0-spec/code/desimodel/0.16.0/data/tsnr/tsnr-ensemble-lrg.fits apply scale factor = 2.392\n",
      "INFO:tsnr.py:464:get_ensemble: iotime 0.054 sec to read tsnr ensemble at 2021-09-21T04:06:49.105019\n",
      "INFO:tsnr.py:1160:tsnr2_to_efftime: for tracer bgs SNR2TIME=0.140000\n"
     ]
    },
    {
     "data": {
      "text/plain": [
       "Text(0.5, 1.0, 'SV1')"
      ]
     },
     "execution_count": 57,
     "metadata": {},
     "output_type": "execute_result"
    },
    {
     "data": {
      "image/png": "[encoded data removed]",
      "text/plain": [
       "<Figure size 432x288 with 1 Axes>"
      ]
     },
     "metadata": {
      "needs_background": "light"
     },
     "output_type": "display_data"
    }
   ],
   "source": [
    "_ = pl.hist(tsnr2_to_efftime(sv1_gals['DEEP_TSNR2_BGS'], 'bgs'), bins=np.arange(0.0, 1.e4, 50.), histtype='step')\n",
    "_ = pl.hist(tsnr2_to_efftime(sv1_gals['DEEP_TSNR2_BGS'][sv1_gals['DEEP_EXPTIME'] > 2000.], 'bgs'), bins=np.arange(0.0, 1.e4, 50.), histtype='step')\n",
    "\n",
    "pl.xlim(0.0, 3.5e3)\n",
    "pl.xlabel('DEEP EFFTIME SPEC')\n",
    "\n",
    "pl.title('SV1')"
   ]
  },
  {
   "cell_type": "code",
   "execution_count": 42,
   "id": "d81f5425-2d89-48c9-a947-02755c4dcdff",
   "metadata": {},
   "outputs": [
    {
     "name": "stdout",
     "output_type": "stream",
     "text": [
      "INFO:tsnr.py:444:get_ensemble: for /global/common/software/desi/cori/desiconda/20200801-1.4.0-spec/code/desimodel/0.16.0/data/tsnr/tsnr-ensemble-gpbdark.fits apply scale factor = 1.000\n",
      "INFO:tsnr.py:444:get_ensemble: for /global/common/software/desi/cori/desiconda/20200801-1.4.0-spec/code/desimodel/0.16.0/data/tsnr/tsnr-ensemble-elg.fits apply scale factor = 1.261\n",
      "INFO:tsnr.py:444:get_ensemble: for /global/common/software/desi/cori/desiconda/20200801-1.4.0-spec/code/desimodel/0.16.0/data/tsnr/tsnr-ensemble-gpbbright.fits apply scale factor = 1.000\n",
      "INFO:tsnr.py:444:get_ensemble: for /global/common/software/desi/cori/desiconda/20200801-1.4.0-spec/code/desimodel/0.16.0/data/tsnr/tsnr-ensemble-lya.fits apply scale factor = 0.998\n",
      "INFO:tsnr.py:444:get_ensemble: for /global/common/software/desi/cori/desiconda/20200801-1.4.0-spec/code/desimodel/0.16.0/data/tsnr/tsnr-ensemble-bgs.fits apply scale factor = 2.652\n",
      "INFO:tsnr.py:444:get_ensemble: for /global/common/software/desi/cori/desiconda/20200801-1.4.0-spec/code/desimodel/0.16.0/data/tsnr/tsnr-ensemble-gpbbackup.fits apply scale factor = 1.000\n",
      "INFO:tsnr.py:444:get_ensemble: for /global/common/software/desi/cori/desiconda/20200801-1.4.0-spec/code/desimodel/0.16.0/data/tsnr/tsnr-ensemble-qso.fits apply scale factor = 1.050\n",
      "INFO:tsnr.py:444:get_ensemble: for /global/common/software/desi/cori/desiconda/20200801-1.4.0-spec/code/desimodel/0.16.0/data/tsnr/tsnr-ensemble-lrg.fits apply scale factor = 2.392\n",
      "INFO:tsnr.py:464:get_ensemble: iotime 0.059 sec to read tsnr ensemble at 2021-09-21T03:14:19.553364\n",
      "INFO:tsnr.py:1160:tsnr2_to_efftime: for tracer bgs SNR2TIME=0.140000\n"
     ]
    },
    {
     "data": {
      "text/plain": [
       "Text(0.5, 1.0, 'SV1')"
      ]
     },
     "execution_count": 42,
     "metadata": {},
     "output_type": "execute_result"
    },
    {
     "data": {
      "image/png": "[encoded data removed]",
      "text/plain": [
       "<Figure size 432x288 with 1 Axes>"
      ]
     },
     "metadata": {
      "needs_background": "light"
     },
     "output_type": "display_data"
    }
   ],
   "source": [
    "_ = pl.hist(tsnr2_to_efftime(sv1_gals['TSNR2_BGS'].data, 'bgs'), bins=np.arange(0.0, 4.e2, 5.), histtype='step')\n",
    "\n",
    "pl.xlim(0.0, 300.)\n",
    "\n",
    "pl.axvline(180., c='k', lw=0.5)\n",
    "pl.axvline(160., c='k', lw=0.3)\n",
    "\n",
    "pl.xlabel('EXP. EFFTIME SPEC')\n",
    "\n",
    "pl.title('SV1')"
   ]
  },
  {
   "cell_type": "code",
   "execution_count": 7,
   "id": "3d69232e-e36d-4978-8116-06e829a6adb0",
   "metadata": {
    "scrolled": true,
    "tags": []
   },
   "outputs": [
    {
     "name": "stdout",
     "output_type": "stream",
     "text": [
      "39 SV3 exposures near nominal\n"
     ]
    },
    {
     "data": {
      "application/vnd.jupyter.widget-view+json": {
       "model_id": "b574a6d0b6554979b6bcdc3b54b33473",
       "version_major": 2,
       "version_minor": 0
      },
      "text/plain": [
       "HBox(children=(FloatProgress(value=0.0, max=39.0), HTML(value='')))"
      ]
     },
     "metadata": {},
     "output_type": "display_data"
    },
    {
     "name": "stdout",
     "output_type": "stream",
     "text": [
      "Fetching healpix truth redshifts for sv3.\n",
      "Fetching healpix truth redshifts for sv3.\n",
      "Fetching healpix truth redshifts for sv3.\n",
      "Fetching healpix truth redshifts for sv3.\n",
      "Fetching healpix truth redshifts for sv3.\n",
      "Fetching healpix truth redshifts for sv3.\n",
      "Fetching healpix truth redshifts for sv3.\n",
      "Fetching healpix truth redshifts for sv3.\n",
      "Fetching healpix truth redshifts for sv3.\n",
      "Fetching healpix truth redshifts for sv3.\n",
      "Fetching healpix truth redshifts for sv3.\n",
      "Fetching healpix truth redshifts for sv3.\n",
      "Fetching healpix truth redshifts for sv3.\n",
      "  /global/cfs/cdirs/desi/spectro/redux/everest/tiles/perexp/369/00085637/redrock-4-369-exp00085637.fits does not exist\n",
      "Fetching healpix truth redshifts for sv3.\n",
      "Fetching healpix truth redshifts for sv3.\n",
      "Fetching healpix truth redshifts for sv3.\n",
      "Fetching healpix truth redshifts for sv3.\n",
      "Fetching healpix truth redshifts for sv3.\n",
      "Fetching healpix truth redshifts for sv3.\n",
      "Fetching healpix truth redshifts for sv3.\n",
      "Fetching healpix truth redshifts for sv3.\n",
      "Fetching healpix truth redshifts for sv3.\n",
      "Fetching healpix truth redshifts for sv3.\n",
      "Fetching healpix truth redshifts for sv3.\n",
      "Fetching healpix truth redshifts for sv3.\n",
      "Fetching healpix truth redshifts for sv3.\n",
      "Fetching healpix truth redshifts for sv3.\n",
      "  /global/cfs/cdirs/desi/spectro/redux/everest/tiles/cumulative/399/20210508/redrock-0-399-thru20210508.fits does not exist\n",
      "Fetching healpix truth redshifts for sv3.\n",
      "  /global/cfs/cdirs/desi/spectro/redux/everest/tiles/perexp/399/00087718/redrock-0-399-exp00087718.fits does not exist\n",
      "Fetching healpix truth redshifts for sv3.\n",
      "Fetching healpix truth redshifts for sv3.\n",
      "Fetching healpix truth redshifts for sv3.\n",
      "Fetching healpix truth redshifts for sv3.\n",
      "Fetching healpix truth redshifts for sv3.\n",
      "Fetching healpix truth redshifts for sv3.\n",
      "Fetching healpix truth redshifts for sv3.\n",
      "Fetching healpix truth redshifts for sv3.\n",
      "Fetching healpix truth redshifts for sv3.\n",
      "Fetching healpix truth redshifts for sv3.\n",
      "Fetching healpix truth redshifts for sv3.\n",
      "\n"
     ]
    }
   ],
   "source": [
    "near_nom = (sv3_exps['BGS_EFFTIME_BRIGHT'] > 160) & (sv3_exps['BGS_EFFTIME_BRIGHT'] < 200)\n",
    "\n",
    "print('%i SV3 exposures near nominal' % np.sum(near_nom))\n",
    "\n",
    "sv3_gals = compile_rr(sv3_exps[near_nom], survey='sv3')"
   ]
  },
  {
   "cell_type": "code",
   "execution_count": 8,
   "id": "10ee1626-5ae9-4f88-b7ca-c3e665900fb1",
   "metadata": {},
   "outputs": [
    {
     "name": "stdout",
     "output_type": "stream",
     "text": [
      "INFO:tsnr.py:444:get_ensemble: for /global/common/software/desi/cori/desiconda/20200801-1.4.0-spec/code/desimodel/0.16.0/data/tsnr/tsnr-ensemble-gpbdark.fits apply scale factor = 1.000\n",
      "INFO:tsnr.py:444:get_ensemble: for /global/common/software/desi/cori/desiconda/20200801-1.4.0-spec/code/desimodel/0.16.0/data/tsnr/tsnr-ensemble-elg.fits apply scale factor = 1.261\n",
      "INFO:tsnr.py:444:get_ensemble: for /global/common/software/desi/cori/desiconda/20200801-1.4.0-spec/code/desimodel/0.16.0/data/tsnr/tsnr-ensemble-gpbbright.fits apply scale factor = 1.000\n",
      "INFO:tsnr.py:444:get_ensemble: for /global/common/software/desi/cori/desiconda/20200801-1.4.0-spec/code/desimodel/0.16.0/data/tsnr/tsnr-ensemble-lya.fits apply scale factor = 0.998\n",
      "INFO:tsnr.py:444:get_ensemble: for /global/common/software/desi/cori/desiconda/20200801-1.4.0-spec/code/desimodel/0.16.0/data/tsnr/tsnr-ensemble-bgs.fits apply scale factor = 2.652\n",
      "INFO:tsnr.py:444:get_ensemble: for /global/common/software/desi/cori/desiconda/20200801-1.4.0-spec/code/desimodel/0.16.0/data/tsnr/tsnr-ensemble-gpbbackup.fits apply scale factor = 1.000\n",
      "INFO:tsnr.py:444:get_ensemble: for /global/common/software/desi/cori/desiconda/20200801-1.4.0-spec/code/desimodel/0.16.0/data/tsnr/tsnr-ensemble-qso.fits apply scale factor = 1.050\n",
      "INFO:tsnr.py:444:get_ensemble: for /global/common/software/desi/cori/desiconda/20200801-1.4.0-spec/code/desimodel/0.16.0/data/tsnr/tsnr-ensemble-lrg.fits apply scale factor = 2.392\n",
      "INFO:tsnr.py:464:get_ensemble: iotime 0.071 sec to read tsnr ensemble at 2021-09-21T09:23:36.441917\n",
      "INFO:tsnr.py:1160:tsnr2_to_efftime: for tracer bgs SNR2TIME=0.140000\n",
      "INFO:tsnr.py:444:get_ensemble: for /global/common/software/desi/cori/desiconda/20200801-1.4.0-spec/code/desimodel/0.16.0/data/tsnr/tsnr-ensemble-gpbdark.fits apply scale factor = 1.000\n",
      "INFO:tsnr.py:444:get_ensemble: for /global/common/software/desi/cori/desiconda/20200801-1.4.0-spec/code/desimodel/0.16.0/data/tsnr/tsnr-ensemble-elg.fits apply scale factor = 1.261\n",
      "INFO:tsnr.py:444:get_ensemble: for /global/common/software/desi/cori/desiconda/20200801-1.4.0-spec/code/desimodel/0.16.0/data/tsnr/tsnr-ensemble-gpbbright.fits apply scale factor = 1.000\n",
      "INFO:tsnr.py:444:get_ensemble: for /global/common/software/desi/cori/desiconda/20200801-1.4.0-spec/code/desimodel/0.16.0/data/tsnr/tsnr-ensemble-lya.fits apply scale factor = 0.998\n",
      "INFO:tsnr.py:444:get_ensemble: for /global/common/software/desi/cori/desiconda/20200801-1.4.0-spec/code/desimodel/0.16.0/data/tsnr/tsnr-ensemble-bgs.fits apply scale factor = 2.652\n",
      "INFO:tsnr.py:444:get_ensemble: for /global/common/software/desi/cori/desiconda/20200801-1.4.0-spec/code/desimodel/0.16.0/data/tsnr/tsnr-ensemble-gpbbackup.fits apply scale factor = 1.000\n",
      "INFO:tsnr.py:444:get_ensemble: for /global/common/software/desi/cori/desiconda/20200801-1.4.0-spec/code/desimodel/0.16.0/data/tsnr/tsnr-ensemble-qso.fits apply scale factor = 1.050\n",
      "INFO:tsnr.py:444:get_ensemble: for /global/common/software/desi/cori/desiconda/20200801-1.4.0-spec/code/desimodel/0.16.0/data/tsnr/tsnr-ensemble-lrg.fits apply scale factor = 2.392\n",
      "INFO:tsnr.py:464:get_ensemble: iotime 0.054 sec to read tsnr ensemble at 2021-09-21T09:23:36.522471\n",
      "INFO:tsnr.py:1160:tsnr2_to_efftime: for tracer bgs SNR2TIME=0.140000\n"
     ]
    },
    {
     "data": {
      "text/plain": [
       "Text(0.5, 1.0, 'SV3')"
      ]
     },
     "execution_count": 8,
     "metadata": {},
     "output_type": "execute_result"
    },
    {
     "data": {
      "image/png": "[encoded data removed]",
      "text/plain": [
       "<Figure size 432x288 with 1 Axes>"
      ]
     },
     "metadata": {
      "needs_background": "light"
     },
     "output_type": "display_data"
    }
   ],
   "source": [
    "_ = pl.hist(tsnr2_to_efftime(sv3_gals['DEEP_TSNR2_BGS'], 'bgs'), bins=np.arange(0.0, 1.e3, 10.), histtype='step')\n",
    "_ = pl.hist(tsnr2_to_efftime(sv3_gals['DEEP_TSNR2_BGS'], 'bgs')[sv3_gals['DEEP_NUMEXP'] > 2], bins=np.arange(0.0, 1.e3, 10.), histtype='step')\n",
    "\n",
    "pl.xlim(0.0, 1.e3)\n",
    "pl.xlabel('DEEP EFFTIME SPEC')\n",
    "pl.axvline(180., c='k', lw=0.5)\n",
    "pl.axvline(220., c='k', lw=0.5)\n",
    "pl.title('SV3')"
   ]
  },
  {
   "cell_type": "code",
   "execution_count": 9,
   "id": "06f3b419-8deb-4dba-a9af-09cfa7c23339",
   "metadata": {},
   "outputs": [
    {
     "name": "stdout",
     "output_type": "stream",
     "text": [
      "INFO:tsnr.py:444:get_ensemble: for /global/common/software/desi/cori/desiconda/20200801-1.4.0-spec/code/desimodel/0.16.0/data/tsnr/tsnr-ensemble-gpbdark.fits apply scale factor = 1.000\n",
      "INFO:tsnr.py:444:get_ensemble: for /global/common/software/desi/cori/desiconda/20200801-1.4.0-spec/code/desimodel/0.16.0/data/tsnr/tsnr-ensemble-elg.fits apply scale factor = 1.261\n",
      "INFO:tsnr.py:444:get_ensemble: for /global/common/software/desi/cori/desiconda/20200801-1.4.0-spec/code/desimodel/0.16.0/data/tsnr/tsnr-ensemble-gpbbright.fits apply scale factor = 1.000\n",
      "INFO:tsnr.py:444:get_ensemble: for /global/common/software/desi/cori/desiconda/20200801-1.4.0-spec/code/desimodel/0.16.0/data/tsnr/tsnr-ensemble-lya.fits apply scale factor = 0.998\n",
      "INFO:tsnr.py:444:get_ensemble: for /global/common/software/desi/cori/desiconda/20200801-1.4.0-spec/code/desimodel/0.16.0/data/tsnr/tsnr-ensemble-bgs.fits apply scale factor = 2.652\n",
      "INFO:tsnr.py:444:get_ensemble: for /global/common/software/desi/cori/desiconda/20200801-1.4.0-spec/code/desimodel/0.16.0/data/tsnr/tsnr-ensemble-gpbbackup.fits apply scale factor = 1.000\n",
      "INFO:tsnr.py:444:get_ensemble: for /global/common/software/desi/cori/desiconda/20200801-1.4.0-spec/code/desimodel/0.16.0/data/tsnr/tsnr-ensemble-qso.fits apply scale factor = 1.050\n",
      "INFO:tsnr.py:444:get_ensemble: for /global/common/software/desi/cori/desiconda/20200801-1.4.0-spec/code/desimodel/0.16.0/data/tsnr/tsnr-ensemble-lrg.fits apply scale factor = 2.392\n",
      "INFO:tsnr.py:464:get_ensemble: iotime 0.082 sec to read tsnr ensemble at 2021-09-21T09:24:56.454144\n",
      "INFO:tsnr.py:1160:tsnr2_to_efftime: for tracer bgs SNR2TIME=0.140000\n"
     ]
    },
    {
     "data": {
      "text/plain": [
       "Text(0.5, 1.0, 'SV3')"
      ]
     },
     "execution_count": 9,
     "metadata": {},
     "output_type": "execute_result"
    },
    {
     "data": {
      "image/png": "[encoded data removed]",
      "text/plain": [
       "<Figure size 432x288 with 1 Axes>"
      ]
     },
     "metadata": {
      "needs_background": "light"
     },
     "output_type": "display_data"
    }
   ],
   "source": [
    "_ = pl.hist(tsnr2_to_efftime(sv3_gals['TSNR2_BGS'], 'bgs'), bins=np.arange(0.0, 1.e3, 10.), histtype='step')\n",
    "\n",
    "pl.xlim(0.0, 1.e3)\n",
    "pl.xlabel('EFFTIME SPEC')\n",
    "pl.axvline(180., c='k', lw=0.5)\n",
    "pl.axvline(220., c='k', lw=0.5)\n",
    "pl.title('SV3')"
   ]
  },
  {
   "cell_type": "code",
   "execution_count": 53,
   "id": "6109a27c-fbc5-4340-b558-e42bd3242ecb",
   "metadata": {},
   "outputs": [
    {
     "name": "stdout",
     "output_type": "stream",
     "text": [
      "26 MAIN exposures near nominal\n"
     ]
    },
    {
     "data": {
      "application/vnd.jupyter.widget-view+json": {
       "model_id": "f3a340a054f84b26a95d9b9837933ca9",
       "version_major": 2,
       "version_minor": 0
      },
      "text/plain": [
       "HBox(children=(FloatProgress(value=0.0, max=26.0), HTML(value='')))"
      ]
     },
     "metadata": {},
     "output_type": "display_data"
    },
    {
     "name": "stdout",
     "output_type": "stream",
     "text": [
      "  /global/cfs/cdirs/desi/spectro/redux/everest/tiles/cumulative/20654/20210514/redrock-1-20654-thru20210514.fits does not exist\n",
      "  /global/cfs/cdirs/desi/spectro/redux/everest/tiles/perexp/20654/00088360/redrock-1-20654-exp00088360.fits does not exist\n",
      "  /global/cfs/cdirs/desi/spectro/redux/everest/tiles/cumulative/20818/20210611/redrock-9-20818-thru20210611.fits does not exist\n",
      "  /global/cfs/cdirs/desi/spectro/redux/everest/tiles/perexp/20818/00093390/redrock-9-20818-exp00093390.fits does not exist\n",
      "  /global/cfs/cdirs/desi/spectro/redux/everest/tiles/cumulative/21102/20210612/redrock-9-21102-thru20210612.fits does not exist\n",
      "  /global/cfs/cdirs/desi/spectro/redux/everest/tiles/perexp/21102/00093468/redrock-9-21102-exp00093468.fits does not exist\n",
      "  /global/cfs/cdirs/desi/spectro/redux/everest/tiles/cumulative/20103/20210612/redrock-9-20103-thru20210612.fits does not exist\n",
      "  /global/cfs/cdirs/desi/spectro/redux/everest/tiles/perexp/20103/00093473/redrock-9-20103-exp00093473.fits does not exist\n",
      "  /global/cfs/cdirs/desi/spectro/redux/everest/tiles/cumulative/21193/20210621/redrock-5-21193-thru20210621.fits does not exist\n",
      "  /global/cfs/cdirs/desi/spectro/redux/everest/tiles/perexp/21193/00095497/redrock-5-21193-exp00095497.fits does not exist\n",
      "  /global/cfs/cdirs/desi/spectro/redux/everest/tiles/cumulative/20928/20210621/redrock-5-20928-thru20210621.fits does not exist\n",
      "  /global/cfs/cdirs/desi/spectro/redux/everest/tiles/perexp/20928/00095506/redrock-5-20928-exp00095506.fits does not exist\n",
      "\n"
     ]
    }
   ],
   "source": [
    "near_nom = (main_exps['BGS_EFFTIME_BRIGHT'] > 160) & (main_exps['BGS_EFFTIME_BRIGHT'] < 200)\n",
    "print('%i MAIN exposures near nominal' % np.sum(near_nom))\n",
    "main_gals = compile_rr(main_exps[near_nom])"
   ]
  },
  {
   "cell_type": "code",
   "execution_count": 54,
   "id": "b5da514c-275c-4cf3-bcfb-13f28b78500c",
   "metadata": {},
   "outputs": [
    {
     "name": "stdout",
     "output_type": "stream",
     "text": [
      "INFO:tsnr.py:444:get_ensemble: for /global/common/software/desi/cori/desiconda/20200801-1.4.0-spec/code/desimodel/0.16.0/data/tsnr/tsnr-ensemble-gpbdark.fits apply scale factor = 1.000\n",
      "INFO:tsnr.py:444:get_ensemble: for /global/common/software/desi/cori/desiconda/20200801-1.4.0-spec/code/desimodel/0.16.0/data/tsnr/tsnr-ensemble-elg.fits apply scale factor = 1.261\n",
      "INFO:tsnr.py:444:get_ensemble: for /global/common/software/desi/cori/desiconda/20200801-1.4.0-spec/code/desimodel/0.16.0/data/tsnr/tsnr-ensemble-gpbbright.fits apply scale factor = 1.000\n",
      "INFO:tsnr.py:444:get_ensemble: for /global/common/software/desi/cori/desiconda/20200801-1.4.0-spec/code/desimodel/0.16.0/data/tsnr/tsnr-ensemble-lya.fits apply scale factor = 0.998\n",
      "INFO:tsnr.py:444:get_ensemble: for /global/common/software/desi/cori/desiconda/20200801-1.4.0-spec/code/desimodel/0.16.0/data/tsnr/tsnr-ensemble-bgs.fits apply scale factor = 2.652\n",
      "INFO:tsnr.py:444:get_ensemble: for /global/common/software/desi/cori/desiconda/20200801-1.4.0-spec/code/desimodel/0.16.0/data/tsnr/tsnr-ensemble-gpbbackup.fits apply scale factor = 1.000\n",
      "INFO:tsnr.py:444:get_ensemble: for /global/common/software/desi/cori/desiconda/20200801-1.4.0-spec/code/desimodel/0.16.0/data/tsnr/tsnr-ensemble-qso.fits apply scale factor = 1.050\n",
      "INFO:tsnr.py:444:get_ensemble: for /global/common/software/desi/cori/desiconda/20200801-1.4.0-spec/code/desimodel/0.16.0/data/tsnr/tsnr-ensemble-lrg.fits apply scale factor = 2.392\n",
      "INFO:tsnr.py:464:get_ensemble: iotime 0.076 sec to read tsnr ensemble at 2021-09-21T03:18:12.022765\n",
      "INFO:tsnr.py:1160:tsnr2_to_efftime: for tracer bgs SNR2TIME=0.140000\n"
     ]
    },
    {
     "data": {
      "text/plain": [
       "Text(0.5, 1.0, 'MAIN')"
      ]
     },
     "execution_count": 54,
     "metadata": {},
     "output_type": "execute_result"
    },
    {
     "data": {
      "image/png": "[encoded data removed]",
      "text/plain": [
       "<Figure size 432x288 with 1 Axes>"
      ]
     },
     "metadata": {
      "needs_background": "light"
     },
     "output_type": "display_data"
    }
   ],
   "source": [
    "_ = pl.hist(tsnr2_to_efftime(main_gals['DEEP_TSNR2_BGS'], 'bgs'), bins=np.arange(0.0, 1.e3, 10.), histtype='step')\n",
    "\n",
    "pl.xlim(0.0, 1.e3)\n",
    "pl.xlabel('DEEP EFFTIME SPEC')\n",
    "pl.axvline(180., c='k', lw=0.5)\n",
    "pl.axvline(220., c='k', lw=0.5)\n",
    "pl.title('MAIN')"
   ]
  },
  {
   "cell_type": "code",
   "execution_count": 55,
   "id": "116c1884-f2e0-443b-ad50-c5c3d253c2c1",
   "metadata": {},
   "outputs": [
    {
     "name": "stdout",
     "output_type": "stream",
     "text": [
      "INFO:tsnr.py:444:get_ensemble: for /global/common/software/desi/cori/desiconda/20200801-1.4.0-spec/code/desimodel/0.16.0/data/tsnr/tsnr-ensemble-gpbdark.fits apply scale factor = 1.000\n",
      "INFO:tsnr.py:444:get_ensemble: for /global/common/software/desi/cori/desiconda/20200801-1.4.0-spec/code/desimodel/0.16.0/data/tsnr/tsnr-ensemble-elg.fits apply scale factor = 1.261\n",
      "INFO:tsnr.py:444:get_ensemble: for /global/common/software/desi/cori/desiconda/20200801-1.4.0-spec/code/desimodel/0.16.0/data/tsnr/tsnr-ensemble-gpbbright.fits apply scale factor = 1.000\n",
      "INFO:tsnr.py:444:get_ensemble: for /global/common/software/desi/cori/desiconda/20200801-1.4.0-spec/code/desimodel/0.16.0/data/tsnr/tsnr-ensemble-lya.fits apply scale factor = 0.998\n",
      "INFO:tsnr.py:444:get_ensemble: for /global/common/software/desi/cori/desiconda/20200801-1.4.0-spec/code/desimodel/0.16.0/data/tsnr/tsnr-ensemble-bgs.fits apply scale factor = 2.652\n",
      "INFO:tsnr.py:444:get_ensemble: for /global/common/software/desi/cori/desiconda/20200801-1.4.0-spec/code/desimodel/0.16.0/data/tsnr/tsnr-ensemble-gpbbackup.fits apply scale factor = 1.000\n",
      "INFO:tsnr.py:444:get_ensemble: for /global/common/software/desi/cori/desiconda/20200801-1.4.0-spec/code/desimodel/0.16.0/data/tsnr/tsnr-ensemble-qso.fits apply scale factor = 1.050\n",
      "INFO:tsnr.py:444:get_ensemble: for /global/common/software/desi/cori/desiconda/20200801-1.4.0-spec/code/desimodel/0.16.0/data/tsnr/tsnr-ensemble-lrg.fits apply scale factor = 2.392\n",
      "INFO:tsnr.py:464:get_ensemble: iotime 0.053 sec to read tsnr ensemble at 2021-09-21T03:18:37.684063\n",
      "INFO:tsnr.py:1160:tsnr2_to_efftime: for tracer bgs SNR2TIME=0.140000\n"
     ]
    },
    {
     "data": {
      "text/plain": [
       "Text(0.5, 1.0, 'MAIN')"
      ]
     },
     "execution_count": 55,
     "metadata": {},
     "output_type": "execute_result"
    },
    {
     "data": {
      "image/png": "[encoded data removed]",
      "text/plain": [
       "<Figure size 432x288 with 1 Axes>"
      ]
     },
     "metadata": {
      "needs_background": "light"
     },
     "output_type": "display_data"
    }
   ],
   "source": [
    "_ = pl.hist(tsnr2_to_efftime(main_gals['TSNR2_BGS'], 'bgs'), bins=np.arange(0.0, 1.e3, 10.), histtype='step')\n",
    "\n",
    "pl.xlim(0.0, 1.e3)\n",
    "pl.xlabel('EFFTIME SPEC')\n",
    "pl.axvline(180., c='k', lw=0.5)\n",
    "pl.axvline(220., c='k', lw=0.5)\n",
    "pl.title('MAIN')"
   ]
  },
  {
   "cell_type": "code",
   "execution_count": 10,
   "id": "934e22a6-d347-47d5-8c84-cbb304ef2f3c",
   "metadata": {},
   "outputs": [],
   "source": [
    "# save compiled zsuccess rates to file\n",
    "dat_dir = '/global/cscratch1/sd/mjwilson/desi/BGS/bgs-cmxsv/'\n",
    "\n",
    "# sv1_gals.write(os.path.join(dat_dir,  'sv1.bgs_exps.efftime160_200.zsuccess.v3.fits'), overwrite=True)\n",
    "sv3_gals.write(os.path.join(dat_dir,  'sv3.bgs_exps.efftime160_200.zsuccess.v3.fits'), overwrite=True)\n",
    "# main_gals.write(os.path.join(dat_dir, 'main.bgs_exps.efftime160_200.zsuccess.v3.fits'), overwrite=True)"
   ]
  },
  {
   "cell_type": "markdown",
   "id": "f01d3fb3-2d6f-493f-83f7-3d79728aeeb8",
   "metadata": {},
   "source": [
    "# Done."
   ]
  }
 ],
 "metadata": {
  "kernelspec": {
   "display_name": "DESI 21.7e",
   "language": "python",
   "name": "desi-21.7e"
  },
  "language_info": {
   "codemirror_mode": {
    "name": "ipython",
    "version": 3
   },
   "file_extension": ".py",
   "mimetype": "text/x-python",
   "name": "python",
   "nbconvert_exporter": "python",
   "pygments_lexer": "ipython3",
   "version": "3.8.3"
  }
 },
 "nbformat": 4,
 "nbformat_minor": 5
}
