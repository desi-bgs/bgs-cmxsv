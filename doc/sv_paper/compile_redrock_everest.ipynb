{
 "cells": [
  {
   "cell_type": "code",
   "execution_count": 1,
   "id": "08c86a8f-0ec7-4c82-9950-d7dac0062701",
   "metadata": {},
   "outputs": [],
   "source": [
    "import os\n",
    "import sv as SV\n",
    "import numpy as np \n",
    "import astropy.table as atable\n",
    "from tqdm.notebook import tqdm, trange"
   ]
  },
  {
   "cell_type": "code",
   "execution_count": 2,
   "id": "c5d9f6c0-c338-48d4-90b7-79f446b7a978",
   "metadata": {},
   "outputs": [],
   "source": [
    "# -- plotting -- \n",
    "import matplotlib as mpl\n",
    "import matplotlib.pyplot as plt\n",
    "#mpl.use('Agg')\n",
    "#mpl.rcParams['text.usetex'] = True\n",
    "mpl.rcParams['font.family'] = 'serif'\n",
    "mpl.rcParams['axes.linewidth'] = 1.5\n",
    "mpl.rcParams['axes.xmargin'] = 1\n",
    "mpl.rcParams['xtick.labelsize'] = 'x-large'\n",
    "mpl.rcParams['xtick.major.size'] = 5\n",
    "mpl.rcParams['xtick.major.width'] = 1.5\n",
    "mpl.rcParams['ytick.labelsize'] = 'x-large'\n",
    "mpl.rcParams['ytick.major.size'] = 5\n",
    "mpl.rcParams['ytick.major.width'] = 1.5\n",
    "mpl.rcParams['legend.frameon'] = False"
   ]
  },
  {
   "cell_type": "code",
   "execution_count": 3,
   "id": "222e64b6-7520-4801-9f89-3567c183322c",
   "metadata": {},
   "outputs": [],
   "source": [
    "all_exps = SV.info_exposures(release='everest')"
   ]
  },
  {
   "cell_type": "code",
   "execution_count": 4,
   "id": "b3b17309-9855-40bd-89fb-20e8d1ff118e",
   "metadata": {},
   "outputs": [
    {
     "name": "stdout",
     "output_type": "stream",
     "text": [
      "1418 exposures in BRIGHT\n",
      "635 SV1 BRIGHT exposure\n",
      "298 SV3 BRIGHT exposure\n",
      "409 MAIN BRIGHT exposure\n"
     ]
    }
   ],
   "source": [
    "in_bright = (all_exps['FAPRGRM'] == 'bgsmws') | (all_exps['FAPRGRM'] == 'bright')\n",
    "print(\"%i exposures in BRIGHT\" % np.sum(in_bright))\n",
    "\n",
    "sv1_exps = all_exps[(all_exps['SURVEY'] == 'sv1') & in_bright]\n",
    "sv3_exps = all_exps[(all_exps['SURVEY'] == 'sv3') & in_bright]\n",
    "main_exps = all_exps[(all_exps['SURVEY'] == 'main') & in_bright]\n",
    "\n",
    "print('%i SV1 BRIGHT exposure' % len(sv1_exps))\n",
    "print('%i SV3 BRIGHT exposure' % len(sv3_exps))\n",
    "print('%i MAIN BRIGHT exposure' % len(main_exps))"
   ]
  },
  {
   "cell_type": "code",
   "execution_count": 5,
   "id": "e306263a-a759-4517-839d-3523d002641b",
   "metadata": {},
   "outputs": [
    {
     "name": "stderr",
     "output_type": "stream",
     "text": [
      "/global/common/software/desi/cori/desiconda/20200801-1.4.0-spec/conda/lib/python3.8/site-packages/numpy/core/_asarray.py:83: VisibleDeprecationWarning: Creating an ndarray from ragged nested sequences (which is a list-or-tuple of lists-or-tuples-or ndarrays with different lengths or shapes) is deprecated. If you meant to do this, you must specify 'dtype=object' when creating the ndarray\n",
      "  return array(a, dtype, copy=False, order=order)\n"
     ]
    },
    {
     "data": {
      "text/plain": [
       "Text(0, 0.5, '$N_{\\\\rm exp}$')"
      ]
     },
     "execution_count": 5,
     "metadata": {},
     "output_type": "execute_result"
    },
    {
     "data": {
      "image/png": "[encoded data removed]",
      "text/plain": [
       "<Figure size 576x432 with 1 Axes>"
      ]
     },
     "metadata": {
      "needs_background": "light"
     },
     "output_type": "display_data"
    }
   ],
   "source": [
    "fig = plt.figure(figsize=(8,6))\n",
    "sub = fig.add_subplot(111)\n",
    "_ = sub.hist([sv1_exps['BGS_EFFTIME_BRIGHT'], sv3_exps['BGS_EFFTIME_BRIGHT'], main_exps['BGS_EFFTIME_BRIGHT']], range=(0., 500), bins=50, stacked=True, label=['SV1', 'SV3', 'Main'])\n",
    "\n",
    "sub.axvline(180, color='k', linestyle='--')\n",
    "sub.text(185, 120, r'$t_{\\rm nom}= 180s$', fontsize=20)\n",
    "\n",
    "sub.legend(loc='upper right', fontsize=20, handletextpad=0.2)\n",
    "sub.set_xlabel(r'BGS BRIGHT EFFTIME', fontsize=25)\n",
    "sub.set_xlim(0., 500)\n",
    "sub.set_ylabel(r'$N_{\\rm exp}$', fontsize=25)"
   ]
  },
  {
   "cell_type": "code",
   "execution_count": 6,
   "id": "ca492e40-957c-4837-abeb-2931e79f0940",
   "metadata": {},
   "outputs": [],
   "source": [
    "def compile_rr(exps): \n",
    "    gals = [] \n",
    "    for i in trange(len(exps)): \n",
    "        try: \n",
    "            _gals = SV.get_exp_zsuccess(exps['TILEID'][i], exps['EXPID'][i], release='everest')\n",
    "        except AssertionError: \n",
    "            continue \n",
    "        gals.append(_gals)\n",
    "    return atable.vstack(gals)"
   ]
  },
  {
   "cell_type": "code",
   "execution_count": 7,
   "id": "9b782065-6f9d-493c-bc96-73a7c83a14cd",
   "metadata": {
    "scrolled": true,
    "tags": []
   },
   "outputs": [
    {
     "name": "stdout",
     "output_type": "stream",
     "text": [
      "61 SV1 exposures near nominal\n"
     ]
    },
    {
     "data": {
      "application/vnd.jupyter.widget-view+json": {
       "model_id": "d371bb85f879432fa81d8caeffd5ff28",
       "version_major": 2,
       "version_minor": 0
      },
      "text/plain": [
       "HBox(children=(FloatProgress(value=0.0, max=61.0), HTML(value='')))"
      ]
     },
     "metadata": {},
     "output_type": "display_data"
    },
    {
     "name": "stdout",
     "output_type": "stream",
     "text": [
      "  /global/cfs/cdirs/desi/spectro/redux/everest/tiles/cumulative/80629/20210103/redrock-3-80629-thru20210103.fits does not exist\n",
      "  /global/cfs/cdirs/desi/spectro/redux/everest/tiles/perexp/80629/00070700/redrock-3-80629-exp00070700.fits does not exist\n",
      "  /global/cfs/cdirs/desi/spectro/redux/everest/tiles/cumulative/80641/20210107/redrock-3-80641-thru20210107.fits does not exist\n",
      "  /global/cfs/cdirs/desi/spectro/redux/everest/tiles/perexp/80641/00070729/redrock-3-80641-exp00070729.fits does not exist\n",
      "  /global/cfs/cdirs/desi/spectro/redux/everest/tiles/cumulative/80641/20210107/redrock-3-80641-thru20210107.fits does not exist\n",
      "  /global/cfs/cdirs/desi/spectro/redux/everest/tiles/perexp/80641/00070730/redrock-3-80641-exp00070730.fits does not exist\n",
      "  /global/cfs/cdirs/desi/spectro/redux/everest/tiles/cumulative/80642/20210107/redrock-3-80642-thru20210107.fits does not exist\n",
      "  /global/cfs/cdirs/desi/spectro/redux/everest/tiles/perexp/80642/00070731/redrock-3-80642-exp00070731.fits does not exist\n",
      "  /global/cfs/cdirs/desi/spectro/redux/everest/tiles/cumulative/80642/20210107/redrock-3-80642-thru20210107.fits does not exist\n",
      "  /global/cfs/cdirs/desi/spectro/redux/everest/tiles/perexp/80642/00070732/redrock-3-80642-exp00070732.fits does not exist\n",
      "  /global/cfs/cdirs/desi/spectro/redux/everest/tiles/cumulative/80642/20210107/redrock-3-80642-thru20210107.fits does not exist\n",
      "  /global/cfs/cdirs/desi/spectro/redux/everest/tiles/perexp/80642/00070733/redrock-3-80642-exp00070733.fits does not exist\n",
      "  /global/cfs/cdirs/desi/spectro/redux/everest/tiles/perexp/80643/00070734/redrock-3-80643-exp00070734.fits does not exist\n",
      "  /global/cfs/cdirs/desi/spectro/redux/everest/tiles/perexp/80644/00070738/redrock-3-80644-exp00070738.fits does not exist\n",
      "  /global/cfs/cdirs/desi/spectro/redux/everest/tiles/perexp/80644/00070739/redrock-3-80644-exp00070739.fits does not exist\n",
      "  /global/cfs/cdirs/desi/spectro/redux/everest/tiles/cumulative/80645/20210205/redrock-3-80645-thru20210205.fits does not exist\n",
      "  /global/cfs/cdirs/desi/spectro/redux/everest/tiles/perexp/80645/00070741/redrock-3-80645-exp00070741.fits does not exist\n",
      "  /global/cfs/cdirs/desi/spectro/redux/everest/tiles/cumulative/80646/20210205/redrock-3-80646-thru20210205.fits does not exist\n",
      "  /global/cfs/cdirs/desi/spectro/redux/everest/tiles/perexp/80646/00070744/redrock-3-80646-exp00070744.fits does not exist\n",
      "  /global/cfs/cdirs/desi/spectro/redux/everest/tiles/cumulative/80646/20210205/redrock-3-80646-thru20210205.fits does not exist\n",
      "  /global/cfs/cdirs/desi/spectro/redux/everest/tiles/perexp/80646/00070745/redrock-3-80646-exp00070745.fits does not exist\n",
      "  /global/cfs/cdirs/desi/spectro/redux/everest/tiles/cumulative/80656/20210202/redrock-3-80656-thru20210202.fits does not exist\n",
      "  /global/cfs/cdirs/desi/spectro/redux/everest/tiles/perexp/80656/00070759/redrock-3-80656-exp00070759.fits does not exist\n",
      "  /global/cfs/cdirs/desi/spectro/redux/everest/tiles/cumulative/80656/20210202/redrock-3-80656-thru20210202.fits does not exist\n",
      "  /global/cfs/cdirs/desi/spectro/redux/everest/tiles/perexp/80656/00070760/redrock-3-80656-exp00070760.fits does not exist\n",
      "  /global/cfs/cdirs/desi/spectro/redux/everest/tiles/cumulative/80660/20210131/redrock-3-80660-thru20210131.fits does not exist\n",
      "  /global/cfs/cdirs/desi/spectro/redux/everest/tiles/perexp/80660/00070762/redrock-3-80660-exp00070762.fits does not exist\n",
      "  /global/cfs/cdirs/desi/spectro/redux/everest/tiles/cumulative/80660/20210131/redrock-3-80660-thru20210131.fits does not exist\n",
      "  /global/cfs/cdirs/desi/spectro/redux/everest/tiles/perexp/80660/00070763/redrock-3-80660-exp00070763.fits does not exist\n",
      "  /global/cfs/cdirs/desi/spectro/redux/everest/tiles/cumulative/80646/20210205/redrock-3-80646-thru20210205.fits does not exist\n",
      "  /global/cfs/cdirs/desi/spectro/redux/everest/tiles/perexp/80646/00070964/redrock-3-80646-exp00070964.fits does not exist\n",
      "  /global/cfs/cdirs/desi/spectro/redux/everest/tiles/cumulative/80642/20210107/redrock-3-80642-thru20210107.fits does not exist\n",
      "  /global/cfs/cdirs/desi/spectro/redux/everest/tiles/perexp/80642/00071103/redrock-3-80642-exp00071103.fits does not exist\n",
      "  /global/cfs/cdirs/desi/spectro/redux/everest/tiles/perexp/80643/00071105/redrock-3-80643-exp00071105.fits does not exist\n",
      "  /global/cfs/cdirs/desi/spectro/redux/everest/tiles/perexp/80644/00071114/redrock-3-80644-exp00071114.fits does not exist\n",
      "  /global/cfs/cdirs/desi/spectro/redux/everest/tiles/perexp/80644/00071115/redrock-3-80644-exp00071115.fits does not exist\n",
      "  /global/cfs/cdirs/desi/spectro/redux/everest/tiles/cumulative/80645/20210205/redrock-3-80645-thru20210205.fits does not exist\n",
      "  /global/cfs/cdirs/desi/spectro/redux/everest/tiles/perexp/80645/00071116/redrock-3-80645-exp00071116.fits does not exist\n",
      "  /global/cfs/cdirs/desi/spectro/redux/everest/tiles/perexp/80632/00071240/redrock-3-80632-exp00071240.fits does not exist\n",
      "  /global/cfs/cdirs/desi/spectro/redux/everest/tiles/cumulative/80633/20210107/redrock-3-80633-thru20210107.fits does not exist\n",
      "  /global/cfs/cdirs/desi/spectro/redux/everest/tiles/cumulative/80633/20210107/redrock-3-80633-thru20210107.fits does not exist\n",
      "  /global/cfs/cdirs/desi/spectro/redux/everest/tiles/cumulative/80633/20210107/redrock-3-80633-thru20210107.fits does not exist\n",
      "  /global/cfs/cdirs/desi/spectro/redux/everest/tiles/perexp/80633/00071245/redrock-3-80633-exp00071245.fits does not exist\n",
      "  /global/cfs/cdirs/desi/spectro/redux/everest/tiles/cumulative/80646/20210205/redrock-3-80646-thru20210205.fits does not exist\n",
      "  /global/cfs/cdirs/desi/spectro/redux/everest/tiles/perexp/80646/00071272/redrock-3-80646-exp00071272.fits does not exist\n",
      "  /global/cfs/cdirs/desi/spectro/redux/everest/tiles/cumulative/80646/20210205/redrock-3-80646-thru20210205.fits does not exist\n",
      "  /global/cfs/cdirs/desi/spectro/redux/everest/tiles/perexp/80646/00071273/redrock-3-80646-exp00071273.fits does not exist\n",
      "  /global/cfs/cdirs/desi/spectro/redux/everest/tiles/cumulative/80653/20210115/redrock-3-80653-thru20210115.fits does not exist\n",
      "  /global/cfs/cdirs/desi/spectro/redux/everest/tiles/perexp/80653/00071284/redrock-3-80653-exp00071284.fits does not exist\n",
      "  /global/cfs/cdirs/desi/spectro/redux/everest/tiles/cumulative/80653/20210115/redrock-3-80653-thru20210115.fits does not exist\n",
      "  /global/cfs/cdirs/desi/spectro/redux/everest/tiles/perexp/80653/00071285/redrock-3-80653-exp00071285.fits does not exist\n",
      "  /global/cfs/cdirs/desi/spectro/redux/everest/tiles/perexp/80663/00072532/redrock-3-80663-exp00072532.fits does not exist\n",
      "  /global/cfs/cdirs/desi/spectro/redux/everest/tiles/perexp/80663/00072533/redrock-3-80663-exp00072533.fits does not exist\n",
      "  /global/cfs/cdirs/desi/spectro/redux/everest/tiles/perexp/80665/00072536/redrock-3-80665-exp00072536.fits does not exist\n",
      "  /global/cfs/cdirs/desi/spectro/redux/everest/tiles/perexp/80665/00072537/redrock-3-80665-exp00072537.fits does not exist\n",
      "  /global/cfs/cdirs/desi/spectro/redux/everest/tiles/cumulative/80656/20210202/redrock-3-80656-thru20210202.fits does not exist\n",
      "  /global/cfs/cdirs/desi/spectro/redux/everest/tiles/perexp/80656/00074322/redrock-3-80656-exp00074322.fits does not exist\n",
      "  /global/cfs/cdirs/desi/spectro/redux/everest/tiles/cumulative/80646/20210205/redrock-3-80646-thru20210205.fits does not exist\n",
      "  /global/cfs/cdirs/desi/spectro/redux/everest/tiles/perexp/80646/00074796/redrock-3-80646-exp00074796.fits does not exist\n",
      "  /global/cfs/cdirs/desi/spectro/redux/everest/tiles/cumulative/80645/20210205/redrock-3-80645-thru20210205.fits does not exist\n",
      "  /global/cfs/cdirs/desi/spectro/redux/everest/tiles/perexp/80645/00074797/redrock-3-80645-exp00074797.fits does not exist\n",
      "  /global/cfs/cdirs/desi/spectro/redux/everest/tiles/cumulative/80648/20210205/redrock-3-80648-thru20210205.fits does not exist\n",
      "  /global/cfs/cdirs/desi/spectro/redux/everest/tiles/perexp/80648/00074799/redrock-3-80648-exp00074799.fits does not exist\n",
      "  /global/cfs/cdirs/desi/spectro/redux/everest/tiles/perexp/80651/00074809/redrock-3-80651-exp00074809.fits does not exist\n",
      "  /global/cfs/cdirs/desi/spectro/redux/everest/tiles/perexp/80655/00074815/redrock-3-80655-exp00074815.fits does not exist\n",
      "  /global/cfs/cdirs/desi/spectro/redux/everest/tiles/cumulative/80741/20210306/redrock-6-80741-thru20210306.fits does not exist\n",
      "  /global/cfs/cdirs/desi/spectro/redux/everest/tiles/perexp/80741/00079554/redrock-6-80741-exp00079554.fits does not exist\n",
      "  /global/cfs/cdirs/desi/spectro/redux/everest/tiles/perexp/80614/00082832/redrock-1-80614-exp00082832.fits does not exist\n",
      "  /global/cfs/cdirs/desi/spectro/redux/everest/tiles/perexp/80614/00082832/redrock-6-80614-exp00082832.fits does not exist\n",
      "  /global/cfs/cdirs/desi/spectro/redux/everest/tiles/perexp/80652/00082839/redrock-1-80652-exp00082839.fits does not exist\n",
      "  /global/cfs/cdirs/desi/spectro/redux/everest/tiles/perexp/80652/00082839/redrock-6-80652-exp00082839.fits does not exist\n",
      "  /global/cfs/cdirs/desi/spectro/redux/everest/tiles/perexp/80666/00083168/redrock-0-80666-exp00083168.fits does not exist\n",
      "\n"
     ]
    }
   ],
   "source": [
    "near_nom = (sv1_exps['BGS_EFFTIME_BRIGHT'] > 160) & (sv1_exps['BGS_EFFTIME_BRIGHT'] < 200)\n",
    "print('%i SV1 exposures near nominal' % np.sum(near_nom))\n",
    "sv1_gals = compile_rr(sv1_exps[near_nom])"
   ]
  },
  {
   "cell_type": "code",
   "execution_count": 8,
   "id": "3d69232e-e36d-4978-8116-06e829a6adb0",
   "metadata": {
    "scrolled": true,
    "tags": []
   },
   "outputs": [
    {
     "name": "stdout",
     "output_type": "stream",
     "text": [
      "39 SV3 exposures near nominal\n"
     ]
    },
    {
     "data": {
      "application/vnd.jupyter.widget-view+json": {
       "model_id": "a50ddb79743e4a8abf8058f4533ee4c5",
       "version_major": 2,
       "version_minor": 0
      },
      "text/plain": [
       "HBox(children=(FloatProgress(value=0.0, max=39.0), HTML(value='')))"
      ]
     },
     "metadata": {},
     "output_type": "display_data"
    },
    {
     "name": "stdout",
     "output_type": "stream",
     "text": [
      "  /global/cfs/cdirs/desi/spectro/redux/everest/tiles/perexp/369/00085637/redrock-4-369-exp00085637.fits does not exist\n",
      "  /global/cfs/cdirs/desi/spectro/redux/everest/tiles/cumulative/399/20210508/redrock-0-399-thru20210508.fits does not exist\n",
      "  /global/cfs/cdirs/desi/spectro/redux/everest/tiles/perexp/399/00087718/redrock-0-399-exp00087718.fits does not exist\n",
      "\n"
     ]
    }
   ],
   "source": [
    "near_nom = (sv3_exps['BGS_EFFTIME_BRIGHT'] > 160) & (sv3_exps['BGS_EFFTIME_BRIGHT'] < 200)\n",
    "print('%i SV3 exposures near nominal' % np.sum(near_nom))\n",
    "sv3_gals = compile_rr(sv3_exps[near_nom])"
   ]
  },
  {
   "cell_type": "code",
   "execution_count": 9,
   "id": "6109a27c-fbc5-4340-b558-e42bd3242ecb",
   "metadata": {},
   "outputs": [
    {
     "name": "stdout",
     "output_type": "stream",
     "text": [
      "26 MAIN exposures near nominal\n"
     ]
    },
    {
     "data": {
      "application/vnd.jupyter.widget-view+json": {
       "model_id": "c14f7abca0d7477c90d44cd529d12bdd",
       "version_major": 2,
       "version_minor": 0
      },
      "text/plain": [
       "HBox(children=(FloatProgress(value=0.0, max=26.0), HTML(value='')))"
      ]
     },
     "metadata": {},
     "output_type": "display_data"
    },
    {
     "name": "stdout",
     "output_type": "stream",
     "text": [
      "  /global/cfs/cdirs/desi/spectro/redux/everest/tiles/cumulative/20654/20210514/redrock-1-20654-thru20210514.fits does not exist\n",
      "  /global/cfs/cdirs/desi/spectro/redux/everest/tiles/perexp/20654/00088360/redrock-1-20654-exp00088360.fits does not exist\n",
      "  /global/cfs/cdirs/desi/spectro/redux/everest/tiles/cumulative/20818/20210611/redrock-9-20818-thru20210611.fits does not exist\n",
      "  /global/cfs/cdirs/desi/spectro/redux/everest/tiles/perexp/20818/00093390/redrock-9-20818-exp00093390.fits does not exist\n",
      "  /global/cfs/cdirs/desi/spectro/redux/everest/tiles/cumulative/21102/20210612/redrock-9-21102-thru20210612.fits does not exist\n",
      "  /global/cfs/cdirs/desi/spectro/redux/everest/tiles/perexp/21102/00093468/redrock-9-21102-exp00093468.fits does not exist\n",
      "  /global/cfs/cdirs/desi/spectro/redux/everest/tiles/cumulative/20103/20210612/redrock-9-20103-thru20210612.fits does not exist\n",
      "  /global/cfs/cdirs/desi/spectro/redux/everest/tiles/perexp/20103/00093473/redrock-9-20103-exp00093473.fits does not exist\n",
      "  /global/cfs/cdirs/desi/spectro/redux/everest/tiles/cumulative/21193/20210621/redrock-5-21193-thru20210621.fits does not exist\n",
      "  /global/cfs/cdirs/desi/spectro/redux/everest/tiles/perexp/21193/00095497/redrock-5-21193-exp00095497.fits does not exist\n",
      "  /global/cfs/cdirs/desi/spectro/redux/everest/tiles/cumulative/20928/20210621/redrock-5-20928-thru20210621.fits does not exist\n",
      "  /global/cfs/cdirs/desi/spectro/redux/everest/tiles/perexp/20928/00095506/redrock-5-20928-exp00095506.fits does not exist\n",
      "\n"
     ]
    }
   ],
   "source": [
    "near_nom = (main_exps['BGS_EFFTIME_BRIGHT'] > 160) & (main_exps['BGS_EFFTIME_BRIGHT'] < 200)\n",
    "print('%i MAIN exposures near nominal' % np.sum(near_nom))\n",
    "main_gals = compile_rr(main_exps[near_nom])"
   ]
  },
  {
   "cell_type": "code",
   "execution_count": 10,
   "id": "934e22a6-d347-47d5-8c84-cbb304ef2f3c",
   "metadata": {},
   "outputs": [],
   "source": [
    "# save compiled zsuccess rates to file\n",
    "dat_dir = '/global/cscratch1/sd/chahah/bgs-cmxsv/sv-paper/'\n",
    "\n",
    "sv1_gals.write(os.path.join(dat_dir, 'sv1.bgs_exps.efftime160_200.zsuccess.fits'), overwrite=True)\n",
    "sv3_gals.write(os.path.join(dat_dir, 'sv3.bgs_exps.efftime160_200.zsuccess.fits'), overwrite=True)\n",
    "main_gals.write(os.path.join(dat_dir, 'main.bgs_exps.efftime160_200.zsuccess.fits'), overwrite=True)"
   ]
  },
  {
   "cell_type": "code",
   "execution_count": null,
   "id": "92cff02e-986a-4131-9685-12e35e6437b3",
   "metadata": {},
   "outputs": [],
   "source": []
  }
 ],
 "metadata": {
  "kernelspec": {
   "display_name": "DESI master",
   "language": "python",
   "name": "desi-master"
  },
  "language_info": {
   "codemirror_mode": {
    "name": "ipython",
    "version": 3
   },
   "file_extension": ".py",
   "mimetype": "text/x-python",
   "name": "python",
   "nbconvert_exporter": "python",
   "pygments_lexer": "ipython3",
   "version": "3.8.3"
  }
 },
 "nbformat": 4,
 "nbformat_minor": 5
}
