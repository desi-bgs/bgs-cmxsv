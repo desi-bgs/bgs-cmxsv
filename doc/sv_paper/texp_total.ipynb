{
 "cells": [
  {
   "cell_type": "code",
   "execution_count": 1,
   "id": "657d88c0-7ded-4705-92e6-952769ad01da",
   "metadata": {},
   "outputs": [],
   "source": [
    "import os\n",
    "import sv as SV\n",
    "import numpy as np \n",
    "import astropy.table as atable\n",
    "import astropy.io.fits as fits\n",
    "\n",
    "from tqdm.notebook import tqdm, trange"
   ]
  },
  {
   "cell_type": "code",
   "execution_count": 2,
   "id": "2ba479bc-094d-4d44-b445-3c9d085fb6dc",
   "metadata": {},
   "outputs": [],
   "source": [
    "# -- plotting -- \n",
    "import matplotlib as mpl\n",
    "import matplotlib.pyplot as plt\n",
    "#mpl.use('Agg')\n",
    "#mpl.rcParams['text.usetex'] = True\n",
    "mpl.rcParams['font.family'] = 'serif'\n",
    "mpl.rcParams['axes.linewidth'] = 1.5\n",
    "mpl.rcParams['axes.xmargin'] = 1\n",
    "mpl.rcParams['xtick.labelsize'] = 'x-large'\n",
    "mpl.rcParams['xtick.major.size'] = 5\n",
    "mpl.rcParams['xtick.major.width'] = 1.5\n",
    "mpl.rcParams['ytick.labelsize'] = 'x-large'\n",
    "mpl.rcParams['ytick.major.size'] = 5\n",
    "mpl.rcParams['ytick.major.width'] = 1.5\n",
    "mpl.rcParams['legend.frameon'] = False"
   ]
  },
  {
   "cell_type": "code",
   "execution_count": 3,
   "id": "847429b0-56a7-47d1-8207-cca993934f37",
   "metadata": {},
   "outputs": [],
   "source": [
    "fuji_exps = SV.info_exposures(release='fuji')\n",
    "guad_exps = SV.info_exposures(release='guadalupe') "
   ]
  },
  {
   "cell_type": "code",
   "execution_count": 4,
   "id": "bd5abc8a-13dd-4533-8357-c8d1db00d381",
   "metadata": {},
   "outputs": [
    {
     "name": "stdout",
     "output_type": "stream",
     "text": [
      "897 exposures in BRIGHT\n",
      "562 SV1 BRIGHT exposure\n",
      "288 SV3 BRIGHT exposure\n",
      "377 MAIN BRIGHT exposure\n"
     ]
    }
   ],
   "source": [
    "in_bright = (fuji_exps['FAPRGRM'] == 'bgsmws') | (fuji_exps['FAPRGRM'] == 'bright')\n",
    "print(\"%i exposures in BRIGHT\" % np.sum(in_bright))\n",
    "\n",
    "sv1_exps = fuji_exps[(fuji_exps['SURVEY'] == 'sv1') & in_bright]\n",
    "sv3_exps = fuji_exps[(fuji_exps['SURVEY'] == 'sv3') & in_bright]\n",
    "\n",
    "print('%i SV1 BRIGHT exposure' % len(sv1_exps))\n",
    "print('%i SV3 BRIGHT exposure' % len(sv3_exps))\n",
    "\n",
    "in_bright = (guad_exps['FAPRGRM'] == 'bgsmws') | (guad_exps['FAPRGRM'] == 'bright')\n",
    "main_exps = guad_exps[(guad_exps['SURVEY'] == 'main') & in_bright]\n",
    "print('%i MAIN BRIGHT exposure' % len(main_exps))"
   ]
  },
  {
   "cell_type": "code",
   "execution_count": 5,
   "id": "5d55a17b-21aa-4f37-80f9-c91401c9ff7e",
   "metadata": {},
   "outputs": [
    {
     "name": "stdout",
     "output_type": "stream",
     "text": [
      "50 SV1 Tiles\n",
      "214 SV3 Tiles\n",
      "343 MAIN Tiles\n"
     ]
    }
   ],
   "source": [
    "print('%i SV1 Tiles' % len(np.unique(sv1_exps['TILEID'])))\n",
    "print('%i SV3 Tiles' % len(np.unique(sv3_exps['TILEID'])))\n",
    "print('%i MAIN Tiles' % len(np.unique(main_exps['TILEID'])))"
   ]
  },
  {
   "cell_type": "code",
   "execution_count": 8,
   "id": "358de013-8e51-4735-8ea9-bf1dcc563dbf",
   "metadata": {},
   "outputs": [
    {
     "data": {
      "text/html": [
       "<div><i>Table length=5</i>\n",
       "<table id=\"table23453718109824\" class=\"table-striped table-bordered table-condensed\">\n",
       "<thead><tr><th>NIGHT</th><th>EXPID</th><th>TILEID</th><th>TILERA</th><th>TILEDEC</th><th>MJD</th><th>SURVEY</th><th>PROGRAM</th><th>FAPRGRM</th><th>FAFLAVOR</th><th>EXPTIME</th><th>EFFTIME_SPEC</th><th>GOALTIME</th><th>GOALTYPE</th><th>MINTFRAC</th><th>AIRMASS</th><th>EBV</th><th>SEEING_ETC</th><th>EFFTIME_ETC</th><th>TSNR2_ELG</th><th>TSNR2_QSO</th><th>TSNR2_LRG</th><th>TSNR2_LYA</th><th>TSNR2_BGS</th><th>TSNR2_GPBDARK</th><th>TSNR2_GPBBRIGHT</th><th>TSNR2_GPBBACKUP</th><th>LRG_EFFTIME_DARK</th><th>ELG_EFFTIME_DARK</th><th>BGS_EFFTIME_BRIGHT</th><th>LYA_EFFTIME_DARK</th><th>GPB_EFFTIME_DARK</th><th>GPB_EFFTIME_BRIGHT</th><th>GPB_EFFTIME_BACKUP</th><th>TRANSPARENCY_GFA</th><th>SEEING_GFA</th><th>FIBER_FRACFLUX_GFA</th><th>FIBER_FRACFLUX_ELG_GFA</th><th>FIBER_FRACFLUX_BGS_GFA</th><th>FIBERFAC_GFA</th><th>FIBERFAC_ELG_GFA</th><th>FIBERFAC_BGS_GFA</th><th>AIRMASS_GFA</th><th>SKY_MAG_AB_GFA</th><th>SKY_MAG_G_SPEC</th><th>SKY_MAG_R_SPEC</th><th>SKY_MAG_Z_SPEC</th><th>EFFTIME_GFA</th><th>EFFTIME_DARK_GFA</th><th>EFFTIME_BRIGHT_GFA</th><th>EFFTIME_BACKUP_GFA</th></tr></thead>\n",
       "<thead><tr><th>int32</th><th>int32</th><th>int32</th><th>float64</th><th>float64</th><th>float64</th><th>bytes7</th><th>bytes6</th><th>bytes16</th><th>bytes19</th><th>float64</th><th>float64</th><th>float64</th><th>bytes6</th><th>float64</th><th>float32</th><th>float64</th><th>float64</th><th>float32</th><th>float32</th><th>float32</th><th>float32</th><th>float64</th><th>float32</th><th>float32</th><th>float32</th><th>float32</th><th>float32</th><th>float32</th><th>float32</th><th>float64</th><th>float32</th><th>float32</th><th>float32</th><th>float64</th><th>float64</th><th>float64</th><th>float64</th><th>float64</th><th>float64</th><th>float64</th><th>float64</th><th>float64</th><th>float64</th><th>float64</th><th>float64</th><th>float64</th><th>float64</th><th>float64</th><th>float64</th><th>float64</th></tr></thead>\n",
       "<tr><td>20210405</td><td>83522</td><td>12</td><td>150.04</td><td>2.286</td><td>59310.11613139</td><td>sv3</td><td>bright</td><td>bright</td><td>sv3bright</td><td>1087.2236328125</td><td>1.9236856698989868</td><td>220.0</td><td>bright</td><td>0.9</td><td>1.268318</td><td>0.020766111090779305</td><td>1.2415820360183716</td><td>1.970515</td><td>0.21425875</td><td>0.052984197</td><td>0.14324081</td><td>0.20928036354921964</td><td>13.740612</td><td>19.383429</td><td>3.9631586</td><td>36.20106</td><td>1.7658519</td><td>1.8426253</td><td>1.9236857</td><td>2.394116719537762</td><td>1.6779697</td><td>2.0815804</td><td>2.6531513</td><td>0.0740698694393078</td><td>1.2750868969641278</td><td>0.46926167510731964</td><td>0.35087031639049493</td><td>0.16444694231100038</td><td>0.0583045357430305</td><td>0.05969941794132611</td><td>0.060956749956209914</td><td>1.2476632901391898</td><td>20.185822131786963</td><td>20.86530546618676</td><td>20.25428965620122</td><td>19.240197256499567</td><td>1.8870579585438345</td><td>1.7923976815759473</td><td>1.8870579585438345</td><td>1.7895321787468264</td></tr>\n",
       "<tr><td>20210405</td><td>83526</td><td>39</td><td>179.599</td><td>0.12</td><td>59310.15691424</td><td>sv3</td><td>bright</td><td>bright</td><td>sv3bright</td><td>491.12127685546875</td><td>209.63267517089844</td><td>220.0</td><td>bright</td><td>0.9</td><td>1.535416</td><td>0.02397846430540085</td><td>1.4460439682006836</td><td>223.95001</td><td>23.476738</td><td>5.7870016</td><td>16.166882</td><td>14.021407958539204</td><td>1497.3762</td><td>2246.3516</td><td>424.69586</td><td>2974.7344</td><td>199.30296</td><td>201.89995</td><td>209.63268</td><td>160.4015142925898</td><td>194.46043</td><td>223.06415</td><td>218.01627</td><td>1.1160679283394475</td><td>1.3307057969974616</td><td>0.4410218325803964</td><td>0.33404195564548156</td><td>0.15775461328498286</td><td>0.8216242344281088</td><td>0.8451683334320832</td><td>0.8623143683992909</td><td>1.515339026465338</td><td>20.857570201417026</td><td>21.91405137246808</td><td>20.991255457249398</td><td>19.173973011449906</td><td>245.7957933850711</td><td>224.71317050550545</td><td>245.7957933850711</td><td>242.64191172605027</td></tr>\n",
       "<tr><td>20210405</td><td>83527</td><td>66</td><td>183.106</td><td>0.12</td><td>59310.16505076</td><td>sv3</td><td>bright</td><td>bright</td><td>sv3bright</td><td>572.2549438476562</td><td>178.224853515625</td><td>220.0</td><td>bright</td><td>0.9</td><td>1.548655</td><td>0.021806303411722183</td><td>1.5604569911956787</td><td>219.89665</td><td>19.969273</td><td>4.9097342</td><td>13.732455</td><td>11.623024940793403</td><td>1273.0347</td><td>1892.1643</td><td>361.20374</td><td>2612.558</td><td>169.2917</td><td>171.73575</td><td>178.22485</td><td>132.96459290512186</td><td>163.79942</td><td>189.716</td><td>191.47261</td><td>1.0604372209586597</td><td>1.483372166801359</td><td>0.3927273914264954</td><td>0.3025210488076052</td><td>0.14434937212353102</td><td>0.6600202346705586</td><td>0.702521104085551</td><td>0.7302867862606071</td><td>1.5235964979314538</td><td>20.869874103784944</td><td>21.892886892193975</td><td>21.005445864911803</td><td>19.253570886109244</td><td>215.2816703680001</td><td>192.43258885844494</td><td>215.2816703680001</td><td>186.92682957586328</td></tr>\n",
       "<tr><td>20210405</td><td>83528</td><td>93</td><td>189.944</td><td>61.918</td><td>59310.17592541</td><td>sv3</td><td>bright</td><td>bright</td><td>sv3bright</td><td>1080.5513916015625</td><td>4.606791019439697</td><td>220.0</td><td>bright</td><td>0.9</td><td>1.321006</td><td>0.01267525739967823</td><td>1.451725959777832</td><td>4.13118</td><td>0.5207639</td><td>0.13072187</td><td>0.35235283</td><td>0.6544991861330345</td><td>32.90565</td><td>43.167572</td><td>8.82522</td><td>80.31184</td><td>4.3437543</td><td>4.4785695</td><td>4.606791</td><td>7.487312320519898</td><td>3.7368972</td><td>4.635294</td><td>5.8859997</td><td>0.08465602356496543</td><td>1.0392766798987463</td><td>0.5742542783883974</td><td>0.41256853862696674</td><td>0.1891300085130472</td><td>0.07350076065776642</td><td>0.07297673241037726</td><td>0.07309977677187253</td><td>1.3038368969004397</td><td>20.129518417713655</td><td>21.40921829385272</td><td>20.193538659142266</td><td>19.320407722966404</td><td>2.627612247108394</td><td>2.5832393510232206</td><td>2.627612247108394</td><td>2.8001584024790733</td></tr>\n",
       "<tr><td>20210405</td><td>83530</td><td>120</td><td>194.785</td><td>28.316</td><td>59310.19705733</td><td>sv3</td><td>bright</td><td>bright</td><td>sv3bright</td><td>881.7928466796875</td><td>90.08229064941406</td><td>220.0</td><td>bright</td><td>0.9</td><td>1.223642</td><td>0.009807771071791649</td><td>1.451725959777832</td><td>82.99777</td><td>9.926826</td><td>2.509219</td><td>6.8805513</td><td>9.782346585858614</td><td>643.44495</td><td>929.238</td><td>184.0575</td><td>1473.6178</td><td>84.82243</td><td>85.370705</td><td>90.08229</td><td>111.90767791269244</td><td>80.44156</td><td>96.67301</td><td>108.00044</td><td>0.4326317754829042</td><td>1.2216886817615804</td><td>0.4990762169590266</td><td>0.36959028969497854</td><td>0.17236335911714656</td><td>0.34976813685707864</td><td>0.35472581761312827</td><td>0.35983602876657683</td><td>1.2019296917032565</td><td>20.650148938302763</td><td>21.786205375230768</td><td>20.709070081093802</td><td>19.337809709505652</td><td>80.41819545589857</td><td>75.80066199147737</td><td>80.41819545589857</td><td>82.13078690043339</td></tr>\n",
       "</table></div>"
      ],
      "text/plain": [
       "<Table length=5>\n",
       " NIGHT   EXPID TILEID ... EFFTIME_BRIGHT_GFA EFFTIME_BACKUP_GFA\n",
       " int32   int32 int32  ...      float64            float64      \n",
       "-------- ----- ------ ... ------------------ ------------------\n",
       "20210405 83522     12 ... 1.8870579585438345 1.7895321787468264\n",
       "20210405 83526     39 ...  245.7957933850711 242.64191172605027\n",
       "20210405 83527     66 ...  215.2816703680001 186.92682957586328\n",
       "20210405 83528     93 ...  2.627612247108394 2.8001584024790733\n",
       "20210405 83530    120 ...  80.41819545589857  82.13078690043339"
      ]
     },
     "execution_count": 8,
     "metadata": {},
     "output_type": "execute_result"
    }
   ],
   "source": [
    "sv3_exps[:5]"
   ]
  },
  {
   "cell_type": "code",
   "execution_count": 33,
   "id": "aab85ede-7a8e-4297-afb1-ed833a7f58c7",
   "metadata": {},
   "outputs": [],
   "source": [
    "sv1_texp = [] \n",
    "for tid in np.unique(sv1_exps['TILEID']): \n",
    "    is_tile = (sv1_exps['TILEID'] == tid)\n",
    "    sv1_texp.append(np.sum(sv1_exps['EXPTIME'][is_tile]))\n",
    "\n",
    "sv3_texp = [] \n",
    "for tid in np.unique(sv3_exps['TILEID']): \n",
    "    is_tile = (sv3_exps['TILEID'] == tid)\n",
    "    sv3_texp.append(np.sum(sv3_exps['EXPTIME'][is_tile]))\n",
    "    \n",
    "main_texp = [] \n",
    "for tid in np.unique(main_exps['TILEID']): \n",
    "    is_tile = (main_exps['TILEID'] == tid)\n",
    "    main_texp.append(np.sum(main_exps['EXPTIME'][is_tile]))"
   ]
  },
  {
   "cell_type": "code",
   "execution_count": 34,
   "id": "8c28e5c6-18a5-4ce4-8265-ef9c80330488",
   "metadata": {},
   "outputs": [
    {
     "data": {
      "text/plain": [
       "(600.1322021484375, 4583.65690612793, 10974.983947753906)"
      ]
     },
     "execution_count": 34,
     "metadata": {},
     "output_type": "execute_result"
    }
   ],
   "source": [
    "np.min(sv1_texp), np.median(sv1_texp), np.max(sv1_texp)"
   ]
  },
  {
   "cell_type": "code",
   "execution_count": 23,
   "id": "fe59d31e-9352-44f2-84b4-d0ca68e52e94",
   "metadata": {},
   "outputs": [
    {
     "data": {
      "text/plain": [
       "(223.22889709472656, 482.66772079467773, 2670.794536590576)"
      ]
     },
     "execution_count": 23,
     "metadata": {},
     "output_type": "execute_result"
    }
   ],
   "source": [
    "np.min(sv3_texp), np.median(sv3_texp), np.max(sv3_texp)"
   ]
  },
  {
   "cell_type": "code",
   "execution_count": 35,
   "id": "b52aaddb-b41a-4e0e-90b2-53d92f4c4ac5",
   "metadata": {},
   "outputs": [
    {
     "data": {
      "text/plain": [
       "(285.5779724121094, 748.9714965820312, 2733.478759765625)"
      ]
     },
     "execution_count": 35,
     "metadata": {},
     "output_type": "execute_result"
    }
   ],
   "source": [
    "np.min(main_texp), np.median(main_texp), np.max(main_texp)"
   ]
  },
  {
   "cell_type": "code",
   "execution_count": 32,
   "id": "d3719b15-e590-466e-ab63-153643d03ad1",
   "metadata": {},
   "outputs": [
    {
     "data": {
      "text/plain": [
       "0.8364485981308412"
      ]
     },
     "execution_count": 32,
     "metadata": {},
     "output_type": "execute_result"
    }
   ],
   "source": [
    "np.mean(np.array(sv3_texp) < 1000)"
   ]
  },
  {
   "cell_type": "code",
   "execution_count": 36,
   "id": "6d4dcd99-3382-47cd-9659-aa04895d6791",
   "metadata": {},
   "outputs": [
    {
     "name": "stderr",
     "output_type": "stream",
     "text": [
      "No artists with labels found to put in legend.  Note that artists whose label start with an underscore are ignored when legend() is called with no argument.\n"
     ]
    },
    {
     "data": {
      "image/png": "[encoded data removed]",
      "text/plain": [
       "<Figure size 576x432 with 1 Axes>"
      ]
     },
     "metadata": {
      "needs_background": "light"
     },
     "output_type": "display_data"
    }
   ],
   "source": [
    "fig = plt.figure(figsize=(8,6))\n",
    "sub = fig.add_subplot(111)\n",
    "_ = sub.hist(np.array(sv1_texp).flatten(), range=(0, 3000), bins=60, histtype='step')\n",
    "_ = sub.hist(np.array(sv3_texp).flatten(), range=(0, 3000), bins=60, histtype='step')\n",
    "_ = sub.hist(np.array(main_texp).flatten(), range=(0, 3000), bins=60, histtype='step')\n",
    "#sub.axvline(180, color='k', linestyle='--')\n",
    "#sub.text(185, 80, r'$t_{\\rm nom}= 180s$', fontsize=20)\n",
    "\n",
    "sub.legend(loc='upper right', fontsize=20, handletextpad=0.2)\n",
    "sub.set_xlabel(r'Total Exposure Time', fontsize=25)\n",
    "sub.set_xlim(0., 3000)\n",
    "sub.set_ylabel(r'$N_{\\rm exp}$', fontsize=25)\n",
    "plt.show()"
   ]
  },
  {
   "cell_type": "code",
   "execution_count": null,
   "id": "90a08201-a86e-4014-a74d-c0fd906f024f",
   "metadata": {},
   "outputs": [],
   "source": []
  }
 ],
 "metadata": {
  "kernelspec": {
   "display_name": "DESI master",
   "language": "python",
   "name": "desi-master"
  },
  "language_info": {
   "codemirror_mode": {
    "name": "ipython",
    "version": 3
   },
   "file_extension": ".py",
   "mimetype": "text/x-python",
   "name": "python",
   "nbconvert_exporter": "python",
   "pygments_lexer": "ipython3",
   "version": "3.9.7"
  }
 },
 "nbformat": 4,
 "nbformat_minor": 5
}
