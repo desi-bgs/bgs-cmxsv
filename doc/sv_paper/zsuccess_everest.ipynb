{
 "cells": [
  {
   "cell_type": "code",
   "execution_count": 1,
   "id": "08c86a8f-0ec7-4c82-9950-d7dac0062701",
   "metadata": {},
   "outputs": [
    {
     "name": "stderr",
     "output_type": "stream",
     "text": [
      "WARNING: leap-second auto-update failed due to the following exception: RuntimeError('Cache is locked after 5.03 s. This may indicate an astropy bug or that kill -9 was used. If you want to unlock the cache remove the directory /global/homes/m/mjwilson/.astropy/cache/download/py3/lock. Lock claims to be held by process .') [astropy.time.core]\n"
     ]
    }
   ],
   "source": [
    "import os\n",
    "import sv as SV\n",
    "import numpy as np\n",
    "import pylab as pl\n",
    "import astropy.table as atable\n",
    "from tqdm.notebook import tqdm, trange\n",
    "\n",
    "from desiutil.dust import mwdust_transmission, ext_odonnell\n",
    "from desitarget.sv1.sv1_targetmask import bgs_mask as sv1_bgs_mask\n",
    "from desitarget.sv3.sv3_targetmask import bgs_mask as sv3_bgs_mask\n",
    "from desispec.tsnr import tsnr2_to_efftime"
   ]
  },
  {
   "cell_type": "code",
   "execution_count": 2,
   "id": "c5d9f6c0-c338-48d4-90b7-79f446b7a978",
   "metadata": {},
   "outputs": [],
   "source": [
    "# -- plotting -- \n",
    "import matplotlib as mpl\n",
    "import matplotlib.pyplot as plt\n",
    "mpl.rcParams['text.usetex'] = True\n",
    "mpl.rcParams['font.family'] = 'serif'\n",
    "mpl.rcParams['axes.linewidth'] = 1.5\n",
    "mpl.rcParams['axes.xmargin'] = 1\n",
    "mpl.rcParams['xtick.labelsize'] = 'x-large'\n",
    "mpl.rcParams['xtick.major.size'] = 5\n",
    "mpl.rcParams['xtick.major.width'] = 1.5\n",
    "mpl.rcParams['ytick.labelsize'] = 'x-large'\n",
    "mpl.rcParams['ytick.major.size'] = 5\n",
    "mpl.rcParams['ytick.major.width'] = 1.5\n",
    "mpl.rcParams['legend.frameon'] = False"
   ]
  },
  {
   "cell_type": "code",
   "execution_count": 3,
   "id": "20687e0b-5792-47f6-82da-34e5cb54ab79",
   "metadata": {},
   "outputs": [],
   "source": [
    "# load compiled zsuccess rates to file\n",
    "#dat_dir = '/global/cscratch1/sd/chahah/bgs-cmxsv/sv-paper/'\n",
    "dat_dir = '/global/cscratch1/sd/mjwilson/desi/BGS/bgs-cmxsv/'\n",
    "\n",
    "sv1_gals = atable.Table.read(os.path.join(dat_dir, 'sv1.bgs_exps.efftime160_200.zsuccess.v3.fits'))\n",
    "sv3_gals = atable.Table.read(os.path.join(dat_dir, 'sv3.bgs_exps.efftime160_200.zsuccess.v3.fits'))\n",
    "main_gals = atable.Table.read(os.path.join(dat_dir, 'main.bgs_exps.efftime160_200.zsuccess.v3.fits'))"
   ]
  },
  {
   "cell_type": "code",
   "execution_count": 4,
   "id": "b7ac512a-807a-4fae-856f-76b256f0fe29",
   "metadata": {},
   "outputs": [
    {
     "data": {
      "text/plain": [
       "(0.0, 20.0)"
      ]
     },
     "execution_count": 4,
     "metadata": {},
     "output_type": "execute_result"
    },
    {
     "data": {
      "image/png": "[encoded data removed]",
      "text/plain": [
       "<Figure size 576x432 with 1 Axes>"
      ]
     },
     "metadata": {
      "needs_background": "light"
     },
     "output_type": "display_data"
    }
   ],
   "source": [
    "fig = plt.figure(figsize=(8,6))\n",
    "sub = fig.add_subplot(111)\n",
    "\n",
    "_ = sub.hist(sv1_gals['DEEP_NUMEXP'], range=(0., 20), bins=20, label='SV1', histtype='step')\n",
    "_ = sub.hist(sv3_gals['DEEP_NUMEXP'], range=(0., 20), bins=20, alpha=0.5, label='SV3', histtype='step')\n",
    "_ = sub.hist(main_gals['DEEP_NUMEXP'], range=(0., 20), bins=20, alpha=0.5, label='Main', histtype='step')\n",
    "\n",
    "sub.legend(loc='upper right', handletextpad=0.1, fontsize=20)\n",
    "\n",
    "sub.set_xlabel('number of exposures', fontsize=25)\n",
    "\n",
    "sub.set_xlim(0., 20)"
   ]
  },
  {
   "cell_type": "markdown",
   "id": "c3715136",
   "metadata": {},
   "source": [
    "## Calculate MW transmission"
   ]
  },
  {
   "cell_type": "code",
   "execution_count": 5,
   "id": "165bb730",
   "metadata": {},
   "outputs": [],
   "source": [
    "sv1_gals = sv1_gals[(sv1_gals['PHOTSYS'] != '') & (sv1_gals['PHOTSYS'] != 'G')]\n",
    "sv3_gals = sv3_gals[ sv3_gals['PHOTSYS'] != '']"
   ]
  },
  {
   "cell_type": "code",
   "execution_count": 6,
   "id": "2feba80b",
   "metadata": {},
   "outputs": [],
   "source": [
    "from speclite import filters\n",
    "\n",
    "decamwise    = filters.load_filters('decam2014-g', 'decam2014-r','decam2014-z', 'wise2010-W1', 'wise2010-W2')\n",
    "bassmzlswise = filters.load_filters('BASS-g', 'BASS-r', 'MzLS-z','wise2010-W1', 'wise2010-W2')"
   ]
  },
  {
   "cell_type": "code",
   "execution_count": 7,
   "id": "76f8ab05-dd1b-4388-9c3b-5027a3ae7122",
   "metadata": {},
   "outputs": [
    {
     "data": {
      "text/plain": [
       "array([ 4815.95363513,  6437.79282937,  9229.65786449, 34002.54044482,\n",
       "       46520.07577119])"
      ]
     },
     "execution_count": 7,
     "metadata": {},
     "output_type": "execute_result"
    }
   ],
   "source": [
    "bassmzlswise.effective_wavelengths.value"
   ]
  },
  {
   "cell_type": "code",
   "execution_count": 8,
   "id": "035e72d1-a40b-4426-aade-15ef4f8e9e5a",
   "metadata": {},
   "outputs": [
    {
     "data": {
      "text/plain": [
       "array([ 4890.03670428,  6469.62203811,  9196.46396394, 34002.54044482,\n",
       "       46520.07577119])"
      ]
     },
     "execution_count": 8,
     "metadata": {},
     "output_type": "execute_result"
    }
   ],
   "source": [
    "decamwise.effective_wavelengths.value"
   ]
  },
  {
   "cell_type": "code",
   "execution_count": 9,
   "id": "b130b511",
   "metadata": {},
   "outputs": [],
   "source": [
    "RV = 3.1"
   ]
  },
  {
   "cell_type": "code",
   "execution_count": 10,
   "id": "5488771a",
   "metadata": {},
   "outputs": [],
   "source": [
    "_sv1_mw_trans = np.array([     10**(-0.4 * sv1_gals['EBV'][i] * RV * ext_odonnell(bassmzlswise.effective_wavelengths.value, Rv=RV)) if sv1_gals['PHOTSYS'][i] == 'N'\n",
    "                         else 10**(-0.4 * sv1_gals['EBV'][i] * RV * ext_odonnell(   decamwise.effective_wavelengths.value, Rv=RV)) for i in range(len(sv1_gals['EBV']))])"
   ]
  },
  {
   "cell_type": "code",
   "execution_count": 11,
   "id": "8b5d9654-c783-432f-b1cb-a7ea09310468",
   "metadata": {},
   "outputs": [
    {
     "data": {
      "text/plain": [
       "array([3.70725607, 2.57175885, 1.42493233, 0.17458614, 0.10540034])"
      ]
     },
     "execution_count": 11,
     "metadata": {},
     "output_type": "execute_result"
    }
   ],
   "source": [
    "RV * ext_odonnell(bassmzlswise.effective_wavelengths.value, Rv=RV)"
   ]
  },
  {
   "cell_type": "code",
   "execution_count": 12,
   "id": "7302dd15-2264-45d0-a6dc-1cf3f24adc69",
   "metadata": {},
   "outputs": [
    {
     "data": {
      "text/plain": [
       "array([3.63476336, 2.55808601, 1.43322196, 0.17458614, 0.10540034])"
      ]
     },
     "execution_count": 12,
     "metadata": {},
     "output_type": "execute_result"
    }
   ],
   "source": [
    "RV * ext_odonnell(decamwise.effective_wavelengths.value, Rv=RV)"
   ]
  },
  {
   "cell_type": "code",
   "execution_count": 13,
   "id": "1ea4ebb7-53c0-4f77-a995-8f44275f61c5",
   "metadata": {},
   "outputs": [
    {
     "data": {
      "text/plain": [
       "array(['N', 'S'], dtype='<U1')"
      ]
     },
     "execution_count": 13,
     "metadata": {},
     "output_type": "execute_result"
    }
   ],
   "source": [
    "np.unique(sv1_gals['PHOTSYS'].data.astype(np.str))"
   ]
  },
  {
   "cell_type": "code",
   "execution_count": 14,
   "id": "7d4eff03-082f-45e1-86b7-d76073ad0458",
   "metadata": {},
   "outputs": [
    {
     "data": {
      "text/plain": [
       "\u001b[0;31mSignature:\u001b[0m \u001b[0mmwdust_transmission\u001b[0m\u001b[0;34m(\u001b[0m\u001b[0mebv\u001b[0m\u001b[0;34m,\u001b[0m \u001b[0mband\u001b[0m\u001b[0;34m,\u001b[0m \u001b[0mphotsys\u001b[0m\u001b[0;34m,\u001b[0m \u001b[0mmatch_legacy_surveys\u001b[0m\u001b[0;34m=\u001b[0m\u001b[0;32mFalse\u001b[0m\u001b[0;34m)\u001b[0m\u001b[0;34m\u001b[0m\u001b[0;34m\u001b[0m\u001b[0m\n",
       "\u001b[0;31mDocstring:\u001b[0m\n",
       "Convert SFD E(B-V) value to dust transmission 0-1 for band and photsys\n",
       "\n",
       "Args:\n",
       "    ebv (float or array-like): SFD E(B-V) value(s)\n",
       "    band (str): 'G', 'R', or 'Z'\n",
       "    photsys (str or array of str): 'N' or 'S' imaging surveys photo system\n",
       "\n",
       "Returns:\n",
       "    scalar or array (same as ebv input), Milky Way dust transmission 0-1\n",
       "\n",
       "If `photsys` is an array, `ebv` must also be array of same length.\n",
       "However, `ebv` can be an array with a str `photsys`.\n",
       "\n",
       "Also see `dust_transmission` which returns transmission vs input wavelength\n",
       "\u001b[0;31mFile:\u001b[0m      /global/common/software/desi/cori/desiconda/20200801-1.4.0-spec/code/desiutil/3.2.2/lib/python3.8/site-packages/desiutil/dust.py\n",
       "\u001b[0;31mType:\u001b[0m      function\n"
      ]
     },
     "metadata": {},
     "output_type": "display_data"
    }
   ],
   "source": [
    "mwdust_transmission?"
   ]
  },
  {
   "cell_type": "code",
   "execution_count": 15,
   "id": "1778bb89-df9f-477c-9607-6b67075c262d",
   "metadata": {},
   "outputs": [
    {
     "data": {
      "text/plain": [
       "(126027, 3)"
      ]
     },
     "execution_count": 15,
     "metadata": {},
     "output_type": "execute_result"
    }
   ],
   "source": [
    "sv1_mw_trans = [mwdust_transmission(sv1_gals['EBV'].data, band, sv1_gals['PHOTSYS'].data.astype(str), match_legacy_surveys=False) for band in ['g', 'r', 'z']]\n",
    "sv1_mw_trans = np.vstack(sv1_mw_trans).T\n",
    "sv1_mw_trans.shape"
   ]
  },
  {
   "cell_type": "code",
   "execution_count": 16,
   "id": "753488a8-bd32-4850-a81f-e236a71a2085",
   "metadata": {},
   "outputs": [
    {
     "data": {
      "text/plain": [
       "((126027, 5), (126027, 3))"
      ]
     },
     "execution_count": 16,
     "metadata": {},
     "output_type": "execute_result"
    }
   ],
   "source": [
    "# ngal x n band. \n",
    "_sv1_mw_trans.shape, sv1_mw_trans.shape"
   ]
  },
  {
   "cell_type": "code",
   "execution_count": 17,
   "id": "141cc273-6ce5-4903-afe2-e4c1160cbce8",
   "metadata": {},
   "outputs": [
    {
     "data": {
      "text/plain": [
       "(0.25, 1.1)"
      ]
     },
     "execution_count": 17,
     "metadata": {},
     "output_type": "execute_result"
    },
    {
     "data": {
      "image/png": "[encoded data removed]",
      "text/plain": [
       "<Figure size 432x288 with 1 Axes>"
      ]
     },
     "metadata": {
      "needs_background": "light"
     },
     "output_type": "display_data"
    }
   ],
   "source": [
    "xs = np.arange(0.0, 1.5, 0.01)\n",
    "\n",
    "pl.plot(xs, xs, marker=',', lw=0.0, label='y=x')\n",
    "pl.plot(sv1_mw_trans[:,0], _sv1_mw_trans[:,0], marker=',', lw=0.0)\n",
    "\n",
    "pl.xlim(0.25, 1.0)\n",
    "pl.ylim(0.25, 1.1)"
   ]
  },
  {
   "cell_type": "code",
   "execution_count": 18,
   "id": "60317f44",
   "metadata": {},
   "outputs": [],
   "source": [
    "_sv3_mw_trans = np.array([10**(-0.4 * sv3_gals['EBV'][i] * RV * ext_odonnell(bassmzlswise.effective_wavelengths.value, Rv=RV)) if sv3_gals['PHOTSYS'][i] == 'N'\n",
    "                         else 10**(-0.4 * sv3_gals['EBV'][i] * RV * ext_odonnell(decamwise.effective_wavelengths.value, Rv=RV)) for i in range(len(sv3_gals['EBV']))])"
   ]
  },
  {
   "cell_type": "code",
   "execution_count": 19,
   "id": "50e3fa66-3313-404e-b5eb-f40821527875",
   "metadata": {},
   "outputs": [
    {
     "data": {
      "text/plain": [
       "(204709, 3)"
      ]
     },
     "execution_count": 19,
     "metadata": {},
     "output_type": "execute_result"
    }
   ],
   "source": [
    "sv3_mw_trans = [mwdust_transmission(sv3_gals['EBV'].data, band, sv3_gals['PHOTSYS'].data.astype(str), match_legacy_surveys=False) for band in ['g', 'r', 'z']]\n",
    "sv3_mw_trans = np.vstack(sv3_mw_trans).T\n",
    "sv3_mw_trans.shape"
   ]
  },
  {
   "cell_type": "code",
   "execution_count": 20,
   "id": "3c4a8930-6d4c-4c77-a1a3-cb334aee844a",
   "metadata": {},
   "outputs": [
    {
     "data": {
      "text/plain": [
       "(204709,)"
      ]
     },
     "execution_count": 20,
     "metadata": {},
     "output_type": "execute_result"
    }
   ],
   "source": [
    "sv3_gals['EBV'].data.shape"
   ]
  },
  {
   "cell_type": "code",
   "execution_count": 21,
   "id": "0f37bc3b-77d2-49f7-a21f-d0d595ad24a1",
   "metadata": {},
   "outputs": [
    {
     "name": "stdout",
     "output_type": "stream",
     "text": [
      "INFO:tsnr.py:444:get_ensemble: for /global/common/software/desi/cori/desiconda/20200801-1.4.0-spec/code/desimodel/0.16.0/data/tsnr/tsnr-ensemble-gpbdark.fits apply scale factor = 1.000\n",
      "INFO:tsnr.py:444:get_ensemble: for /global/common/software/desi/cori/desiconda/20200801-1.4.0-spec/code/desimodel/0.16.0/data/tsnr/tsnr-ensemble-elg.fits apply scale factor = 1.261\n",
      "INFO:tsnr.py:444:get_ensemble: for /global/common/software/desi/cori/desiconda/20200801-1.4.0-spec/code/desimodel/0.16.0/data/tsnr/tsnr-ensemble-gpbbright.fits apply scale factor = 1.000\n",
      "INFO:tsnr.py:444:get_ensemble: for /global/common/software/desi/cori/desiconda/20200801-1.4.0-spec/code/desimodel/0.16.0/data/tsnr/tsnr-ensemble-lya.fits apply scale factor = 0.998\n",
      "INFO:tsnr.py:444:get_ensemble: for /global/common/software/desi/cori/desiconda/20200801-1.4.0-spec/code/desimodel/0.16.0/data/tsnr/tsnr-ensemble-bgs.fits apply scale factor = 2.652\n",
      "INFO:tsnr.py:444:get_ensemble: for /global/common/software/desi/cori/desiconda/20200801-1.4.0-spec/code/desimodel/0.16.0/data/tsnr/tsnr-ensemble-gpbbackup.fits apply scale factor = 1.000\n",
      "INFO:tsnr.py:444:get_ensemble: for /global/common/software/desi/cori/desiconda/20200801-1.4.0-spec/code/desimodel/0.16.0/data/tsnr/tsnr-ensemble-qso.fits apply scale factor = 1.050\n",
      "INFO:tsnr.py:444:get_ensemble: for /global/common/software/desi/cori/desiconda/20200801-1.4.0-spec/code/desimodel/0.16.0/data/tsnr/tsnr-ensemble-lrg.fits apply scale factor = 2.392\n",
      "INFO:tsnr.py:464:get_ensemble: iotime 0.070 sec to read tsnr ensemble at 2021-09-21T09:28:45.501000\n",
      "INFO:tsnr.py:1160:tsnr2_to_efftime: for tracer bgs SNR2TIME=0.140000\n",
      "INFO:tsnr.py:444:get_ensemble: for /global/common/software/desi/cori/desiconda/20200801-1.4.0-spec/code/desimodel/0.16.0/data/tsnr/tsnr-ensemble-gpbdark.fits apply scale factor = 1.000\n",
      "INFO:tsnr.py:444:get_ensemble: for /global/common/software/desi/cori/desiconda/20200801-1.4.0-spec/code/desimodel/0.16.0/data/tsnr/tsnr-ensemble-elg.fits apply scale factor = 1.261\n",
      "INFO:tsnr.py:444:get_ensemble: for /global/common/software/desi/cori/desiconda/20200801-1.4.0-spec/code/desimodel/0.16.0/data/tsnr/tsnr-ensemble-gpbbright.fits apply scale factor = 1.000\n",
      "INFO:tsnr.py:444:get_ensemble: for /global/common/software/desi/cori/desiconda/20200801-1.4.0-spec/code/desimodel/0.16.0/data/tsnr/tsnr-ensemble-lya.fits apply scale factor = 0.998\n",
      "INFO:tsnr.py:444:get_ensemble: for /global/common/software/desi/cori/desiconda/20200801-1.4.0-spec/code/desimodel/0.16.0/data/tsnr/tsnr-ensemble-bgs.fits apply scale factor = 2.652\n",
      "INFO:tsnr.py:444:get_ensemble: for /global/common/software/desi/cori/desiconda/20200801-1.4.0-spec/code/desimodel/0.16.0/data/tsnr/tsnr-ensemble-gpbbackup.fits apply scale factor = 1.000\n",
      "INFO:tsnr.py:444:get_ensemble: for /global/common/software/desi/cori/desiconda/20200801-1.4.0-spec/code/desimodel/0.16.0/data/tsnr/tsnr-ensemble-qso.fits apply scale factor = 1.050\n",
      "INFO:tsnr.py:444:get_ensemble: for /global/common/software/desi/cori/desiconda/20200801-1.4.0-spec/code/desimodel/0.16.0/data/tsnr/tsnr-ensemble-lrg.fits apply scale factor = 2.392\n",
      "INFO:tsnr.py:464:get_ensemble: iotime 0.053 sec to read tsnr ensemble at 2021-09-21T09:28:45.555596\n",
      "INFO:tsnr.py:1160:tsnr2_to_efftime: for tracer bgs SNR2TIME=0.140000\n"
     ]
    },
    {
     "data": {
      "text/plain": [
       "(0.33901465558967525, 0.5944242803198687)"
      ]
     },
     "execution_count": 21,
     "metadata": {},
     "output_type": "execute_result"
    }
   ],
   "source": [
    "sv1_deep = (sv1_gals['DEEP_EXPTIME'] > 2000) & (tsnr2_to_efftime(sv1_gals['TSNR2_BGS'].data, 'bgs') > 180.)\n",
    "\n",
    "sv3_deep = (tsnr2_to_efftime(sv3_gals['TSNR2_BGS'].data, 'bgs') > 180.)\n",
    "\n",
    "# Bad idea: (sv3_gals['DEEP_NUMEXP'] > 2) - accidentally prefers those with repeated redshifts. \n",
    "\n",
    "np.mean(sv1_deep), np.mean(sv3_deep)"
   ]
  },
  {
   "cell_type": "code",
   "execution_count": 22,
   "id": "956d00b8-bd6c-4450-b405-a639ec891116",
   "metadata": {},
   "outputs": [
    {
     "name": "stdout",
     "output_type": "stream",
     "text": [
      "2\t48218\n",
      "90\t5\n",
      "82000\t132\n",
      "82100\t378\n",
      "92000\t424\n",
      "92100\t716\n",
      "101400\t10\n",
      "101500\t54\n",
      "102000\t27805\n",
      "102100\t43939\n",
      "102998\t3\n"
     ]
    }
   ],
   "source": [
    "ps, cs = np.unique(sv3_gals['PRIORITY'].data[sv3_deep], return_counts=True)\n",
    "\n",
    "for p, c in zip(ps, cs):\n",
    "    print('{:d}\\t{:d}'.format(p, c))"
   ]
  },
  {
   "cell_type": "code",
   "execution_count": 23,
   "id": "8a0b976d-486d-44dc-9207-66121972f055",
   "metadata": {},
   "outputs": [],
   "source": [
    "sv3_deep &= np.isin(sv3_gals['PRIORITY'].data, np.array([102100, 102000])) "
   ]
  },
  {
   "cell_type": "code",
   "execution_count": 24,
   "id": "8b11562e-94dc-474f-8ecd-9d57e06510bb",
   "metadata": {},
   "outputs": [
    {
     "name": "stdout",
     "output_type": "stream",
     "text": [
      "102000\t27805\n",
      "102100\t43939\n"
     ]
    }
   ],
   "source": [
    "ps, cs = np.unique(sv3_gals['PRIORITY'].data[sv3_deep], return_counts=True)\n",
    "\n",
    "for p, c in zip(ps, cs):\n",
    "    print('{:d}\\t{:d}'.format(p, c))"
   ]
  },
  {
   "cell_type": "code",
   "execution_count": 25,
   "id": "e18128ba-0b3c-4362-b1da-65da27d1d978",
   "metadata": {},
   "outputs": [],
   "source": [
    "sv1_gmag = 22.5 - 2.5 * np.log10((sv1_gals['FLUX_G']/sv1_mw_trans[:,0]).clip(1e-16))\n",
    "sv1_rmag = 22.5 - 2.5 * np.log10((sv1_gals['FLUX_R']/sv1_mw_trans[:,1]).clip(1e-16))\n",
    "sv1_zmag = 22.5 - 2.5 * np.log10((sv1_gals['FLUX_Z']/sv1_mw_trans[:,2]).clip(1e-16))\n",
    "sv1_rfib = 22.5 - 2.5 * np.log10((sv1_gals['FIBERFLUX_R']/sv1_mw_trans[:,1]).clip(1e-16))\n",
    "\n",
    "# sv1_w1 = 22.5 - 2.5 * np.log10((sv1_gals['FLUX_W1']/sv1_mw_trans[:,3]).clip(1e-16))\n",
    "\n",
    "sv1_brgt = (sv1_gals['SV1_BGS_TARGET'] & sv1_bgs_mask['BGS_BRIGHT']) != 0 \n",
    "sv1_lowq = (sv1_gals['SV1_BGS_TARGET'] & sv1_bgs_mask['BGS_LOWQ']) != 0 \n",
    "sv1_fain = (sv1_gals['SV1_BGS_TARGET'] & sv1_bgs_mask['BGS_FAINT']) != 0\n",
    "\n",
    "sv3_gmag = 22.5 - 2.5 * np.log10((sv3_gals['FLUX_G']/sv3_mw_trans[:,0]).clip(1e-16))\n",
    "sv3_rmag = 22.5 - 2.5 * np.log10((sv3_gals['FLUX_R']/sv3_mw_trans[:,1]).clip(1e-16))\n",
    "sv3_zmag = 22.5 - 2.5 * np.log10((sv3_gals['FLUX_Z']/sv3_mw_trans[:,2]).clip(1e-16))\n",
    "sv3_rfib = 22.5 - 2.5 * np.log10((sv3_gals['FIBERFLUX_R']/sv3_mw_trans[:,1]).clip(1e-16))\n",
    "\n",
    "# sv3_w1   = 22.5 - 2.5 * np.log10((sv3_gals['FLUX_W1']/sv3_mw_trans[:,3]).clip(1e-16))\n",
    "\n",
    "sv3_brgt = (sv3_gals['SV3_BGS_TARGET'] & sv3_bgs_mask['BGS_BRIGHT']) != 0 \n",
    "sv3_fain = (sv3_gals['SV3_BGS_TARGET'] & sv3_bgs_mask['BGS_FAINT']) != 0 "
   ]
  },
  {
   "cell_type": "code",
   "execution_count": 29,
   "id": "d6e75dbd-40ed-4a2d-a416-81e5147f8b29",
   "metadata": {},
   "outputs": [
    {
     "name": "stdout",
     "output_type": "stream",
     "text": [
      "[1.         1.         1.         0.97674419 1.         0.99122807\n",
      " 0.99240506 0.99614396 0.99568345 0.98628429 0.98592965 0.97036287\n",
      " 0.93741799 0.83916925]\n"
     ]
    },
    {
     "data": {
      "text/plain": [
       "(0.6, 1.08)"
      ]
     },
     "execution_count": 29,
     "metadata": {},
     "output_type": "execute_result"
    },
    {
     "data": {
      "image/png": "[encoded data removed]",
      "text/plain": [
       "<Figure size 576x432 with 1 Axes>"
      ]
     },
     "metadata": {
      "needs_background": "light"
     },
     "output_type": "display_data"
    }
   ],
   "source": [
    "fig = plt.figure(figsize=(8,6))\n",
    "sub = fig.add_subplot(111)\n",
    "\n",
    "rmid, zsrate, err_zsrate = SV.zsuccess_rate(sv1_rmag[sv1_deep & ~sv1_lowq], sv1_gals['ZSUCCESS'][sv1_deep & ~sv1_lowq], range=(12, 22), nbins=20)\n",
    "sub.errorbar(rmid, zsrate, yerr=err_zsrate, fmt='.C2')\n",
    "print(zsrate)\n",
    "sub.plot(rmid, zsrate, c='C2', ls='--', label='SV1')\n",
    "\n",
    "rmid, zsrate, err_zsrate = SV.zsuccess_rate(sv3_rmag[sv3_deep], sv3_gals['ZSUCCESS'][sv3_deep], range=(12, 22), nbins=20)\n",
    "sub.errorbar(rmid, zsrate, yerr=err_zsrate, fmt='.C0')\n",
    "sub.plot(rmid, zsrate, c='C0', lw=3, label='$1\\%$')\n",
    "\n",
    "\n",
    "for hh in np.arange(1., 0.94, -0.01):\n",
    "    sub.axhline(hh, color='k', linestyle='-', lw=0.1)\n",
    "\n",
    "sub.axvline(19.5, color='k', linestyle='--')\n",
    "sub.text(19.4, 0.63, 'BGS Bright', ha='right', fontsize=25, rotation=0)\n",
    "sub.text(19.6, 0.63, 'Faint', ha='left', fontsize=25, rotation=0)\n",
    "\n",
    "sub.legend(loc='lower left', fontsize=25, handletextpad=0.3)\n",
    "sub.set_xlabel('$r$ magnitude', fontsize=25)\n",
    "sub.set_xlim(15, 20.5)\n",
    "sub.set_ylabel('$z$ success rate', fontsize=25)\n",
    "sub.set_ylim(0.6, 1.08)"
   ]
  },
  {
   "cell_type": "raw",
   "id": "e3f8abf9-bc8f-4c23-a2de-224d9b9638a0",
   "metadata": {},
   "source": [
    "fig = plt.figure(figsize=(6,6))\n",
    "sub = fig.add_subplot(111)\n",
    "\n",
    "sub.scatter(sv1_rmag[sv1_deep & ~sv1_lowq], sv1_rfib[sv1_deep & ~sv1_lowq], c='C0', s=1)\n",
    "sub.scatter(sv3_rmag[sv3_deep], sv3_rfib[sv3_deep], c='C1', s=1)\n",
    "\n",
    "sub.plot([14, 17.8], [19.1, 22.9], c='k', ls='--', lw=2)\n",
    "sub.plot([17.8, 20.0], [22.9, 22.9], c='k', ls='--', lw=2)\n",
    "sub.plot([19.5, 19.5], [16., 22.9], c='k', ls='--', lw=2)\n",
    "sub.plot([20., 20.], [16., 22.9], c='k', ls='--', lw=2)\n",
    "\n",
    "sub.set_xlabel('$r$ magnitude', fontsize=25)\n",
    "sub.set_xlim(14, 22)\n",
    "sub.set_ylabel(r'$r_{\\rm fiber}$ magnitude', fontsize=25)\n",
    "sub.set_ylim(16, 26)"
   ]
  },
  {
   "cell_type": "raw",
   "id": "e53ef855-5edd-4349-a9b3-41c413c12e10",
   "metadata": {},
   "source": [
    "clrs = [] \n",
    "for i in range(10): \n",
    "    clrs.append((0, 0, 0.1 * i, 1))\n",
    "    #clrs.append((0.05 * i, 0.05 * i, 0.05 * i, 1))\n",
    "clrs = clrs[::-1]\n",
    "cmap = mpl.colors.ListedColormap(clrs)#[(0,0,0,0.), (0,0,0,0.95)])"
   ]
  },
  {
   "cell_type": "raw",
   "id": "8a42815b-4d4d-44bf-bf82-0c104bdf8527",
   "metadata": {},
   "source": [
    "# sample the colormaps that you want to use. Use 128 from each so we get 256\n",
    "# colors in total\n",
    "clrs1 = plt.cm.Blues(np.linspace(0.5, 1, 5))\n",
    "clrs2 = plt.cm.Spectral_r(np.linspace(0.2, 1, 95))\n",
    "#clrs2 = plt.cm.hot_r(np.linspace(0.2, 0.8, 95))\n",
    "\n",
    "# combine them and build a new colormap\n",
    "colors = np.vstack((clrs2, clrs1))\n",
    "mymap = mpl.colors.LinearSegmentedColormap.from_list('my_colormap', colors)"
   ]
  },
  {
   "cell_type": "raw",
   "id": "ce7dc327-d0ba-4788-a39b-53558cfaef45",
   "metadata": {},
   "source": [
    "fig = plt.figure(figsize=(14,6))\n",
    "sub = fig.add_subplot(121)\n",
    "\n",
    "hb = sub.hexbin(sv1_rmag[sv1_deep & ~sv1_lowq], sv1_rfib[sv1_deep & ~sv1_lowq], C=sv1_gals['ZSUCCESS'][sv1_deep & ~sv1_lowq].astype(float), \n",
    "                edgecolors='k', linewidth=1., reduce_C_function=np.mean, extent=(14, 22, 16, 26), gridsize=30, vmin=0., vmax=1., mincnt=2, cmap=mymap)#'Spectral_r')\n",
    "#sub.scatter([], [], marker='h', s=300, label='SV1', c='C3', alpha=0.75)\n",
    "#sub.scatter([], [], marker='h', s=200, label='$1\\%$', linewidth=3, c='C3', edgecolor='k')\n",
    "sub.text(0.05, 0.95, r'BGS All', ha='left', va='top', transform=sub.transAxes, fontsize=30)\n",
    "sub.text(0.95, 0.05, 'SV1', ha='right', va='bottom', transform=sub.transAxes, fontsize=30)\n",
    "\n",
    "#sub.text(14.5, 20.3, 'fiber-magnitude cut', rotation=39, fontsize=15)\n",
    "#sub.plot([14, 17.8], [19.1, 22.9], c='k', ls='--', lw=3)\n",
    "#sub.plot([17.8, 20.0], [22.9, 22.9], c='k', ls='--', lw=3)\n",
    "#sub.plot([20., 22.], [22.9, 24.9], c='k', ls='--', lw=3)\n",
    "\n",
    "#sub.plot([19.5, 19.5], [16., 22.9], c='k', ls='--', lw=2)\n",
    "#sub.plot([20., 20.], [16., 22.9], c='k', ls='--', lw=2)\n",
    "\n",
    "sub.set_xlim(14, 21)\n",
    "sub.set_xticks([14, 16, 18, 20])\n",
    "sub.set_ylim(16, 25)\n",
    "sub.set_yticks([16, 18, 20, 22, 24])\n",
    "\n",
    "sub = fig.add_subplot(122)\n",
    "\n",
    "hb = sub.hexbin(sv3_rmag[sv3_deep], sv3_rfib[sv3_deep], C=sv3_gals['ZSUCCESS'][sv3_deep].astype(float),\n",
    "                edgecolors='k', linewidth=1., reduce_C_function=np.mean, extent=(14, 22, 16, 26), gridsize=30, vmin=0., vmax=1., mincnt=2, cmap=mymap)\n",
    "sub.text(0.95, 0.05, '$1\\%$', ha='right', va='bottom', transform=sub.transAxes, fontsize=30)\n",
    "sub.set_xlabel('$r$', fontsize=25)\n",
    "sub.set_xlim(14, 21)\n",
    "sub.set_xticks([14, 16, 18, 20])\n",
    "sub.set_ylim(16, 25)\n",
    "sub.set_yticks([16, 18, 20, 22, 24])\n",
    "sub.set_yticklabels([])\n",
    "\n",
    "\n",
    "bkgd = fig.add_subplot(111, frameon=False)\n",
    "bkgd.set_xlabel(r'$r$ magnitude', labelpad=10, fontsize=25) \n",
    "bkgd.set_ylabel(r'$r_{\\rm fiber}$ magnitude', labelpad=10, fontsize=25) \n",
    "bkgd.tick_params(labelcolor='none', top=False, bottom=False, left=False, right=False)\n",
    "fig.subplots_adjust(wspace=0.1, right=0.8)\n",
    "\n",
    "\n",
    "cbar_ax = fig.add_axes([0.85, 0.15, 0.02, 0.7])\n",
    "cbar = fig.colorbar(hb, cax=cbar_ax)\n",
    "cbar.ax.set_ylabel(r'$z$ success rate', labelpad=25, fontsize=25, rotation=270)\n",
    "fig.savefig('figs/zsuccess_rmag_rfib.pdf', bbox_inches='tight')"
   ]
  },
  {
   "cell_type": "raw",
   "id": "5c674a16-0b8c-45c7-858a-dd269b0173f5",
   "metadata": {},
   "source": [
    "fig = plt.figure(figsize=(14,6))\n",
    "sub = fig.add_subplot(121)\n",
    "\n",
    "hb = sub.hexbin((sv1_gmag - sv1_rmag)[sv1_deep & sv1_brgt], (sv1_rmag - sv1_zmag)[sv1_deep & sv1_brgt], C=sv1_gals['ZSUCCESS'][sv1_deep & sv1_brgt].astype(float), \n",
    "                reduce_C_function=np.mean, extent=(-1, 4, -2, 3), gridsize=30, vmin=0., vmax=1., mincnt=2, \n",
    "                cmap=mymap, edgecolors='k', linewidth=1.)\n",
    "sub.text(0.05, 0.95, r'BGS Bright', ha='left', va='top', transform=sub.transAxes, fontsize=30)\n",
    "sub.text(0.05, 0.84, r'$r < 19.5$', ha='left', va='top', transform=sub.transAxes, fontsize=30)\n",
    "sub.text(0.95, 0.05, 'SV1', ha='right', va='bottom', transform=sub.transAxes, fontsize=30)\n",
    "\n",
    "sub.set_xlim(-1, 2.5)\n",
    "sub.set_ylim(-1.5, 2)\n",
    "sub.set_xticks([-1., 0., 1., 2.])\n",
    "sub.set_yticks([-1, 0., 1., 2.])\n",
    "\n",
    "sub = fig.add_subplot(122)\n",
    "\n",
    "hb = sub.hexbin((sv3_gmag - sv3_rmag)[sv3_deep & sv3_brgt], (sv3_rmag - sv3_zmag)[sv3_deep & sv3_brgt], C=sv3_gals['ZSUCCESS'][sv3_deep & sv3_brgt].astype(float), \n",
    "                reduce_C_function=np.mean, extent=(-1, 4, -2, 3), gridsize=30, vmin=0., vmax=1., mincnt=2, \n",
    "                cmap=mymap, edgecolors='k', linewidth=1.)\n",
    "\n",
    "sub.text(0.95, 0.05, '$1\\%$', ha='right', va='bottom', transform=sub.transAxes, fontsize=30)\n",
    "\n",
    "sub.set_xlim(-1, 2.5)\n",
    "sub.set_ylim(-1.5, 2)\n",
    "sub.set_yticklabels([])\n",
    "sub.set_xticks([-1., 0., 1., 2.])\n",
    "sub.set_yticks([-1, 0., 1., 2.])\n",
    "\n",
    "\n",
    "bkgd = fig.add_subplot(111, frameon=False)\n",
    "bkgd.set_xlabel(r'$g - r$ color', labelpad=10, fontsize=25) \n",
    "bkgd.set_ylabel(r'$r - z$ color', labelpad=10, fontsize=25) \n",
    "bkgd.tick_params(labelcolor='none', top=False, bottom=False, left=False, right=False)\n",
    "fig.subplots_adjust(wspace=0.1, right=0.8)\n",
    "\n",
    "cbar_ax = fig.add_axes([0.85, 0.15, 0.02, 0.7])\n",
    "cbar = fig.colorbar(hb, cax=cbar_ax)\n",
    "cbar.ax.set_ylabel(r'$z$ success rate', labelpad=25, fontsize=25, rotation=270)\n",
    "fig.savefig('figs/zsuccess_gr_rz.pdf', bbox_inches='tight')"
   ]
  },
  {
   "cell_type": "code",
   "execution_count": 17,
   "id": "7365d107-3c08-475e-bd42-321f0c0e1b2f",
   "metadata": {},
   "outputs": [],
   "source": [
    "sv1_fibcol = (sv1_zmag - sv1_w1) - 3/2.5 * (sv1_gmag - sv1_rmag) + 1.2\n",
    "sv3_fibcol = (sv3_zmag - sv3_w1) - 3/2.5 * (sv3_gmag - sv3_rmag) + 1.2"
   ]
  },
  {
   "cell_type": "raw",
   "id": "73bc900d-4dc2-4bd1-a0d6-bdcb3cd9668b",
   "metadata": {},
   "source": [
    "fig = plt.figure(figsize=(15,6))\n",
    "sub = fig.add_subplot(121)\n",
    "\n",
    "hb = sub.hexbin(sv1_rfib[sv1_deep & sv1_fain], sv1_fibcol[sv1_deep & sv1_fain], C=sv1_gals['ZSUCCESS'][sv1_deep & sv1_fain].astype(float),\n",
    "                reduce_C_function=np.mean, extent=(19.5, 23.3, -1.2, 1.8), gridsize=30, vmin=0., vmax=1., mincnt=5,\n",
    "                cmap=mymap, edgecolors='k', linewidth=1.)\n",
    "\n",
    "sub.plot([20.79, 20.79], [-2, 0.], c='k', ls='--', lw=3)\n",
    "sub.plot([20.79, 21.54], [0., 0.], c='k', ls='--', lw=3)\n",
    "sub.plot([21.54, 21.54], [0., 2.], c='k', ls='--', lw=3)\n",
    "\n",
    "sub.text(0.05, 0.95, r'BGS Faint', ha='left', va='top', transform=sub.transAxes, fontsize=30)\n",
    "sub.text(0.95, 0.05, 'SV1', ha='right', va='bottom', transform=sub.transAxes, fontsize=30)\n",
    "\n",
    "sub.set_yticks([-1., -0.5, 0., 0.5, 1., 1.5])\n",
    "sub.set_ylim(-1.2, 1.8)\n",
    "sub.set_xlim(19.5, 23.3)\n",
    "sub.set_xticks([20, 21, 22, 23])\n",
    "\n",
    "\n",
    "sub = fig.add_subplot(122)\n",
    "hb = sub.hexbin(sv3_rfib[sv3_deep & sv3_fain], sv3_fibcol[sv3_deep & sv3_fain], C=sv3_gals['ZSUCCESS'][sv3_deep & sv3_fain].astype(float),\n",
    "                reduce_C_function=np.mean, extent=(19.5, 23.3, -1.2, 1.8), gridsize=30, vmin=0., vmax=1., mincnt=5,\n",
    "                cmap=mymap, edgecolors='k', linewidth=1.)\n",
    "sub.text(0.95, 0.05, '$1\\%$', ha='right', va='bottom', transform=sub.transAxes, fontsize=30)\n",
    "\n",
    "sub.plot([20.79, 20.79], [-2, 0.], c='k', ls='--', lw=3)\n",
    "sub.plot([20.79, 21.54], [0., 0.], c='k', ls='--', lw=3)\n",
    "sub.plot([21.54, 21.54], [0., 2.], c='k', ls='--', lw=3)\n",
    "\n",
    "sub.set_yticks([-1., -0.5, 0., 0.5, 1., 1.5])\n",
    "sub.set_ylim(-1.2, 1.8)\n",
    "sub.set_xlim(19.5, 23.3)\n",
    "sub.set_xticks([20, 21, 22, 23])\n",
    "sub.set_yticklabels([])\n",
    "\n",
    "bkgd = fig.add_subplot(111, frameon=False)\n",
    "bkgd.set_xlabel(r'$r_{\\rm fiber}$ magnitude', labelpad=10, fontsize=25) \n",
    "bkgd.set_ylabel(r'$(z - w1) - 1.2 (g - r) + 1.2$', labelpad=10, fontsize=25) \n",
    "bkgd.tick_params(labelcolor='none', top=False, bottom=False, left=False, right=False)\n",
    "fig.subplots_adjust(wspace=0.1, right=0.8)\n",
    "\n",
    "cbar_ax = fig.add_axes([0.85, 0.15, 0.02, 0.7])\n",
    "cbar = fig.colorbar(hb, cax=cbar_ax)\n",
    "cbar.ax.set_ylabel(r'$z$ success rate', labelpad=25, fontsize=25, rotation=270)\n",
    "fig.savefig('figs/zsuccess_rfib_col.pdf', bbox_inches='tight')"
   ]
  },
  {
   "cell_type": "markdown",
   "id": "7e855e3c-8957-47fb-afbd-48f9c1fc1889",
   "metadata": {},
   "source": [
    "# Done."
   ]
  }
 ],
 "metadata": {
  "kernelspec": {
   "display_name": "DESI 21.7e",
   "language": "python",
   "name": "desi-21.7e"
  },
  "language_info": {
   "codemirror_mode": {
    "name": "ipython",
    "version": 3
   },
   "file_extension": ".py",
   "mimetype": "text/x-python",
   "name": "python",
   "nbconvert_exporter": "python",
   "pygments_lexer": "ipython3",
   "version": "3.8.3"
  }
 },
 "nbformat": 4,
 "nbformat_minor": 5
}
